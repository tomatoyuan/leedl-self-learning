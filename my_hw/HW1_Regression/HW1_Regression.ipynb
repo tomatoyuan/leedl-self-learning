{
 "cells": [
  {
   "cell_type": "markdown",
   "id": "651247c0",
   "metadata": {},
   "source": [
    "# **作业1： 回归分析**"
   ]
  },
  {
   "cell_type": "markdown",
   "id": "64ef9435",
   "metadata": {},
   "source": [
    "## 数据集下载\n",
    "手动从Kaggle下载，放在当前文件夹下"
   ]
  },
  {
   "cell_type": "markdown",
   "id": "a5f4b5de",
   "metadata": {},
   "source": [
    "## 导入包"
   ]
  },
  {
   "cell_type": "code",
   "execution_count": 5,
   "id": "b8732717",
   "metadata": {},
   "outputs": [],
   "source": [
    "# 数值、矩阵操作\n",
    "import math\n",
    "import numpy as np\n",
    "\n",
    "# 数据读取与写入make_dot\n",
    "import pandas as pd\n",
    "import os\n",
    "import csv\n",
    "\n",
    "# 进度条\n",
    "from tqdm import tqdm\n",
    "# 如果是使用notebook 推荐使用以下（颜值更高 : ) ）\n",
    "# from tqdm.notebook import tqdm\n",
    "\n",
    "# Pytorch 深度学习张量操作框架\n",
    "import torch\n",
    "import torch.nn as nn\n",
    "from torch.utils.data import Dataset, DataLoader, random_split\n",
    "# 绘制pytorch的网络\n",
    "from torchviz import make_dot\n",
    "\n",
    "# 学习曲线绘制\n",
    "from torch.utils.tensorboard import SummaryWriter"
   ]
  },
  {
   "cell_type": "markdown",
   "id": "973d480c",
   "metadata": {},
   "source": [
    "## 一些功能函数\n",
    "- 随机种子设置\n",
    "- 数据拆分\n",
    "- 模型预测"
   ]
  },
  {
   "cell_type": "code",
   "execution_count": 6,
   "id": "9600b0dd",
   "metadata": {},
   "outputs": [],
   "source": [
    "def same_seed(seed):\n",
    "    '''\n",
    "    设置相同的随机种子（便于复现）\n",
    "    '''\n",
    "    torch.backends.cudnn.deterministic = True\n",
    "    torch.backends.cudnn.benchmark = False\n",
    "    np.random.seed(seed)\n",
    "    torch.manual_seed(seed)\n",
    "    if torch.cuda.is_available():\n",
    "        torch.cuda.manual_seed_all(seed)\n",
    "    print(f\"Set Seed = {seed}\")\n",
    "\n",
    "def train_valid_split(data_set, valid_ratio, seed):\n",
    "    '''\n",
    "    数据集拆分为训练集和验证集\n",
    "    '''\n",
    "    valid_set_size = int(valid_ratio * len(data_set))\n",
    "    train_set_size = len(data_set) - valid_set_size\n",
    "    train_set, valid_set = random_split(data_set, [train_set_size, valid_set_size], generator=torch.Generator().manual_seed(seed))\n",
    "    return np.array(train_set), np.array(valid_set)\n",
    "\n",
    "def predict(test_loader, model, device):\n",
    "    model.eval() # 设置为eval模式\n",
    "    preds = []\n",
    "    for x in tqdm(test_loader):\n",
    "        x = x.to(device)\n",
    "        with torch.no_grad():\n",
    "            pred = model(x)\n",
    "            preds.append(pred.detach().cpu())\n",
    "    preds = torch.cat(preds, dim=0).numpy()\n",
    "    return preds"
   ]
  },
  {
   "cell_type": "markdown",
   "id": "9454a3f4",
   "metadata": {},
   "source": [
    "## 数据集"
   ]
  },
  {
   "cell_type": "code",
   "execution_count": 7,
   "id": "e9b992fd",
   "metadata": {},
   "outputs": [],
   "source": [
    "class COVID19Dataset(Dataset):\n",
    "    '''\n",
    "    x: np.ndarray 特征矩阵\n",
    "    y: np.ndarray 目标标签，如果为None，则是预测的数据集\n",
    "    '''\n",
    "    def __init__(self, x, y=None):\n",
    "        if y is None:\n",
    "            self.y = y\n",
    "        else:\n",
    "            self.y = torch.FloatTensor(y)\n",
    "        self.x = torch.FloatTensor(x)\n",
    "    \n",
    "    def __getitem__(self, idx):\n",
    "        if self.y is None:\n",
    "            return self.x[idx]\n",
    "        return self.x[idx], self.y[idx]\n",
    "\n",
    "    def __len__(self):\n",
    "        return len(self.x)"
   ]
  },
  {
   "cell_type": "markdown",
   "id": "4bc65f88",
   "metadata": {},
   "source": [
    "## 神经网络模型"
   ]
  },
  {
   "cell_type": "code",
   "execution_count": 8,
   "id": "a3f1846f",
   "metadata": {},
   "outputs": [],
   "source": [
    "class My_Model(nn.Module):\n",
    "    def __init__(self, input_dim):\n",
    "        super(My_Model, self).__init__()\n",
    "        # 修改模型参数\n",
    "        self.layers = nn.Sequential(\n",
    "            nn.Linear(input_dim, 64),\n",
    "            nn.ReLU(),\n",
    "            nn.Linear(64, 32),\n",
    "            nn.ReLU(),\n",
    "            nn.Linear(32, 16),\n",
    "            nn.ReLU(),\n",
    "            nn.Linear(16, 1)\n",
    "        )\n",
    "    \n",
    "    def forward(self, x):\n",
    "        x = self.layers(x)\n",
    "        x = x.squeeze(1) # (B, 1) -> (B)\n",
    "        return x"
   ]
  },
  {
   "cell_type": "markdown",
   "id": "2dee49c4",
   "metadata": {},
   "source": [
    "## 特征选择"
   ]
  },
  {
   "cell_type": "code",
   "execution_count": 9,
   "id": "8c57ed5e",
   "metadata": {},
   "outputs": [],
   "source": [
    "def select_feat(train_data, valid_data, test_data, select_all=True):\n",
    "    '''\n",
    "    特征选择\n",
    "    选择比较好的特征用来你和回归模型\n",
    "    '''\n",
    "    y_train, y_valid = train_data[:, -1], valid_data[:, -1]\n",
    "    raw_x_train, raw_x_valid, raw_x_test = train_data[:, :-1], valid_data[:, :-1], test_data\n",
    "\n",
    "    if select_all:\n",
    "        feat_idx = list(range(raw_x_train.shape[1]))\n",
    "    else:\n",
    "        feat_idx = [0, 1, 2, 3, 4]\n",
    "    \n",
    "    return raw_x_train[:, feat_idx], raw_x_valid[:, feat_idx], raw_x_test[:, feat_idx], y_train, y_valid"
   ]
  },
  {
   "cell_type": "markdown",
   "id": "28f6d448",
   "metadata": {},
   "source": [
    "## 训练部分"
   ]
  },
  {
   "cell_type": "code",
   "execution_count": 10,
   "id": "6fc71f47",
   "metadata": {},
   "outputs": [],
   "source": [
    "def trainer(train_loader, valid_loader, model, config, device):\n",
    "\n",
    "    criterion = nn.MSELoss(reduction='mean') # 损失函数定义\n",
    "    \n",
    "    # 定义优化器\n",
    "    optimizer = torch.optim.Adam(model.parameters(), lr=config['learning_rate'])\n",
    "\n",
    "    # tensorboard 的记录器\n",
    "    writer = SummaryWriter()\n",
    "\n",
    "    if not os.path.isdir('./models'):\n",
    "        os.mkdir('./models')\n",
    "    \n",
    "    n_epochs, best_loss, step, early_stop_count = config['n_epochs'], math.inf, 0, 0\n",
    "\n",
    "    for epoch in range(n_epochs):\n",
    "        model.train() # 训练模式\n",
    "        loss_record = []\n",
    "\n",
    "        # tqdm 进度条\n",
    "        train_pbar = tqdm(train_loader, position=0, leave=True)\n",
    "        # 设置进度条左边：显示第几个Eopch\n",
    "        train_pbar.set_description(f'Epoch [{epoch+1}/{n_epochs}]')\n",
    "        for x, y in train_pbar:\n",
    "            optimizer.zero_grad()\n",
    "            x, y = x.to(device), y.to(device)\n",
    "            pred = model(x)\n",
    "            loss = criterion(pred, y)\n",
    "            loss.backward()\n",
    "            optimizer.step()\n",
    "            step += 1\n",
    "            loss_record.append(loss.detach().item())\n",
    "\n",
    "            # 训练完一个batch的数据，将loss显示在进度条右边\n",
    "            train_pbar.set_postfix({'loss': loss.detach().item()})\n",
    "        \n",
    "        mean_train_loss = sum(loss_record)/len(loss_record)\n",
    "        # 每个训练epoch的loss记录到tensorboard\n",
    "        writer.add_scalar('Loss/train', mean_train_loss, step)\n",
    "\n",
    "        model.eval()\n",
    "        loss_record = []\n",
    "        for x, y in valid_loader:\n",
    "            x, y = x.to(device), y.to(device)\n",
    "            with torch.no_grad():\n",
    "                pred = model(x)\n",
    "                loss = criterion(pred, y)\n",
    "\n",
    "            loss_record.append(loss.item())\n",
    "        \n",
    "        mean_valid_loss = sum(loss_record)/len(loss_record)\n",
    "        print(f'Epoch [{epoch+1}/{n_epochs}]: Train loss: {mean_train_loss:.4f}, Valid loss: {mean_valid_loss:.4f}')\n",
    "        # 每个epoch，在tensorboard中记录验证集的loss（后面可以展示出来）\n",
    "        writer.add_scalar('Loss/valid', mean_valid_loss, step)\n",
    "\n",
    "        if mean_valid_loss < best_loss:\n",
    "            best_loss = mean_valid_loss\n",
    "            torch.save(model.state_dict(), config['save_path'])\n",
    "            print('Saving model with loss {:.3f}...'.format(best_loss))\n",
    "            early_stop_count = 0\n",
    "        else:\n",
    "            early_stop_count += 1\n",
    "\n",
    "        if early_stop_count >= config['early_stop']:\n",
    "            print('\\nModel is not improving, so we halt the training session.')\n",
    "            break\n"
   ]
  },
  {
   "cell_type": "markdown",
   "id": "deb8cabb",
   "metadata": {},
   "source": [
    "# 超参数设置"
   ]
  },
  {
   "cell_type": "code",
   "execution_count": 11,
   "id": "270ef5ce",
   "metadata": {},
   "outputs": [],
   "source": [
    "device = 'cuda' if torch.cuda.is_available() else 'cpu'\n",
    "config = {\n",
    "    'seed': 5201314,\n",
    "    'select_all':  True,\n",
    "    'valid_ratio': 0.2,\n",
    "    'n_epochs': 1000,\n",
    "    'batch_size': 128,\n",
    "    'learning_rate': 1e-5,\n",
    "    'early_stop': 100,\n",
    "    'save_path': './models/model.ckpt'\n",
    "}"
   ]
  },
  {
   "cell_type": "markdown",
   "id": "74845bd0",
   "metadata": {},
   "source": [
    "## 导入数据集"
   ]
  },
  {
   "cell_type": "code",
   "execution_count": 12,
   "id": "e7b05a0f",
   "metadata": {},
   "outputs": [
    {
     "name": "stdout",
     "output_type": "stream",
     "text": [
      "Set Seed = 5201314\n"
     ]
    },
    {
     "data": {
      "text/html": [
       "<div>\n",
       "<style scoped>\n",
       "    .dataframe tbody tr th:only-of-type {\n",
       "        vertical-align: middle;\n",
       "    }\n",
       "\n",
       "    .dataframe tbody tr th {\n",
       "        vertical-align: top;\n",
       "    }\n",
       "\n",
       "    .dataframe thead th {\n",
       "        text-align: right;\n",
       "    }\n",
       "</style>\n",
       "<table border=\"1\" class=\"dataframe\">\n",
       "  <thead>\n",
       "    <tr style=\"text-align: right;\">\n",
       "      <th></th>\n",
       "      <th>id</th>\n",
       "      <th>AL</th>\n",
       "      <th>AK</th>\n",
       "      <th>AZ</th>\n",
       "      <th>AR</th>\n",
       "      <th>CA</th>\n",
       "      <th>CO</th>\n",
       "      <th>CT</th>\n",
       "      <th>FL</th>\n",
       "      <th>GA</th>\n",
       "      <th>ID</th>\n",
       "      <th>IL</th>\n",
       "      <th>IN</th>\n",
       "      <th>IA</th>\n",
       "      <th>KS</th>\n",
       "      <th>KY</th>\n",
       "      <th>LA</th>\n",
       "      <th>MD</th>\n",
       "      <th>MA</th>\n",
       "      <th>MI</th>\n",
       "      <th>MN</th>\n",
       "      <th>MS</th>\n",
       "      <th>MO</th>\n",
       "      <th>NE</th>\n",
       "      <th>NV</th>\n",
       "      <th>NJ</th>\n",
       "      <th>NM</th>\n",
       "      <th>NY</th>\n",
       "      <th>NC</th>\n",
       "      <th>OH</th>\n",
       "      <th>OK</th>\n",
       "      <th>OR</th>\n",
       "      <th>RI</th>\n",
       "      <th>SC</th>\n",
       "      <th>TX</th>\n",
       "      <th>UT</th>\n",
       "      <th>VA</th>\n",
       "      <th>WA</th>\n",
       "      <th>cli</th>\n",
       "      <th>ili</th>\n",
       "      <th>hh_cmnty_cli</th>\n",
       "      <th>nohh_cmnty_cli</th>\n",
       "      <th>wearing_mask</th>\n",
       "      <th>travel_outside_state</th>\n",
       "      <th>work_outside_home</th>\n",
       "      <th>shop</th>\n",
       "      <th>restaurant</th>\n",
       "      <th>spent_time</th>\n",
       "      <th>large_event</th>\n",
       "      <th>public_transit</th>\n",
       "      <th>anxious</th>\n",
       "      <th>depressed</th>\n",
       "      <th>worried_finances</th>\n",
       "      <th>tested_positive</th>\n",
       "      <th>cli.1</th>\n",
       "      <th>ili.1</th>\n",
       "      <th>hh_cmnty_cli.1</th>\n",
       "      <th>nohh_cmnty_cli.1</th>\n",
       "      <th>wearing_mask.1</th>\n",
       "      <th>travel_outside_state.1</th>\n",
       "      <th>work_outside_home.1</th>\n",
       "      <th>shop.1</th>\n",
       "      <th>restaurant.1</th>\n",
       "      <th>spent_time.1</th>\n",
       "      <th>large_event.1</th>\n",
       "      <th>public_transit.1</th>\n",
       "      <th>anxious.1</th>\n",
       "      <th>depressed.1</th>\n",
       "      <th>worried_finances.1</th>\n",
       "      <th>tested_positive.1</th>\n",
       "      <th>cli.2</th>\n",
       "      <th>ili.2</th>\n",
       "      <th>hh_cmnty_cli.2</th>\n",
       "      <th>nohh_cmnty_cli.2</th>\n",
       "      <th>wearing_mask.2</th>\n",
       "      <th>travel_outside_state.2</th>\n",
       "      <th>work_outside_home.2</th>\n",
       "      <th>shop.2</th>\n",
       "      <th>restaurant.2</th>\n",
       "      <th>spent_time.2</th>\n",
       "      <th>large_event.2</th>\n",
       "      <th>public_transit.2</th>\n",
       "      <th>anxious.2</th>\n",
       "      <th>depressed.2</th>\n",
       "      <th>worried_finances.2</th>\n",
       "      <th>tested_positive.2</th>\n",
       "      <th>cli.3</th>\n",
       "      <th>ili.3</th>\n",
       "      <th>hh_cmnty_cli.3</th>\n",
       "      <th>nohh_cmnty_cli.3</th>\n",
       "      <th>wearing_mask.3</th>\n",
       "      <th>travel_outside_state.3</th>\n",
       "      <th>work_outside_home.3</th>\n",
       "      <th>shop.3</th>\n",
       "      <th>restaurant.3</th>\n",
       "      <th>spent_time.3</th>\n",
       "      <th>large_event.3</th>\n",
       "      <th>public_transit.3</th>\n",
       "      <th>anxious.3</th>\n",
       "      <th>depressed.3</th>\n",
       "      <th>worried_finances.3</th>\n",
       "      <th>tested_positive.3</th>\n",
       "      <th>cli.4</th>\n",
       "      <th>ili.4</th>\n",
       "      <th>hh_cmnty_cli.4</th>\n",
       "      <th>nohh_cmnty_cli.4</th>\n",
       "      <th>wearing_mask.4</th>\n",
       "      <th>travel_outside_state.4</th>\n",
       "      <th>work_outside_home.4</th>\n",
       "      <th>shop.4</th>\n",
       "      <th>restaurant.4</th>\n",
       "      <th>spent_time.4</th>\n",
       "      <th>large_event.4</th>\n",
       "      <th>public_transit.4</th>\n",
       "      <th>anxious.4</th>\n",
       "      <th>depressed.4</th>\n",
       "      <th>worried_finances.4</th>\n",
       "      <th>tested_positive.4</th>\n",
       "    </tr>\n",
       "  </thead>\n",
       "  <tbody>\n",
       "    <tr>\n",
       "      <th>0</th>\n",
       "      <td>0</td>\n",
       "      <td>0</td>\n",
       "      <td>0</td>\n",
       "      <td>0</td>\n",
       "      <td>0</td>\n",
       "      <td>0</td>\n",
       "      <td>0</td>\n",
       "      <td>0</td>\n",
       "      <td>1</td>\n",
       "      <td>0</td>\n",
       "      <td>0</td>\n",
       "      <td>0</td>\n",
       "      <td>0</td>\n",
       "      <td>0</td>\n",
       "      <td>0</td>\n",
       "      <td>0</td>\n",
       "      <td>0</td>\n",
       "      <td>0</td>\n",
       "      <td>0</td>\n",
       "      <td>0</td>\n",
       "      <td>0</td>\n",
       "      <td>0</td>\n",
       "      <td>0</td>\n",
       "      <td>0</td>\n",
       "      <td>0</td>\n",
       "      <td>0</td>\n",
       "      <td>0</td>\n",
       "      <td>0</td>\n",
       "      <td>0</td>\n",
       "      <td>0</td>\n",
       "      <td>0</td>\n",
       "      <td>0</td>\n",
       "      <td>0</td>\n",
       "      <td>0</td>\n",
       "      <td>0</td>\n",
       "      <td>0</td>\n",
       "      <td>0</td>\n",
       "      <td>0</td>\n",
       "      <td>0.658466</td>\n",
       "      <td>0.724606</td>\n",
       "      <td>12.939284</td>\n",
       "      <td>8.556230</td>\n",
       "      <td>76.521693</td>\n",
       "      <td>7.863621</td>\n",
       "      <td>33.069066</td>\n",
       "      <td>64.129378</td>\n",
       "      <td>33.438714</td>\n",
       "      <td>40.539878</td>\n",
       "      <td>17.446499</td>\n",
       "      <td>3.993190</td>\n",
       "      <td>10.122837</td>\n",
       "      <td>7.841023</td>\n",
       "      <td>37.992365</td>\n",
       "      <td>7.374846</td>\n",
       "      <td>0.653157</td>\n",
       "      <td>0.713249</td>\n",
       "      <td>12.488933</td>\n",
       "      <td>8.219380</td>\n",
       "      <td>75.179558</td>\n",
       "      <td>8.083434</td>\n",
       "      <td>32.564654</td>\n",
       "      <td>65.212903</td>\n",
       "      <td>34.285572</td>\n",
       "      <td>40.697210</td>\n",
       "      <td>17.754941</td>\n",
       "      <td>3.997443</td>\n",
       "      <td>10.161621</td>\n",
       "      <td>8.067275</td>\n",
       "      <td>37.882278</td>\n",
       "      <td>7.219989</td>\n",
       "      <td>0.677783</td>\n",
       "      <td>0.737965</td>\n",
       "      <td>12.487637</td>\n",
       "      <td>8.135510</td>\n",
       "      <td>74.189695</td>\n",
       "      <td>8.001016</td>\n",
       "      <td>32.145331</td>\n",
       "      <td>66.258549</td>\n",
       "      <td>34.931095</td>\n",
       "      <td>40.889258</td>\n",
       "      <td>18.038068</td>\n",
       "      <td>3.970457</td>\n",
       "      <td>10.043014</td>\n",
       "      <td>7.983358</td>\n",
       "      <td>37.705024</td>\n",
       "      <td>7.077938</td>\n",
       "      <td>0.666751</td>\n",
       "      <td>0.723506</td>\n",
       "      <td>12.367718</td>\n",
       "      <td>8.006131</td>\n",
       "      <td>73.211902</td>\n",
       "      <td>7.873342</td>\n",
       "      <td>31.330236</td>\n",
       "      <td>66.753902</td>\n",
       "      <td>35.586606</td>\n",
       "      <td>40.741650</td>\n",
       "      <td>17.800711</td>\n",
       "      <td>3.984791</td>\n",
       "      <td>10.148898</td>\n",
       "      <td>8.262288</td>\n",
       "      <td>37.384963</td>\n",
       "      <td>7.452243</td>\n",
       "      <td>0.685628</td>\n",
       "      <td>0.740943</td>\n",
       "      <td>12.364307</td>\n",
       "      <td>8.151578</td>\n",
       "      <td>71.820231</td>\n",
       "      <td>7.944531</td>\n",
       "      <td>31.113209</td>\n",
       "      <td>67.394551</td>\n",
       "      <td>36.674291</td>\n",
       "      <td>40.743132</td>\n",
       "      <td>17.842221</td>\n",
       "      <td>4.093712</td>\n",
       "      <td>10.440071</td>\n",
       "      <td>8.627117</td>\n",
       "      <td>37.329512</td>\n",
       "      <td>7.456154</td>\n",
       "    </tr>\n",
       "    <tr>\n",
       "      <th>1</th>\n",
       "      <td>1</td>\n",
       "      <td>0</td>\n",
       "      <td>0</td>\n",
       "      <td>0</td>\n",
       "      <td>0</td>\n",
       "      <td>0</td>\n",
       "      <td>1</td>\n",
       "      <td>0</td>\n",
       "      <td>0</td>\n",
       "      <td>0</td>\n",
       "      <td>0</td>\n",
       "      <td>0</td>\n",
       "      <td>0</td>\n",
       "      <td>0</td>\n",
       "      <td>0</td>\n",
       "      <td>0</td>\n",
       "      <td>0</td>\n",
       "      <td>0</td>\n",
       "      <td>0</td>\n",
       "      <td>0</td>\n",
       "      <td>0</td>\n",
       "      <td>0</td>\n",
       "      <td>0</td>\n",
       "      <td>0</td>\n",
       "      <td>0</td>\n",
       "      <td>0</td>\n",
       "      <td>0</td>\n",
       "      <td>0</td>\n",
       "      <td>0</td>\n",
       "      <td>0</td>\n",
       "      <td>0</td>\n",
       "      <td>0</td>\n",
       "      <td>0</td>\n",
       "      <td>0</td>\n",
       "      <td>0</td>\n",
       "      <td>0</td>\n",
       "      <td>0</td>\n",
       "      <td>0</td>\n",
       "      <td>0.693287</td>\n",
       "      <td>0.675962</td>\n",
       "      <td>15.008467</td>\n",
       "      <td>11.091818</td>\n",
       "      <td>82.375469</td>\n",
       "      <td>11.082587</td>\n",
       "      <td>36.373964</td>\n",
       "      <td>60.471825</td>\n",
       "      <td>30.516978</td>\n",
       "      <td>43.162123</td>\n",
       "      <td>16.038761</td>\n",
       "      <td>4.519762</td>\n",
       "      <td>12.133287</td>\n",
       "      <td>10.155721</td>\n",
       "      <td>33.977549</td>\n",
       "      <td>9.850027</td>\n",
       "      <td>0.738029</td>\n",
       "      <td>0.720511</td>\n",
       "      <td>15.070049</td>\n",
       "      <td>10.990937</td>\n",
       "      <td>80.943299</td>\n",
       "      <td>10.596788</td>\n",
       "      <td>36.435828</td>\n",
       "      <td>61.653141</td>\n",
       "      <td>31.449290</td>\n",
       "      <td>43.751356</td>\n",
       "      <td>16.752518</td>\n",
       "      <td>4.385694</td>\n",
       "      <td>11.911724</td>\n",
       "      <td>9.798448</td>\n",
       "      <td>32.786802</td>\n",
       "      <td>10.050547</td>\n",
       "      <td>0.831586</td>\n",
       "      <td>0.827523</td>\n",
       "      <td>14.568504</td>\n",
       "      <td>10.578924</td>\n",
       "      <td>79.096391</td>\n",
       "      <td>10.418171</td>\n",
       "      <td>35.851804</td>\n",
       "      <td>62.835720</td>\n",
       "      <td>32.802637</td>\n",
       "      <td>43.753525</td>\n",
       "      <td>17.195922</td>\n",
       "      <td>4.671201</td>\n",
       "      <td>11.418314</td>\n",
       "      <td>10.600311</td>\n",
       "      <td>32.679030</td>\n",
       "      <td>10.388084</td>\n",
       "      <td>0.767643</td>\n",
       "      <td>0.763580</td>\n",
       "      <td>14.264862</td>\n",
       "      <td>10.212529</td>\n",
       "      <td>76.645984</td>\n",
       "      <td>10.614731</td>\n",
       "      <td>34.639961</td>\n",
       "      <td>63.652437</td>\n",
       "      <td>34.147714</td>\n",
       "      <td>44.682727</td>\n",
       "      <td>17.705140</td>\n",
       "      <td>4.938357</td>\n",
       "      <td>11.056725</td>\n",
       "      <td>10.889148</td>\n",
       "      <td>32.933142</td>\n",
       "      <td>8.707858</td>\n",
       "      <td>0.713255</td>\n",
       "      <td>0.719378</td>\n",
       "      <td>12.894363</td>\n",
       "      <td>8.919288</td>\n",
       "      <td>74.687112</td>\n",
       "      <td>10.523814</td>\n",
       "      <td>33.920257</td>\n",
       "      <td>64.398380</td>\n",
       "      <td>34.612238</td>\n",
       "      <td>44.035688</td>\n",
       "      <td>17.808103</td>\n",
       "      <td>4.924935</td>\n",
       "      <td>10.172662</td>\n",
       "      <td>9.954333</td>\n",
       "      <td>32.508881</td>\n",
       "      <td>8.010957</td>\n",
       "    </tr>\n",
       "    <tr>\n",
       "      <th>2</th>\n",
       "      <td>2</td>\n",
       "      <td>0</td>\n",
       "      <td>0</td>\n",
       "      <td>0</td>\n",
       "      <td>0</td>\n",
       "      <td>0</td>\n",
       "      <td>0</td>\n",
       "      <td>0</td>\n",
       "      <td>0</td>\n",
       "      <td>0</td>\n",
       "      <td>0</td>\n",
       "      <td>0</td>\n",
       "      <td>0</td>\n",
       "      <td>0</td>\n",
       "      <td>0</td>\n",
       "      <td>0</td>\n",
       "      <td>0</td>\n",
       "      <td>0</td>\n",
       "      <td>0</td>\n",
       "      <td>0</td>\n",
       "      <td>0</td>\n",
       "      <td>0</td>\n",
       "      <td>0</td>\n",
       "      <td>0</td>\n",
       "      <td>0</td>\n",
       "      <td>1</td>\n",
       "      <td>0</td>\n",
       "      <td>0</td>\n",
       "      <td>0</td>\n",
       "      <td>0</td>\n",
       "      <td>0</td>\n",
       "      <td>0</td>\n",
       "      <td>0</td>\n",
       "      <td>0</td>\n",
       "      <td>0</td>\n",
       "      <td>0</td>\n",
       "      <td>0</td>\n",
       "      <td>0</td>\n",
       "      <td>0.617041</td>\n",
       "      <td>0.617041</td>\n",
       "      <td>8.614719</td>\n",
       "      <td>5.238097</td>\n",
       "      <td>87.040999</td>\n",
       "      <td>15.569851</td>\n",
       "      <td>33.366362</td>\n",
       "      <td>58.819368</td>\n",
       "      <td>24.674416</td>\n",
       "      <td>36.678937</td>\n",
       "      <td>13.490946</td>\n",
       "      <td>6.639301</td>\n",
       "      <td>9.753290</td>\n",
       "      <td>7.691015</td>\n",
       "      <td>38.685771</td>\n",
       "      <td>3.897851</td>\n",
       "      <td>0.663597</td>\n",
       "      <td>0.635459</td>\n",
       "      <td>8.472831</td>\n",
       "      <td>5.154184</td>\n",
       "      <td>86.743467</td>\n",
       "      <td>15.915242</td>\n",
       "      <td>33.012910</td>\n",
       "      <td>60.157822</td>\n",
       "      <td>25.322821</td>\n",
       "      <td>36.456240</td>\n",
       "      <td>13.385945</td>\n",
       "      <td>6.700146</td>\n",
       "      <td>9.949982</td>\n",
       "      <td>7.833514</td>\n",
       "      <td>38.036480</td>\n",
       "      <td>3.083111</td>\n",
       "      <td>0.534394</td>\n",
       "      <td>0.497435</td>\n",
       "      <td>8.493353</td>\n",
       "      <td>5.125553</td>\n",
       "      <td>86.647289</td>\n",
       "      <td>15.963496</td>\n",
       "      <td>32.471093</td>\n",
       "      <td>60.910411</td>\n",
       "      <td>25.158967</td>\n",
       "      <td>35.968207</td>\n",
       "      <td>13.656070</td>\n",
       "      <td>6.748557</td>\n",
       "      <td>10.664876</td>\n",
       "      <td>7.975821</td>\n",
       "      <td>37.826924</td>\n",
       "      <td>3.132834</td>\n",
       "      <td>0.536224</td>\n",
       "      <td>0.498305</td>\n",
       "      <td>8.227657</td>\n",
       "      <td>5.298912</td>\n",
       "      <td>86.285798</td>\n",
       "      <td>15.788676</td>\n",
       "      <td>31.931642</td>\n",
       "      <td>61.233289</td>\n",
       "      <td>25.156025</td>\n",
       "      <td>36.032687</td>\n",
       "      <td>13.863302</td>\n",
       "      <td>6.879646</td>\n",
       "      <td>10.731187</td>\n",
       "      <td>7.847829</td>\n",
       "      <td>37.128714</td>\n",
       "      <td>3.444182</td>\n",
       "      <td>0.479111</td>\n",
       "      <td>0.432445</td>\n",
       "      <td>8.067909</td>\n",
       "      <td>5.333533</td>\n",
       "      <td>86.312419</td>\n",
       "      <td>16.477784</td>\n",
       "      <td>31.604604</td>\n",
       "      <td>62.101064</td>\n",
       "      <td>26.521875</td>\n",
       "      <td>36.746453</td>\n",
       "      <td>13.903667</td>\n",
       "      <td>7.313833</td>\n",
       "      <td>10.388712</td>\n",
       "      <td>7.956139</td>\n",
       "      <td>36.745588</td>\n",
       "      <td>2.906977</td>\n",
       "    </tr>\n",
       "  </tbody>\n",
       "</table>\n",
       "</div>"
      ],
      "text/plain": [
       "   id  AL  AK  AZ  AR  CA  CO  CT  FL  GA  ID  IL  IN  IA  KS  KY  LA  MD  MA  \\\n",
       "0   0   0   0   0   0   0   0   0   1   0   0   0   0   0   0   0   0   0   0   \n",
       "1   1   0   0   0   0   0   1   0   0   0   0   0   0   0   0   0   0   0   0   \n",
       "2   2   0   0   0   0   0   0   0   0   0   0   0   0   0   0   0   0   0   0   \n",
       "\n",
       "   MI  MN  MS  MO  NE  NV  NJ  NM  NY  NC  OH  OK  OR  RI  SC  TX  UT  VA  WA  \\\n",
       "0   0   0   0   0   0   0   0   0   0   0   0   0   0   0   0   0   0   0   0   \n",
       "1   0   0   0   0   0   0   0   0   0   0   0   0   0   0   0   0   0   0   0   \n",
       "2   0   0   0   0   0   0   1   0   0   0   0   0   0   0   0   0   0   0   0   \n",
       "\n",
       "        cli       ili  hh_cmnty_cli  nohh_cmnty_cli  wearing_mask  \\\n",
       "0  0.658466  0.724606     12.939284        8.556230     76.521693   \n",
       "1  0.693287  0.675962     15.008467       11.091818     82.375469   \n",
       "2  0.617041  0.617041      8.614719        5.238097     87.040999   \n",
       "\n",
       "   travel_outside_state  work_outside_home       shop  restaurant  spent_time  \\\n",
       "0              7.863621          33.069066  64.129378   33.438714   40.539878   \n",
       "1             11.082587          36.373964  60.471825   30.516978   43.162123   \n",
       "2             15.569851          33.366362  58.819368   24.674416   36.678937   \n",
       "\n",
       "   large_event  public_transit    anxious  depressed  worried_finances  \\\n",
       "0    17.446499        3.993190  10.122837   7.841023         37.992365   \n",
       "1    16.038761        4.519762  12.133287  10.155721         33.977549   \n",
       "2    13.490946        6.639301   9.753290   7.691015         38.685771   \n",
       "\n",
       "   tested_positive     cli.1     ili.1  hh_cmnty_cli.1  nohh_cmnty_cli.1  \\\n",
       "0         7.374846  0.653157  0.713249       12.488933          8.219380   \n",
       "1         9.850027  0.738029  0.720511       15.070049         10.990937   \n",
       "2         3.897851  0.663597  0.635459        8.472831          5.154184   \n",
       "\n",
       "   wearing_mask.1  travel_outside_state.1  work_outside_home.1     shop.1  \\\n",
       "0       75.179558                8.083434            32.564654  65.212903   \n",
       "1       80.943299               10.596788            36.435828  61.653141   \n",
       "2       86.743467               15.915242            33.012910  60.157822   \n",
       "\n",
       "   restaurant.1  spent_time.1  large_event.1  public_transit.1  anxious.1  \\\n",
       "0     34.285572     40.697210      17.754941          3.997443  10.161621   \n",
       "1     31.449290     43.751356      16.752518          4.385694  11.911724   \n",
       "2     25.322821     36.456240      13.385945          6.700146   9.949982   \n",
       "\n",
       "   depressed.1  worried_finances.1  tested_positive.1     cli.2     ili.2  \\\n",
       "0     8.067275           37.882278           7.219989  0.677783  0.737965   \n",
       "1     9.798448           32.786802          10.050547  0.831586  0.827523   \n",
       "2     7.833514           38.036480           3.083111  0.534394  0.497435   \n",
       "\n",
       "   hh_cmnty_cli.2  nohh_cmnty_cli.2  wearing_mask.2  travel_outside_state.2  \\\n",
       "0       12.487637          8.135510       74.189695                8.001016   \n",
       "1       14.568504         10.578924       79.096391               10.418171   \n",
       "2        8.493353          5.125553       86.647289               15.963496   \n",
       "\n",
       "   work_outside_home.2     shop.2  restaurant.2  spent_time.2  large_event.2  \\\n",
       "0            32.145331  66.258549     34.931095     40.889258      18.038068   \n",
       "1            35.851804  62.835720     32.802637     43.753525      17.195922   \n",
       "2            32.471093  60.910411     25.158967     35.968207      13.656070   \n",
       "\n",
       "   public_transit.2  anxious.2  depressed.2  worried_finances.2  \\\n",
       "0          3.970457  10.043014     7.983358           37.705024   \n",
       "1          4.671201  11.418314    10.600311           32.679030   \n",
       "2          6.748557  10.664876     7.975821           37.826924   \n",
       "\n",
       "   tested_positive.2     cli.3     ili.3  hh_cmnty_cli.3  nohh_cmnty_cli.3  \\\n",
       "0           7.077938  0.666751  0.723506       12.367718          8.006131   \n",
       "1          10.388084  0.767643  0.763580       14.264862         10.212529   \n",
       "2           3.132834  0.536224  0.498305        8.227657          5.298912   \n",
       "\n",
       "   wearing_mask.3  travel_outside_state.3  work_outside_home.3     shop.3  \\\n",
       "0       73.211902                7.873342            31.330236  66.753902   \n",
       "1       76.645984               10.614731            34.639961  63.652437   \n",
       "2       86.285798               15.788676            31.931642  61.233289   \n",
       "\n",
       "   restaurant.3  spent_time.3  large_event.3  public_transit.3  anxious.3  \\\n",
       "0     35.586606     40.741650      17.800711          3.984791  10.148898   \n",
       "1     34.147714     44.682727      17.705140          4.938357  11.056725   \n",
       "2     25.156025     36.032687      13.863302          6.879646  10.731187   \n",
       "\n",
       "   depressed.3  worried_finances.3  tested_positive.3     cli.4     ili.4  \\\n",
       "0     8.262288           37.384963           7.452243  0.685628  0.740943   \n",
       "1    10.889148           32.933142           8.707858  0.713255  0.719378   \n",
       "2     7.847829           37.128714           3.444182  0.479111  0.432445   \n",
       "\n",
       "   hh_cmnty_cli.4  nohh_cmnty_cli.4  wearing_mask.4  travel_outside_state.4  \\\n",
       "0       12.364307          8.151578       71.820231                7.944531   \n",
       "1       12.894363          8.919288       74.687112               10.523814   \n",
       "2        8.067909          5.333533       86.312419               16.477784   \n",
       "\n",
       "   work_outside_home.4     shop.4  restaurant.4  spent_time.4  large_event.4  \\\n",
       "0            31.113209  67.394551     36.674291     40.743132      17.842221   \n",
       "1            33.920257  64.398380     34.612238     44.035688      17.808103   \n",
       "2            31.604604  62.101064     26.521875     36.746453      13.903667   \n",
       "\n",
       "   public_transit.4  anxious.4  depressed.4  worried_finances.4  \\\n",
       "0          4.093712  10.440071     8.627117           37.329512   \n",
       "1          4.924935  10.172662     9.954333           32.508881   \n",
       "2          7.313833  10.388712     7.956139           36.745588   \n",
       "\n",
       "   tested_positive.4  \n",
       "0           7.456154  \n",
       "1           8.010957  \n",
       "2           2.906977  "
      ]
     },
     "metadata": {},
     "output_type": "display_data"
    },
    {
     "name": "stdout",
     "output_type": "stream",
     "text": [
      "train_data size: (2160, 118)\n",
      "valid_data size: (539, 118)\n",
      "test_data size: (1078, 117)\n",
      "number of features: 117\n"
     ]
    }
   ],
   "source": [
    "# 设置随机种子便于复现\n",
    "same_seed(config['seed'])\n",
    "\n",
    "# 训练集大小(train_data size) : 2699 x 118 (id + 37 states + 16 features x 5 days) \n",
    "# 测试集大小(test_data size）: 1078 x 117 (没有label (last day's positive rate))\n",
    "pd.set_option('display.max_columns', 200)\n",
    "train_df, test_df = pd.read_csv('./covid.train.csv'), pd.read_csv('./covid.test.csv')\n",
    "display(train_df.head(3)) # 显示前三行\n",
    "train_data, test_data = train_df.values, test_df.values\n",
    "del train_df, test_df # 删除数据减少内存占用\n",
    "train_data, valid_data = train_valid_split(train_data, config['valid_ratio'], config['seed'])\n",
    "\n",
    "# 打印数据的大小\n",
    "print(f'''train_data size: {train_data.shape}\n",
    "valid_data size: {valid_data.shape}\n",
    "test_data size: {test_data.shape}''')\n",
    "\n",
    "# 特征选择\n",
    "x_train, x_valid, x_test, y_train, y_valid = select_feat(train_data, valid_data, test_data, config['select_all'])\n",
    "\n",
    "# 打印出特征数量\n",
    "print(f'number of features: {x_train.shape[1]}')\n",
    "\n",
    "train_dataset, valid_dataset, test_dataset = COVID19Dataset(x_train, y_train), \\\n",
    "                                             COVID19Dataset(x_valid, y_valid), \\\n",
    "                                             COVID19Dataset(x_test)\n",
    "\n",
    "# 使用Pytorch中的Dataloader类按照Batch将数据集加载\n",
    "train_loader = DataLoader(train_dataset, batch_size=config['batch_size'], shuffle=True, pin_memory=True)\n",
    "valid_loader = DataLoader(valid_dataset, batch_size=config['batch_size'], shuffle=True, pin_memory=True)\n",
    "test_loader = DataLoader(test_dataset, batch_size=config['batch_size'], shuffle=False, pin_memory=True)"
   ]
  },
  {
   "cell_type": "markdown",
   "id": "ddbd1927",
   "metadata": {},
   "source": [
    "## 开始训练！"
   ]
  },
  {
   "cell_type": "code",
   "execution_count": 13,
   "id": "18d8ab6a",
   "metadata": {},
   "outputs": [
    {
     "name": "stderr",
     "output_type": "stream",
     "text": [
      "Epoch [1/1000]:   0%|          | 0/17 [00:00<?, ?it/s]/opt/miniconda3/envs/LEEDL/lib/python3.12/site-packages/torch/utils/data/dataloader.py:683: UserWarning: 'pin_memory' argument is set as true but not supported on MPS now, then device pinned memory won't be used.\n",
      "  warnings.warn(warn_msg)\n",
      "Epoch [1/1000]: 100%|██████████| 17/17 [00:00<00:00, 443.70it/s, loss=47.6]\n"
     ]
    },
    {
     "name": "stdout",
     "output_type": "stream",
     "text": [
      "Epoch [1/1000]: Train loss: 57.6326, Valid loss: 60.3909\n",
      "Saving model with loss 60.391...\n"
     ]
    },
    {
     "name": "stderr",
     "output_type": "stream",
     "text": [
      "Epoch [2/1000]: 100%|██████████| 17/17 [00:00<00:00, 1109.38it/s, loss=43.5]\n"
     ]
    },
    {
     "name": "stdout",
     "output_type": "stream",
     "text": [
      "Epoch [2/1000]: Train loss: 55.3203, Valid loss: 55.9189\n",
      "Saving model with loss 55.919...\n"
     ]
    },
    {
     "name": "stderr",
     "output_type": "stream",
     "text": [
      "Epoch [3/1000]: 100%|██████████| 17/17 [00:00<00:00, 1096.84it/s, loss=59]\n"
     ]
    },
    {
     "name": "stdout",
     "output_type": "stream",
     "text": [
      "Epoch [3/1000]: Train loss: 53.2731, Valid loss: 54.6798\n",
      "Saving model with loss 54.680...\n"
     ]
    },
    {
     "name": "stderr",
     "output_type": "stream",
     "text": [
      "Epoch [4/1000]: 100%|██████████| 17/17 [00:00<00:00, 1108.22it/s, loss=43.4]\n"
     ]
    },
    {
     "name": "stdout",
     "output_type": "stream",
     "text": [
      "Epoch [4/1000]: Train loss: 51.1736, Valid loss: 57.2037\n"
     ]
    },
    {
     "name": "stderr",
     "output_type": "stream",
     "text": [
      "Epoch [5/1000]: 100%|██████████| 17/17 [00:00<00:00, 1177.03it/s, loss=51.4]\n"
     ]
    },
    {
     "name": "stdout",
     "output_type": "stream",
     "text": [
      "Epoch [5/1000]: Train loss: 49.3052, Valid loss: 49.0665\n",
      "Saving model with loss 49.066...\n"
     ]
    },
    {
     "name": "stderr",
     "output_type": "stream",
     "text": [
      "Epoch [6/1000]: 100%|██████████| 17/17 [00:00<00:00, 1226.74it/s, loss=38.2]\n"
     ]
    },
    {
     "name": "stdout",
     "output_type": "stream",
     "text": [
      "Epoch [6/1000]: Train loss: 47.2913, Valid loss: 48.1389\n",
      "Saving model with loss 48.139...\n"
     ]
    },
    {
     "name": "stderr",
     "output_type": "stream",
     "text": [
      "Epoch [7/1000]: 100%|██████████| 17/17 [00:00<00:00, 1183.77it/s, loss=33.3]\n"
     ]
    },
    {
     "name": "stdout",
     "output_type": "stream",
     "text": [
      "Epoch [7/1000]: Train loss: 45.5077, Valid loss: 49.1221\n"
     ]
    },
    {
     "name": "stderr",
     "output_type": "stream",
     "text": [
      "Epoch [8/1000]: 100%|██████████| 17/17 [00:00<00:00, 1207.14it/s, loss=46]\n"
     ]
    },
    {
     "name": "stdout",
     "output_type": "stream",
     "text": [
      "Epoch [8/1000]: Train loss: 44.0614, Valid loss: 50.1212\n"
     ]
    },
    {
     "name": "stderr",
     "output_type": "stream",
     "text": [
      "Epoch [9/1000]: 100%|██████████| 17/17 [00:00<00:00, 1154.18it/s, loss=44.9]\n"
     ]
    },
    {
     "name": "stdout",
     "output_type": "stream",
     "text": [
      "Epoch [9/1000]: Train loss: 42.9573, Valid loss: 47.5387\n",
      "Saving model with loss 47.539...\n"
     ]
    },
    {
     "name": "stderr",
     "output_type": "stream",
     "text": [
      "Epoch [10/1000]: 100%|██████████| 17/17 [00:00<00:00, 1160.02it/s, loss=40.3]\n"
     ]
    },
    {
     "name": "stdout",
     "output_type": "stream",
     "text": [
      "Epoch [10/1000]: Train loss: 42.0161, Valid loss: 39.3585\n",
      "Saving model with loss 39.358...\n"
     ]
    },
    {
     "name": "stderr",
     "output_type": "stream",
     "text": [
      "Epoch [11/1000]: 100%|██████████| 17/17 [00:00<00:00, 650.49it/s, loss=48.7]\n"
     ]
    },
    {
     "name": "stdout",
     "output_type": "stream",
     "text": [
      "Epoch [11/1000]: Train loss: 41.4168, Valid loss: 41.7915\n"
     ]
    },
    {
     "name": "stderr",
     "output_type": "stream",
     "text": [
      "Epoch [12/1000]: 100%|██████████| 17/17 [00:00<00:00, 1066.17it/s, loss=39.5]\n"
     ]
    },
    {
     "name": "stdout",
     "output_type": "stream",
     "text": [
      "Epoch [12/1000]: Train loss: 40.8150, Valid loss: 39.8324\n"
     ]
    },
    {
     "name": "stderr",
     "output_type": "stream",
     "text": [
      "Epoch [13/1000]: 100%|██████████| 17/17 [00:00<00:00, 1144.77it/s, loss=48.1]\n"
     ]
    },
    {
     "name": "stdout",
     "output_type": "stream",
     "text": [
      "Epoch [13/1000]: Train loss: 40.4250, Valid loss: 44.3687\n"
     ]
    },
    {
     "name": "stderr",
     "output_type": "stream",
     "text": [
      "Epoch [14/1000]: 100%|██████████| 17/17 [00:00<00:00, 1089.68it/s, loss=44.2]\n"
     ]
    },
    {
     "name": "stdout",
     "output_type": "stream",
     "text": [
      "Epoch [14/1000]: Train loss: 40.0105, Valid loss: 41.9097\n"
     ]
    },
    {
     "name": "stderr",
     "output_type": "stream",
     "text": [
      "Epoch [15/1000]: 100%|██████████| 17/17 [00:00<00:00, 1200.23it/s, loss=38.7]\n"
     ]
    },
    {
     "name": "stdout",
     "output_type": "stream",
     "text": [
      "Epoch [15/1000]: Train loss: 39.6031, Valid loss: 39.3905\n"
     ]
    },
    {
     "name": "stderr",
     "output_type": "stream",
     "text": [
      "Epoch [16/1000]: 100%|██████████| 17/17 [00:00<00:00, 1065.90it/s, loss=34.5]\n"
     ]
    },
    {
     "name": "stdout",
     "output_type": "stream",
     "text": [
      "Epoch [16/1000]: Train loss: 39.2372, Valid loss: 40.0581\n"
     ]
    },
    {
     "name": "stderr",
     "output_type": "stream",
     "text": [
      "Epoch [17/1000]: 100%|██████████| 17/17 [00:00<00:00, 1141.47it/s, loss=31.5]\n"
     ]
    },
    {
     "name": "stdout",
     "output_type": "stream",
     "text": [
      "Epoch [17/1000]: Train loss: 38.8718, Valid loss: 39.7945\n"
     ]
    },
    {
     "name": "stderr",
     "output_type": "stream",
     "text": [
      "Epoch [18/1000]: 100%|██████████| 17/17 [00:00<00:00, 1155.51it/s, loss=43.3]\n"
     ]
    },
    {
     "name": "stdout",
     "output_type": "stream",
     "text": [
      "Epoch [18/1000]: Train loss: 38.6228, Valid loss: 41.2781\n"
     ]
    },
    {
     "name": "stderr",
     "output_type": "stream",
     "text": [
      "Epoch [19/1000]: 100%|██████████| 17/17 [00:00<00:00, 1093.32it/s, loss=44.5]\n"
     ]
    },
    {
     "name": "stdout",
     "output_type": "stream",
     "text": [
      "Epoch [19/1000]: Train loss: 38.3271, Valid loss: 38.5687\n",
      "Saving model with loss 38.569...\n"
     ]
    },
    {
     "name": "stderr",
     "output_type": "stream",
     "text": [
      "Epoch [20/1000]: 100%|██████████| 17/17 [00:00<00:00, 1062.31it/s, loss=27.6]\n"
     ]
    },
    {
     "name": "stdout",
     "output_type": "stream",
     "text": [
      "Epoch [20/1000]: Train loss: 37.9063, Valid loss: 41.5725\n"
     ]
    },
    {
     "name": "stderr",
     "output_type": "stream",
     "text": [
      "Epoch [21/1000]: 100%|██████████| 17/17 [00:00<00:00, 1066.77it/s, loss=41.3]\n"
     ]
    },
    {
     "name": "stdout",
     "output_type": "stream",
     "text": [
      "Epoch [21/1000]: Train loss: 37.6993, Valid loss: 38.3424\n",
      "Saving model with loss 38.342...\n"
     ]
    },
    {
     "name": "stderr",
     "output_type": "stream",
     "text": [
      "Epoch [22/1000]: 100%|██████████| 17/17 [00:00<00:00, 1074.12it/s, loss=35]\n"
     ]
    },
    {
     "name": "stdout",
     "output_type": "stream",
     "text": [
      "Epoch [22/1000]: Train loss: 37.3365, Valid loss: 37.9628\n",
      "Saving model with loss 37.963...\n"
     ]
    },
    {
     "name": "stderr",
     "output_type": "stream",
     "text": [
      "Epoch [23/1000]: 100%|██████████| 17/17 [00:00<00:00, 538.57it/s, loss=39.8]\n"
     ]
    },
    {
     "name": "stdout",
     "output_type": "stream",
     "text": [
      "Epoch [23/1000]: Train loss: 37.0457, Valid loss: 38.9201\n"
     ]
    },
    {
     "name": "stderr",
     "output_type": "stream",
     "text": [
      "Epoch [24/1000]: 100%|██████████| 17/17 [00:00<00:00, 1049.13it/s, loss=38.5]\n"
     ]
    },
    {
     "name": "stdout",
     "output_type": "stream",
     "text": [
      "Epoch [24/1000]: Train loss: 36.6977, Valid loss: 37.7912\n",
      "Saving model with loss 37.791...\n"
     ]
    },
    {
     "name": "stderr",
     "output_type": "stream",
     "text": [
      "Epoch [25/1000]: 100%|██████████| 17/17 [00:00<00:00, 1085.09it/s, loss=40.4]\n"
     ]
    },
    {
     "name": "stdout",
     "output_type": "stream",
     "text": [
      "Epoch [25/1000]: Train loss: 36.3625, Valid loss: 37.9736\n"
     ]
    },
    {
     "name": "stderr",
     "output_type": "stream",
     "text": [
      "Epoch [26/1000]: 100%|██████████| 17/17 [00:00<00:00, 1074.99it/s, loss=32]\n"
     ]
    },
    {
     "name": "stdout",
     "output_type": "stream",
     "text": [
      "Epoch [26/1000]: Train loss: 36.0217, Valid loss: 36.6731\n",
      "Saving model with loss 36.673...\n"
     ]
    },
    {
     "name": "stderr",
     "output_type": "stream",
     "text": [
      "Epoch [27/1000]: 100%|██████████| 17/17 [00:00<00:00, 1056.58it/s, loss=31.3]\n"
     ]
    },
    {
     "name": "stdout",
     "output_type": "stream",
     "text": [
      "Epoch [27/1000]: Train loss: 35.7688, Valid loss: 40.8589\n"
     ]
    },
    {
     "name": "stderr",
     "output_type": "stream",
     "text": [
      "Epoch [28/1000]: 100%|██████████| 17/17 [00:00<00:00, 898.58it/s, loss=32.1]\n"
     ]
    },
    {
     "name": "stdout",
     "output_type": "stream",
     "text": [
      "Epoch [28/1000]: Train loss: 35.5457, Valid loss: 35.2151\n",
      "Saving model with loss 35.215...\n"
     ]
    },
    {
     "name": "stderr",
     "output_type": "stream",
     "text": [
      "Epoch [29/1000]: 100%|██████████| 17/17 [00:00<00:00, 1009.93it/s, loss=37.5]\n"
     ]
    },
    {
     "name": "stdout",
     "output_type": "stream",
     "text": [
      "Epoch [29/1000]: Train loss: 35.3642, Valid loss: 38.1701\n"
     ]
    },
    {
     "name": "stderr",
     "output_type": "stream",
     "text": [
      "Epoch [30/1000]: 100%|██████████| 17/17 [00:00<00:00, 1046.99it/s, loss=30]\n"
     ]
    },
    {
     "name": "stdout",
     "output_type": "stream",
     "text": [
      "Epoch [30/1000]: Train loss: 35.0892, Valid loss: 39.0553\n"
     ]
    },
    {
     "name": "stderr",
     "output_type": "stream",
     "text": [
      "Epoch [31/1000]: 100%|██████████| 17/17 [00:00<00:00, 1078.96it/s, loss=36.2]\n"
     ]
    },
    {
     "name": "stdout",
     "output_type": "stream",
     "text": [
      "Epoch [31/1000]: Train loss: 34.9162, Valid loss: 39.8418\n"
     ]
    },
    {
     "name": "stderr",
     "output_type": "stream",
     "text": [
      "Epoch [32/1000]: 100%|██████████| 17/17 [00:00<00:00, 1089.46it/s, loss=44.2]\n"
     ]
    },
    {
     "name": "stdout",
     "output_type": "stream",
     "text": [
      "Epoch [32/1000]: Train loss: 34.7647, Valid loss: 34.3007\n",
      "Saving model with loss 34.301...\n"
     ]
    },
    {
     "name": "stderr",
     "output_type": "stream",
     "text": [
      "Epoch [33/1000]: 100%|██████████| 17/17 [00:00<00:00, 1072.95it/s, loss=27.7]\n"
     ]
    },
    {
     "name": "stdout",
     "output_type": "stream",
     "text": [
      "Epoch [33/1000]: Train loss: 34.4372, Valid loss: 35.1475\n"
     ]
    },
    {
     "name": "stderr",
     "output_type": "stream",
     "text": [
      "Epoch [34/1000]: 100%|██████████| 17/17 [00:00<00:00, 1105.92it/s, loss=26.6]\n"
     ]
    },
    {
     "name": "stdout",
     "output_type": "stream",
     "text": [
      "Epoch [34/1000]: Train loss: 34.1997, Valid loss: 35.2693\n"
     ]
    },
    {
     "name": "stderr",
     "output_type": "stream",
     "text": [
      "Epoch [35/1000]: 100%|██████████| 17/17 [00:00<00:00, 681.23it/s, loss=27.5]\n"
     ]
    },
    {
     "name": "stdout",
     "output_type": "stream",
     "text": [
      "Epoch [35/1000]: Train loss: 33.9974, Valid loss: 35.3649\n"
     ]
    },
    {
     "name": "stderr",
     "output_type": "stream",
     "text": [
      "Epoch [36/1000]: 100%|██████████| 17/17 [00:00<00:00, 915.30it/s, loss=30.6]\n"
     ]
    },
    {
     "name": "stdout",
     "output_type": "stream",
     "text": [
      "Epoch [36/1000]: Train loss: 33.7926, Valid loss: 38.6363\n"
     ]
    },
    {
     "name": "stderr",
     "output_type": "stream",
     "text": [
      "Epoch [37/1000]: 100%|██████████| 17/17 [00:00<00:00, 1117.10it/s, loss=32.3]\n"
     ]
    },
    {
     "name": "stdout",
     "output_type": "stream",
     "text": [
      "Epoch [37/1000]: Train loss: 33.5738, Valid loss: 34.2890\n",
      "Saving model with loss 34.289...\n"
     ]
    },
    {
     "name": "stderr",
     "output_type": "stream",
     "text": [
      "Epoch [38/1000]: 100%|██████████| 17/17 [00:00<00:00, 1108.93it/s, loss=33.5]\n"
     ]
    },
    {
     "name": "stdout",
     "output_type": "stream",
     "text": [
      "Epoch [38/1000]: Train loss: 33.3813, Valid loss: 34.6894\n"
     ]
    },
    {
     "name": "stderr",
     "output_type": "stream",
     "text": [
      "Epoch [39/1000]: 100%|██████████| 17/17 [00:00<00:00, 1087.30it/s, loss=32.3]\n"
     ]
    },
    {
     "name": "stdout",
     "output_type": "stream",
     "text": [
      "Epoch [39/1000]: Train loss: 33.1270, Valid loss: 34.8581\n"
     ]
    },
    {
     "name": "stderr",
     "output_type": "stream",
     "text": [
      "Epoch [40/1000]: 100%|██████████| 17/17 [00:00<00:00, 1093.46it/s, loss=21]\n"
     ]
    },
    {
     "name": "stdout",
     "output_type": "stream",
     "text": [
      "Epoch [40/1000]: Train loss: 32.8199, Valid loss: 35.0564\n"
     ]
    },
    {
     "name": "stderr",
     "output_type": "stream",
     "text": [
      "Epoch [41/1000]: 100%|██████████| 17/17 [00:00<00:00, 1159.36it/s, loss=30.8]\n"
     ]
    },
    {
     "name": "stdout",
     "output_type": "stream",
     "text": [
      "Epoch [41/1000]: Train loss: 32.6770, Valid loss: 32.9578\n",
      "Saving model with loss 32.958...\n"
     ]
    },
    {
     "name": "stderr",
     "output_type": "stream",
     "text": [
      "Epoch [42/1000]: 100%|██████████| 17/17 [00:00<00:00, 1117.85it/s, loss=29.3]\n"
     ]
    },
    {
     "name": "stdout",
     "output_type": "stream",
     "text": [
      "Epoch [42/1000]: Train loss: 32.4858, Valid loss: 34.8911\n"
     ]
    },
    {
     "name": "stderr",
     "output_type": "stream",
     "text": [
      "Epoch [43/1000]: 100%|██████████| 17/17 [00:00<00:00, 1152.47it/s, loss=38.2]\n"
     ]
    },
    {
     "name": "stdout",
     "output_type": "stream",
     "text": [
      "Epoch [43/1000]: Train loss: 32.3616, Valid loss: 33.5060\n"
     ]
    },
    {
     "name": "stderr",
     "output_type": "stream",
     "text": [
      "Epoch [44/1000]: 100%|██████████| 17/17 [00:00<00:00, 1139.87it/s, loss=36.9]\n"
     ]
    },
    {
     "name": "stdout",
     "output_type": "stream",
     "text": [
      "Epoch [44/1000]: Train loss: 32.1825, Valid loss: 33.7732\n"
     ]
    },
    {
     "name": "stderr",
     "output_type": "stream",
     "text": [
      "Epoch [45/1000]: 100%|██████████| 17/17 [00:00<00:00, 1110.59it/s, loss=25]\n"
     ]
    },
    {
     "name": "stdout",
     "output_type": "stream",
     "text": [
      "Epoch [45/1000]: Train loss: 31.9096, Valid loss: 33.3083\n"
     ]
    },
    {
     "name": "stderr",
     "output_type": "stream",
     "text": [
      "Epoch [46/1000]: 100%|██████████| 17/17 [00:00<00:00, 1146.48it/s, loss=31.7]\n"
     ]
    },
    {
     "name": "stdout",
     "output_type": "stream",
     "text": [
      "Epoch [46/1000]: Train loss: 31.7899, Valid loss: 32.7047\n",
      "Saving model with loss 32.705...\n"
     ]
    },
    {
     "name": "stderr",
     "output_type": "stream",
     "text": [
      "Epoch [47/1000]: 100%|██████████| 17/17 [00:00<00:00, 1134.32it/s, loss=28.4]\n"
     ]
    },
    {
     "name": "stdout",
     "output_type": "stream",
     "text": [
      "Epoch [47/1000]: Train loss: 31.5914, Valid loss: 31.7016\n",
      "Saving model with loss 31.702...\n"
     ]
    },
    {
     "name": "stderr",
     "output_type": "stream",
     "text": [
      "Epoch [48/1000]: 100%|██████████| 17/17 [00:00<00:00, 658.26it/s, loss=30.5]\n"
     ]
    },
    {
     "name": "stdout",
     "output_type": "stream",
     "text": [
      "Epoch [48/1000]: Train loss: 31.4280, Valid loss: 36.5496\n"
     ]
    },
    {
     "name": "stderr",
     "output_type": "stream",
     "text": [
      "Epoch [49/1000]: 100%|██████████| 17/17 [00:00<00:00, 1046.73it/s, loss=30.7]\n"
     ]
    },
    {
     "name": "stdout",
     "output_type": "stream",
     "text": [
      "Epoch [49/1000]: Train loss: 31.2491, Valid loss: 35.0420\n"
     ]
    },
    {
     "name": "stderr",
     "output_type": "stream",
     "text": [
      "Epoch [50/1000]: 100%|██████████| 17/17 [00:00<00:00, 1100.12it/s, loss=29.5]\n"
     ]
    },
    {
     "name": "stdout",
     "output_type": "stream",
     "text": [
      "Epoch [50/1000]: Train loss: 31.0709, Valid loss: 34.0172\n"
     ]
    },
    {
     "name": "stderr",
     "output_type": "stream",
     "text": [
      "Epoch [51/1000]: 100%|██████████| 17/17 [00:00<00:00, 1129.64it/s, loss=27.5]\n"
     ]
    },
    {
     "name": "stdout",
     "output_type": "stream",
     "text": [
      "Epoch [51/1000]: Train loss: 30.8835, Valid loss: 32.7142\n"
     ]
    },
    {
     "name": "stderr",
     "output_type": "stream",
     "text": [
      "Epoch [52/1000]: 100%|██████████| 17/17 [00:00<00:00, 1087.93it/s, loss=25.4]\n"
     ]
    },
    {
     "name": "stdout",
     "output_type": "stream",
     "text": [
      "Epoch [52/1000]: Train loss: 30.6894, Valid loss: 32.5914\n"
     ]
    },
    {
     "name": "stderr",
     "output_type": "stream",
     "text": [
      "Epoch [53/1000]: 100%|██████████| 17/17 [00:00<00:00, 1091.08it/s, loss=27]\n"
     ]
    },
    {
     "name": "stdout",
     "output_type": "stream",
     "text": [
      "Epoch [53/1000]: Train loss: 30.5296, Valid loss: 33.7616\n"
     ]
    },
    {
     "name": "stderr",
     "output_type": "stream",
     "text": [
      "Epoch [54/1000]: 100%|██████████| 17/17 [00:00<00:00, 1131.74it/s, loss=33.8]\n"
     ]
    },
    {
     "name": "stdout",
     "output_type": "stream",
     "text": [
      "Epoch [54/1000]: Train loss: 30.3993, Valid loss: 33.4960\n"
     ]
    },
    {
     "name": "stderr",
     "output_type": "stream",
     "text": [
      "Epoch [55/1000]: 100%|██████████| 17/17 [00:00<00:00, 1095.57it/s, loss=29]\n"
     ]
    },
    {
     "name": "stdout",
     "output_type": "stream",
     "text": [
      "Epoch [55/1000]: Train loss: 30.1873, Valid loss: 33.1716\n"
     ]
    },
    {
     "name": "stderr",
     "output_type": "stream",
     "text": [
      "Epoch [56/1000]: 100%|██████████| 17/17 [00:00<00:00, 1101.55it/s, loss=28]\n"
     ]
    },
    {
     "name": "stdout",
     "output_type": "stream",
     "text": [
      "Epoch [56/1000]: Train loss: 29.9942, Valid loss: 33.8549\n"
     ]
    },
    {
     "name": "stderr",
     "output_type": "stream",
     "text": [
      "Epoch [57/1000]: 100%|██████████| 17/17 [00:00<00:00, 1136.98it/s, loss=29.7]\n"
     ]
    },
    {
     "name": "stdout",
     "output_type": "stream",
     "text": [
      "Epoch [57/1000]: Train loss: 29.8165, Valid loss: 32.5692\n"
     ]
    },
    {
     "name": "stderr",
     "output_type": "stream",
     "text": [
      "Epoch [58/1000]: 100%|██████████| 17/17 [00:00<00:00, 1139.41it/s, loss=28.8]\n"
     ]
    },
    {
     "name": "stdout",
     "output_type": "stream",
     "text": [
      "Epoch [58/1000]: Train loss: 29.6078, Valid loss: 33.4460\n"
     ]
    },
    {
     "name": "stderr",
     "output_type": "stream",
     "text": [
      "Epoch [59/1000]: 100%|██████████| 17/17 [00:00<00:00, 1157.89it/s, loss=30.6]\n"
     ]
    },
    {
     "name": "stdout",
     "output_type": "stream",
     "text": [
      "Epoch [59/1000]: Train loss: 29.4358, Valid loss: 34.3182\n"
     ]
    },
    {
     "name": "stderr",
     "output_type": "stream",
     "text": [
      "Epoch [60/1000]: 100%|██████████| 17/17 [00:00<00:00, 1202.76it/s, loss=32.3]\n"
     ]
    },
    {
     "name": "stdout",
     "output_type": "stream",
     "text": [
      "Epoch [60/1000]: Train loss: 29.2677, Valid loss: 31.3488\n",
      "Saving model with loss 31.349...\n"
     ]
    },
    {
     "name": "stderr",
     "output_type": "stream",
     "text": [
      "Epoch [61/1000]: 100%|██████████| 17/17 [00:00<00:00, 680.84it/s, loss=28.6]\n"
     ]
    },
    {
     "name": "stdout",
     "output_type": "stream",
     "text": [
      "Epoch [61/1000]: Train loss: 29.0585, Valid loss: 31.7460\n"
     ]
    },
    {
     "name": "stderr",
     "output_type": "stream",
     "text": [
      "Epoch [62/1000]: 100%|██████████| 17/17 [00:00<00:00, 1106.06it/s, loss=37.5]\n"
     ]
    },
    {
     "name": "stdout",
     "output_type": "stream",
     "text": [
      "Epoch [62/1000]: Train loss: 28.9413, Valid loss: 29.7841\n",
      "Saving model with loss 29.784...\n"
     ]
    },
    {
     "name": "stderr",
     "output_type": "stream",
     "text": [
      "Epoch [63/1000]: 100%|██████████| 17/17 [00:00<00:00, 1025.07it/s, loss=36]\n"
     ]
    },
    {
     "name": "stdout",
     "output_type": "stream",
     "text": [
      "Epoch [63/1000]: Train loss: 28.7551, Valid loss: 33.5157\n"
     ]
    },
    {
     "name": "stderr",
     "output_type": "stream",
     "text": [
      "Epoch [64/1000]: 100%|██████████| 17/17 [00:00<00:00, 1059.64it/s, loss=28.4]\n"
     ]
    },
    {
     "name": "stdout",
     "output_type": "stream",
     "text": [
      "Epoch [64/1000]: Train loss: 28.5338, Valid loss: 31.0959\n"
     ]
    },
    {
     "name": "stderr",
     "output_type": "stream",
     "text": [
      "Epoch [65/1000]: 100%|██████████| 17/17 [00:00<00:00, 1157.95it/s, loss=28.1]\n"
     ]
    },
    {
     "name": "stdout",
     "output_type": "stream",
     "text": [
      "Epoch [65/1000]: Train loss: 28.3516, Valid loss: 31.0542\n"
     ]
    },
    {
     "name": "stderr",
     "output_type": "stream",
     "text": [
      "Epoch [66/1000]: 100%|██████████| 17/17 [00:00<00:00, 1066.57it/s, loss=24.8]\n"
     ]
    },
    {
     "name": "stdout",
     "output_type": "stream",
     "text": [
      "Epoch [66/1000]: Train loss: 28.1501, Valid loss: 30.8324\n"
     ]
    },
    {
     "name": "stderr",
     "output_type": "stream",
     "text": [
      "Epoch [67/1000]: 100%|██████████| 17/17 [00:00<00:00, 1084.66it/s, loss=25.3]\n"
     ]
    },
    {
     "name": "stdout",
     "output_type": "stream",
     "text": [
      "Epoch [67/1000]: Train loss: 27.9744, Valid loss: 28.7403\n",
      "Saving model with loss 28.740...\n"
     ]
    },
    {
     "name": "stderr",
     "output_type": "stream",
     "text": [
      "Epoch [68/1000]: 100%|██████████| 17/17 [00:00<00:00, 1104.77it/s, loss=32.8]\n"
     ]
    },
    {
     "name": "stdout",
     "output_type": "stream",
     "text": [
      "Epoch [68/1000]: Train loss: 27.8562, Valid loss: 30.4582\n"
     ]
    },
    {
     "name": "stderr",
     "output_type": "stream",
     "text": [
      "Epoch [69/1000]: 100%|██████████| 17/17 [00:00<00:00, 1109.93it/s, loss=28.8]\n"
     ]
    },
    {
     "name": "stdout",
     "output_type": "stream",
     "text": [
      "Epoch [69/1000]: Train loss: 27.6438, Valid loss: 27.7676\n",
      "Saving model with loss 27.768...\n"
     ]
    },
    {
     "name": "stderr",
     "output_type": "stream",
     "text": [
      "Epoch [70/1000]: 100%|██████████| 17/17 [00:00<00:00, 1148.01it/s, loss=32.8]\n"
     ]
    },
    {
     "name": "stdout",
     "output_type": "stream",
     "text": [
      "Epoch [70/1000]: Train loss: 27.4870, Valid loss: 27.7644\n",
      "Saving model with loss 27.764...\n"
     ]
    },
    {
     "name": "stderr",
     "output_type": "stream",
     "text": [
      "Epoch [71/1000]: 100%|██████████| 17/17 [00:00<00:00, 1085.30it/s, loss=22]\n"
     ]
    },
    {
     "name": "stdout",
     "output_type": "stream",
     "text": [
      "Epoch [71/1000]: Train loss: 27.2113, Valid loss: 28.5219\n"
     ]
    },
    {
     "name": "stderr",
     "output_type": "stream",
     "text": [
      "Epoch [72/1000]: 100%|██████████| 17/17 [00:00<00:00, 618.72it/s, loss=28.5]\n"
     ]
    },
    {
     "name": "stdout",
     "output_type": "stream",
     "text": [
      "Epoch [72/1000]: Train loss: 27.0596, Valid loss: 28.0777\n"
     ]
    },
    {
     "name": "stderr",
     "output_type": "stream",
     "text": [
      "Epoch [73/1000]: 100%|██████████| 17/17 [00:00<00:00, 1118.95it/s, loss=32.2]\n"
     ]
    },
    {
     "name": "stdout",
     "output_type": "stream",
     "text": [
      "Epoch [73/1000]: Train loss: 26.8910, Valid loss: 28.2068\n"
     ]
    },
    {
     "name": "stderr",
     "output_type": "stream",
     "text": [
      "Epoch [74/1000]: 100%|██████████| 17/17 [00:00<00:00, 1215.08it/s, loss=31.8]\n"
     ]
    },
    {
     "name": "stdout",
     "output_type": "stream",
     "text": [
      "Epoch [74/1000]: Train loss: 26.6572, Valid loss: 31.0593\n"
     ]
    },
    {
     "name": "stderr",
     "output_type": "stream",
     "text": [
      "Epoch [75/1000]: 100%|██████████| 17/17 [00:00<00:00, 1141.54it/s, loss=29.9]\n"
     ]
    },
    {
     "name": "stdout",
     "output_type": "stream",
     "text": [
      "Epoch [75/1000]: Train loss: 26.4441, Valid loss: 27.6539\n",
      "Saving model with loss 27.654...\n"
     ]
    },
    {
     "name": "stderr",
     "output_type": "stream",
     "text": [
      "Epoch [76/1000]: 100%|██████████| 17/17 [00:00<00:00, 1073.63it/s, loss=26.1]\n"
     ]
    },
    {
     "name": "stdout",
     "output_type": "stream",
     "text": [
      "Epoch [76/1000]: Train loss: 26.2169, Valid loss: 28.2173\n"
     ]
    },
    {
     "name": "stderr",
     "output_type": "stream",
     "text": [
      "Epoch [77/1000]: 100%|██████████| 17/17 [00:00<00:00, 1115.51it/s, loss=28.3]\n"
     ]
    },
    {
     "name": "stdout",
     "output_type": "stream",
     "text": [
      "Epoch [77/1000]: Train loss: 26.0380, Valid loss: 27.3418\n",
      "Saving model with loss 27.342...\n"
     ]
    },
    {
     "name": "stderr",
     "output_type": "stream",
     "text": [
      "Epoch [78/1000]: 100%|██████████| 17/17 [00:00<00:00, 1096.92it/s, loss=25.3]\n"
     ]
    },
    {
     "name": "stdout",
     "output_type": "stream",
     "text": [
      "Epoch [78/1000]: Train loss: 25.8320, Valid loss: 28.4718\n"
     ]
    },
    {
     "name": "stderr",
     "output_type": "stream",
     "text": [
      "Epoch [79/1000]: 100%|██████████| 17/17 [00:00<00:00, 1149.96it/s, loss=25.3]\n"
     ]
    },
    {
     "name": "stdout",
     "output_type": "stream",
     "text": [
      "Epoch [79/1000]: Train loss: 25.6575, Valid loss: 26.9538\n",
      "Saving model with loss 26.954...\n"
     ]
    },
    {
     "name": "stderr",
     "output_type": "stream",
     "text": [
      "Epoch [80/1000]: 100%|██████████| 17/17 [00:00<00:00, 992.53it/s, loss=23.1]\n"
     ]
    },
    {
     "name": "stdout",
     "output_type": "stream",
     "text": [
      "Epoch [80/1000]: Train loss: 25.4568, Valid loss: 27.7998\n"
     ]
    },
    {
     "name": "stderr",
     "output_type": "stream",
     "text": [
      "Epoch [81/1000]: 100%|██████████| 17/17 [00:00<00:00, 1088.83it/s, loss=30.8]\n"
     ]
    },
    {
     "name": "stdout",
     "output_type": "stream",
     "text": [
      "Epoch [81/1000]: Train loss: 25.3309, Valid loss: 26.9897\n"
     ]
    },
    {
     "name": "stderr",
     "output_type": "stream",
     "text": [
      "Epoch [82/1000]: 100%|██████████| 17/17 [00:00<00:00, 1170.63it/s, loss=22.5]\n"
     ]
    },
    {
     "name": "stdout",
     "output_type": "stream",
     "text": [
      "Epoch [82/1000]: Train loss: 25.0881, Valid loss: 25.3746\n",
      "Saving model with loss 25.375...\n"
     ]
    },
    {
     "name": "stderr",
     "output_type": "stream",
     "text": [
      "Epoch [83/1000]: 100%|██████████| 17/17 [00:00<00:00, 1070.75it/s, loss=28.4]\n"
     ]
    },
    {
     "name": "stdout",
     "output_type": "stream",
     "text": [
      "Epoch [83/1000]: Train loss: 24.9491, Valid loss: 27.4840\n"
     ]
    },
    {
     "name": "stderr",
     "output_type": "stream",
     "text": [
      "Epoch [84/1000]: 100%|██████████| 17/17 [00:00<00:00, 1098.48it/s, loss=22.4]\n"
     ]
    },
    {
     "name": "stdout",
     "output_type": "stream",
     "text": [
      "Epoch [84/1000]: Train loss: 24.7326, Valid loss: 25.9074\n"
     ]
    },
    {
     "name": "stderr",
     "output_type": "stream",
     "text": [
      "Epoch [85/1000]: 100%|██████████| 17/17 [00:00<00:00, 671.67it/s, loss=25.9]\n"
     ]
    },
    {
     "name": "stdout",
     "output_type": "stream",
     "text": [
      "Epoch [85/1000]: Train loss: 24.5753, Valid loss: 26.4349\n"
     ]
    },
    {
     "name": "stderr",
     "output_type": "stream",
     "text": [
      "Epoch [86/1000]: 100%|██████████| 17/17 [00:00<00:00, 1156.99it/s, loss=27.1]\n"
     ]
    },
    {
     "name": "stdout",
     "output_type": "stream",
     "text": [
      "Epoch [86/1000]: Train loss: 24.4089, Valid loss: 26.6915\n"
     ]
    },
    {
     "name": "stderr",
     "output_type": "stream",
     "text": [
      "Epoch [87/1000]: 100%|██████████| 17/17 [00:00<00:00, 904.89it/s, loss=28.6]\n"
     ]
    },
    {
     "name": "stdout",
     "output_type": "stream",
     "text": [
      "Epoch [87/1000]: Train loss: 24.2304, Valid loss: 27.2333\n"
     ]
    },
    {
     "name": "stderr",
     "output_type": "stream",
     "text": [
      "Epoch [88/1000]: 100%|██████████| 17/17 [00:00<00:00, 1044.35it/s, loss=19.2]\n"
     ]
    },
    {
     "name": "stdout",
     "output_type": "stream",
     "text": [
      "Epoch [88/1000]: Train loss: 23.9808, Valid loss: 26.8248\n"
     ]
    },
    {
     "name": "stderr",
     "output_type": "stream",
     "text": [
      "Epoch [89/1000]: 100%|██████████| 17/17 [00:00<00:00, 1119.39it/s, loss=25.3]\n"
     ]
    },
    {
     "name": "stdout",
     "output_type": "stream",
     "text": [
      "Epoch [89/1000]: Train loss: 23.8473, Valid loss: 25.6013\n"
     ]
    },
    {
     "name": "stderr",
     "output_type": "stream",
     "text": [
      "Epoch [90/1000]: 100%|██████████| 17/17 [00:00<00:00, 1110.00it/s, loss=20.4]\n"
     ]
    },
    {
     "name": "stdout",
     "output_type": "stream",
     "text": [
      "Epoch [90/1000]: Train loss: 23.6305, Valid loss: 25.0669\n",
      "Saving model with loss 25.067...\n"
     ]
    },
    {
     "name": "stderr",
     "output_type": "stream",
     "text": [
      "Epoch [91/1000]: 100%|██████████| 17/17 [00:00<00:00, 1128.20it/s, loss=23.5]\n"
     ]
    },
    {
     "name": "stdout",
     "output_type": "stream",
     "text": [
      "Epoch [91/1000]: Train loss: 23.4658, Valid loss: 24.4307\n",
      "Saving model with loss 24.431...\n"
     ]
    },
    {
     "name": "stderr",
     "output_type": "stream",
     "text": [
      "Epoch [92/1000]: 100%|██████████| 17/17 [00:00<00:00, 1051.65it/s, loss=21.3]\n"
     ]
    },
    {
     "name": "stdout",
     "output_type": "stream",
     "text": [
      "Epoch [92/1000]: Train loss: 23.2684, Valid loss: 24.8298\n"
     ]
    },
    {
     "name": "stderr",
     "output_type": "stream",
     "text": [
      "Epoch [93/1000]: 100%|██████████| 17/17 [00:00<00:00, 1085.20it/s, loss=21.6]\n"
     ]
    },
    {
     "name": "stdout",
     "output_type": "stream",
     "text": [
      "Epoch [93/1000]: Train loss: 23.1024, Valid loss: 25.1252\n"
     ]
    },
    {
     "name": "stderr",
     "output_type": "stream",
     "text": [
      "Epoch [94/1000]: 100%|██████████| 17/17 [00:00<00:00, 1183.85it/s, loss=20.2]\n"
     ]
    },
    {
     "name": "stdout",
     "output_type": "stream",
     "text": [
      "Epoch [94/1000]: Train loss: 22.8907, Valid loss: 25.0480\n"
     ]
    },
    {
     "name": "stderr",
     "output_type": "stream",
     "text": [
      "Epoch [95/1000]: 100%|██████████| 17/17 [00:00<00:00, 1043.65it/s, loss=20.6]\n"
     ]
    },
    {
     "name": "stdout",
     "output_type": "stream",
     "text": [
      "Epoch [95/1000]: Train loss: 22.7144, Valid loss: 23.9576\n",
      "Saving model with loss 23.958...\n"
     ]
    },
    {
     "name": "stderr",
     "output_type": "stream",
     "text": [
      "Epoch [96/1000]: 100%|██████████| 17/17 [00:00<00:00, 611.86it/s, loss=22.1]\n"
     ]
    },
    {
     "name": "stdout",
     "output_type": "stream",
     "text": [
      "Epoch [96/1000]: Train loss: 22.5574, Valid loss: 24.3990\n"
     ]
    },
    {
     "name": "stderr",
     "output_type": "stream",
     "text": [
      "Epoch [97/1000]: 100%|██████████| 17/17 [00:00<00:00, 1064.88it/s, loss=20.3]\n"
     ]
    },
    {
     "name": "stdout",
     "output_type": "stream",
     "text": [
      "Epoch [97/1000]: Train loss: 22.3411, Valid loss: 25.8637\n"
     ]
    },
    {
     "name": "stderr",
     "output_type": "stream",
     "text": [
      "Epoch [98/1000]: 100%|██████████| 17/17 [00:00<00:00, 1095.49it/s, loss=21.9]\n"
     ]
    },
    {
     "name": "stdout",
     "output_type": "stream",
     "text": [
      "Epoch [98/1000]: Train loss: 22.1684, Valid loss: 23.3419\n",
      "Saving model with loss 23.342...\n"
     ]
    },
    {
     "name": "stderr",
     "output_type": "stream",
     "text": [
      "Epoch [99/1000]: 100%|██████████| 17/17 [00:00<00:00, 1052.24it/s, loss=24.4]\n"
     ]
    },
    {
     "name": "stdout",
     "output_type": "stream",
     "text": [
      "Epoch [99/1000]: Train loss: 22.0118, Valid loss: 24.5023\n"
     ]
    },
    {
     "name": "stderr",
     "output_type": "stream",
     "text": [
      "Epoch [100/1000]: 100%|██████████| 17/17 [00:00<00:00, 1077.18it/s, loss=22.4]\n"
     ]
    },
    {
     "name": "stdout",
     "output_type": "stream",
     "text": [
      "Epoch [100/1000]: Train loss: 21.7994, Valid loss: 24.3410\n"
     ]
    },
    {
     "name": "stderr",
     "output_type": "stream",
     "text": [
      "Epoch [101/1000]: 100%|██████████| 17/17 [00:00<00:00, 1124.78it/s, loss=22]\n"
     ]
    },
    {
     "name": "stdout",
     "output_type": "stream",
     "text": [
      "Epoch [101/1000]: Train loss: 21.6328, Valid loss: 21.5170\n",
      "Saving model with loss 21.517...\n"
     ]
    },
    {
     "name": "stderr",
     "output_type": "stream",
     "text": [
      "Epoch [102/1000]: 100%|██████████| 17/17 [00:00<00:00, 1055.44it/s, loss=18.1]\n"
     ]
    },
    {
     "name": "stdout",
     "output_type": "stream",
     "text": [
      "Epoch [102/1000]: Train loss: 21.3977, Valid loss: 22.9928\n"
     ]
    },
    {
     "name": "stderr",
     "output_type": "stream",
     "text": [
      "Epoch [103/1000]: 100%|██████████| 17/17 [00:00<00:00, 1096.50it/s, loss=24.1]\n"
     ]
    },
    {
     "name": "stdout",
     "output_type": "stream",
     "text": [
      "Epoch [103/1000]: Train loss: 21.2556, Valid loss: 23.0784\n"
     ]
    },
    {
     "name": "stderr",
     "output_type": "stream",
     "text": [
      "Epoch [104/1000]: 100%|██████████| 17/17 [00:00<00:00, 1079.24it/s, loss=23.9]\n"
     ]
    },
    {
     "name": "stdout",
     "output_type": "stream",
     "text": [
      "Epoch [104/1000]: Train loss: 21.0611, Valid loss: 22.2082\n"
     ]
    },
    {
     "name": "stderr",
     "output_type": "stream",
     "text": [
      "Epoch [105/1000]: 100%|██████████| 17/17 [00:00<00:00, 1066.42it/s, loss=17.5]\n"
     ]
    },
    {
     "name": "stdout",
     "output_type": "stream",
     "text": [
      "Epoch [105/1000]: Train loss: 20.8339, Valid loss: 23.3632\n"
     ]
    },
    {
     "name": "stderr",
     "output_type": "stream",
     "text": [
      "Epoch [106/1000]: 100%|██████████| 17/17 [00:00<00:00, 907.68it/s, loss=21.3]\n"
     ]
    },
    {
     "name": "stdout",
     "output_type": "stream",
     "text": [
      "Epoch [106/1000]: Train loss: 20.6653, Valid loss: 22.1893\n"
     ]
    },
    {
     "name": "stderr",
     "output_type": "stream",
     "text": [
      "Epoch [107/1000]: 100%|██████████| 17/17 [00:00<00:00, 1059.12it/s, loss=22.7]\n"
     ]
    },
    {
     "name": "stdout",
     "output_type": "stream",
     "text": [
      "Epoch [107/1000]: Train loss: 20.4952, Valid loss: 22.2112\n"
     ]
    },
    {
     "name": "stderr",
     "output_type": "stream",
     "text": [
      "Epoch [108/1000]: 100%|██████████| 17/17 [00:00<00:00, 537.86it/s, loss=24]\n"
     ]
    },
    {
     "name": "stdout",
     "output_type": "stream",
     "text": [
      "Epoch [108/1000]: Train loss: 20.3119, Valid loss: 21.4194\n",
      "Saving model with loss 21.419...\n"
     ]
    },
    {
     "name": "stderr",
     "output_type": "stream",
     "text": [
      "Epoch [109/1000]: 100%|██████████| 17/17 [00:00<00:00, 977.24it/s, loss=21.7]\n"
     ]
    },
    {
     "name": "stdout",
     "output_type": "stream",
     "text": [
      "Epoch [109/1000]: Train loss: 20.1041, Valid loss: 22.5566\n"
     ]
    },
    {
     "name": "stderr",
     "output_type": "stream",
     "text": [
      "Epoch [110/1000]: 100%|██████████| 17/17 [00:00<00:00, 1076.16it/s, loss=20]\n"
     ]
    },
    {
     "name": "stdout",
     "output_type": "stream",
     "text": [
      "Epoch [110/1000]: Train loss: 19.9061, Valid loss: 21.6368\n"
     ]
    },
    {
     "name": "stderr",
     "output_type": "stream",
     "text": [
      "Epoch [111/1000]: 100%|██████████| 17/17 [00:00<00:00, 1108.14it/s, loss=21.7]\n"
     ]
    },
    {
     "name": "stdout",
     "output_type": "stream",
     "text": [
      "Epoch [111/1000]: Train loss: 19.7177, Valid loss: 21.7618\n"
     ]
    },
    {
     "name": "stderr",
     "output_type": "stream",
     "text": [
      "Epoch [112/1000]: 100%|██████████| 17/17 [00:00<00:00, 1058.33it/s, loss=22.8]\n"
     ]
    },
    {
     "name": "stdout",
     "output_type": "stream",
     "text": [
      "Epoch [112/1000]: Train loss: 19.5430, Valid loss: 21.4837\n"
     ]
    },
    {
     "name": "stderr",
     "output_type": "stream",
     "text": [
      "Epoch [113/1000]: 100%|██████████| 17/17 [00:00<00:00, 1118.73it/s, loss=15]\n"
     ]
    },
    {
     "name": "stdout",
     "output_type": "stream",
     "text": [
      "Epoch [113/1000]: Train loss: 19.2975, Valid loss: 21.1469\n",
      "Saving model with loss 21.147...\n"
     ]
    },
    {
     "name": "stderr",
     "output_type": "stream",
     "text": [
      "Epoch [114/1000]: 100%|██████████| 17/17 [00:00<00:00, 1061.72it/s, loss=18.1]\n"
     ]
    },
    {
     "name": "stdout",
     "output_type": "stream",
     "text": [
      "Epoch [114/1000]: Train loss: 19.1366, Valid loss: 22.7151\n"
     ]
    },
    {
     "name": "stderr",
     "output_type": "stream",
     "text": [
      "Epoch [115/1000]: 100%|██████████| 17/17 [00:00<00:00, 1080.45it/s, loss=22.5]\n"
     ]
    },
    {
     "name": "stdout",
     "output_type": "stream",
     "text": [
      "Epoch [115/1000]: Train loss: 18.9671, Valid loss: 21.9370\n"
     ]
    },
    {
     "name": "stderr",
     "output_type": "stream",
     "text": [
      "Epoch [116/1000]: 100%|██████████| 17/17 [00:00<00:00, 1155.34it/s, loss=14.8]\n"
     ]
    },
    {
     "name": "stdout",
     "output_type": "stream",
     "text": [
      "Epoch [116/1000]: Train loss: 18.7303, Valid loss: 19.5512\n",
      "Saving model with loss 19.551...\n"
     ]
    },
    {
     "name": "stderr",
     "output_type": "stream",
     "text": [
      "Epoch [117/1000]: 100%|██████████| 17/17 [00:00<00:00, 1041.41it/s, loss=18.5]\n"
     ]
    },
    {
     "name": "stdout",
     "output_type": "stream",
     "text": [
      "Epoch [117/1000]: Train loss: 18.5539, Valid loss: 18.8965\n",
      "Saving model with loss 18.897...\n"
     ]
    },
    {
     "name": "stderr",
     "output_type": "stream",
     "text": [
      "Epoch [118/1000]: 100%|██████████| 17/17 [00:00<00:00, 817.54it/s, loss=20.3]\n"
     ]
    },
    {
     "name": "stdout",
     "output_type": "stream",
     "text": [
      "Epoch [118/1000]: Train loss: 18.3931, Valid loss: 19.6717\n"
     ]
    },
    {
     "name": "stderr",
     "output_type": "stream",
     "text": [
      "Epoch [119/1000]: 100%|██████████| 17/17 [00:00<00:00, 937.16it/s, loss=18.6]\n"
     ]
    },
    {
     "name": "stdout",
     "output_type": "stream",
     "text": [
      "Epoch [119/1000]: Train loss: 18.1741, Valid loss: 19.4992\n"
     ]
    },
    {
     "name": "stderr",
     "output_type": "stream",
     "text": [
      "Epoch [120/1000]: 100%|██████████| 17/17 [00:00<00:00, 813.31it/s, loss=20.5]\n"
     ]
    },
    {
     "name": "stdout",
     "output_type": "stream",
     "text": [
      "Epoch [120/1000]: Train loss: 18.0016, Valid loss: 21.5449\n"
     ]
    },
    {
     "name": "stderr",
     "output_type": "stream",
     "text": [
      "Epoch [121/1000]: 100%|██████████| 17/17 [00:00<00:00, 1172.65it/s, loss=19.1]"
     ]
    },
    {
     "name": "stdout",
     "output_type": "stream",
     "text": [
      "Epoch [121/1000]: Train loss: 17.8028, Valid loss: 18.1610\n"
     ]
    },
    {
     "name": "stderr",
     "output_type": "stream",
     "text": [
      "\n"
     ]
    },
    {
     "name": "stdout",
     "output_type": "stream",
     "text": [
      "Saving model with loss 18.161...\n"
     ]
    },
    {
     "name": "stderr",
     "output_type": "stream",
     "text": [
      "Epoch [122/1000]: 100%|██████████| 17/17 [00:00<00:00, 1044.15it/s, loss=22.9]\n"
     ]
    },
    {
     "name": "stdout",
     "output_type": "stream",
     "text": [
      "Epoch [122/1000]: Train loss: 17.6354, Valid loss: 19.5937\n"
     ]
    },
    {
     "name": "stderr",
     "output_type": "stream",
     "text": [
      "Epoch [123/1000]: 100%|██████████| 17/17 [00:00<00:00, 1154.95it/s, loss=16.2]"
     ]
    },
    {
     "name": "stdout",
     "output_type": "stream",
     "text": [
      "Epoch [123/1000]: Train loss: 17.3962, Valid loss: 18.4167\n"
     ]
    },
    {
     "name": "stderr",
     "output_type": "stream",
     "text": [
      "\n",
      "Epoch [124/1000]: 100%|██████████| 17/17 [00:00<00:00, 1062.70it/s, loss=18.3]\n"
     ]
    },
    {
     "name": "stdout",
     "output_type": "stream",
     "text": [
      "Epoch [124/1000]: Train loss: 17.2271, Valid loss: 18.5558\n"
     ]
    },
    {
     "name": "stderr",
     "output_type": "stream",
     "text": [
      "Epoch [125/1000]: 100%|██████████| 17/17 [00:00<00:00, 1121.08it/s, loss=13.7]\n"
     ]
    },
    {
     "name": "stdout",
     "output_type": "stream",
     "text": [
      "Epoch [125/1000]: Train loss: 17.0028, Valid loss: 17.7969\n",
      "Saving model with loss 17.797...\n"
     ]
    },
    {
     "name": "stderr",
     "output_type": "stream",
     "text": [
      "Epoch [126/1000]: 100%|██████████| 17/17 [00:00<00:00, 1049.84it/s, loss=15.3]\n"
     ]
    },
    {
     "name": "stdout",
     "output_type": "stream",
     "text": [
      "Epoch [126/1000]: Train loss: 16.8261, Valid loss: 19.0887\n"
     ]
    },
    {
     "name": "stderr",
     "output_type": "stream",
     "text": [
      "Epoch [127/1000]: 100%|██████████| 17/17 [00:00<00:00, 1090.80it/s, loss=20.3]\n"
     ]
    },
    {
     "name": "stdout",
     "output_type": "stream",
     "text": [
      "Epoch [127/1000]: Train loss: 16.6744, Valid loss: 18.8697\n"
     ]
    },
    {
     "name": "stderr",
     "output_type": "stream",
     "text": [
      "Epoch [128/1000]: 100%|██████████| 17/17 [00:00<00:00, 1117.18it/s, loss=20.5]\n"
     ]
    },
    {
     "name": "stdout",
     "output_type": "stream",
     "text": [
      "Epoch [128/1000]: Train loss: 16.4939, Valid loss: 17.6802\n",
      "Saving model with loss 17.680...\n"
     ]
    },
    {
     "name": "stderr",
     "output_type": "stream",
     "text": [
      "Epoch [129/1000]: 100%|██████████| 17/17 [00:00<00:00, 1042.96it/s, loss=18]\n"
     ]
    },
    {
     "name": "stdout",
     "output_type": "stream",
     "text": [
      "Epoch [129/1000]: Train loss: 16.2764, Valid loss: 17.0547\n",
      "Saving model with loss 17.055...\n"
     ]
    },
    {
     "name": "stderr",
     "output_type": "stream",
     "text": [
      "Epoch [130/1000]: 100%|██████████| 17/17 [00:00<00:00, 568.72it/s, loss=13.8]\n"
     ]
    },
    {
     "name": "stdout",
     "output_type": "stream",
     "text": [
      "Epoch [130/1000]: Train loss: 16.0577, Valid loss: 17.3851\n"
     ]
    },
    {
     "name": "stderr",
     "output_type": "stream",
     "text": [
      "Epoch [131/1000]: 100%|██████████| 17/17 [00:00<00:00, 1069.17it/s, loss=17.3]\n"
     ]
    },
    {
     "name": "stdout",
     "output_type": "stream",
     "text": [
      "Epoch [131/1000]: Train loss: 15.8929, Valid loss: 17.4549\n"
     ]
    },
    {
     "name": "stderr",
     "output_type": "stream",
     "text": [
      "Epoch [132/1000]: 100%|██████████| 17/17 [00:00<00:00, 1110.45it/s, loss=16.3]\n"
     ]
    },
    {
     "name": "stdout",
     "output_type": "stream",
     "text": [
      "Epoch [132/1000]: Train loss: 15.7158, Valid loss: 15.6268\n",
      "Saving model with loss 15.627...\n"
     ]
    },
    {
     "name": "stderr",
     "output_type": "stream",
     "text": [
      "Epoch [133/1000]: 100%|██████████| 17/17 [00:00<00:00, 1136.67it/s, loss=16.6]\n"
     ]
    },
    {
     "name": "stdout",
     "output_type": "stream",
     "text": [
      "Epoch [133/1000]: Train loss: 15.5249, Valid loss: 16.4829\n"
     ]
    },
    {
     "name": "stderr",
     "output_type": "stream",
     "text": [
      "Epoch [134/1000]: 100%|██████████| 17/17 [00:00<00:00, 1073.78it/s, loss=15.5]\n"
     ]
    },
    {
     "name": "stdout",
     "output_type": "stream",
     "text": [
      "Epoch [134/1000]: Train loss: 15.3225, Valid loss: 18.4783\n"
     ]
    },
    {
     "name": "stderr",
     "output_type": "stream",
     "text": [
      "Epoch [135/1000]: 100%|██████████| 17/17 [00:00<00:00, 845.82it/s, loss=14.2]\n"
     ]
    },
    {
     "name": "stdout",
     "output_type": "stream",
     "text": [
      "Epoch [135/1000]: Train loss: 15.1376, Valid loss: 17.4971\n"
     ]
    },
    {
     "name": "stderr",
     "output_type": "stream",
     "text": [
      "Epoch [136/1000]: 100%|██████████| 17/17 [00:00<00:00, 1120.71it/s, loss=14.9]\n"
     ]
    },
    {
     "name": "stdout",
     "output_type": "stream",
     "text": [
      "Epoch [136/1000]: Train loss: 14.9549, Valid loss: 15.7072\n"
     ]
    },
    {
     "name": "stderr",
     "output_type": "stream",
     "text": [
      "Epoch [137/1000]: 100%|██████████| 17/17 [00:00<00:00, 1096.36it/s, loss=15.5]\n"
     ]
    },
    {
     "name": "stdout",
     "output_type": "stream",
     "text": [
      "Epoch [137/1000]: Train loss: 14.7833, Valid loss: 16.6738\n"
     ]
    },
    {
     "name": "stderr",
     "output_type": "stream",
     "text": [
      "Epoch [138/1000]: 100%|██████████| 17/17 [00:00<00:00, 1086.47it/s, loss=16.8]\n"
     ]
    },
    {
     "name": "stdout",
     "output_type": "stream",
     "text": [
      "Epoch [138/1000]: Train loss: 14.6016, Valid loss: 16.3102\n"
     ]
    },
    {
     "name": "stderr",
     "output_type": "stream",
     "text": [
      "Epoch [139/1000]: 100%|██████████| 17/17 [00:00<00:00, 1133.47it/s, loss=10]\n"
     ]
    },
    {
     "name": "stdout",
     "output_type": "stream",
     "text": [
      "Epoch [139/1000]: Train loss: 14.3695, Valid loss: 15.3004\n",
      "Saving model with loss 15.300...\n"
     ]
    },
    {
     "name": "stderr",
     "output_type": "stream",
     "text": [
      "Epoch [140/1000]: 100%|██████████| 17/17 [00:00<00:00, 1071.66it/s, loss=12.6]\n"
     ]
    },
    {
     "name": "stdout",
     "output_type": "stream",
     "text": [
      "Epoch [140/1000]: Train loss: 14.2052, Valid loss: 16.9581\n"
     ]
    },
    {
     "name": "stderr",
     "output_type": "stream",
     "text": [
      "Epoch [141/1000]: 100%|██████████| 17/17 [00:00<00:00, 673.85it/s, loss=18]\n"
     ]
    },
    {
     "name": "stdout",
     "output_type": "stream",
     "text": [
      "Epoch [141/1000]: Train loss: 14.0683, Valid loss: 14.3007\n",
      "Saving model with loss 14.301...\n"
     ]
    },
    {
     "name": "stderr",
     "output_type": "stream",
     "text": [
      "Epoch [142/1000]: 100%|██████████| 17/17 [00:00<00:00, 1072.63it/s, loss=11.8]\n"
     ]
    },
    {
     "name": "stdout",
     "output_type": "stream",
     "text": [
      "Epoch [142/1000]: Train loss: 13.8487, Valid loss: 14.5440\n"
     ]
    },
    {
     "name": "stderr",
     "output_type": "stream",
     "text": [
      "Epoch [143/1000]: 100%|██████████| 17/17 [00:00<00:00, 1104.40it/s, loss=17.4]\n"
     ]
    },
    {
     "name": "stdout",
     "output_type": "stream",
     "text": [
      "Epoch [143/1000]: Train loss: 13.7137, Valid loss: 15.0897\n"
     ]
    },
    {
     "name": "stderr",
     "output_type": "stream",
     "text": [
      "Epoch [144/1000]: 100%|██████████| 17/17 [00:00<00:00, 985.80it/s, loss=11.5]\n"
     ]
    },
    {
     "name": "stdout",
     "output_type": "stream",
     "text": [
      "Epoch [144/1000]: Train loss: 13.4852, Valid loss: 13.5966\n",
      "Saving model with loss 13.597...\n"
     ]
    },
    {
     "name": "stderr",
     "output_type": "stream",
     "text": [
      "Epoch [145/1000]: 100%|██████████| 17/17 [00:00<00:00, 1019.36it/s, loss=16.2]\n"
     ]
    },
    {
     "name": "stdout",
     "output_type": "stream",
     "text": [
      "Epoch [145/1000]: Train loss: 13.3457, Valid loss: 15.2291\n"
     ]
    },
    {
     "name": "stderr",
     "output_type": "stream",
     "text": [
      "Epoch [146/1000]: 100%|██████████| 17/17 [00:00<00:00, 1028.37it/s, loss=12.8]\n"
     ]
    },
    {
     "name": "stdout",
     "output_type": "stream",
     "text": [
      "Epoch [146/1000]: Train loss: 13.1482, Valid loss: 15.2164\n"
     ]
    },
    {
     "name": "stderr",
     "output_type": "stream",
     "text": [
      "Epoch [147/1000]: 100%|██████████| 17/17 [00:00<00:00, 1077.93it/s, loss=12.5]\n"
     ]
    },
    {
     "name": "stdout",
     "output_type": "stream",
     "text": [
      "Epoch [147/1000]: Train loss: 12.9717, Valid loss: 14.2602\n"
     ]
    },
    {
     "name": "stderr",
     "output_type": "stream",
     "text": [
      "Epoch [148/1000]: 100%|██████████| 17/17 [00:00<00:00, 1084.39it/s, loss=12.4]\n"
     ]
    },
    {
     "name": "stdout",
     "output_type": "stream",
     "text": [
      "Epoch [148/1000]: Train loss: 12.7972, Valid loss: 13.5158\n",
      "Saving model with loss 13.516...\n"
     ]
    },
    {
     "name": "stderr",
     "output_type": "stream",
     "text": [
      "Epoch [149/1000]: 100%|██████████| 17/17 [00:00<00:00, 999.88it/s, loss=11.8]\n"
     ]
    },
    {
     "name": "stdout",
     "output_type": "stream",
     "text": [
      "Epoch [149/1000]: Train loss: 12.6347, Valid loss: 13.2401\n",
      "Saving model with loss 13.240...\n"
     ]
    },
    {
     "name": "stderr",
     "output_type": "stream",
     "text": [
      "Epoch [150/1000]: 100%|██████████| 17/17 [00:00<00:00, 1060.63it/s, loss=12]\n"
     ]
    },
    {
     "name": "stdout",
     "output_type": "stream",
     "text": [
      "Epoch [150/1000]: Train loss: 12.4686, Valid loss: 12.2874\n",
      "Saving model with loss 12.287...\n"
     ]
    },
    {
     "name": "stderr",
     "output_type": "stream",
     "text": [
      "Epoch [151/1000]: 100%|██████████| 17/17 [00:00<00:00, 678.37it/s, loss=11.8]\n"
     ]
    },
    {
     "name": "stdout",
     "output_type": "stream",
     "text": [
      "Epoch [151/1000]: Train loss: 12.2932, Valid loss: 13.0291\n"
     ]
    },
    {
     "name": "stderr",
     "output_type": "stream",
     "text": [
      "Epoch [152/1000]: 100%|██████████| 17/17 [00:00<00:00, 870.94it/s, loss=13.4]\n"
     ]
    },
    {
     "name": "stdout",
     "output_type": "stream",
     "text": [
      "Epoch [152/1000]: Train loss: 12.1393, Valid loss: 12.9567\n"
     ]
    },
    {
     "name": "stderr",
     "output_type": "stream",
     "text": [
      "Epoch [153/1000]: 100%|██████████| 17/17 [00:00<00:00, 1084.46it/s, loss=13.5]\n"
     ]
    },
    {
     "name": "stdout",
     "output_type": "stream",
     "text": [
      "Epoch [153/1000]: Train loss: 11.9832, Valid loss: 12.3878\n"
     ]
    },
    {
     "name": "stderr",
     "output_type": "stream",
     "text": [
      "Epoch [154/1000]: 100%|██████████| 17/17 [00:00<00:00, 1129.79it/s, loss=13]\n"
     ]
    },
    {
     "name": "stdout",
     "output_type": "stream",
     "text": [
      "Epoch [154/1000]: Train loss: 11.8134, Valid loss: 12.2912\n"
     ]
    },
    {
     "name": "stderr",
     "output_type": "stream",
     "text": [
      "Epoch [155/1000]: 100%|██████████| 17/17 [00:00<00:00, 1083.22it/s, loss=12.4]\n"
     ]
    },
    {
     "name": "stdout",
     "output_type": "stream",
     "text": [
      "Epoch [155/1000]: Train loss: 11.6576, Valid loss: 12.7873\n"
     ]
    },
    {
     "name": "stderr",
     "output_type": "stream",
     "text": [
      "Epoch [156/1000]: 100%|██████████| 17/17 [00:00<00:00, 1162.56it/s, loss=13.1]\n"
     ]
    },
    {
     "name": "stdout",
     "output_type": "stream",
     "text": [
      "Epoch [156/1000]: Train loss: 11.5051, Valid loss: 12.1349\n",
      "Saving model with loss 12.135...\n"
     ]
    },
    {
     "name": "stderr",
     "output_type": "stream",
     "text": [
      "Epoch [157/1000]: 100%|██████████| 17/17 [00:00<00:00, 1078.54it/s, loss=13]\n"
     ]
    },
    {
     "name": "stdout",
     "output_type": "stream",
     "text": [
      "Epoch [157/1000]: Train loss: 11.3391, Valid loss: 12.2142\n"
     ]
    },
    {
     "name": "stderr",
     "output_type": "stream",
     "text": [
      "Epoch [158/1000]: 100%|██████████| 17/17 [00:00<00:00, 1089.00it/s, loss=13.1]\n"
     ]
    },
    {
     "name": "stdout",
     "output_type": "stream",
     "text": [
      "Epoch [158/1000]: Train loss: 11.2036, Valid loss: 12.7716\n"
     ]
    },
    {
     "name": "stderr",
     "output_type": "stream",
     "text": [
      "Epoch [159/1000]: 100%|██████████| 17/17 [00:00<00:00, 1094.95it/s, loss=10.5]\n"
     ]
    },
    {
     "name": "stdout",
     "output_type": "stream",
     "text": [
      "Epoch [159/1000]: Train loss: 11.0211, Valid loss: 13.2445\n"
     ]
    },
    {
     "name": "stderr",
     "output_type": "stream",
     "text": [
      "Epoch [160/1000]: 100%|██████████| 17/17 [00:00<00:00, 1037.09it/s, loss=10.7]\n"
     ]
    },
    {
     "name": "stdout",
     "output_type": "stream",
     "text": [
      "Epoch [160/1000]: Train loss: 10.8869, Valid loss: 11.4122\n",
      "Saving model with loss 11.412...\n"
     ]
    },
    {
     "name": "stderr",
     "output_type": "stream",
     "text": [
      "Epoch [161/1000]: 100%|██████████| 17/17 [00:00<00:00, 1075.61it/s, loss=7.6]\n"
     ]
    },
    {
     "name": "stdout",
     "output_type": "stream",
     "text": [
      "Epoch [161/1000]: Train loss: 10.7156, Valid loss: 11.5424\n"
     ]
    },
    {
     "name": "stderr",
     "output_type": "stream",
     "text": [
      "Epoch [162/1000]: 100%|██████████| 17/17 [00:00<00:00, 1070.81it/s, loss=9.41]\n"
     ]
    },
    {
     "name": "stdout",
     "output_type": "stream",
     "text": [
      "Epoch [162/1000]: Train loss: 10.5789, Valid loss: 11.1828\n",
      "Saving model with loss 11.183...\n"
     ]
    },
    {
     "name": "stderr",
     "output_type": "stream",
     "text": [
      "Epoch [163/1000]: 100%|██████████| 17/17 [00:00<00:00, 435.95it/s, loss=11.1]\n"
     ]
    },
    {
     "name": "stdout",
     "output_type": "stream",
     "text": [
      "Epoch [163/1000]: Train loss: 10.4399, Valid loss: 11.1550\n",
      "Saving model with loss 11.155...\n"
     ]
    },
    {
     "name": "stderr",
     "output_type": "stream",
     "text": [
      "Epoch [164/1000]: 100%|██████████| 17/17 [00:00<00:00, 1070.79it/s, loss=10.9]\n"
     ]
    },
    {
     "name": "stdout",
     "output_type": "stream",
     "text": [
      "Epoch [164/1000]: Train loss: 10.3014, Valid loss: 11.4546\n"
     ]
    },
    {
     "name": "stderr",
     "output_type": "stream",
     "text": [
      "Epoch [165/1000]: 100%|██████████| 17/17 [00:00<00:00, 1105.75it/s, loss=10.9]\n"
     ]
    },
    {
     "name": "stdout",
     "output_type": "stream",
     "text": [
      "Epoch [165/1000]: Train loss: 10.1634, Valid loss: 11.3145\n"
     ]
    },
    {
     "name": "stderr",
     "output_type": "stream",
     "text": [
      "Epoch [166/1000]: 100%|██████████| 17/17 [00:00<00:00, 1091.56it/s, loss=11.1]\n"
     ]
    },
    {
     "name": "stdout",
     "output_type": "stream",
     "text": [
      "Epoch [166/1000]: Train loss: 10.0275, Valid loss: 10.5268\n",
      "Saving model with loss 10.527...\n"
     ]
    },
    {
     "name": "stderr",
     "output_type": "stream",
     "text": [
      "Epoch [167/1000]: 100%|██████████| 17/17 [00:00<00:00, 1139.87it/s, loss=10.2]\n"
     ]
    },
    {
     "name": "stdout",
     "output_type": "stream",
     "text": [
      "Epoch [167/1000]: Train loss: 9.8853, Valid loss: 10.2513\n",
      "Saving model with loss 10.251...\n"
     ]
    },
    {
     "name": "stderr",
     "output_type": "stream",
     "text": [
      "Epoch [168/1000]: 100%|██████████| 17/17 [00:00<00:00, 1096.63it/s, loss=10.3]\n"
     ]
    },
    {
     "name": "stdout",
     "output_type": "stream",
     "text": [
      "Epoch [168/1000]: Train loss: 9.7574, Valid loss: 10.6225\n"
     ]
    },
    {
     "name": "stderr",
     "output_type": "stream",
     "text": [
      "Epoch [169/1000]: 100%|██████████| 17/17 [00:00<00:00, 1099.61it/s, loss=8.51]\n"
     ]
    },
    {
     "name": "stdout",
     "output_type": "stream",
     "text": [
      "Epoch [169/1000]: Train loss: 9.6104, Valid loss: 10.7355\n"
     ]
    },
    {
     "name": "stderr",
     "output_type": "stream",
     "text": [
      "Epoch [170/1000]: 100%|██████████| 17/17 [00:00<00:00, 1080.47it/s, loss=11]\n"
     ]
    },
    {
     "name": "stdout",
     "output_type": "stream",
     "text": [
      "Epoch [170/1000]: Train loss: 9.5045, Valid loss: 9.7613\n",
      "Saving model with loss 9.761...\n"
     ]
    },
    {
     "name": "stderr",
     "output_type": "stream",
     "text": [
      "Epoch [171/1000]: 100%|██████████| 17/17 [00:00<00:00, 1065.08it/s, loss=9.54]\n"
     ]
    },
    {
     "name": "stdout",
     "output_type": "stream",
     "text": [
      "Epoch [171/1000]: Train loss: 9.3650, Valid loss: 10.9901\n"
     ]
    },
    {
     "name": "stderr",
     "output_type": "stream",
     "text": [
      "Epoch [172/1000]: 100%|██████████| 17/17 [00:00<00:00, 1154.58it/s, loss=10]\n"
     ]
    },
    {
     "name": "stdout",
     "output_type": "stream",
     "text": [
      "Epoch [172/1000]: Train loss: 9.2476, Valid loss: 9.9977\n"
     ]
    },
    {
     "name": "stderr",
     "output_type": "stream",
     "text": [
      "Epoch [173/1000]: 100%|██████████| 17/17 [00:00<00:00, 667.98it/s, loss=10.9]\n"
     ]
    },
    {
     "name": "stdout",
     "output_type": "stream",
     "text": [
      "Epoch [173/1000]: Train loss: 9.1231, Valid loss: 9.5671\n",
      "Saving model with loss 9.567...\n"
     ]
    },
    {
     "name": "stderr",
     "output_type": "stream",
     "text": [
      "Epoch [174/1000]: 100%|██████████| 17/17 [00:00<00:00, 786.99it/s, loss=8.44]\n"
     ]
    },
    {
     "name": "stdout",
     "output_type": "stream",
     "text": [
      "Epoch [174/1000]: Train loss: 8.9858, Valid loss: 9.7243\n"
     ]
    },
    {
     "name": "stderr",
     "output_type": "stream",
     "text": [
      "Epoch [175/1000]: 100%|██████████| 17/17 [00:00<00:00, 1050.35it/s, loss=8.76]\n"
     ]
    },
    {
     "name": "stdout",
     "output_type": "stream",
     "text": [
      "Epoch [175/1000]: Train loss: 8.8716, Valid loss: 8.8002\n",
      "Saving model with loss 8.800...\n"
     ]
    },
    {
     "name": "stderr",
     "output_type": "stream",
     "text": [
      "Epoch [176/1000]: 100%|██████████| 17/17 [00:00<00:00, 1097.43it/s, loss=9.16]\n"
     ]
    },
    {
     "name": "stdout",
     "output_type": "stream",
     "text": [
      "Epoch [176/1000]: Train loss: 8.7478, Valid loss: 9.4288\n"
     ]
    },
    {
     "name": "stderr",
     "output_type": "stream",
     "text": [
      "Epoch [177/1000]: 100%|██████████| 17/17 [00:00<00:00, 1121.08it/s, loss=10.7]\n"
     ]
    },
    {
     "name": "stdout",
     "output_type": "stream",
     "text": [
      "Epoch [177/1000]: Train loss: 8.6515, Valid loss: 10.3692\n"
     ]
    },
    {
     "name": "stderr",
     "output_type": "stream",
     "text": [
      "Epoch [178/1000]: 100%|██████████| 17/17 [00:00<00:00, 1074.86it/s, loss=6.87]\n"
     ]
    },
    {
     "name": "stdout",
     "output_type": "stream",
     "text": [
      "Epoch [178/1000]: Train loss: 8.5044, Valid loss: 9.3351\n"
     ]
    },
    {
     "name": "stderr",
     "output_type": "stream",
     "text": [
      "Epoch [179/1000]: 100%|██████████| 17/17 [00:00<00:00, 1089.81it/s, loss=8.05]\n"
     ]
    },
    {
     "name": "stdout",
     "output_type": "stream",
     "text": [
      "Epoch [179/1000]: Train loss: 8.3985, Valid loss: 9.0690\n"
     ]
    },
    {
     "name": "stderr",
     "output_type": "stream",
     "text": [
      "Epoch [180/1000]: 100%|██████████| 17/17 [00:00<00:00, 1129.48it/s, loss=9.37]\n"
     ]
    },
    {
     "name": "stdout",
     "output_type": "stream",
     "text": [
      "Epoch [180/1000]: Train loss: 8.2918, Valid loss: 8.9942\n"
     ]
    },
    {
     "name": "stderr",
     "output_type": "stream",
     "text": [
      "Epoch [181/1000]: 100%|██████████| 17/17 [00:00<00:00, 1164.00it/s, loss=7.33]\n"
     ]
    },
    {
     "name": "stdout",
     "output_type": "stream",
     "text": [
      "Epoch [181/1000]: Train loss: 8.1666, Valid loss: 8.3259\n",
      "Saving model with loss 8.326...\n"
     ]
    },
    {
     "name": "stderr",
     "output_type": "stream",
     "text": [
      "Epoch [182/1000]: 100%|██████████| 17/17 [00:00<00:00, 1093.88it/s, loss=8.9]\n"
     ]
    },
    {
     "name": "stdout",
     "output_type": "stream",
     "text": [
      "Epoch [182/1000]: Train loss: 8.0615, Valid loss: 8.8985\n"
     ]
    },
    {
     "name": "stderr",
     "output_type": "stream",
     "text": [
      "Epoch [183/1000]: 100%|██████████| 17/17 [00:00<00:00, 1104.04it/s, loss=7.86]\n"
     ]
    },
    {
     "name": "stdout",
     "output_type": "stream",
     "text": [
      "Epoch [183/1000]: Train loss: 7.9360, Valid loss: 8.2126\n",
      "Saving model with loss 8.213...\n"
     ]
    },
    {
     "name": "stderr",
     "output_type": "stream",
     "text": [
      "Epoch [184/1000]: 100%|██████████| 17/17 [00:00<00:00, 741.64it/s, loss=8.06]\n"
     ]
    },
    {
     "name": "stdout",
     "output_type": "stream",
     "text": [
      "Epoch [184/1000]: Train loss: 7.7776, Valid loss: 7.7752\n",
      "Saving model with loss 7.775...\n"
     ]
    },
    {
     "name": "stderr",
     "output_type": "stream",
     "text": [
      "Epoch [185/1000]: 100%|██████████| 17/17 [00:00<00:00, 707.42it/s, loss=7.31]\n"
     ]
    },
    {
     "name": "stdout",
     "output_type": "stream",
     "text": [
      "Epoch [185/1000]: Train loss: 7.6011, Valid loss: 8.0815\n"
     ]
    },
    {
     "name": "stderr",
     "output_type": "stream",
     "text": [
      "Epoch [186/1000]: 100%|██████████| 17/17 [00:00<00:00, 1071.89it/s, loss=8.69]\n"
     ]
    },
    {
     "name": "stdout",
     "output_type": "stream",
     "text": [
      "Epoch [186/1000]: Train loss: 7.4735, Valid loss: 8.1255\n"
     ]
    },
    {
     "name": "stderr",
     "output_type": "stream",
     "text": [
      "Epoch [187/1000]: 100%|██████████| 17/17 [00:00<00:00, 1168.06it/s, loss=5.94]\n"
     ]
    },
    {
     "name": "stdout",
     "output_type": "stream",
     "text": [
      "Epoch [187/1000]: Train loss: 7.3486, Valid loss: 7.5887\n",
      "Saving model with loss 7.589...\n"
     ]
    },
    {
     "name": "stderr",
     "output_type": "stream",
     "text": [
      "Epoch [188/1000]: 100%|██████████| 17/17 [00:00<00:00, 1138.06it/s, loss=5.26]\n"
     ]
    },
    {
     "name": "stdout",
     "output_type": "stream",
     "text": [
      "Epoch [188/1000]: Train loss: 7.2494, Valid loss: 7.7848\n"
     ]
    },
    {
     "name": "stderr",
     "output_type": "stream",
     "text": [
      "Epoch [189/1000]: 100%|██████████| 17/17 [00:00<00:00, 1184.16it/s, loss=7.15]\n"
     ]
    },
    {
     "name": "stdout",
     "output_type": "stream",
     "text": [
      "Epoch [189/1000]: Train loss: 7.1774, Valid loss: 7.1984\n",
      "Saving model with loss 7.198...\n"
     ]
    },
    {
     "name": "stderr",
     "output_type": "stream",
     "text": [
      "Epoch [190/1000]: 100%|██████████| 17/17 [00:00<00:00, 1196.74it/s, loss=6.82]\n"
     ]
    },
    {
     "name": "stdout",
     "output_type": "stream",
     "text": [
      "Epoch [190/1000]: Train loss: 7.0893, Valid loss: 7.2119\n"
     ]
    },
    {
     "name": "stderr",
     "output_type": "stream",
     "text": [
      "Epoch [191/1000]: 100%|██████████| 17/17 [00:00<00:00, 1021.35it/s, loss=8.48]"
     ]
    },
    {
     "name": "stdout",
     "output_type": "stream",
     "text": [
      "Epoch [191/1000]: Train loss: 7.0218, Valid loss: 7.0625\n"
     ]
    },
    {
     "name": "stderr",
     "output_type": "stream",
     "text": [
      "\n"
     ]
    },
    {
     "name": "stdout",
     "output_type": "stream",
     "text": [
      "Saving model with loss 7.063...\n"
     ]
    },
    {
     "name": "stderr",
     "output_type": "stream",
     "text": [
      "Epoch [192/1000]: 100%|██████████| 17/17 [00:00<00:00, 1041.80it/s, loss=5.74]\n"
     ]
    },
    {
     "name": "stdout",
     "output_type": "stream",
     "text": [
      "Epoch [192/1000]: Train loss: 6.9250, Valid loss: 7.7726\n"
     ]
    },
    {
     "name": "stderr",
     "output_type": "stream",
     "text": [
      "Epoch [193/1000]: 100%|██████████| 17/17 [00:00<00:00, 1145.10it/s, loss=6.92]\n"
     ]
    },
    {
     "name": "stdout",
     "output_type": "stream",
     "text": [
      "Epoch [193/1000]: Train loss: 6.8605, Valid loss: 7.1288\n"
     ]
    },
    {
     "name": "stderr",
     "output_type": "stream",
     "text": [
      "Epoch [194/1000]: 100%|██████████| 17/17 [00:00<00:00, 563.38it/s, loss=7.2]\n"
     ]
    },
    {
     "name": "stdout",
     "output_type": "stream",
     "text": [
      "Epoch [194/1000]: Train loss: 6.7941, Valid loss: 7.7666\n"
     ]
    },
    {
     "name": "stderr",
     "output_type": "stream",
     "text": [
      "Epoch [195/1000]: 100%|██████████| 17/17 [00:00<00:00, 1140.34it/s, loss=7.97]\n"
     ]
    },
    {
     "name": "stdout",
     "output_type": "stream",
     "text": [
      "Epoch [195/1000]: Train loss: 6.7491, Valid loss: 6.6675\n",
      "Saving model with loss 6.667...\n"
     ]
    },
    {
     "name": "stderr",
     "output_type": "stream",
     "text": [
      "Epoch [196/1000]: 100%|██████████| 17/17 [00:00<00:00, 851.28it/s, loss=6.44]\n"
     ]
    },
    {
     "name": "stdout",
     "output_type": "stream",
     "text": [
      "Epoch [196/1000]: Train loss: 6.6610, Valid loss: 7.1477\n"
     ]
    },
    {
     "name": "stderr",
     "output_type": "stream",
     "text": [
      "Epoch [197/1000]: 100%|██████████| 17/17 [00:00<00:00, 1080.32it/s, loss=6.55]\n"
     ]
    },
    {
     "name": "stdout",
     "output_type": "stream",
     "text": [
      "Epoch [197/1000]: Train loss: 6.6017, Valid loss: 7.4426\n"
     ]
    },
    {
     "name": "stderr",
     "output_type": "stream",
     "text": [
      "Epoch [198/1000]: 100%|██████████| 17/17 [00:00<00:00, 1081.97it/s, loss=6.84]\n"
     ]
    },
    {
     "name": "stdout",
     "output_type": "stream",
     "text": [
      "Epoch [198/1000]: Train loss: 6.5484, Valid loss: 6.4497\n",
      "Saving model with loss 6.450...\n"
     ]
    },
    {
     "name": "stderr",
     "output_type": "stream",
     "text": [
      "Epoch [199/1000]: 100%|██████████| 17/17 [00:00<00:00, 1054.72it/s, loss=5.88]\n"
     ]
    },
    {
     "name": "stdout",
     "output_type": "stream",
     "text": [
      "Epoch [199/1000]: Train loss: 6.4906, Valid loss: 6.7412\n"
     ]
    },
    {
     "name": "stderr",
     "output_type": "stream",
     "text": [
      "Epoch [200/1000]: 100%|██████████| 17/17 [00:00<00:00, 1133.85it/s, loss=6.38]\n"
     ]
    },
    {
     "name": "stdout",
     "output_type": "stream",
     "text": [
      "Epoch [200/1000]: Train loss: 6.4373, Valid loss: 7.1474\n"
     ]
    },
    {
     "name": "stderr",
     "output_type": "stream",
     "text": [
      "Epoch [201/1000]: 100%|██████████| 17/17 [00:00<00:00, 1160.25it/s, loss=7.01]\n"
     ]
    },
    {
     "name": "stdout",
     "output_type": "stream",
     "text": [
      "Epoch [201/1000]: Train loss: 6.4058, Valid loss: 7.9678\n"
     ]
    },
    {
     "name": "stderr",
     "output_type": "stream",
     "text": [
      "Epoch [202/1000]: 100%|██████████| 17/17 [00:00<00:00, 1150.61it/s, loss=6.39]\n"
     ]
    },
    {
     "name": "stdout",
     "output_type": "stream",
     "text": [
      "Epoch [202/1000]: Train loss: 6.3435, Valid loss: 7.3239\n"
     ]
    },
    {
     "name": "stderr",
     "output_type": "stream",
     "text": [
      "Epoch [203/1000]: 100%|██████████| 17/17 [00:00<00:00, 1208.08it/s, loss=6.85]\n"
     ]
    },
    {
     "name": "stdout",
     "output_type": "stream",
     "text": [
      "Epoch [203/1000]: Train loss: 6.3063, Valid loss: 6.3630\n",
      "Saving model with loss 6.363...\n"
     ]
    },
    {
     "name": "stderr",
     "output_type": "stream",
     "text": [
      "Epoch [204/1000]: 100%|██████████| 17/17 [00:00<00:00, 1182.20it/s, loss=7.73]\n"
     ]
    },
    {
     "name": "stdout",
     "output_type": "stream",
     "text": [
      "Epoch [204/1000]: Train loss: 6.2741, Valid loss: 6.8144\n"
     ]
    },
    {
     "name": "stderr",
     "output_type": "stream",
     "text": [
      "Epoch [205/1000]: 100%|██████████| 17/17 [00:00<00:00, 741.36it/s, loss=6.43]\n"
     ]
    },
    {
     "name": "stdout",
     "output_type": "stream",
     "text": [
      "Epoch [205/1000]: Train loss: 6.2145, Valid loss: 6.6615\n"
     ]
    },
    {
     "name": "stderr",
     "output_type": "stream",
     "text": [
      "Epoch [206/1000]: 100%|██████████| 17/17 [00:00<00:00, 870.18it/s, loss=5.51]\n"
     ]
    },
    {
     "name": "stdout",
     "output_type": "stream",
     "text": [
      "Epoch [206/1000]: Train loss: 6.1801, Valid loss: 6.0532\n",
      "Saving model with loss 6.053...\n"
     ]
    },
    {
     "name": "stderr",
     "output_type": "stream",
     "text": [
      "Epoch [207/1000]: 100%|██████████| 17/17 [00:00<00:00, 1055.64it/s, loss=5.04]\n"
     ]
    },
    {
     "name": "stdout",
     "output_type": "stream",
     "text": [
      "Epoch [207/1000]: Train loss: 6.1391, Valid loss: 6.5925\n"
     ]
    },
    {
     "name": "stderr",
     "output_type": "stream",
     "text": [
      "Epoch [208/1000]: 100%|██████████| 17/17 [00:00<00:00, 882.93it/s, loss=3.88]\n"
     ]
    },
    {
     "name": "stdout",
     "output_type": "stream",
     "text": [
      "Epoch [208/1000]: Train loss: 6.0867, Valid loss: 6.0370\n",
      "Saving model with loss 6.037...\n"
     ]
    },
    {
     "name": "stderr",
     "output_type": "stream",
     "text": [
      "Epoch [209/1000]: 100%|██████████| 17/17 [00:00<00:00, 1092.70it/s, loss=6.04]\n"
     ]
    },
    {
     "name": "stdout",
     "output_type": "stream",
     "text": [
      "Epoch [209/1000]: Train loss: 6.0717, Valid loss: 6.3270\n"
     ]
    },
    {
     "name": "stderr",
     "output_type": "stream",
     "text": [
      "Epoch [210/1000]: 100%|██████████| 17/17 [00:00<00:00, 1164.61it/s, loss=4.75]\n"
     ]
    },
    {
     "name": "stdout",
     "output_type": "stream",
     "text": [
      "Epoch [210/1000]: Train loss: 6.0297, Valid loss: 6.8780\n"
     ]
    },
    {
     "name": "stderr",
     "output_type": "stream",
     "text": [
      "Epoch [211/1000]: 100%|██████████| 17/17 [00:00<00:00, 1164.61it/s, loss=5.35]\n"
     ]
    },
    {
     "name": "stdout",
     "output_type": "stream",
     "text": [
      "Epoch [211/1000]: Train loss: 6.0007, Valid loss: 6.2190\n"
     ]
    },
    {
     "name": "stderr",
     "output_type": "stream",
     "text": [
      "Epoch [212/1000]: 100%|██████████| 17/17 [00:00<00:00, 1103.83it/s, loss=4.57]\n"
     ]
    },
    {
     "name": "stdout",
     "output_type": "stream",
     "text": [
      "Epoch [212/1000]: Train loss: 5.9603, Valid loss: 6.4528\n"
     ]
    },
    {
     "name": "stderr",
     "output_type": "stream",
     "text": [
      "Epoch [213/1000]: 100%|██████████| 17/17 [00:00<00:00, 1217.15it/s, loss=6.38]\n"
     ]
    },
    {
     "name": "stdout",
     "output_type": "stream",
     "text": [
      "Epoch [213/1000]: Train loss: 5.9541, Valid loss: 6.1665\n"
     ]
    },
    {
     "name": "stderr",
     "output_type": "stream",
     "text": [
      "Epoch [214/1000]: 100%|██████████| 17/17 [00:00<00:00, 1097.11it/s, loss=6.34]\n"
     ]
    },
    {
     "name": "stdout",
     "output_type": "stream",
     "text": [
      "Epoch [214/1000]: Train loss: 5.9183, Valid loss: 5.8551\n",
      "Saving model with loss 5.855...\n"
     ]
    },
    {
     "name": "stderr",
     "output_type": "stream",
     "text": [
      "Epoch [215/1000]: 100%|██████████| 17/17 [00:00<00:00, 758.49it/s, loss=5.71]\n"
     ]
    },
    {
     "name": "stdout",
     "output_type": "stream",
     "text": [
      "Epoch [215/1000]: Train loss: 5.8914, Valid loss: 6.2234\n"
     ]
    },
    {
     "name": "stderr",
     "output_type": "stream",
     "text": [
      "Epoch [216/1000]: 100%|██████████| 17/17 [00:00<00:00, 883.02it/s, loss=5.54]\n"
     ]
    },
    {
     "name": "stdout",
     "output_type": "stream",
     "text": [
      "Epoch [216/1000]: Train loss: 5.8632, Valid loss: 5.5868\n",
      "Saving model with loss 5.587...\n"
     ]
    },
    {
     "name": "stderr",
     "output_type": "stream",
     "text": [
      "Epoch [217/1000]: 100%|██████████| 17/17 [00:00<00:00, 1082.12it/s, loss=7.07]\n"
     ]
    },
    {
     "name": "stdout",
     "output_type": "stream",
     "text": [
      "Epoch [217/1000]: Train loss: 5.8515, Valid loss: 6.2136\n"
     ]
    },
    {
     "name": "stderr",
     "output_type": "stream",
     "text": [
      "Epoch [218/1000]: 100%|██████████| 17/17 [00:00<00:00, 1077.74it/s, loss=5.92]\n"
     ]
    },
    {
     "name": "stdout",
     "output_type": "stream",
     "text": [
      "Epoch [218/1000]: Train loss: 5.8192, Valid loss: 5.9480\n"
     ]
    },
    {
     "name": "stderr",
     "output_type": "stream",
     "text": [
      "Epoch [219/1000]: 100%|██████████| 17/17 [00:00<00:00, 1203.23it/s, loss=5.72]\n"
     ]
    },
    {
     "name": "stdout",
     "output_type": "stream",
     "text": [
      "Epoch [219/1000]: Train loss: 5.8045, Valid loss: 6.0210\n"
     ]
    },
    {
     "name": "stderr",
     "output_type": "stream",
     "text": [
      "Epoch [220/1000]: 100%|██████████| 17/17 [00:00<00:00, 811.19it/s, loss=5.94]\n"
     ]
    },
    {
     "name": "stdout",
     "output_type": "stream",
     "text": [
      "Epoch [220/1000]: Train loss: 5.7835, Valid loss: 5.5634\n",
      "Saving model with loss 5.563...\n"
     ]
    },
    {
     "name": "stderr",
     "output_type": "stream",
     "text": [
      "Epoch [221/1000]: 100%|██████████| 17/17 [00:00<00:00, 1133.36it/s, loss=5.92]\n"
     ]
    },
    {
     "name": "stdout",
     "output_type": "stream",
     "text": [
      "Epoch [221/1000]: Train loss: 5.7606, Valid loss: 5.7898\n"
     ]
    },
    {
     "name": "stderr",
     "output_type": "stream",
     "text": [
      "Epoch [222/1000]: 100%|██████████| 17/17 [00:00<00:00, 1098.04it/s, loss=6.47]\n"
     ]
    },
    {
     "name": "stdout",
     "output_type": "stream",
     "text": [
      "Epoch [222/1000]: Train loss: 5.7417, Valid loss: 5.6058\n"
     ]
    },
    {
     "name": "stderr",
     "output_type": "stream",
     "text": [
      "Epoch [223/1000]: 100%|██████████| 17/17 [00:00<00:00, 1202.33it/s, loss=4.52]\n"
     ]
    },
    {
     "name": "stdout",
     "output_type": "stream",
     "text": [
      "Epoch [223/1000]: Train loss: 5.7100, Valid loss: 6.5210\n"
     ]
    },
    {
     "name": "stderr",
     "output_type": "stream",
     "text": [
      "Epoch [224/1000]: 100%|██████████| 17/17 [00:00<00:00, 1059.12it/s, loss=5.94]\n"
     ]
    },
    {
     "name": "stdout",
     "output_type": "stream",
     "text": [
      "Epoch [224/1000]: Train loss: 5.7058, Valid loss: 6.1265\n"
     ]
    },
    {
     "name": "stderr",
     "output_type": "stream",
     "text": [
      "Epoch [225/1000]: 100%|██████████| 17/17 [00:00<00:00, 1083.85it/s, loss=5.2]\n"
     ]
    },
    {
     "name": "stdout",
     "output_type": "stream",
     "text": [
      "Epoch [225/1000]: Train loss: 5.6916, Valid loss: 6.2447\n"
     ]
    },
    {
     "name": "stderr",
     "output_type": "stream",
     "text": [
      "Epoch [226/1000]: 100%|██████████| 17/17 [00:00<00:00, 786.13it/s, loss=3.99]\n"
     ]
    },
    {
     "name": "stdout",
     "output_type": "stream",
     "text": [
      "Epoch [226/1000]: Train loss: 5.6711, Valid loss: 6.0523\n"
     ]
    },
    {
     "name": "stderr",
     "output_type": "stream",
     "text": [
      "Epoch [227/1000]: 100%|██████████| 17/17 [00:00<00:00, 812.42it/s, loss=6.78]\n"
     ]
    },
    {
     "name": "stdout",
     "output_type": "stream",
     "text": [
      "Epoch [227/1000]: Train loss: 5.6675, Valid loss: 5.9218\n"
     ]
    },
    {
     "name": "stderr",
     "output_type": "stream",
     "text": [
      "Epoch [228/1000]: 100%|██████████| 17/17 [00:00<00:00, 856.68it/s, loss=6.59]\n"
     ]
    },
    {
     "name": "stdout",
     "output_type": "stream",
     "text": [
      "Epoch [228/1000]: Train loss: 5.6538, Valid loss: 6.3690\n"
     ]
    },
    {
     "name": "stderr",
     "output_type": "stream",
     "text": [
      "Epoch [229/1000]: 100%|██████████| 17/17 [00:00<00:00, 1120.56it/s, loss=5.69]\n"
     ]
    },
    {
     "name": "stdout",
     "output_type": "stream",
     "text": [
      "Epoch [229/1000]: Train loss: 5.6312, Valid loss: 5.4192\n",
      "Saving model with loss 5.419...\n"
     ]
    },
    {
     "name": "stderr",
     "output_type": "stream",
     "text": [
      "Epoch [230/1000]: 100%|██████████| 17/17 [00:00<00:00, 1037.41it/s, loss=6.68]\n"
     ]
    },
    {
     "name": "stdout",
     "output_type": "stream",
     "text": [
      "Epoch [230/1000]: Train loss: 5.6144, Valid loss: 5.4420\n"
     ]
    },
    {
     "name": "stderr",
     "output_type": "stream",
     "text": [
      "Epoch [231/1000]: 100%|██████████| 17/17 [00:00<00:00, 1063.42it/s, loss=7.29]\n"
     ]
    },
    {
     "name": "stdout",
     "output_type": "stream",
     "text": [
      "Epoch [231/1000]: Train loss: 5.6138, Valid loss: 5.8382\n"
     ]
    },
    {
     "name": "stderr",
     "output_type": "stream",
     "text": [
      "Epoch [232/1000]: 100%|██████████| 17/17 [00:00<00:00, 957.37it/s, loss=5.15]\n"
     ]
    },
    {
     "name": "stdout",
     "output_type": "stream",
     "text": [
      "Epoch [232/1000]: Train loss: 5.5805, Valid loss: 5.3088\n",
      "Saving model with loss 5.309...\n"
     ]
    },
    {
     "name": "stderr",
     "output_type": "stream",
     "text": [
      "Epoch [233/1000]: 100%|██████████| 17/17 [00:00<00:00, 1032.74it/s, loss=6.11]\n"
     ]
    },
    {
     "name": "stdout",
     "output_type": "stream",
     "text": [
      "Epoch [233/1000]: Train loss: 5.5775, Valid loss: 5.8305\n"
     ]
    },
    {
     "name": "stderr",
     "output_type": "stream",
     "text": [
      "Epoch [234/1000]: 100%|██████████| 17/17 [00:00<00:00, 1004.61it/s, loss=6.57]\n"
     ]
    },
    {
     "name": "stdout",
     "output_type": "stream",
     "text": [
      "Epoch [234/1000]: Train loss: 5.5690, Valid loss: 5.4622\n"
     ]
    },
    {
     "name": "stderr",
     "output_type": "stream",
     "text": [
      "Epoch [235/1000]: 100%|██████████| 17/17 [00:00<00:00, 1049.38it/s, loss=5.62]\n"
     ]
    },
    {
     "name": "stdout",
     "output_type": "stream",
     "text": [
      "Epoch [235/1000]: Train loss: 5.5546, Valid loss: 6.0063\n"
     ]
    },
    {
     "name": "stderr",
     "output_type": "stream",
     "text": [
      "Epoch [236/1000]: 100%|██████████| 17/17 [00:00<00:00, 924.20it/s, loss=6.79]\n"
     ]
    },
    {
     "name": "stdout",
     "output_type": "stream",
     "text": [
      "Epoch [236/1000]: Train loss: 5.5488, Valid loss: 5.8468\n"
     ]
    },
    {
     "name": "stderr",
     "output_type": "stream",
     "text": [
      "Epoch [237/1000]: 100%|██████████| 17/17 [00:00<00:00, 598.93it/s, loss=5.86]\n"
     ]
    },
    {
     "name": "stdout",
     "output_type": "stream",
     "text": [
      "Epoch [237/1000]: Train loss: 5.5309, Valid loss: 5.5797\n"
     ]
    },
    {
     "name": "stderr",
     "output_type": "stream",
     "text": [
      "Epoch [238/1000]: 100%|██████████| 17/17 [00:00<00:00, 1085.09it/s, loss=4.58]\n"
     ]
    },
    {
     "name": "stdout",
     "output_type": "stream",
     "text": [
      "Epoch [238/1000]: Train loss: 5.5187, Valid loss: 5.9936\n"
     ]
    },
    {
     "name": "stderr",
     "output_type": "stream",
     "text": [
      "Epoch [239/1000]: 100%|██████████| 17/17 [00:00<00:00, 1116.57it/s, loss=5.94]\n"
     ]
    },
    {
     "name": "stdout",
     "output_type": "stream",
     "text": [
      "Epoch [239/1000]: Train loss: 5.5118, Valid loss: 6.3792\n"
     ]
    },
    {
     "name": "stderr",
     "output_type": "stream",
     "text": [
      "Epoch [240/1000]: 100%|██████████| 17/17 [00:00<00:00, 1138.59it/s, loss=4.67]\n"
     ]
    },
    {
     "name": "stdout",
     "output_type": "stream",
     "text": [
      "Epoch [240/1000]: Train loss: 5.4845, Valid loss: 5.5589\n"
     ]
    },
    {
     "name": "stderr",
     "output_type": "stream",
     "text": [
      "Epoch [241/1000]: 100%|██████████| 17/17 [00:00<00:00, 520.15it/s, loss=3.41]\n"
     ]
    },
    {
     "name": "stdout",
     "output_type": "stream",
     "text": [
      "Epoch [241/1000]: Train loss: 5.4668, Valid loss: 5.3528\n"
     ]
    },
    {
     "name": "stderr",
     "output_type": "stream",
     "text": [
      "Epoch [242/1000]: 100%|██████████| 17/17 [00:00<00:00, 579.31it/s, loss=4.54]\n"
     ]
    },
    {
     "name": "stdout",
     "output_type": "stream",
     "text": [
      "Epoch [242/1000]: Train loss: 5.4658, Valid loss: 5.0995\n",
      "Saving model with loss 5.099...\n"
     ]
    },
    {
     "name": "stderr",
     "output_type": "stream",
     "text": [
      "Epoch [243/1000]: 100%|██████████| 17/17 [00:00<00:00, 1005.45it/s, loss=4.97]\n"
     ]
    },
    {
     "name": "stdout",
     "output_type": "stream",
     "text": [
      "Epoch [243/1000]: Train loss: 5.4634, Valid loss: 5.3248\n"
     ]
    },
    {
     "name": "stderr",
     "output_type": "stream",
     "text": [
      "Epoch [244/1000]: 100%|██████████| 17/17 [00:00<00:00, 920.52it/s, loss=5.07]\n"
     ]
    },
    {
     "name": "stdout",
     "output_type": "stream",
     "text": [
      "Epoch [244/1000]: Train loss: 5.4630, Valid loss: 6.1024\n"
     ]
    },
    {
     "name": "stderr",
     "output_type": "stream",
     "text": [
      "Epoch [245/1000]: 100%|██████████| 17/17 [00:00<00:00, 584.77it/s, loss=6.01]\n"
     ]
    },
    {
     "name": "stdout",
     "output_type": "stream",
     "text": [
      "Epoch [245/1000]: Train loss: 5.4538, Valid loss: 5.2768\n"
     ]
    },
    {
     "name": "stderr",
     "output_type": "stream",
     "text": [
      "Epoch [246/1000]: 100%|██████████| 17/17 [00:00<00:00, 1009.57it/s, loss=6.29]\n"
     ]
    },
    {
     "name": "stdout",
     "output_type": "stream",
     "text": [
      "Epoch [246/1000]: Train loss: 5.4418, Valid loss: 5.2488\n"
     ]
    },
    {
     "name": "stderr",
     "output_type": "stream",
     "text": [
      "Epoch [247/1000]: 100%|██████████| 17/17 [00:00<00:00, 1063.89it/s, loss=5.12]\n"
     ]
    },
    {
     "name": "stdout",
     "output_type": "stream",
     "text": [
      "Epoch [247/1000]: Train loss: 5.4232, Valid loss: 5.2835\n"
     ]
    },
    {
     "name": "stderr",
     "output_type": "stream",
     "text": [
      "Epoch [248/1000]: 100%|██████████| 17/17 [00:00<00:00, 1024.84it/s, loss=5.42]\n"
     ]
    },
    {
     "name": "stdout",
     "output_type": "stream",
     "text": [
      "Epoch [248/1000]: Train loss: 5.4187, Valid loss: 5.6258\n"
     ]
    },
    {
     "name": "stderr",
     "output_type": "stream",
     "text": [
      "Epoch [249/1000]: 100%|██████████| 17/17 [00:00<00:00, 1055.06it/s, loss=5.64]\n"
     ]
    },
    {
     "name": "stdout",
     "output_type": "stream",
     "text": [
      "Epoch [249/1000]: Train loss: 5.4228, Valid loss: 5.5160\n"
     ]
    },
    {
     "name": "stderr",
     "output_type": "stream",
     "text": [
      "Epoch [250/1000]: 100%|██████████| 17/17 [00:00<00:00, 1116.22it/s, loss=5.24]\n"
     ]
    },
    {
     "name": "stdout",
     "output_type": "stream",
     "text": [
      "Epoch [250/1000]: Train loss: 5.4046, Valid loss: 5.2028\n"
     ]
    },
    {
     "name": "stderr",
     "output_type": "stream",
     "text": [
      "Epoch [251/1000]: 100%|██████████| 17/17 [00:00<00:00, 1184.77it/s, loss=6.08]\n"
     ]
    },
    {
     "name": "stdout",
     "output_type": "stream",
     "text": [
      "Epoch [251/1000]: Train loss: 5.4027, Valid loss: 5.2762\n"
     ]
    },
    {
     "name": "stderr",
     "output_type": "stream",
     "text": [
      "Epoch [252/1000]: 100%|██████████| 17/17 [00:00<00:00, 1192.90it/s, loss=3.91]\n"
     ]
    },
    {
     "name": "stdout",
     "output_type": "stream",
     "text": [
      "Epoch [252/1000]: Train loss: 5.3814, Valid loss: 5.0614\n",
      "Saving model with loss 5.061...\n"
     ]
    },
    {
     "name": "stderr",
     "output_type": "stream",
     "text": [
      "Epoch [253/1000]: 100%|██████████| 17/17 [00:00<00:00, 1249.62it/s, loss=4.68]\n"
     ]
    },
    {
     "name": "stdout",
     "output_type": "stream",
     "text": [
      "Epoch [253/1000]: Train loss: 5.3768, Valid loss: 5.6832\n"
     ]
    },
    {
     "name": "stderr",
     "output_type": "stream",
     "text": [
      "Epoch [254/1000]: 100%|██████████| 17/17 [00:00<00:00, 1190.81it/s, loss=4.09]\n"
     ]
    },
    {
     "name": "stdout",
     "output_type": "stream",
     "text": [
      "Epoch [254/1000]: Train loss: 5.3671, Valid loss: 5.2763\n"
     ]
    },
    {
     "name": "stderr",
     "output_type": "stream",
     "text": [
      "Epoch [255/1000]: 100%|██████████| 17/17 [00:00<00:00, 1218.30it/s, loss=5.75]\n"
     ]
    },
    {
     "name": "stdout",
     "output_type": "stream",
     "text": [
      "Epoch [255/1000]: Train loss: 5.3683, Valid loss: 5.7075\n"
     ]
    },
    {
     "name": "stderr",
     "output_type": "stream",
     "text": [
      "Epoch [256/1000]: 100%|██████████| 17/17 [00:00<00:00, 1183.59it/s, loss=5.75]\n"
     ]
    },
    {
     "name": "stdout",
     "output_type": "stream",
     "text": [
      "Epoch [256/1000]: Train loss: 5.3646, Valid loss: 5.4181\n"
     ]
    },
    {
     "name": "stderr",
     "output_type": "stream",
     "text": [
      "Epoch [257/1000]: 100%|██████████| 17/17 [00:00<00:00, 1233.41it/s, loss=6.96]\n"
     ]
    },
    {
     "name": "stdout",
     "output_type": "stream",
     "text": [
      "Epoch [257/1000]: Train loss: 5.3581, Valid loss: 5.3092\n"
     ]
    },
    {
     "name": "stderr",
     "output_type": "stream",
     "text": [
      "Epoch [258/1000]: 100%|██████████| 17/17 [00:00<00:00, 1202.78it/s, loss=4.26]\n"
     ]
    },
    {
     "name": "stdout",
     "output_type": "stream",
     "text": [
      "Epoch [258/1000]: Train loss: 5.3343, Valid loss: 5.6301\n"
     ]
    },
    {
     "name": "stderr",
     "output_type": "stream",
     "text": [
      "Epoch [259/1000]: 100%|██████████| 17/17 [00:00<00:00, 1207.71it/s, loss=5.19]\n"
     ]
    },
    {
     "name": "stdout",
     "output_type": "stream",
     "text": [
      "Epoch [259/1000]: Train loss: 5.3304, Valid loss: 5.2421\n"
     ]
    },
    {
     "name": "stderr",
     "output_type": "stream",
     "text": [
      "Epoch [260/1000]: 100%|██████████| 17/17 [00:00<00:00, 1205.75it/s, loss=5.6]\n"
     ]
    },
    {
     "name": "stdout",
     "output_type": "stream",
     "text": [
      "Epoch [260/1000]: Train loss: 5.3317, Valid loss: 5.1771\n"
     ]
    },
    {
     "name": "stderr",
     "output_type": "stream",
     "text": [
      "Epoch [261/1000]: 100%|██████████| 17/17 [00:00<00:00, 722.00it/s, loss=4.49]\n"
     ]
    },
    {
     "name": "stdout",
     "output_type": "stream",
     "text": [
      "Epoch [261/1000]: Train loss: 5.3130, Valid loss: 5.2097\n"
     ]
    },
    {
     "name": "stderr",
     "output_type": "stream",
     "text": [
      "Epoch [262/1000]: 100%|██████████| 17/17 [00:00<00:00, 974.59it/s, loss=6.78]\n"
     ]
    },
    {
     "name": "stdout",
     "output_type": "stream",
     "text": [
      "Epoch [262/1000]: Train loss: 5.3199, Valid loss: 5.0050\n",
      "Saving model with loss 5.005...\n"
     ]
    },
    {
     "name": "stderr",
     "output_type": "stream",
     "text": [
      "Epoch [263/1000]: 100%|██████████| 17/17 [00:00<00:00, 1186.05it/s, loss=5.8]\n"
     ]
    },
    {
     "name": "stdout",
     "output_type": "stream",
     "text": [
      "Epoch [263/1000]: Train loss: 5.3040, Valid loss: 4.9535\n",
      "Saving model with loss 4.953...\n"
     ]
    },
    {
     "name": "stderr",
     "output_type": "stream",
     "text": [
      "Epoch [264/1000]: 100%|██████████| 17/17 [00:00<00:00, 1231.98it/s, loss=6.01]\n"
     ]
    },
    {
     "name": "stdout",
     "output_type": "stream",
     "text": [
      "Epoch [264/1000]: Train loss: 5.3005, Valid loss: 5.2317\n"
     ]
    },
    {
     "name": "stderr",
     "output_type": "stream",
     "text": [
      "Epoch [265/1000]: 100%|██████████| 17/17 [00:00<00:00, 1228.50it/s, loss=5.37]\n"
     ]
    },
    {
     "name": "stdout",
     "output_type": "stream",
     "text": [
      "Epoch [265/1000]: Train loss: 5.3012, Valid loss: 5.4880\n"
     ]
    },
    {
     "name": "stderr",
     "output_type": "stream",
     "text": [
      "Epoch [266/1000]: 100%|██████████| 17/17 [00:00<00:00, 1208.77it/s, loss=7.25]\n"
     ]
    },
    {
     "name": "stdout",
     "output_type": "stream",
     "text": [
      "Epoch [266/1000]: Train loss: 5.2971, Valid loss: 4.9266\n",
      "Saving model with loss 4.927...\n"
     ]
    },
    {
     "name": "stderr",
     "output_type": "stream",
     "text": [
      "Epoch [267/1000]: 100%|██████████| 17/17 [00:00<00:00, 1182.10it/s, loss=5.33]\n"
     ]
    },
    {
     "name": "stdout",
     "output_type": "stream",
     "text": [
      "Epoch [267/1000]: Train loss: 5.2853, Valid loss: 5.4219\n"
     ]
    },
    {
     "name": "stderr",
     "output_type": "stream",
     "text": [
      "Epoch [268/1000]: 100%|██████████| 17/17 [00:00<00:00, 1246.95it/s, loss=4.84]\n"
     ]
    },
    {
     "name": "stdout",
     "output_type": "stream",
     "text": [
      "Epoch [268/1000]: Train loss: 5.2775, Valid loss: 5.1062\n"
     ]
    },
    {
     "name": "stderr",
     "output_type": "stream",
     "text": [
      "Epoch [269/1000]: 100%|██████████| 17/17 [00:00<00:00, 1255.16it/s, loss=4.89]\n"
     ]
    },
    {
     "name": "stdout",
     "output_type": "stream",
     "text": [
      "Epoch [269/1000]: Train loss: 5.2567, Valid loss: 5.4983\n"
     ]
    },
    {
     "name": "stderr",
     "output_type": "stream",
     "text": [
      "Epoch [270/1000]: 100%|██████████| 17/17 [00:00<00:00, 1185.84it/s, loss=6.36]\n"
     ]
    },
    {
     "name": "stdout",
     "output_type": "stream",
     "text": [
      "Epoch [270/1000]: Train loss: 5.2597, Valid loss: 5.0888\n"
     ]
    },
    {
     "name": "stderr",
     "output_type": "stream",
     "text": [
      "Epoch [271/1000]: 100%|██████████| 17/17 [00:00<00:00, 1195.76it/s, loss=5.4]\n"
     ]
    },
    {
     "name": "stdout",
     "output_type": "stream",
     "text": [
      "Epoch [271/1000]: Train loss: 5.2555, Valid loss: 5.0088\n"
     ]
    },
    {
     "name": "stderr",
     "output_type": "stream",
     "text": [
      "Epoch [272/1000]: 100%|██████████| 17/17 [00:00<00:00, 1184.65it/s, loss=5.8]\n"
     ]
    },
    {
     "name": "stdout",
     "output_type": "stream",
     "text": [
      "Epoch [272/1000]: Train loss: 5.2403, Valid loss: 5.2689\n"
     ]
    },
    {
     "name": "stderr",
     "output_type": "stream",
     "text": [
      "Epoch [273/1000]: 100%|██████████| 17/17 [00:00<00:00, 1288.67it/s, loss=3.45]\n"
     ]
    },
    {
     "name": "stdout",
     "output_type": "stream",
     "text": [
      "Epoch [273/1000]: Train loss: 5.2183, Valid loss: 5.4426\n"
     ]
    },
    {
     "name": "stderr",
     "output_type": "stream",
     "text": [
      "Epoch [274/1000]: 100%|██████████| 17/17 [00:00<00:00, 1280.34it/s, loss=5.88]\n"
     ]
    },
    {
     "name": "stdout",
     "output_type": "stream",
     "text": [
      "Epoch [274/1000]: Train loss: 5.2264, Valid loss: 5.4601\n"
     ]
    },
    {
     "name": "stderr",
     "output_type": "stream",
     "text": [
      "Epoch [275/1000]: 100%|██████████| 17/17 [00:00<00:00, 1267.52it/s, loss=5.09]\n"
     ]
    },
    {
     "name": "stdout",
     "output_type": "stream",
     "text": [
      "Epoch [275/1000]: Train loss: 5.2202, Valid loss: 5.1318\n"
     ]
    },
    {
     "name": "stderr",
     "output_type": "stream",
     "text": [
      "Epoch [276/1000]: 100%|██████████| 17/17 [00:00<00:00, 1282.13it/s, loss=7.03]\n"
     ]
    },
    {
     "name": "stdout",
     "output_type": "stream",
     "text": [
      "Epoch [276/1000]: Train loss: 5.2261, Valid loss: 5.8427\n"
     ]
    },
    {
     "name": "stderr",
     "output_type": "stream",
     "text": [
      "Epoch [277/1000]: 100%|██████████| 17/17 [00:00<00:00, 1248.72it/s, loss=5.21]\n"
     ]
    },
    {
     "name": "stdout",
     "output_type": "stream",
     "text": [
      "Epoch [277/1000]: Train loss: 5.2123, Valid loss: 5.1948\n"
     ]
    },
    {
     "name": "stderr",
     "output_type": "stream",
     "text": [
      "Epoch [278/1000]: 100%|██████████| 17/17 [00:00<00:00, 677.24it/s, loss=5.3]\n"
     ]
    },
    {
     "name": "stdout",
     "output_type": "stream",
     "text": [
      "Epoch [278/1000]: Train loss: 5.2004, Valid loss: 5.9514\n"
     ]
    },
    {
     "name": "stderr",
     "output_type": "stream",
     "text": [
      "Epoch [279/1000]: 100%|██████████| 17/17 [00:00<00:00, 1067.97it/s, loss=5.3]\n"
     ]
    },
    {
     "name": "stdout",
     "output_type": "stream",
     "text": [
      "Epoch [279/1000]: Train loss: 5.1991, Valid loss: 5.3490\n"
     ]
    },
    {
     "name": "stderr",
     "output_type": "stream",
     "text": [
      "Epoch [280/1000]: 100%|██████████| 17/17 [00:00<00:00, 1176.00it/s, loss=6.15]\n"
     ]
    },
    {
     "name": "stdout",
     "output_type": "stream",
     "text": [
      "Epoch [280/1000]: Train loss: 5.1882, Valid loss: 5.3793\n"
     ]
    },
    {
     "name": "stderr",
     "output_type": "stream",
     "text": [
      "Epoch [281/1000]: 100%|██████████| 17/17 [00:00<00:00, 1277.33it/s, loss=5.56]\n"
     ]
    },
    {
     "name": "stdout",
     "output_type": "stream",
     "text": [
      "Epoch [281/1000]: Train loss: 5.1811, Valid loss: 5.1295\n"
     ]
    },
    {
     "name": "stderr",
     "output_type": "stream",
     "text": [
      "Epoch [282/1000]: 100%|██████████| 17/17 [00:00<00:00, 1284.07it/s, loss=5.14]\n"
     ]
    },
    {
     "name": "stdout",
     "output_type": "stream",
     "text": [
      "Epoch [282/1000]: Train loss: 5.1710, Valid loss: 4.8755\n",
      "Saving model with loss 4.875...\n"
     ]
    },
    {
     "name": "stderr",
     "output_type": "stream",
     "text": [
      "Epoch [283/1000]: 100%|██████████| 17/17 [00:00<00:00, 1231.62it/s, loss=3.99]\n"
     ]
    },
    {
     "name": "stdout",
     "output_type": "stream",
     "text": [
      "Epoch [283/1000]: Train loss: 5.1548, Valid loss: 5.5179\n"
     ]
    },
    {
     "name": "stderr",
     "output_type": "stream",
     "text": [
      "Epoch [284/1000]: 100%|██████████| 17/17 [00:00<00:00, 1286.22it/s, loss=5.22]\n"
     ]
    },
    {
     "name": "stdout",
     "output_type": "stream",
     "text": [
      "Epoch [284/1000]: Train loss: 5.1549, Valid loss: 5.0465\n"
     ]
    },
    {
     "name": "stderr",
     "output_type": "stream",
     "text": [
      "Epoch [285/1000]: 100%|██████████| 17/17 [00:00<00:00, 1244.49it/s, loss=4.47]\n"
     ]
    },
    {
     "name": "stdout",
     "output_type": "stream",
     "text": [
      "Epoch [285/1000]: Train loss: 5.1514, Valid loss: 5.2538\n"
     ]
    },
    {
     "name": "stderr",
     "output_type": "stream",
     "text": [
      "Epoch [286/1000]: 100%|██████████| 17/17 [00:00<00:00, 1198.53it/s, loss=5.25]\n"
     ]
    },
    {
     "name": "stdout",
     "output_type": "stream",
     "text": [
      "Epoch [286/1000]: Train loss: 5.1482, Valid loss: 5.3234\n"
     ]
    },
    {
     "name": "stderr",
     "output_type": "stream",
     "text": [
      "Epoch [287/1000]: 100%|██████████| 17/17 [00:00<00:00, 1172.58it/s, loss=5.78]\n"
     ]
    },
    {
     "name": "stdout",
     "output_type": "stream",
     "text": [
      "Epoch [287/1000]: Train loss: 5.1500, Valid loss: 5.4586\n"
     ]
    },
    {
     "name": "stderr",
     "output_type": "stream",
     "text": [
      "Epoch [288/1000]: 100%|██████████| 17/17 [00:00<00:00, 1201.85it/s, loss=5.32]\n"
     ]
    },
    {
     "name": "stdout",
     "output_type": "stream",
     "text": [
      "Epoch [288/1000]: Train loss: 5.1299, Valid loss: 5.5380\n"
     ]
    },
    {
     "name": "stderr",
     "output_type": "stream",
     "text": [
      "Epoch [289/1000]: 100%|██████████| 17/17 [00:00<00:00, 1233.41it/s, loss=4.91]\n"
     ]
    },
    {
     "name": "stdout",
     "output_type": "stream",
     "text": [
      "Epoch [289/1000]: Train loss: 5.1266, Valid loss: 4.9752\n"
     ]
    },
    {
     "name": "stderr",
     "output_type": "stream",
     "text": [
      "Epoch [290/1000]: 100%|██████████| 17/17 [00:00<00:00, 1232.79it/s, loss=5.63]\n"
     ]
    },
    {
     "name": "stdout",
     "output_type": "stream",
     "text": [
      "Epoch [290/1000]: Train loss: 5.1163, Valid loss: 5.0711\n"
     ]
    },
    {
     "name": "stderr",
     "output_type": "stream",
     "text": [
      "Epoch [291/1000]: 100%|██████████| 17/17 [00:00<00:00, 1177.69it/s, loss=3.65]\n"
     ]
    },
    {
     "name": "stdout",
     "output_type": "stream",
     "text": [
      "Epoch [291/1000]: Train loss: 5.1000, Valid loss: 5.0752\n"
     ]
    },
    {
     "name": "stderr",
     "output_type": "stream",
     "text": [
      "Epoch [292/1000]: 100%|██████████| 17/17 [00:00<00:00, 1175.75it/s, loss=7.92]\n"
     ]
    },
    {
     "name": "stdout",
     "output_type": "stream",
     "text": [
      "Epoch [292/1000]: Train loss: 5.1321, Valid loss: 5.4613\n"
     ]
    },
    {
     "name": "stderr",
     "output_type": "stream",
     "text": [
      "Epoch [293/1000]: 100%|██████████| 17/17 [00:00<00:00, 1223.71it/s, loss=3.95]\n"
     ]
    },
    {
     "name": "stdout",
     "output_type": "stream",
     "text": [
      "Epoch [293/1000]: Train loss: 5.0857, Valid loss: 5.3696\n"
     ]
    },
    {
     "name": "stderr",
     "output_type": "stream",
     "text": [
      "Epoch [294/1000]: 100%|██████████| 17/17 [00:00<00:00, 558.02it/s, loss=5.13]\n"
     ]
    },
    {
     "name": "stdout",
     "output_type": "stream",
     "text": [
      "Epoch [294/1000]: Train loss: 5.0899, Valid loss: 5.0980\n"
     ]
    },
    {
     "name": "stderr",
     "output_type": "stream",
     "text": [
      "Epoch [295/1000]: 100%|██████████| 17/17 [00:00<00:00, 1143.61it/s, loss=3.96]\n"
     ]
    },
    {
     "name": "stdout",
     "output_type": "stream",
     "text": [
      "Epoch [295/1000]: Train loss: 5.0776, Valid loss: 5.3370\n"
     ]
    },
    {
     "name": "stderr",
     "output_type": "stream",
     "text": [
      "Epoch [296/1000]: 100%|██████████| 17/17 [00:00<00:00, 1104.41it/s, loss=4.34]\n"
     ]
    },
    {
     "name": "stdout",
     "output_type": "stream",
     "text": [
      "Epoch [296/1000]: Train loss: 5.0706, Valid loss: 5.1993\n"
     ]
    },
    {
     "name": "stderr",
     "output_type": "stream",
     "text": [
      "Epoch [297/1000]: 100%|██████████| 17/17 [00:00<00:00, 1197.43it/s, loss=4.78]\n"
     ]
    },
    {
     "name": "stdout",
     "output_type": "stream",
     "text": [
      "Epoch [297/1000]: Train loss: 5.0692, Valid loss: 4.9674\n"
     ]
    },
    {
     "name": "stderr",
     "output_type": "stream",
     "text": [
      "Epoch [298/1000]: 100%|██████████| 17/17 [00:00<00:00, 1112.88it/s, loss=6.66]\n"
     ]
    },
    {
     "name": "stdout",
     "output_type": "stream",
     "text": [
      "Epoch [298/1000]: Train loss: 5.0723, Valid loss: 4.7607\n",
      "Saving model with loss 4.761...\n"
     ]
    },
    {
     "name": "stderr",
     "output_type": "stream",
     "text": [
      "Epoch [299/1000]: 100%|██████████| 17/17 [00:00<00:00, 1196.58it/s, loss=5.05]\n"
     ]
    },
    {
     "name": "stdout",
     "output_type": "stream",
     "text": [
      "Epoch [299/1000]: Train loss: 5.0578, Valid loss: 4.9736\n"
     ]
    },
    {
     "name": "stderr",
     "output_type": "stream",
     "text": [
      "Epoch [300/1000]: 100%|██████████| 17/17 [00:00<00:00, 1138.79it/s, loss=5.19]\n"
     ]
    },
    {
     "name": "stdout",
     "output_type": "stream",
     "text": [
      "Epoch [300/1000]: Train loss: 5.0538, Valid loss: 4.9269\n"
     ]
    },
    {
     "name": "stderr",
     "output_type": "stream",
     "text": [
      "Epoch [301/1000]: 100%|██████████| 17/17 [00:00<00:00, 1217.86it/s, loss=5.21]\n"
     ]
    },
    {
     "name": "stdout",
     "output_type": "stream",
     "text": [
      "Epoch [301/1000]: Train loss: 5.0483, Valid loss: 4.7931\n"
     ]
    },
    {
     "name": "stderr",
     "output_type": "stream",
     "text": [
      "Epoch [302/1000]: 100%|██████████| 17/17 [00:00<00:00, 1292.38it/s, loss=3.88]\n"
     ]
    },
    {
     "name": "stdout",
     "output_type": "stream",
     "text": [
      "Epoch [302/1000]: Train loss: 5.0263, Valid loss: 4.6875\n",
      "Saving model with loss 4.687...\n"
     ]
    },
    {
     "name": "stderr",
     "output_type": "stream",
     "text": [
      "Epoch [303/1000]: 100%|██████████| 17/17 [00:00<00:00, 1265.92it/s, loss=4.05]\n"
     ]
    },
    {
     "name": "stdout",
     "output_type": "stream",
     "text": [
      "Epoch [303/1000]: Train loss: 5.0213, Valid loss: 4.8164\n"
     ]
    },
    {
     "name": "stderr",
     "output_type": "stream",
     "text": [
      "Epoch [304/1000]: 100%|██████████| 17/17 [00:00<00:00, 1195.16it/s, loss=5.01]\n"
     ]
    },
    {
     "name": "stdout",
     "output_type": "stream",
     "text": [
      "Epoch [304/1000]: Train loss: 5.0249, Valid loss: 4.9674\n"
     ]
    },
    {
     "name": "stderr",
     "output_type": "stream",
     "text": [
      "Epoch [305/1000]: 100%|██████████| 17/17 [00:00<00:00, 1254.70it/s, loss=6.26]\n"
     ]
    },
    {
     "name": "stdout",
     "output_type": "stream",
     "text": [
      "Epoch [305/1000]: Train loss: 5.0244, Valid loss: 4.6830\n",
      "Saving model with loss 4.683...\n"
     ]
    },
    {
     "name": "stderr",
     "output_type": "stream",
     "text": [
      "Epoch [306/1000]: 100%|██████████| 17/17 [00:00<00:00, 1194.56it/s, loss=3.91]\n"
     ]
    },
    {
     "name": "stdout",
     "output_type": "stream",
     "text": [
      "Epoch [306/1000]: Train loss: 5.0011, Valid loss: 5.1271\n"
     ]
    },
    {
     "name": "stderr",
     "output_type": "stream",
     "text": [
      "Epoch [307/1000]: 100%|██████████| 17/17 [00:00<00:00, 1133.16it/s, loss=4.61]\n"
     ]
    },
    {
     "name": "stdout",
     "output_type": "stream",
     "text": [
      "Epoch [307/1000]: Train loss: 5.0004, Valid loss: 5.1078\n"
     ]
    },
    {
     "name": "stderr",
     "output_type": "stream",
     "text": [
      "Epoch [308/1000]: 100%|██████████| 17/17 [00:00<00:00, 1040.83it/s, loss=6.08]\n"
     ]
    },
    {
     "name": "stdout",
     "output_type": "stream",
     "text": [
      "Epoch [308/1000]: Train loss: 5.0065, Valid loss: 5.0343\n"
     ]
    },
    {
     "name": "stderr",
     "output_type": "stream",
     "text": [
      "Epoch [309/1000]: 100%|██████████| 17/17 [00:00<00:00, 527.00it/s, loss=4.59]\n"
     ]
    },
    {
     "name": "stdout",
     "output_type": "stream",
     "text": [
      "Epoch [309/1000]: Train loss: 4.9857, Valid loss: 5.1067\n"
     ]
    },
    {
     "name": "stderr",
     "output_type": "stream",
     "text": [
      "Epoch [310/1000]: 100%|██████████| 17/17 [00:00<00:00, 1108.48it/s, loss=4.17]\n"
     ]
    },
    {
     "name": "stdout",
     "output_type": "stream",
     "text": [
      "Epoch [310/1000]: Train loss: 4.9770, Valid loss: 5.1970\n"
     ]
    },
    {
     "name": "stderr",
     "output_type": "stream",
     "text": [
      "Epoch [311/1000]: 100%|██████████| 17/17 [00:00<00:00, 1167.03it/s, loss=4.12]\n"
     ]
    },
    {
     "name": "stdout",
     "output_type": "stream",
     "text": [
      "Epoch [311/1000]: Train loss: 4.9800, Valid loss: 5.2015\n"
     ]
    },
    {
     "name": "stderr",
     "output_type": "stream",
     "text": [
      "Epoch [312/1000]: 100%|██████████| 17/17 [00:00<00:00, 1149.57it/s, loss=5.43]\n"
     ]
    },
    {
     "name": "stdout",
     "output_type": "stream",
     "text": [
      "Epoch [312/1000]: Train loss: 4.9808, Valid loss: 4.5494\n",
      "Saving model with loss 4.549...\n"
     ]
    },
    {
     "name": "stderr",
     "output_type": "stream",
     "text": [
      "Epoch [313/1000]: 100%|██████████| 17/17 [00:00<00:00, 1159.85it/s, loss=4.34]\n"
     ]
    },
    {
     "name": "stdout",
     "output_type": "stream",
     "text": [
      "Epoch [313/1000]: Train loss: 4.9592, Valid loss: 4.9877\n"
     ]
    },
    {
     "name": "stderr",
     "output_type": "stream",
     "text": [
      "Epoch [314/1000]: 100%|██████████| 17/17 [00:00<00:00, 1238.05it/s, loss=4.96]\n"
     ]
    },
    {
     "name": "stdout",
     "output_type": "stream",
     "text": [
      "Epoch [314/1000]: Train loss: 4.9573, Valid loss: 5.7381\n"
     ]
    },
    {
     "name": "stderr",
     "output_type": "stream",
     "text": [
      "Epoch [315/1000]: 100%|██████████| 17/17 [00:00<00:00, 1139.26it/s, loss=3.95]\n"
     ]
    },
    {
     "name": "stdout",
     "output_type": "stream",
     "text": [
      "Epoch [315/1000]: Train loss: 4.9419, Valid loss: 5.5130\n"
     ]
    },
    {
     "name": "stderr",
     "output_type": "stream",
     "text": [
      "Epoch [316/1000]: 100%|██████████| 17/17 [00:00<00:00, 1024.15it/s, loss=4.82]\n"
     ]
    },
    {
     "name": "stdout",
     "output_type": "stream",
     "text": [
      "Epoch [316/1000]: Train loss: 4.9467, Valid loss: 4.6085\n"
     ]
    },
    {
     "name": "stderr",
     "output_type": "stream",
     "text": [
      "Epoch [317/1000]: 100%|██████████| 17/17 [00:00<00:00, 1078.81it/s, loss=4.64]\n"
     ]
    },
    {
     "name": "stdout",
     "output_type": "stream",
     "text": [
      "Epoch [317/1000]: Train loss: 4.9414, Valid loss: 5.1747\n"
     ]
    },
    {
     "name": "stderr",
     "output_type": "stream",
     "text": [
      "Epoch [318/1000]: 100%|██████████| 17/17 [00:00<00:00, 1132.26it/s, loss=5.75]\n"
     ]
    },
    {
     "name": "stdout",
     "output_type": "stream",
     "text": [
      "Epoch [318/1000]: Train loss: 4.9485, Valid loss: 5.0261\n"
     ]
    },
    {
     "name": "stderr",
     "output_type": "stream",
     "text": [
      "Epoch [319/1000]: 100%|██████████| 17/17 [00:00<00:00, 1129.66it/s, loss=4.65]\n"
     ]
    },
    {
     "name": "stdout",
     "output_type": "stream",
     "text": [
      "Epoch [319/1000]: Train loss: 4.9399, Valid loss: 4.9017\n"
     ]
    },
    {
     "name": "stderr",
     "output_type": "stream",
     "text": [
      "Epoch [320/1000]: 100%|██████████| 17/17 [00:00<00:00, 1224.45it/s, loss=4.05]\n"
     ]
    },
    {
     "name": "stdout",
     "output_type": "stream",
     "text": [
      "Epoch [320/1000]: Train loss: 4.9292, Valid loss: 5.0031\n"
     ]
    },
    {
     "name": "stderr",
     "output_type": "stream",
     "text": [
      "Epoch [321/1000]: 100%|██████████| 17/17 [00:00<00:00, 1156.67it/s, loss=6.06]\n"
     ]
    },
    {
     "name": "stdout",
     "output_type": "stream",
     "text": [
      "Epoch [321/1000]: Train loss: 4.9325, Valid loss: 4.6476\n"
     ]
    },
    {
     "name": "stderr",
     "output_type": "stream",
     "text": [
      "Epoch [322/1000]: 100%|██████████| 17/17 [00:00<00:00, 1279.16it/s, loss=4.61]\n"
     ]
    },
    {
     "name": "stdout",
     "output_type": "stream",
     "text": [
      "Epoch [322/1000]: Train loss: 4.9085, Valid loss: 5.0680\n"
     ]
    },
    {
     "name": "stderr",
     "output_type": "stream",
     "text": [
      "Epoch [323/1000]: 100%|██████████| 17/17 [00:00<00:00, 1258.04it/s, loss=6.43]\n"
     ]
    },
    {
     "name": "stdout",
     "output_type": "stream",
     "text": [
      "Epoch [323/1000]: Train loss: 4.9100, Valid loss: 4.9281\n"
     ]
    },
    {
     "name": "stderr",
     "output_type": "stream",
     "text": [
      "Epoch [324/1000]: 100%|██████████| 17/17 [00:00<00:00, 1304.96it/s, loss=6.76]\n"
     ]
    },
    {
     "name": "stdout",
     "output_type": "stream",
     "text": [
      "Epoch [324/1000]: Train loss: 4.9127, Valid loss: 5.0943\n"
     ]
    },
    {
     "name": "stderr",
     "output_type": "stream",
     "text": [
      "Epoch [325/1000]: 100%|██████████| 17/17 [00:00<00:00, 1324.38it/s, loss=5.04]\n"
     ]
    },
    {
     "name": "stdout",
     "output_type": "stream",
     "text": [
      "Epoch [325/1000]: Train loss: 4.8931, Valid loss: 5.0563\n"
     ]
    },
    {
     "name": "stderr",
     "output_type": "stream",
     "text": [
      "Epoch [326/1000]: 100%|██████████| 17/17 [00:00<00:00, 616.57it/s, loss=4.62]\n"
     ]
    },
    {
     "name": "stdout",
     "output_type": "stream",
     "text": [
      "Epoch [326/1000]: Train loss: 4.8792, Valid loss: 4.7596\n"
     ]
    },
    {
     "name": "stderr",
     "output_type": "stream",
     "text": [
      "Epoch [327/1000]: 100%|██████████| 17/17 [00:00<00:00, 1224.07it/s, loss=4.23]\n"
     ]
    },
    {
     "name": "stdout",
     "output_type": "stream",
     "text": [
      "Epoch [327/1000]: Train loss: 4.8671, Valid loss: 4.7575\n"
     ]
    },
    {
     "name": "stderr",
     "output_type": "stream",
     "text": [
      "Epoch [328/1000]: 100%|██████████| 17/17 [00:00<00:00, 1210.31it/s, loss=3.91]\n"
     ]
    },
    {
     "name": "stdout",
     "output_type": "stream",
     "text": [
      "Epoch [328/1000]: Train loss: 4.8594, Valid loss: 4.5574\n"
     ]
    },
    {
     "name": "stderr",
     "output_type": "stream",
     "text": [
      "Epoch [329/1000]: 100%|██████████| 17/17 [00:00<00:00, 1221.26it/s, loss=5.82]\n"
     ]
    },
    {
     "name": "stdout",
     "output_type": "stream",
     "text": [
      "Epoch [329/1000]: Train loss: 4.8701, Valid loss: 4.7963\n"
     ]
    },
    {
     "name": "stderr",
     "output_type": "stream",
     "text": [
      "Epoch [330/1000]: 100%|██████████| 17/17 [00:00<00:00, 1102.67it/s, loss=4.12]\n"
     ]
    },
    {
     "name": "stdout",
     "output_type": "stream",
     "text": [
      "Epoch [330/1000]: Train loss: 4.8574, Valid loss: 4.5531\n"
     ]
    },
    {
     "name": "stderr",
     "output_type": "stream",
     "text": [
      "Epoch [331/1000]: 100%|██████████| 17/17 [00:00<00:00, 1281.37it/s, loss=3.82]\n"
     ]
    },
    {
     "name": "stdout",
     "output_type": "stream",
     "text": [
      "Epoch [331/1000]: Train loss: 4.8389, Valid loss: 5.0216\n"
     ]
    },
    {
     "name": "stderr",
     "output_type": "stream",
     "text": [
      "Epoch [332/1000]: 100%|██████████| 17/17 [00:00<00:00, 1257.48it/s, loss=4.89]\n"
     ]
    },
    {
     "name": "stdout",
     "output_type": "stream",
     "text": [
      "Epoch [332/1000]: Train loss: 4.8396, Valid loss: 4.8655\n"
     ]
    },
    {
     "name": "stderr",
     "output_type": "stream",
     "text": [
      "Epoch [333/1000]: 100%|██████████| 17/17 [00:00<00:00, 1296.73it/s, loss=3.68]\n"
     ]
    },
    {
     "name": "stdout",
     "output_type": "stream",
     "text": [
      "Epoch [333/1000]: Train loss: 4.8268, Valid loss: 4.7406\n"
     ]
    },
    {
     "name": "stderr",
     "output_type": "stream",
     "text": [
      "Epoch [334/1000]: 100%|██████████| 17/17 [00:00<00:00, 1325.86it/s, loss=5.6]\n"
     ]
    },
    {
     "name": "stdout",
     "output_type": "stream",
     "text": [
      "Epoch [334/1000]: Train loss: 4.8355, Valid loss: 4.7778\n"
     ]
    },
    {
     "name": "stderr",
     "output_type": "stream",
     "text": [
      "Epoch [335/1000]: 100%|██████████| 17/17 [00:00<00:00, 1303.58it/s, loss=6.73]\n"
     ]
    },
    {
     "name": "stdout",
     "output_type": "stream",
     "text": [
      "Epoch [335/1000]: Train loss: 4.8345, Valid loss: 4.5163\n",
      "Saving model with loss 4.516...\n"
     ]
    },
    {
     "name": "stderr",
     "output_type": "stream",
     "text": [
      "Epoch [336/1000]: 100%|██████████| 17/17 [00:00<00:00, 1307.81it/s, loss=5.44]\n"
     ]
    },
    {
     "name": "stdout",
     "output_type": "stream",
     "text": [
      "Epoch [336/1000]: Train loss: 4.8167, Valid loss: 5.1236\n"
     ]
    },
    {
     "name": "stderr",
     "output_type": "stream",
     "text": [
      "Epoch [337/1000]: 100%|██████████| 17/17 [00:00<00:00, 1338.60it/s, loss=4.71]\n"
     ]
    },
    {
     "name": "stdout",
     "output_type": "stream",
     "text": [
      "Epoch [337/1000]: Train loss: 4.8064, Valid loss: 5.1341\n"
     ]
    },
    {
     "name": "stderr",
     "output_type": "stream",
     "text": [
      "Epoch [338/1000]: 100%|██████████| 17/17 [00:00<00:00, 1330.83it/s, loss=5.69]\n"
     ]
    },
    {
     "name": "stdout",
     "output_type": "stream",
     "text": [
      "Epoch [338/1000]: Train loss: 4.8036, Valid loss: 4.8561\n"
     ]
    },
    {
     "name": "stderr",
     "output_type": "stream",
     "text": [
      "Epoch [339/1000]: 100%|██████████| 17/17 [00:00<00:00, 1309.59it/s, loss=4.3]\n"
     ]
    },
    {
     "name": "stdout",
     "output_type": "stream",
     "text": [
      "Epoch [339/1000]: Train loss: 4.7863, Valid loss: 5.0157\n"
     ]
    },
    {
     "name": "stderr",
     "output_type": "stream",
     "text": [
      "Epoch [340/1000]: 100%|██████████| 17/17 [00:00<00:00, 1334.27it/s, loss=4.11]\n"
     ]
    },
    {
     "name": "stdout",
     "output_type": "stream",
     "text": [
      "Epoch [340/1000]: Train loss: 4.7799, Valid loss: 4.3319\n",
      "Saving model with loss 4.332...\n"
     ]
    },
    {
     "name": "stderr",
     "output_type": "stream",
     "text": [
      "Epoch [341/1000]: 100%|██████████| 17/17 [00:00<00:00, 1324.60it/s, loss=3.84]\n"
     ]
    },
    {
     "name": "stdout",
     "output_type": "stream",
     "text": [
      "Epoch [341/1000]: Train loss: 4.7667, Valid loss: 4.7955\n"
     ]
    },
    {
     "name": "stderr",
     "output_type": "stream",
     "text": [
      "Epoch [342/1000]: 100%|██████████| 17/17 [00:00<00:00, 1358.60it/s, loss=5.32]\n"
     ]
    },
    {
     "name": "stdout",
     "output_type": "stream",
     "text": [
      "Epoch [342/1000]: Train loss: 4.7729, Valid loss: 4.5617\n"
     ]
    },
    {
     "name": "stderr",
     "output_type": "stream",
     "text": [
      "Epoch [343/1000]: 100%|██████████| 17/17 [00:00<00:00, 1321.82it/s, loss=3.07]\n"
     ]
    },
    {
     "name": "stdout",
     "output_type": "stream",
     "text": [
      "Epoch [343/1000]: Train loss: 4.7494, Valid loss: 4.7484\n"
     ]
    },
    {
     "name": "stderr",
     "output_type": "stream",
     "text": [
      "Epoch [344/1000]: 100%|██████████| 17/17 [00:00<00:00, 1309.40it/s, loss=4.67]\n"
     ]
    },
    {
     "name": "stdout",
     "output_type": "stream",
     "text": [
      "Epoch [344/1000]: Train loss: 4.7539, Valid loss: 4.7404\n"
     ]
    },
    {
     "name": "stderr",
     "output_type": "stream",
     "text": [
      "Epoch [345/1000]: 100%|██████████| 17/17 [00:00<00:00, 1311.32it/s, loss=5.06]\n"
     ]
    },
    {
     "name": "stdout",
     "output_type": "stream",
     "text": [
      "Epoch [345/1000]: Train loss: 4.7424, Valid loss: 4.3394\n"
     ]
    },
    {
     "name": "stderr",
     "output_type": "stream",
     "text": [
      "Epoch [346/1000]: 100%|██████████| 17/17 [00:00<00:00, 1322.44it/s, loss=5.49]\n"
     ]
    },
    {
     "name": "stdout",
     "output_type": "stream",
     "text": [
      "Epoch [346/1000]: Train loss: 4.7335, Valid loss: 4.8133\n"
     ]
    },
    {
     "name": "stderr",
     "output_type": "stream",
     "text": [
      "Epoch [347/1000]: 100%|██████████| 17/17 [00:00<00:00, 1344.94it/s, loss=6.49]\n"
     ]
    },
    {
     "name": "stdout",
     "output_type": "stream",
     "text": [
      "Epoch [347/1000]: Train loss: 4.7353, Valid loss: 4.4163\n"
     ]
    },
    {
     "name": "stderr",
     "output_type": "stream",
     "text": [
      "Epoch [348/1000]: 100%|██████████| 17/17 [00:00<00:00, 1364.37it/s, loss=3.9]\n"
     ]
    },
    {
     "name": "stdout",
     "output_type": "stream",
     "text": [
      "Epoch [348/1000]: Train loss: 4.7073, Valid loss: 4.8564\n"
     ]
    },
    {
     "name": "stderr",
     "output_type": "stream",
     "text": [
      "Epoch [349/1000]: 100%|██████████| 17/17 [00:00<00:00, 1322.34it/s, loss=3.76]\n"
     ]
    },
    {
     "name": "stdout",
     "output_type": "stream",
     "text": [
      "Epoch [349/1000]: Train loss: 4.6964, Valid loss: 4.3416\n"
     ]
    },
    {
     "name": "stderr",
     "output_type": "stream",
     "text": [
      "Epoch [350/1000]: 100%|██████████| 17/17 [00:00<00:00, 1286.53it/s, loss=4.41]\n"
     ]
    },
    {
     "name": "stdout",
     "output_type": "stream",
     "text": [
      "Epoch [350/1000]: Train loss: 4.6886, Valid loss: 4.6905\n"
     ]
    },
    {
     "name": "stderr",
     "output_type": "stream",
     "text": [
      "Epoch [351/1000]: 100%|██████████| 17/17 [00:00<00:00, 1315.07it/s, loss=5.54]\n"
     ]
    },
    {
     "name": "stdout",
     "output_type": "stream",
     "text": [
      "Epoch [351/1000]: Train loss: 4.7133, Valid loss: 4.4805\n"
     ]
    },
    {
     "name": "stderr",
     "output_type": "stream",
     "text": [
      "Epoch [352/1000]: 100%|██████████| 17/17 [00:00<00:00, 1322.12it/s, loss=4.3]\n"
     ]
    },
    {
     "name": "stdout",
     "output_type": "stream",
     "text": [
      "Epoch [352/1000]: Train loss: 4.6817, Valid loss: 4.5058\n"
     ]
    },
    {
     "name": "stderr",
     "output_type": "stream",
     "text": [
      "Epoch [353/1000]: 100%|██████████| 17/17 [00:00<00:00, 1353.18it/s, loss=5.61]\n"
     ]
    },
    {
     "name": "stdout",
     "output_type": "stream",
     "text": [
      "Epoch [353/1000]: Train loss: 4.6738, Valid loss: 4.4431\n"
     ]
    },
    {
     "name": "stderr",
     "output_type": "stream",
     "text": [
      "Epoch [354/1000]: 100%|██████████| 17/17 [00:00<00:00, 1346.97it/s, loss=4.49]\n"
     ]
    },
    {
     "name": "stdout",
     "output_type": "stream",
     "text": [
      "Epoch [354/1000]: Train loss: 4.6537, Valid loss: 4.5279\n"
     ]
    },
    {
     "name": "stderr",
     "output_type": "stream",
     "text": [
      "Epoch [355/1000]: 100%|██████████| 17/17 [00:00<00:00, 802.64it/s, loss=3.92]\n"
     ]
    },
    {
     "name": "stdout",
     "output_type": "stream",
     "text": [
      "Epoch [355/1000]: Train loss: 4.6420, Valid loss: 4.6332\n"
     ]
    },
    {
     "name": "stderr",
     "output_type": "stream",
     "text": [
      "Epoch [356/1000]: 100%|██████████| 17/17 [00:00<00:00, 1270.75it/s, loss=3.12]\n"
     ]
    },
    {
     "name": "stdout",
     "output_type": "stream",
     "text": [
      "Epoch [356/1000]: Train loss: 4.6288, Valid loss: 4.7705\n"
     ]
    },
    {
     "name": "stderr",
     "output_type": "stream",
     "text": [
      "Epoch [357/1000]: 100%|██████████| 17/17 [00:00<00:00, 1283.01it/s, loss=5.03]\n"
     ]
    },
    {
     "name": "stdout",
     "output_type": "stream",
     "text": [
      "Epoch [357/1000]: Train loss: 4.6370, Valid loss: 4.4184\n"
     ]
    },
    {
     "name": "stderr",
     "output_type": "stream",
     "text": [
      "Epoch [358/1000]: 100%|██████████| 17/17 [00:00<00:00, 1342.81it/s, loss=4.73]\n"
     ]
    },
    {
     "name": "stdout",
     "output_type": "stream",
     "text": [
      "Epoch [358/1000]: Train loss: 4.6314, Valid loss: 4.4846\n"
     ]
    },
    {
     "name": "stderr",
     "output_type": "stream",
     "text": [
      "Epoch [359/1000]: 100%|██████████| 17/17 [00:00<00:00, 1361.09it/s, loss=5.26]\n"
     ]
    },
    {
     "name": "stdout",
     "output_type": "stream",
     "text": [
      "Epoch [359/1000]: Train loss: 4.6246, Valid loss: 4.5648\n"
     ]
    },
    {
     "name": "stderr",
     "output_type": "stream",
     "text": [
      "Epoch [360/1000]: 100%|██████████| 17/17 [00:00<00:00, 1320.77it/s, loss=5.65]\n"
     ]
    },
    {
     "name": "stdout",
     "output_type": "stream",
     "text": [
      "Epoch [360/1000]: Train loss: 4.6209, Valid loss: 4.8397\n"
     ]
    },
    {
     "name": "stderr",
     "output_type": "stream",
     "text": [
      "Epoch [361/1000]: 100%|██████████| 17/17 [00:00<00:00, 1291.79it/s, loss=3.99]\n"
     ]
    },
    {
     "name": "stdout",
     "output_type": "stream",
     "text": [
      "Epoch [361/1000]: Train loss: 4.5999, Valid loss: 4.6335\n"
     ]
    },
    {
     "name": "stderr",
     "output_type": "stream",
     "text": [
      "Epoch [362/1000]: 100%|██████████| 17/17 [00:00<00:00, 1318.96it/s, loss=4.73]\n"
     ]
    },
    {
     "name": "stdout",
     "output_type": "stream",
     "text": [
      "Epoch [362/1000]: Train loss: 4.5956, Valid loss: 4.4684\n"
     ]
    },
    {
     "name": "stderr",
     "output_type": "stream",
     "text": [
      "Epoch [363/1000]: 100%|██████████| 17/17 [00:00<00:00, 1301.70it/s, loss=6.04]\n"
     ]
    },
    {
     "name": "stdout",
     "output_type": "stream",
     "text": [
      "Epoch [363/1000]: Train loss: 4.6028, Valid loss: 4.7892\n"
     ]
    },
    {
     "name": "stderr",
     "output_type": "stream",
     "text": [
      "Epoch [364/1000]: 100%|██████████| 17/17 [00:00<00:00, 1303.77it/s, loss=6.13]\n"
     ]
    },
    {
     "name": "stdout",
     "output_type": "stream",
     "text": [
      "Epoch [364/1000]: Train loss: 4.5912, Valid loss: 4.3447\n"
     ]
    },
    {
     "name": "stderr",
     "output_type": "stream",
     "text": [
      "Epoch [365/1000]: 100%|██████████| 17/17 [00:00<00:00, 1318.87it/s, loss=4.89]\n"
     ]
    },
    {
     "name": "stdout",
     "output_type": "stream",
     "text": [
      "Epoch [365/1000]: Train loss: 4.5773, Valid loss: 4.5929\n"
     ]
    },
    {
     "name": "stderr",
     "output_type": "stream",
     "text": [
      "Epoch [366/1000]: 100%|██████████| 17/17 [00:00<00:00, 1299.49it/s, loss=4.38]\n"
     ]
    },
    {
     "name": "stdout",
     "output_type": "stream",
     "text": [
      "Epoch [366/1000]: Train loss: 4.5634, Valid loss: 4.5196\n"
     ]
    },
    {
     "name": "stderr",
     "output_type": "stream",
     "text": [
      "Epoch [367/1000]: 100%|██████████| 17/17 [00:00<00:00, 1304.01it/s, loss=5.36]\n"
     ]
    },
    {
     "name": "stdout",
     "output_type": "stream",
     "text": [
      "Epoch [367/1000]: Train loss: 4.5658, Valid loss: 4.9461\n"
     ]
    },
    {
     "name": "stderr",
     "output_type": "stream",
     "text": [
      "Epoch [368/1000]: 100%|██████████| 17/17 [00:00<00:00, 1339.83it/s, loss=4.33]\n"
     ]
    },
    {
     "name": "stdout",
     "output_type": "stream",
     "text": [
      "Epoch [368/1000]: Train loss: 4.5463, Valid loss: 4.8072\n"
     ]
    },
    {
     "name": "stderr",
     "output_type": "stream",
     "text": [
      "Epoch [369/1000]: 100%|██████████| 17/17 [00:00<00:00, 1364.16it/s, loss=5.98]\n"
     ]
    },
    {
     "name": "stdout",
     "output_type": "stream",
     "text": [
      "Epoch [369/1000]: Train loss: 4.5507, Valid loss: 4.3379\n"
     ]
    },
    {
     "name": "stderr",
     "output_type": "stream",
     "text": [
      "Epoch [370/1000]: 100%|██████████| 17/17 [00:00<00:00, 1359.45it/s, loss=4.79]\n"
     ]
    },
    {
     "name": "stdout",
     "output_type": "stream",
     "text": [
      "Epoch [370/1000]: Train loss: 4.5354, Valid loss: 4.6072\n"
     ]
    },
    {
     "name": "stderr",
     "output_type": "stream",
     "text": [
      "Epoch [371/1000]: 100%|██████████| 17/17 [00:00<00:00, 1303.08it/s, loss=4.55]\n"
     ]
    },
    {
     "name": "stdout",
     "output_type": "stream",
     "text": [
      "Epoch [371/1000]: Train loss: 4.5264, Valid loss: 4.6082\n"
     ]
    },
    {
     "name": "stderr",
     "output_type": "stream",
     "text": [
      "Epoch [372/1000]: 100%|██████████| 17/17 [00:00<00:00, 1310.09it/s, loss=4.97]\n"
     ]
    },
    {
     "name": "stdout",
     "output_type": "stream",
     "text": [
      "Epoch [372/1000]: Train loss: 4.5192, Valid loss: 4.7330\n"
     ]
    },
    {
     "name": "stderr",
     "output_type": "stream",
     "text": [
      "Epoch [373/1000]: 100%|██████████| 17/17 [00:00<00:00, 1341.02it/s, loss=3.58]\n"
     ]
    },
    {
     "name": "stdout",
     "output_type": "stream",
     "text": [
      "Epoch [373/1000]: Train loss: 4.5095, Valid loss: 4.3445\n"
     ]
    },
    {
     "name": "stderr",
     "output_type": "stream",
     "text": [
      "Epoch [374/1000]: 100%|██████████| 17/17 [00:00<00:00, 1350.82it/s, loss=5.52]\n"
     ]
    },
    {
     "name": "stdout",
     "output_type": "stream",
     "text": [
      "Epoch [374/1000]: Train loss: 4.5135, Valid loss: 4.2633\n",
      "Saving model with loss 4.263...\n"
     ]
    },
    {
     "name": "stderr",
     "output_type": "stream",
     "text": [
      "Epoch [375/1000]: 100%|██████████| 17/17 [00:00<00:00, 1360.12it/s, loss=4.68]\n"
     ]
    },
    {
     "name": "stdout",
     "output_type": "stream",
     "text": [
      "Epoch [375/1000]: Train loss: 4.5015, Valid loss: 4.4969\n"
     ]
    },
    {
     "name": "stderr",
     "output_type": "stream",
     "text": [
      "Epoch [376/1000]: 100%|██████████| 17/17 [00:00<00:00, 1355.24it/s, loss=4.26]\n"
     ]
    },
    {
     "name": "stdout",
     "output_type": "stream",
     "text": [
      "Epoch [376/1000]: Train loss: 4.4938, Valid loss: 4.5696\n"
     ]
    },
    {
     "name": "stderr",
     "output_type": "stream",
     "text": [
      "Epoch [377/1000]: 100%|██████████| 17/17 [00:00<00:00, 1295.01it/s, loss=4.74]\n"
     ]
    },
    {
     "name": "stdout",
     "output_type": "stream",
     "text": [
      "Epoch [377/1000]: Train loss: 4.4909, Valid loss: 4.4353\n"
     ]
    },
    {
     "name": "stderr",
     "output_type": "stream",
     "text": [
      "Epoch [378/1000]: 100%|██████████| 17/17 [00:00<00:00, 1287.99it/s, loss=4.56]\n"
     ]
    },
    {
     "name": "stdout",
     "output_type": "stream",
     "text": [
      "Epoch [378/1000]: Train loss: 4.4750, Valid loss: 4.2608\n",
      "Saving model with loss 4.261...\n"
     ]
    },
    {
     "name": "stderr",
     "output_type": "stream",
     "text": [
      "Epoch [379/1000]: 100%|██████████| 17/17 [00:00<00:00, 1263.17it/s, loss=5.43]\n"
     ]
    },
    {
     "name": "stdout",
     "output_type": "stream",
     "text": [
      "Epoch [379/1000]: Train loss: 4.4731, Valid loss: 4.7436\n"
     ]
    },
    {
     "name": "stderr",
     "output_type": "stream",
     "text": [
      "Epoch [380/1000]: 100%|██████████| 17/17 [00:00<00:00, 1336.14it/s, loss=5.13]\n"
     ]
    },
    {
     "name": "stdout",
     "output_type": "stream",
     "text": [
      "Epoch [380/1000]: Train loss: 4.4610, Valid loss: 4.0453\n",
      "Saving model with loss 4.045...\n"
     ]
    },
    {
     "name": "stderr",
     "output_type": "stream",
     "text": [
      "Epoch [381/1000]: 100%|██████████| 17/17 [00:00<00:00, 1272.09it/s, loss=4.13]\n"
     ]
    },
    {
     "name": "stdout",
     "output_type": "stream",
     "text": [
      "Epoch [381/1000]: Train loss: 4.4476, Valid loss: 4.4190\n"
     ]
    },
    {
     "name": "stderr",
     "output_type": "stream",
     "text": [
      "Epoch [382/1000]: 100%|██████████| 17/17 [00:00<00:00, 1246.78it/s, loss=3.61]\n"
     ]
    },
    {
     "name": "stdout",
     "output_type": "stream",
     "text": [
      "Epoch [382/1000]: Train loss: 4.4397, Valid loss: 4.3274\n"
     ]
    },
    {
     "name": "stderr",
     "output_type": "stream",
     "text": [
      "Epoch [383/1000]: 100%|██████████| 17/17 [00:00<00:00, 1298.12it/s, loss=3.96]\n"
     ]
    },
    {
     "name": "stdout",
     "output_type": "stream",
     "text": [
      "Epoch [383/1000]: Train loss: 4.4477, Valid loss: 4.1652\n"
     ]
    },
    {
     "name": "stderr",
     "output_type": "stream",
     "text": [
      "Epoch [384/1000]: 100%|██████████| 17/17 [00:00<00:00, 1301.98it/s, loss=3.45]\n"
     ]
    },
    {
     "name": "stdout",
     "output_type": "stream",
     "text": [
      "Epoch [384/1000]: Train loss: 4.4238, Valid loss: 4.2680\n"
     ]
    },
    {
     "name": "stderr",
     "output_type": "stream",
     "text": [
      "Epoch [385/1000]: 100%|██████████| 17/17 [00:00<00:00, 723.96it/s, loss=3.73]\n"
     ]
    },
    {
     "name": "stdout",
     "output_type": "stream",
     "text": [
      "Epoch [385/1000]: Train loss: 4.4134, Valid loss: 4.5764\n"
     ]
    },
    {
     "name": "stderr",
     "output_type": "stream",
     "text": [
      "Epoch [386/1000]: 100%|██████████| 17/17 [00:00<00:00, 1154.31it/s, loss=5.45]\n"
     ]
    },
    {
     "name": "stdout",
     "output_type": "stream",
     "text": [
      "Epoch [386/1000]: Train loss: 4.4165, Valid loss: 4.3040\n"
     ]
    },
    {
     "name": "stderr",
     "output_type": "stream",
     "text": [
      "Epoch [387/1000]: 100%|██████████| 17/17 [00:00<00:00, 1330.41it/s, loss=5.15]\n"
     ]
    },
    {
     "name": "stdout",
     "output_type": "stream",
     "text": [
      "Epoch [387/1000]: Train loss: 4.4088, Valid loss: 4.5868\n"
     ]
    },
    {
     "name": "stderr",
     "output_type": "stream",
     "text": [
      "Epoch [388/1000]: 100%|██████████| 17/17 [00:00<00:00, 1330.95it/s, loss=4.71]\n"
     ]
    },
    {
     "name": "stdout",
     "output_type": "stream",
     "text": [
      "Epoch [388/1000]: Train loss: 4.3961, Valid loss: 4.4003\n"
     ]
    },
    {
     "name": "stderr",
     "output_type": "stream",
     "text": [
      "Epoch [389/1000]: 100%|██████████| 17/17 [00:00<00:00, 1357.85it/s, loss=4.83]\n"
     ]
    },
    {
     "name": "stdout",
     "output_type": "stream",
     "text": [
      "Epoch [389/1000]: Train loss: 4.3879, Valid loss: 3.9651\n",
      "Saving model with loss 3.965...\n"
     ]
    },
    {
     "name": "stderr",
     "output_type": "stream",
     "text": [
      "Epoch [390/1000]: 100%|██████████| 17/17 [00:00<00:00, 1316.29it/s, loss=5.29]\n"
     ]
    },
    {
     "name": "stdout",
     "output_type": "stream",
     "text": [
      "Epoch [390/1000]: Train loss: 4.3855, Valid loss: 4.6562\n"
     ]
    },
    {
     "name": "stderr",
     "output_type": "stream",
     "text": [
      "Epoch [391/1000]: 100%|██████████| 17/17 [00:00<00:00, 1291.23it/s, loss=3.55]\n"
     ]
    },
    {
     "name": "stdout",
     "output_type": "stream",
     "text": [
      "Epoch [391/1000]: Train loss: 4.3770, Valid loss: 4.3818\n"
     ]
    },
    {
     "name": "stderr",
     "output_type": "stream",
     "text": [
      "Epoch [392/1000]: 100%|██████████| 17/17 [00:00<00:00, 1293.27it/s, loss=4.04]\n"
     ]
    },
    {
     "name": "stdout",
     "output_type": "stream",
     "text": [
      "Epoch [392/1000]: Train loss: 4.3663, Valid loss: 4.5419\n"
     ]
    },
    {
     "name": "stderr",
     "output_type": "stream",
     "text": [
      "Epoch [393/1000]: 100%|██████████| 17/17 [00:00<00:00, 1332.07it/s, loss=3.86]\n"
     ]
    },
    {
     "name": "stdout",
     "output_type": "stream",
     "text": [
      "Epoch [393/1000]: Train loss: 4.3522, Valid loss: 4.6367\n"
     ]
    },
    {
     "name": "stderr",
     "output_type": "stream",
     "text": [
      "Epoch [394/1000]: 100%|██████████| 17/17 [00:00<00:00, 1310.09it/s, loss=3.27]\n"
     ]
    },
    {
     "name": "stdout",
     "output_type": "stream",
     "text": [
      "Epoch [394/1000]: Train loss: 4.3394, Valid loss: 4.7889\n"
     ]
    },
    {
     "name": "stderr",
     "output_type": "stream",
     "text": [
      "Epoch [395/1000]: 100%|██████████| 17/17 [00:00<00:00, 1370.40it/s, loss=4.64]\n"
     ]
    },
    {
     "name": "stdout",
     "output_type": "stream",
     "text": [
      "Epoch [395/1000]: Train loss: 4.3474, Valid loss: 4.8244\n"
     ]
    },
    {
     "name": "stderr",
     "output_type": "stream",
     "text": [
      "Epoch [396/1000]: 100%|██████████| 17/17 [00:00<00:00, 1325.21it/s, loss=3.67]\n"
     ]
    },
    {
     "name": "stdout",
     "output_type": "stream",
     "text": [
      "Epoch [396/1000]: Train loss: 4.3308, Valid loss: 4.4002\n"
     ]
    },
    {
     "name": "stderr",
     "output_type": "stream",
     "text": [
      "Epoch [397/1000]: 100%|██████████| 17/17 [00:00<00:00, 1328.94it/s, loss=5.18]\n"
     ]
    },
    {
     "name": "stdout",
     "output_type": "stream",
     "text": [
      "Epoch [397/1000]: Train loss: 4.3286, Valid loss: 3.8796\n",
      "Saving model with loss 3.880...\n"
     ]
    },
    {
     "name": "stderr",
     "output_type": "stream",
     "text": [
      "Epoch [398/1000]: 100%|██████████| 17/17 [00:00<00:00, 1343.44it/s, loss=3.7]\n"
     ]
    },
    {
     "name": "stdout",
     "output_type": "stream",
     "text": [
      "Epoch [398/1000]: Train loss: 4.3115, Valid loss: 4.9480\n"
     ]
    },
    {
     "name": "stderr",
     "output_type": "stream",
     "text": [
      "Epoch [399/1000]: 100%|██████████| 17/17 [00:00<00:00, 1321.21it/s, loss=5.16]\n"
     ]
    },
    {
     "name": "stdout",
     "output_type": "stream",
     "text": [
      "Epoch [399/1000]: Train loss: 4.3145, Valid loss: 4.2714\n"
     ]
    },
    {
     "name": "stderr",
     "output_type": "stream",
     "text": [
      "Epoch [400/1000]: 100%|██████████| 17/17 [00:00<00:00, 1323.98it/s, loss=4.41]\n"
     ]
    },
    {
     "name": "stdout",
     "output_type": "stream",
     "text": [
      "Epoch [400/1000]: Train loss: 4.3088, Valid loss: 4.1827\n"
     ]
    },
    {
     "name": "stderr",
     "output_type": "stream",
     "text": [
      "Epoch [401/1000]: 100%|██████████| 17/17 [00:00<00:00, 1284.74it/s, loss=3.5]\n"
     ]
    },
    {
     "name": "stdout",
     "output_type": "stream",
     "text": [
      "Epoch [401/1000]: Train loss: 4.2905, Valid loss: 4.3697\n"
     ]
    },
    {
     "name": "stderr",
     "output_type": "stream",
     "text": [
      "Epoch [402/1000]: 100%|██████████| 17/17 [00:00<00:00, 1321.75it/s, loss=4.53]\n"
     ]
    },
    {
     "name": "stdout",
     "output_type": "stream",
     "text": [
      "Epoch [402/1000]: Train loss: 4.2936, Valid loss: 4.0322\n"
     ]
    },
    {
     "name": "stderr",
     "output_type": "stream",
     "text": [
      "Epoch [403/1000]: 100%|██████████| 17/17 [00:00<00:00, 1371.40it/s, loss=3.57]\n"
     ]
    },
    {
     "name": "stdout",
     "output_type": "stream",
     "text": [
      "Epoch [403/1000]: Train loss: 4.2858, Valid loss: 3.9530\n"
     ]
    },
    {
     "name": "stderr",
     "output_type": "stream",
     "text": [
      "Epoch [404/1000]: 100%|██████████| 17/17 [00:00<00:00, 632.54it/s, loss=4.09]\n"
     ]
    },
    {
     "name": "stdout",
     "output_type": "stream",
     "text": [
      "Epoch [404/1000]: Train loss: 4.2774, Valid loss: 4.3293\n"
     ]
    },
    {
     "name": "stderr",
     "output_type": "stream",
     "text": [
      "Epoch [405/1000]: 100%|██████████| 17/17 [00:00<00:00, 1261.29it/s, loss=3.04]\n"
     ]
    },
    {
     "name": "stdout",
     "output_type": "stream",
     "text": [
      "Epoch [405/1000]: Train loss: 4.2562, Valid loss: 3.9447\n"
     ]
    },
    {
     "name": "stderr",
     "output_type": "stream",
     "text": [
      "Epoch [406/1000]: 100%|██████████| 17/17 [00:00<00:00, 1277.42it/s, loss=3.8]\n"
     ]
    },
    {
     "name": "stdout",
     "output_type": "stream",
     "text": [
      "Epoch [406/1000]: Train loss: 4.2569, Valid loss: 4.4715\n"
     ]
    },
    {
     "name": "stderr",
     "output_type": "stream",
     "text": [
      "Epoch [407/1000]: 100%|██████████| 17/17 [00:00<00:00, 1283.70it/s, loss=4.7]\n"
     ]
    },
    {
     "name": "stdout",
     "output_type": "stream",
     "text": [
      "Epoch [407/1000]: Train loss: 4.2528, Valid loss: 4.5457\n"
     ]
    },
    {
     "name": "stderr",
     "output_type": "stream",
     "text": [
      "Epoch [408/1000]: 100%|██████████| 17/17 [00:00<00:00, 1318.67it/s, loss=4.26]\n"
     ]
    },
    {
     "name": "stdout",
     "output_type": "stream",
     "text": [
      "Epoch [408/1000]: Train loss: 4.2498, Valid loss: 4.2173\n"
     ]
    },
    {
     "name": "stderr",
     "output_type": "stream",
     "text": [
      "Epoch [409/1000]: 100%|██████████| 17/17 [00:00<00:00, 1317.50it/s, loss=4.2]\n"
     ]
    },
    {
     "name": "stdout",
     "output_type": "stream",
     "text": [
      "Epoch [409/1000]: Train loss: 4.2351, Valid loss: 4.7565\n"
     ]
    },
    {
     "name": "stderr",
     "output_type": "stream",
     "text": [
      "Epoch [410/1000]: 100%|██████████| 17/17 [00:00<00:00, 1360.02it/s, loss=5.13]\n"
     ]
    },
    {
     "name": "stdout",
     "output_type": "stream",
     "text": [
      "Epoch [410/1000]: Train loss: 4.2396, Valid loss: 4.1568\n"
     ]
    },
    {
     "name": "stderr",
     "output_type": "stream",
     "text": [
      "Epoch [411/1000]: 100%|██████████| 17/17 [00:00<00:00, 1318.13it/s, loss=5.19]\n"
     ]
    },
    {
     "name": "stdout",
     "output_type": "stream",
     "text": [
      "Epoch [411/1000]: Train loss: 4.2333, Valid loss: 4.0372\n"
     ]
    },
    {
     "name": "stderr",
     "output_type": "stream",
     "text": [
      "Epoch [412/1000]: 100%|██████████| 17/17 [00:00<00:00, 1314.47it/s, loss=3.8]\n"
     ]
    },
    {
     "name": "stdout",
     "output_type": "stream",
     "text": [
      "Epoch [412/1000]: Train loss: 4.2109, Valid loss: 4.1458\n"
     ]
    },
    {
     "name": "stderr",
     "output_type": "stream",
     "text": [
      "Epoch [413/1000]: 100%|██████████| 17/17 [00:00<00:00, 1251.66it/s, loss=5.26]\n"
     ]
    },
    {
     "name": "stdout",
     "output_type": "stream",
     "text": [
      "Epoch [413/1000]: Train loss: 4.2085, Valid loss: 4.1347\n"
     ]
    },
    {
     "name": "stderr",
     "output_type": "stream",
     "text": [
      "Epoch [414/1000]: 100%|██████████| 17/17 [00:00<00:00, 1309.40it/s, loss=4.11]\n"
     ]
    },
    {
     "name": "stdout",
     "output_type": "stream",
     "text": [
      "Epoch [414/1000]: Train loss: 4.1937, Valid loss: 3.8574\n",
      "Saving model with loss 3.857...\n"
     ]
    },
    {
     "name": "stderr",
     "output_type": "stream",
     "text": [
      "Epoch [415/1000]: 100%|██████████| 17/17 [00:00<00:00, 1296.00it/s, loss=5.36]\n"
     ]
    },
    {
     "name": "stdout",
     "output_type": "stream",
     "text": [
      "Epoch [415/1000]: Train loss: 4.2029, Valid loss: 4.3404\n"
     ]
    },
    {
     "name": "stderr",
     "output_type": "stream",
     "text": [
      "Epoch [416/1000]: 100%|██████████| 17/17 [00:00<00:00, 1324.21it/s, loss=5.28]\n"
     ]
    },
    {
     "name": "stdout",
     "output_type": "stream",
     "text": [
      "Epoch [416/1000]: Train loss: 4.1903, Valid loss: 4.3078\n"
     ]
    },
    {
     "name": "stderr",
     "output_type": "stream",
     "text": [
      "Epoch [417/1000]: 100%|██████████| 17/17 [00:00<00:00, 1326.67it/s, loss=4.43]"
     ]
    },
    {
     "name": "stdout",
     "output_type": "stream",
     "text": [
      "Epoch [417/1000]: Train loss: 4.1721, Valid loss: 4.2019\n"
     ]
    },
    {
     "name": "stderr",
     "output_type": "stream",
     "text": [
      "\n",
      "Epoch [418/1000]: 100%|██████████| 17/17 [00:00<00:00, 1307.38it/s, loss=4.35]\n"
     ]
    },
    {
     "name": "stdout",
     "output_type": "stream",
     "text": [
      "Epoch [418/1000]: Train loss: 4.1670, Valid loss: 4.7798\n"
     ]
    },
    {
     "name": "stderr",
     "output_type": "stream",
     "text": [
      "Epoch [419/1000]: 100%|██████████| 17/17 [00:00<00:00, 1376.27it/s, loss=4.18]\n"
     ]
    },
    {
     "name": "stdout",
     "output_type": "stream",
     "text": [
      "Epoch [419/1000]: Train loss: 4.1591, Valid loss: 4.4467\n"
     ]
    },
    {
     "name": "stderr",
     "output_type": "stream",
     "text": [
      "Epoch [420/1000]: 100%|██████████| 17/17 [00:00<00:00, 1349.52it/s, loss=4.49]\n"
     ]
    },
    {
     "name": "stdout",
     "output_type": "stream",
     "text": [
      "Epoch [420/1000]: Train loss: 4.1540, Valid loss: 3.8835\n"
     ]
    },
    {
     "name": "stderr",
     "output_type": "stream",
     "text": [
      "Epoch [421/1000]: 100%|██████████| 17/17 [00:00<00:00, 1360.10it/s, loss=4.23]\n"
     ]
    },
    {
     "name": "stdout",
     "output_type": "stream",
     "text": [
      "Epoch [421/1000]: Train loss: 4.1446, Valid loss: 4.1216\n"
     ]
    },
    {
     "name": "stderr",
     "output_type": "stream",
     "text": [
      "Epoch [422/1000]: 100%|██████████| 17/17 [00:00<00:00, 1335.12it/s, loss=3.99]\n"
     ]
    },
    {
     "name": "stdout",
     "output_type": "stream",
     "text": [
      "Epoch [422/1000]: Train loss: 4.1353, Valid loss: 4.0635\n"
     ]
    },
    {
     "name": "stderr",
     "output_type": "stream",
     "text": [
      "Epoch [423/1000]: 100%|██████████| 17/17 [00:00<00:00, 853.76it/s, loss=4.14]\n"
     ]
    },
    {
     "name": "stdout",
     "output_type": "stream",
     "text": [
      "Epoch [423/1000]: Train loss: 4.1289, Valid loss: 4.1129\n"
     ]
    },
    {
     "name": "stderr",
     "output_type": "stream",
     "text": [
      "Epoch [424/1000]: 100%|██████████| 17/17 [00:00<00:00, 982.79it/s, loss=4.56]\n"
     ]
    },
    {
     "name": "stdout",
     "output_type": "stream",
     "text": [
      "Epoch [424/1000]: Train loss: 4.1353, Valid loss: 4.2733\n"
     ]
    },
    {
     "name": "stderr",
     "output_type": "stream",
     "text": [
      "Epoch [425/1000]: 100%|██████████| 17/17 [00:00<00:00, 1253.97it/s, loss=4.28]\n"
     ]
    },
    {
     "name": "stdout",
     "output_type": "stream",
     "text": [
      "Epoch [425/1000]: Train loss: 4.1169, Valid loss: 3.7904\n",
      "Saving model with loss 3.790...\n"
     ]
    },
    {
     "name": "stderr",
     "output_type": "stream",
     "text": [
      "Epoch [426/1000]: 100%|██████████| 17/17 [00:00<00:00, 1343.54it/s, loss=3.62]\n"
     ]
    },
    {
     "name": "stdout",
     "output_type": "stream",
     "text": [
      "Epoch [426/1000]: Train loss: 4.1042, Valid loss: 3.9927\n"
     ]
    },
    {
     "name": "stderr",
     "output_type": "stream",
     "text": [
      "Epoch [427/1000]: 100%|██████████| 17/17 [00:00<00:00, 1334.39it/s, loss=3.8]\n"
     ]
    },
    {
     "name": "stdout",
     "output_type": "stream",
     "text": [
      "Epoch [427/1000]: Train loss: 4.0965, Valid loss: 4.1014\n"
     ]
    },
    {
     "name": "stderr",
     "output_type": "stream",
     "text": [
      "Epoch [428/1000]: 100%|██████████| 17/17 [00:00<00:00, 1355.47it/s, loss=3.7]\n"
     ]
    },
    {
     "name": "stdout",
     "output_type": "stream",
     "text": [
      "Epoch [428/1000]: Train loss: 4.0882, Valid loss: 4.0848\n"
     ]
    },
    {
     "name": "stderr",
     "output_type": "stream",
     "text": [
      "Epoch [429/1000]: 100%|██████████| 17/17 [00:00<00:00, 1250.10it/s, loss=4.33]\n"
     ]
    },
    {
     "name": "stdout",
     "output_type": "stream",
     "text": [
      "Epoch [429/1000]: Train loss: 4.0876, Valid loss: 4.4606\n"
     ]
    },
    {
     "name": "stderr",
     "output_type": "stream",
     "text": [
      "Epoch [430/1000]: 100%|██████████| 17/17 [00:00<00:00, 1289.64it/s, loss=3.97]\n"
     ]
    },
    {
     "name": "stdout",
     "output_type": "stream",
     "text": [
      "Epoch [430/1000]: Train loss: 4.0766, Valid loss: 4.3738\n"
     ]
    },
    {
     "name": "stderr",
     "output_type": "stream",
     "text": [
      "Epoch [431/1000]: 100%|██████████| 17/17 [00:00<00:00, 1291.51it/s, loss=2.81]\n"
     ]
    },
    {
     "name": "stdout",
     "output_type": "stream",
     "text": [
      "Epoch [431/1000]: Train loss: 4.0610, Valid loss: 3.9847\n"
     ]
    },
    {
     "name": "stderr",
     "output_type": "stream",
     "text": [
      "Epoch [432/1000]: 100%|██████████| 17/17 [00:00<00:00, 1251.20it/s, loss=3.66]\n"
     ]
    },
    {
     "name": "stdout",
     "output_type": "stream",
     "text": [
      "Epoch [432/1000]: Train loss: 4.0590, Valid loss: 3.9608\n"
     ]
    },
    {
     "name": "stderr",
     "output_type": "stream",
     "text": [
      "Epoch [433/1000]: 100%|██████████| 17/17 [00:00<00:00, 1277.61it/s, loss=3.97]\n"
     ]
    },
    {
     "name": "stdout",
     "output_type": "stream",
     "text": [
      "Epoch [433/1000]: Train loss: 4.0567, Valid loss: 3.9184\n"
     ]
    },
    {
     "name": "stderr",
     "output_type": "stream",
     "text": [
      "Epoch [434/1000]: 100%|██████████| 17/17 [00:00<00:00, 1289.64it/s, loss=4.15]\n"
     ]
    },
    {
     "name": "stdout",
     "output_type": "stream",
     "text": [
      "Epoch [434/1000]: Train loss: 4.0492, Valid loss: 4.2367\n"
     ]
    },
    {
     "name": "stderr",
     "output_type": "stream",
     "text": [
      "Epoch [435/1000]: 100%|██████████| 17/17 [00:00<00:00, 1319.67it/s, loss=3.85]\n"
     ]
    },
    {
     "name": "stdout",
     "output_type": "stream",
     "text": [
      "Epoch [435/1000]: Train loss: 4.0368, Valid loss: 4.1454\n"
     ]
    },
    {
     "name": "stderr",
     "output_type": "stream",
     "text": [
      "Epoch [436/1000]: 100%|██████████| 17/17 [00:00<00:00, 1350.18it/s, loss=4.27]\n"
     ]
    },
    {
     "name": "stdout",
     "output_type": "stream",
     "text": [
      "Epoch [436/1000]: Train loss: 4.0348, Valid loss: 4.1593\n"
     ]
    },
    {
     "name": "stderr",
     "output_type": "stream",
     "text": [
      "Epoch [437/1000]: 100%|██████████| 17/17 [00:00<00:00, 1363.14it/s, loss=3.49]"
     ]
    },
    {
     "name": "stdout",
     "output_type": "stream",
     "text": [
      "Epoch [437/1000]: Train loss: 4.0317, Valid loss: 4.0101\n"
     ]
    },
    {
     "name": "stderr",
     "output_type": "stream",
     "text": [
      "\n",
      "Epoch [438/1000]: 100%|██████████| 17/17 [00:00<00:00, 1330.63it/s, loss=4.05]\n"
     ]
    },
    {
     "name": "stdout",
     "output_type": "stream",
     "text": [
      "Epoch [438/1000]: Train loss: 4.0176, Valid loss: 3.8130\n"
     ]
    },
    {
     "name": "stderr",
     "output_type": "stream",
     "text": [
      "Epoch [439/1000]: 100%|██████████| 17/17 [00:00<00:00, 1344.53it/s, loss=3.5]\n"
     ]
    },
    {
     "name": "stdout",
     "output_type": "stream",
     "text": [
      "Epoch [439/1000]: Train loss: 4.0056, Valid loss: 3.7770\n",
      "Saving model with loss 3.777...\n"
     ]
    },
    {
     "name": "stderr",
     "output_type": "stream",
     "text": [
      "Epoch [440/1000]: 100%|██████████| 17/17 [00:00<00:00, 1361.42it/s, loss=3.66]\n"
     ]
    },
    {
     "name": "stdout",
     "output_type": "stream",
     "text": [
      "Epoch [440/1000]: Train loss: 4.0080, Valid loss: 3.8810\n"
     ]
    },
    {
     "name": "stderr",
     "output_type": "stream",
     "text": [
      "Epoch [441/1000]: 100%|██████████| 17/17 [00:00<00:00, 1348.57it/s, loss=4.56]\n"
     ]
    },
    {
     "name": "stdout",
     "output_type": "stream",
     "text": [
      "Epoch [441/1000]: Train loss: 3.9991, Valid loss: 3.8127\n"
     ]
    },
    {
     "name": "stderr",
     "output_type": "stream",
     "text": [
      "Epoch [442/1000]: 100%|██████████| 17/17 [00:00<00:00, 1358.36it/s, loss=3.74]\n"
     ]
    },
    {
     "name": "stdout",
     "output_type": "stream",
     "text": [
      "Epoch [442/1000]: Train loss: 3.9835, Valid loss: 4.3141\n"
     ]
    },
    {
     "name": "stderr",
     "output_type": "stream",
     "text": [
      "Epoch [443/1000]: 100%|██████████| 17/17 [00:00<00:00, 609.21it/s, loss=3.65]\n"
     ]
    },
    {
     "name": "stdout",
     "output_type": "stream",
     "text": [
      "Epoch [443/1000]: Train loss: 3.9870, Valid loss: 3.6524\n",
      "Saving model with loss 3.652...\n"
     ]
    },
    {
     "name": "stderr",
     "output_type": "stream",
     "text": [
      "Epoch [444/1000]: 100%|██████████| 17/17 [00:00<00:00, 1241.24it/s, loss=3.42]\n"
     ]
    },
    {
     "name": "stdout",
     "output_type": "stream",
     "text": [
      "Epoch [444/1000]: Train loss: 3.9714, Valid loss: 3.9942\n"
     ]
    },
    {
     "name": "stderr",
     "output_type": "stream",
     "text": [
      "Epoch [445/1000]: 100%|██████████| 17/17 [00:00<00:00, 1264.51it/s, loss=4.54]\n"
     ]
    },
    {
     "name": "stdout",
     "output_type": "stream",
     "text": [
      "Epoch [445/1000]: Train loss: 3.9770, Valid loss: 3.9293\n"
     ]
    },
    {
     "name": "stderr",
     "output_type": "stream",
     "text": [
      "Epoch [446/1000]: 100%|██████████| 17/17 [00:00<00:00, 1286.32it/s, loss=3.44]\n"
     ]
    },
    {
     "name": "stdout",
     "output_type": "stream",
     "text": [
      "Epoch [446/1000]: Train loss: 3.9529, Valid loss: 3.9911\n"
     ]
    },
    {
     "name": "stderr",
     "output_type": "stream",
     "text": [
      "Epoch [447/1000]: 100%|██████████| 17/17 [00:00<00:00, 1302.17it/s, loss=3.18]\n"
     ]
    },
    {
     "name": "stdout",
     "output_type": "stream",
     "text": [
      "Epoch [447/1000]: Train loss: 3.9426, Valid loss: 3.9535\n"
     ]
    },
    {
     "name": "stderr",
     "output_type": "stream",
     "text": [
      "Epoch [448/1000]: 100%|██████████| 17/17 [00:00<00:00, 1292.08it/s, loss=3.5]\n"
     ]
    },
    {
     "name": "stdout",
     "output_type": "stream",
     "text": [
      "Epoch [448/1000]: Train loss: 3.9366, Valid loss: 3.9038\n"
     ]
    },
    {
     "name": "stderr",
     "output_type": "stream",
     "text": [
      "Epoch [449/1000]: 100%|██████████| 17/17 [00:00<00:00, 1327.81it/s, loss=4.05]\n"
     ]
    },
    {
     "name": "stdout",
     "output_type": "stream",
     "text": [
      "Epoch [449/1000]: Train loss: 3.9352, Valid loss: 3.9958\n"
     ]
    },
    {
     "name": "stderr",
     "output_type": "stream",
     "text": [
      "Epoch [450/1000]: 100%|██████████| 17/17 [00:00<00:00, 1362.18it/s, loss=4.35]\n"
     ]
    },
    {
     "name": "stdout",
     "output_type": "stream",
     "text": [
      "Epoch [450/1000]: Train loss: 3.9284, Valid loss: 4.0197\n"
     ]
    },
    {
     "name": "stderr",
     "output_type": "stream",
     "text": [
      "Epoch [451/1000]: 100%|██████████| 17/17 [00:00<00:00, 1364.78it/s, loss=3.45]\n"
     ]
    },
    {
     "name": "stdout",
     "output_type": "stream",
     "text": [
      "Epoch [451/1000]: Train loss: 3.9220, Valid loss: 3.8441\n"
     ]
    },
    {
     "name": "stderr",
     "output_type": "stream",
     "text": [
      "Epoch [452/1000]: 100%|██████████| 17/17 [00:00<00:00, 1358.36it/s, loss=4.17]\n"
     ]
    },
    {
     "name": "stdout",
     "output_type": "stream",
     "text": [
      "Epoch [452/1000]: Train loss: 3.9156, Valid loss: 3.9100\n"
     ]
    },
    {
     "name": "stderr",
     "output_type": "stream",
     "text": [
      "Epoch [453/1000]: 100%|██████████| 17/17 [00:00<00:00, 1303.39it/s, loss=3.58]\n"
     ]
    },
    {
     "name": "stdout",
     "output_type": "stream",
     "text": [
      "Epoch [453/1000]: Train loss: 3.9087, Valid loss: 3.9117\n"
     ]
    },
    {
     "name": "stderr",
     "output_type": "stream",
     "text": [
      "Epoch [454/1000]: 100%|██████████| 17/17 [00:00<00:00, 1321.41it/s, loss=3.73]\n"
     ]
    },
    {
     "name": "stdout",
     "output_type": "stream",
     "text": [
      "Epoch [454/1000]: Train loss: 3.9151, Valid loss: 3.6262\n",
      "Saving model with loss 3.626...\n"
     ]
    },
    {
     "name": "stderr",
     "output_type": "stream",
     "text": [
      "Epoch [455/1000]: 100%|██████████| 17/17 [00:00<00:00, 1341.02it/s, loss=5]\n"
     ]
    },
    {
     "name": "stdout",
     "output_type": "stream",
     "text": [
      "Epoch [455/1000]: Train loss: 3.9046, Valid loss: 3.8519\n"
     ]
    },
    {
     "name": "stderr",
     "output_type": "stream",
     "text": [
      "Epoch [456/1000]: 100%|██████████| 17/17 [00:00<00:00, 1372.40it/s, loss=3.52]\n"
     ]
    },
    {
     "name": "stdout",
     "output_type": "stream",
     "text": [
      "Epoch [456/1000]: Train loss: 3.8772, Valid loss: 4.3957\n"
     ]
    },
    {
     "name": "stderr",
     "output_type": "stream",
     "text": [
      "Epoch [457/1000]: 100%|██████████| 17/17 [00:00<00:00, 1365.36it/s, loss=3.42]\n"
     ]
    },
    {
     "name": "stdout",
     "output_type": "stream",
     "text": [
      "Epoch [457/1000]: Train loss: 3.8715, Valid loss: 3.7538\n"
     ]
    },
    {
     "name": "stderr",
     "output_type": "stream",
     "text": [
      "Epoch [458/1000]: 100%|██████████| 17/17 [00:00<00:00, 1375.53it/s, loss=2.93]\n"
     ]
    },
    {
     "name": "stdout",
     "output_type": "stream",
     "text": [
      "Epoch [458/1000]: Train loss: 3.8669, Valid loss: 4.1656\n"
     ]
    },
    {
     "name": "stderr",
     "output_type": "stream",
     "text": [
      "Epoch [459/1000]: 100%|██████████| 17/17 [00:00<00:00, 1339.03it/s, loss=4.18]\n"
     ]
    },
    {
     "name": "stdout",
     "output_type": "stream",
     "text": [
      "Epoch [459/1000]: Train loss: 3.8633, Valid loss: 3.6399\n"
     ]
    },
    {
     "name": "stderr",
     "output_type": "stream",
     "text": [
      "Epoch [460/1000]: 100%|██████████| 17/17 [00:00<00:00, 612.65it/s, loss=3.25]\n"
     ]
    },
    {
     "name": "stdout",
     "output_type": "stream",
     "text": [
      "Epoch [460/1000]: Train loss: 3.8524, Valid loss: 3.9642\n"
     ]
    },
    {
     "name": "stderr",
     "output_type": "stream",
     "text": [
      "Epoch [461/1000]: 100%|██████████| 17/17 [00:00<00:00, 1286.20it/s, loss=3.51]\n"
     ]
    },
    {
     "name": "stdout",
     "output_type": "stream",
     "text": [
      "Epoch [461/1000]: Train loss: 3.8408, Valid loss: 3.6088\n",
      "Saving model with loss 3.609...\n"
     ]
    },
    {
     "name": "stderr",
     "output_type": "stream",
     "text": [
      "Epoch [462/1000]: 100%|██████████| 17/17 [00:00<00:00, 1348.34it/s, loss=3.06]\n"
     ]
    },
    {
     "name": "stdout",
     "output_type": "stream",
     "text": [
      "Epoch [462/1000]: Train loss: 3.8364, Valid loss: 3.6812\n"
     ]
    },
    {
     "name": "stderr",
     "output_type": "stream",
     "text": [
      "Epoch [463/1000]: 100%|██████████| 17/17 [00:00<00:00, 1308.22it/s, loss=3.46]\n"
     ]
    },
    {
     "name": "stdout",
     "output_type": "stream",
     "text": [
      "Epoch [463/1000]: Train loss: 3.8261, Valid loss: 4.0170\n"
     ]
    },
    {
     "name": "stderr",
     "output_type": "stream",
     "text": [
      "Epoch [464/1000]: 100%|██████████| 17/17 [00:00<00:00, 1270.34it/s, loss=4.1]\n"
     ]
    },
    {
     "name": "stdout",
     "output_type": "stream",
     "text": [
      "Epoch [464/1000]: Train loss: 3.8220, Valid loss: 4.1010\n"
     ]
    },
    {
     "name": "stderr",
     "output_type": "stream",
     "text": [
      "Epoch [465/1000]: 100%|██████████| 17/17 [00:00<00:00, 1316.53it/s, loss=3.42]\n"
     ]
    },
    {
     "name": "stdout",
     "output_type": "stream",
     "text": [
      "Epoch [465/1000]: Train loss: 3.8099, Valid loss: 3.5689\n",
      "Saving model with loss 3.569...\n"
     ]
    },
    {
     "name": "stderr",
     "output_type": "stream",
     "text": [
      "Epoch [466/1000]: 100%|██████████| 17/17 [00:00<00:00, 1327.48it/s, loss=3.1]\n"
     ]
    },
    {
     "name": "stdout",
     "output_type": "stream",
     "text": [
      "Epoch [466/1000]: Train loss: 3.8013, Valid loss: 3.8735\n"
     ]
    },
    {
     "name": "stderr",
     "output_type": "stream",
     "text": [
      "Epoch [467/1000]: 100%|██████████| 17/17 [00:00<00:00, 1302.98it/s, loss=5.12]\n"
     ]
    },
    {
     "name": "stdout",
     "output_type": "stream",
     "text": [
      "Epoch [467/1000]: Train loss: 3.8160, Valid loss: 3.7285\n"
     ]
    },
    {
     "name": "stderr",
     "output_type": "stream",
     "text": [
      "Epoch [468/1000]: 100%|██████████| 17/17 [00:00<00:00, 1326.15it/s, loss=4.36]\n"
     ]
    },
    {
     "name": "stdout",
     "output_type": "stream",
     "text": [
      "Epoch [468/1000]: Train loss: 3.7992, Valid loss: 3.6495\n"
     ]
    },
    {
     "name": "stderr",
     "output_type": "stream",
     "text": [
      "Epoch [469/1000]: 100%|██████████| 17/17 [00:00<00:00, 1301.51it/s, loss=4.17]\n"
     ]
    },
    {
     "name": "stdout",
     "output_type": "stream",
     "text": [
      "Epoch [469/1000]: Train loss: 3.7963, Valid loss: 3.9609\n"
     ]
    },
    {
     "name": "stderr",
     "output_type": "stream",
     "text": [
      "Epoch [470/1000]: 100%|██████████| 17/17 [00:00<00:00, 1321.92it/s, loss=3.26]\n"
     ]
    },
    {
     "name": "stdout",
     "output_type": "stream",
     "text": [
      "Epoch [470/1000]: Train loss: 3.7734, Valid loss: 3.9658\n"
     ]
    },
    {
     "name": "stderr",
     "output_type": "stream",
     "text": [
      "Epoch [471/1000]: 100%|██████████| 17/17 [00:00<00:00, 1361.09it/s, loss=3.28]\n"
     ]
    },
    {
     "name": "stdout",
     "output_type": "stream",
     "text": [
      "Epoch [471/1000]: Train loss: 3.7778, Valid loss: 3.9377\n"
     ]
    },
    {
     "name": "stderr",
     "output_type": "stream",
     "text": [
      "Epoch [472/1000]: 100%|██████████| 17/17 [00:00<00:00, 1315.61it/s, loss=3.28]\n"
     ]
    },
    {
     "name": "stdout",
     "output_type": "stream",
     "text": [
      "Epoch [472/1000]: Train loss: 3.7879, Valid loss: 3.8357\n"
     ]
    },
    {
     "name": "stderr",
     "output_type": "stream",
     "text": [
      "Epoch [473/1000]: 100%|██████████| 17/17 [00:00<00:00, 1300.11it/s, loss=3.22]\n"
     ]
    },
    {
     "name": "stdout",
     "output_type": "stream",
     "text": [
      "Epoch [473/1000]: Train loss: 3.7583, Valid loss: 3.5215\n",
      "Saving model with loss 3.521...\n"
     ]
    },
    {
     "name": "stderr",
     "output_type": "stream",
     "text": [
      "Epoch [474/1000]: 100%|██████████| 17/17 [00:00<00:00, 1318.96it/s, loss=3.01]\n"
     ]
    },
    {
     "name": "stdout",
     "output_type": "stream",
     "text": [
      "Epoch [474/1000]: Train loss: 3.7481, Valid loss: 3.6204\n"
     ]
    },
    {
     "name": "stderr",
     "output_type": "stream",
     "text": [
      "Epoch [475/1000]: 100%|██████████| 17/17 [00:00<00:00, 1305.27it/s, loss=5.17]\n"
     ]
    },
    {
     "name": "stdout",
     "output_type": "stream",
     "text": [
      "Epoch [475/1000]: Train loss: 3.7539, Valid loss: 3.6780\n"
     ]
    },
    {
     "name": "stderr",
     "output_type": "stream",
     "text": [
      "Epoch [476/1000]: 100%|██████████| 17/17 [00:00<00:00, 1302.98it/s, loss=4.07]\n"
     ]
    },
    {
     "name": "stdout",
     "output_type": "stream",
     "text": [
      "Epoch [476/1000]: Train loss: 3.7379, Valid loss: 3.7059\n"
     ]
    },
    {
     "name": "stderr",
     "output_type": "stream",
     "text": [
      "Epoch [477/1000]: 100%|██████████| 17/17 [00:00<00:00, 1293.95it/s, loss=4.61]\n"
     ]
    },
    {
     "name": "stdout",
     "output_type": "stream",
     "text": [
      "Epoch [477/1000]: Train loss: 3.7404, Valid loss: 3.9807\n"
     ]
    },
    {
     "name": "stderr",
     "output_type": "stream",
     "text": [
      "Epoch [478/1000]: 100%|██████████| 17/17 [00:00<00:00, 1305.37it/s, loss=4.54]\n"
     ]
    },
    {
     "name": "stdout",
     "output_type": "stream",
     "text": [
      "Epoch [478/1000]: Train loss: 3.7363, Valid loss: 3.5007\n",
      "Saving model with loss 3.501...\n"
     ]
    },
    {
     "name": "stderr",
     "output_type": "stream",
     "text": [
      "Epoch [479/1000]: 100%|██████████| 17/17 [00:00<00:00, 1335.77it/s, loss=2.9]\n"
     ]
    },
    {
     "name": "stdout",
     "output_type": "stream",
     "text": [
      "Epoch [479/1000]: Train loss: 3.7027, Valid loss: 3.7076\n"
     ]
    },
    {
     "name": "stderr",
     "output_type": "stream",
     "text": [
      "Epoch [480/1000]: 100%|██████████| 17/17 [00:00<00:00, 1369.84it/s, loss=4.3]\n"
     ]
    },
    {
     "name": "stdout",
     "output_type": "stream",
     "text": [
      "Epoch [480/1000]: Train loss: 3.7183, Valid loss: 3.7860\n"
     ]
    },
    {
     "name": "stderr",
     "output_type": "stream",
     "text": [
      "Epoch [481/1000]: 100%|██████████| 17/17 [00:00<00:00, 1356.86it/s, loss=4.56]\n"
     ]
    },
    {
     "name": "stdout",
     "output_type": "stream",
     "text": [
      "Epoch [481/1000]: Train loss: 3.7146, Valid loss: 4.0186\n"
     ]
    },
    {
     "name": "stderr",
     "output_type": "stream",
     "text": [
      "Epoch [482/1000]: 100%|██████████| 17/17 [00:00<00:00, 1364.26it/s, loss=2.97]\n"
     ]
    },
    {
     "name": "stdout",
     "output_type": "stream",
     "text": [
      "Epoch [482/1000]: Train loss: 3.6852, Valid loss: 3.6575\n"
     ]
    },
    {
     "name": "stderr",
     "output_type": "stream",
     "text": [
      "Epoch [483/1000]: 100%|██████████| 17/17 [00:00<00:00, 1337.44it/s, loss=3.55]\n"
     ]
    },
    {
     "name": "stdout",
     "output_type": "stream",
     "text": [
      "Epoch [483/1000]: Train loss: 3.6823, Valid loss: 3.3961\n",
      "Saving model with loss 3.396...\n"
     ]
    },
    {
     "name": "stderr",
     "output_type": "stream",
     "text": [
      "Epoch [484/1000]: 100%|██████████| 17/17 [00:00<00:00, 1387.01it/s, loss=4.21]\n"
     ]
    },
    {
     "name": "stdout",
     "output_type": "stream",
     "text": [
      "Epoch [484/1000]: Train loss: 3.6919, Valid loss: 3.6586\n"
     ]
    },
    {
     "name": "stderr",
     "output_type": "stream",
     "text": [
      "Epoch [485/1000]: 100%|██████████| 17/17 [00:00<00:00, 618.68it/s, loss=4.38]\n"
     ]
    },
    {
     "name": "stdout",
     "output_type": "stream",
     "text": [
      "Epoch [485/1000]: Train loss: 3.6830, Valid loss: 3.4134\n"
     ]
    },
    {
     "name": "stderr",
     "output_type": "stream",
     "text": [
      "Epoch [486/1000]: 100%|██████████| 17/17 [00:00<00:00, 1270.55it/s, loss=4.13]\n"
     ]
    },
    {
     "name": "stdout",
     "output_type": "stream",
     "text": [
      "Epoch [486/1000]: Train loss: 3.6673, Valid loss: 3.8778\n"
     ]
    },
    {
     "name": "stderr",
     "output_type": "stream",
     "text": [
      "Epoch [487/1000]: 100%|██████████| 17/17 [00:00<00:00, 1257.57it/s, loss=3.39]\n"
     ]
    },
    {
     "name": "stdout",
     "output_type": "stream",
     "text": [
      "Epoch [487/1000]: Train loss: 3.6586, Valid loss: 3.6310\n"
     ]
    },
    {
     "name": "stderr",
     "output_type": "stream",
     "text": [
      "Epoch [488/1000]: 100%|██████████| 17/17 [00:00<00:00, 1273.98it/s, loss=3.24]\n"
     ]
    },
    {
     "name": "stdout",
     "output_type": "stream",
     "text": [
      "Epoch [488/1000]: Train loss: 3.6465, Valid loss: 3.6726\n"
     ]
    },
    {
     "name": "stderr",
     "output_type": "stream",
     "text": [
      "Epoch [489/1000]: 100%|██████████| 17/17 [00:00<00:00, 1269.03it/s, loss=4.13]\n"
     ]
    },
    {
     "name": "stdout",
     "output_type": "stream",
     "text": [
      "Epoch [489/1000]: Train loss: 3.6525, Valid loss: 3.5500\n"
     ]
    },
    {
     "name": "stderr",
     "output_type": "stream",
     "text": [
      "Epoch [490/1000]: 100%|██████████| 17/17 [00:00<00:00, 1309.40it/s, loss=3.29]\n"
     ]
    },
    {
     "name": "stdout",
     "output_type": "stream",
     "text": [
      "Epoch [490/1000]: Train loss: 3.6334, Valid loss: 3.4311\n"
     ]
    },
    {
     "name": "stderr",
     "output_type": "stream",
     "text": [
      "Epoch [491/1000]: 100%|██████████| 17/17 [00:00<00:00, 1328.23it/s, loss=3.48]\n"
     ]
    },
    {
     "name": "stdout",
     "output_type": "stream",
     "text": [
      "Epoch [491/1000]: Train loss: 3.6307, Valid loss: 3.5851\n"
     ]
    },
    {
     "name": "stderr",
     "output_type": "stream",
     "text": [
      "Epoch [492/1000]: 100%|██████████| 17/17 [00:00<00:00, 1302.89it/s, loss=3.21]\n"
     ]
    },
    {
     "name": "stdout",
     "output_type": "stream",
     "text": [
      "Epoch [492/1000]: Train loss: 3.6197, Valid loss: 3.7657\n"
     ]
    },
    {
     "name": "stderr",
     "output_type": "stream",
     "text": [
      "Epoch [493/1000]: 100%|██████████| 17/17 [00:00<00:00, 1311.30it/s, loss=3.66]\n"
     ]
    },
    {
     "name": "stdout",
     "output_type": "stream",
     "text": [
      "Epoch [493/1000]: Train loss: 3.6206, Valid loss: 3.6636\n"
     ]
    },
    {
     "name": "stderr",
     "output_type": "stream",
     "text": [
      "Epoch [494/1000]: 100%|██████████| 17/17 [00:00<00:00, 1312.43it/s, loss=3.71]\n"
     ]
    },
    {
     "name": "stdout",
     "output_type": "stream",
     "text": [
      "Epoch [494/1000]: Train loss: 3.6081, Valid loss: 3.6859\n"
     ]
    },
    {
     "name": "stderr",
     "output_type": "stream",
     "text": [
      "Epoch [495/1000]: 100%|██████████| 17/17 [00:00<00:00, 1346.44it/s, loss=4.06]\n"
     ]
    },
    {
     "name": "stdout",
     "output_type": "stream",
     "text": [
      "Epoch [495/1000]: Train loss: 3.6025, Valid loss: 4.2218\n"
     ]
    },
    {
     "name": "stderr",
     "output_type": "stream",
     "text": [
      "Epoch [496/1000]: 100%|██████████| 17/17 [00:00<00:00, 1352.98it/s, loss=3.79]\n"
     ]
    },
    {
     "name": "stdout",
     "output_type": "stream",
     "text": [
      "Epoch [496/1000]: Train loss: 3.5969, Valid loss: 3.5661\n"
     ]
    },
    {
     "name": "stderr",
     "output_type": "stream",
     "text": [
      "Epoch [497/1000]: 100%|██████████| 17/17 [00:00<00:00, 1330.53it/s, loss=4.92]\n"
     ]
    },
    {
     "name": "stdout",
     "output_type": "stream",
     "text": [
      "Epoch [497/1000]: Train loss: 3.5957, Valid loss: 3.4318\n"
     ]
    },
    {
     "name": "stderr",
     "output_type": "stream",
     "text": [
      "Epoch [498/1000]: 100%|██████████| 17/17 [00:00<00:00, 1287.39it/s, loss=3.29]\n"
     ]
    },
    {
     "name": "stdout",
     "output_type": "stream",
     "text": [
      "Epoch [498/1000]: Train loss: 3.5803, Valid loss: 3.5663\n"
     ]
    },
    {
     "name": "stderr",
     "output_type": "stream",
     "text": [
      "Epoch [499/1000]: 100%|██████████| 17/17 [00:00<00:00, 1298.90it/s, loss=3.44]\n"
     ]
    },
    {
     "name": "stdout",
     "output_type": "stream",
     "text": [
      "Epoch [499/1000]: Train loss: 3.5669, Valid loss: 3.8549\n"
     ]
    },
    {
     "name": "stderr",
     "output_type": "stream",
     "text": [
      "Epoch [500/1000]: 100%|██████████| 17/17 [00:00<00:00, 1317.11it/s, loss=4.26]\n"
     ]
    },
    {
     "name": "stdout",
     "output_type": "stream",
     "text": [
      "Epoch [500/1000]: Train loss: 3.5726, Valid loss: 3.6101\n"
     ]
    },
    {
     "name": "stderr",
     "output_type": "stream",
     "text": [
      "Epoch [501/1000]: 100%|██████████| 17/17 [00:00<00:00, 1353.62it/s, loss=3.2]\n"
     ]
    },
    {
     "name": "stdout",
     "output_type": "stream",
     "text": [
      "Epoch [501/1000]: Train loss: 3.5547, Valid loss: 3.6163\n"
     ]
    },
    {
     "name": "stderr",
     "output_type": "stream",
     "text": [
      "Epoch [502/1000]: 100%|██████████| 17/17 [00:00<00:00, 1375.74it/s, loss=4.49]\n"
     ]
    },
    {
     "name": "stdout",
     "output_type": "stream",
     "text": [
      "Epoch [502/1000]: Train loss: 3.5553, Valid loss: 3.5335\n"
     ]
    },
    {
     "name": "stderr",
     "output_type": "stream",
     "text": [
      "Epoch [503/1000]: 100%|██████████| 17/17 [00:00<00:00, 941.26it/s, loss=4.01]\n"
     ]
    },
    {
     "name": "stdout",
     "output_type": "stream",
     "text": [
      "Epoch [503/1000]: Train loss: 3.5504, Valid loss: 3.4711\n"
     ]
    },
    {
     "name": "stderr",
     "output_type": "stream",
     "text": [
      "Epoch [504/1000]: 100%|██████████| 17/17 [00:00<00:00, 998.49it/s, loss=3.27]\n"
     ]
    },
    {
     "name": "stdout",
     "output_type": "stream",
     "text": [
      "Epoch [504/1000]: Train loss: 3.5396, Valid loss: 3.2780\n",
      "Saving model with loss 3.278...\n"
     ]
    },
    {
     "name": "stderr",
     "output_type": "stream",
     "text": [
      "Epoch [505/1000]: 100%|██████████| 17/17 [00:00<00:00, 1330.71it/s, loss=4.19]\n"
     ]
    },
    {
     "name": "stdout",
     "output_type": "stream",
     "text": [
      "Epoch [505/1000]: Train loss: 3.5422, Valid loss: 3.5756\n"
     ]
    },
    {
     "name": "stderr",
     "output_type": "stream",
     "text": [
      "Epoch [506/1000]: 100%|██████████| 17/17 [00:00<00:00, 1355.21it/s, loss=3.63]\n"
     ]
    },
    {
     "name": "stdout",
     "output_type": "stream",
     "text": [
      "Epoch [506/1000]: Train loss: 3.5311, Valid loss: 3.5461\n"
     ]
    },
    {
     "name": "stderr",
     "output_type": "stream",
     "text": [
      "Epoch [507/1000]: 100%|██████████| 17/17 [00:00<00:00, 1343.97it/s, loss=4.1]\n"
     ]
    },
    {
     "name": "stdout",
     "output_type": "stream",
     "text": [
      "Epoch [507/1000]: Train loss: 3.5398, Valid loss: 3.2411\n",
      "Saving model with loss 3.241...\n"
     ]
    },
    {
     "name": "stderr",
     "output_type": "stream",
     "text": [
      "Epoch [508/1000]: 100%|██████████| 17/17 [00:00<00:00, 1284.49it/s, loss=4.5]\n"
     ]
    },
    {
     "name": "stdout",
     "output_type": "stream",
     "text": [
      "Epoch [508/1000]: Train loss: 3.5274, Valid loss: 3.5914\n"
     ]
    },
    {
     "name": "stderr",
     "output_type": "stream",
     "text": [
      "Epoch [509/1000]: 100%|██████████| 17/17 [00:00<00:00, 1307.79it/s, loss=2.91]\n"
     ]
    },
    {
     "name": "stdout",
     "output_type": "stream",
     "text": [
      "Epoch [509/1000]: Train loss: 3.4908, Valid loss: 3.4760\n"
     ]
    },
    {
     "name": "stderr",
     "output_type": "stream",
     "text": [
      "Epoch [510/1000]: 100%|██████████| 17/17 [00:00<00:00, 1295.62it/s, loss=4.06]\n"
     ]
    },
    {
     "name": "stdout",
     "output_type": "stream",
     "text": [
      "Epoch [510/1000]: Train loss: 3.4967, Valid loss: 3.4648\n"
     ]
    },
    {
     "name": "stderr",
     "output_type": "stream",
     "text": [
      "Epoch [511/1000]: 100%|██████████| 17/17 [00:00<00:00, 1313.76it/s, loss=2.78]\n"
     ]
    },
    {
     "name": "stdout",
     "output_type": "stream",
     "text": [
      "Epoch [511/1000]: Train loss: 3.4830, Valid loss: 3.3769\n"
     ]
    },
    {
     "name": "stderr",
     "output_type": "stream",
     "text": [
      "Epoch [512/1000]: 100%|██████████| 17/17 [00:00<00:00, 1337.42it/s, loss=3.35]\n"
     ]
    },
    {
     "name": "stdout",
     "output_type": "stream",
     "text": [
      "Epoch [512/1000]: Train loss: 3.4778, Valid loss: 3.3558\n"
     ]
    },
    {
     "name": "stderr",
     "output_type": "stream",
     "text": [
      "Epoch [513/1000]: 100%|██████████| 17/17 [00:00<00:00, 1360.96it/s, loss=4.31]\n"
     ]
    },
    {
     "name": "stdout",
     "output_type": "stream",
     "text": [
      "Epoch [513/1000]: Train loss: 3.4862, Valid loss: 3.6950\n"
     ]
    },
    {
     "name": "stderr",
     "output_type": "stream",
     "text": [
      "Epoch [514/1000]: 100%|██████████| 17/17 [00:00<00:00, 1352.74it/s, loss=2.98]\n"
     ]
    },
    {
     "name": "stdout",
     "output_type": "stream",
     "text": [
      "Epoch [514/1000]: Train loss: 3.4670, Valid loss: 3.3942\n"
     ]
    },
    {
     "name": "stderr",
     "output_type": "stream",
     "text": [
      "Epoch [515/1000]: 100%|██████████| 17/17 [00:00<00:00, 1325.41it/s, loss=2.94]\n"
     ]
    },
    {
     "name": "stdout",
     "output_type": "stream",
     "text": [
      "Epoch [515/1000]: Train loss: 3.4532, Valid loss: 3.4063\n"
     ]
    },
    {
     "name": "stderr",
     "output_type": "stream",
     "text": [
      "Epoch [516/1000]: 100%|██████████| 17/17 [00:00<00:00, 1341.65it/s, loss=4.13]\n"
     ]
    },
    {
     "name": "stdout",
     "output_type": "stream",
     "text": [
      "Epoch [516/1000]: Train loss: 3.4592, Valid loss: 3.6077\n"
     ]
    },
    {
     "name": "stderr",
     "output_type": "stream",
     "text": [
      "Epoch [517/1000]: 100%|██████████| 17/17 [00:00<00:00, 1335.02it/s, loss=3.14]\n"
     ]
    },
    {
     "name": "stdout",
     "output_type": "stream",
     "text": [
      "Epoch [517/1000]: Train loss: 3.4440, Valid loss: 3.4274\n"
     ]
    },
    {
     "name": "stderr",
     "output_type": "stream",
     "text": [
      "Epoch [518/1000]: 100%|██████████| 17/17 [00:00<00:00, 1343.04it/s, loss=3.32]\n"
     ]
    },
    {
     "name": "stdout",
     "output_type": "stream",
     "text": [
      "Epoch [518/1000]: Train loss: 3.4380, Valid loss: 3.2032\n",
      "Saving model with loss 3.203...\n"
     ]
    },
    {
     "name": "stderr",
     "output_type": "stream",
     "text": [
      "Epoch [519/1000]: 100%|██████████| 17/17 [00:00<00:00, 1336.07it/s, loss=3.79]\n"
     ]
    },
    {
     "name": "stdout",
     "output_type": "stream",
     "text": [
      "Epoch [519/1000]: Train loss: 3.4361, Valid loss: 3.4682\n"
     ]
    },
    {
     "name": "stderr",
     "output_type": "stream",
     "text": [
      "Epoch [520/1000]: 100%|██████████| 17/17 [00:00<00:00, 1378.74it/s, loss=2.58]\n"
     ]
    },
    {
     "name": "stdout",
     "output_type": "stream",
     "text": [
      "Epoch [520/1000]: Train loss: 3.4276, Valid loss: 3.3882\n"
     ]
    },
    {
     "name": "stderr",
     "output_type": "stream",
     "text": [
      "Epoch [521/1000]: 100%|██████████| 17/17 [00:00<00:00, 1328.52it/s, loss=3.12]\n"
     ]
    },
    {
     "name": "stdout",
     "output_type": "stream",
     "text": [
      "Epoch [521/1000]: Train loss: 3.4136, Valid loss: 3.3319\n"
     ]
    },
    {
     "name": "stderr",
     "output_type": "stream",
     "text": [
      "Epoch [522/1000]: 100%|██████████| 17/17 [00:00<00:00, 1273.32it/s, loss=2.8]\n"
     ]
    },
    {
     "name": "stdout",
     "output_type": "stream",
     "text": [
      "Epoch [522/1000]: Train loss: 3.4095, Valid loss: 3.6262\n"
     ]
    },
    {
     "name": "stderr",
     "output_type": "stream",
     "text": [
      "Epoch [523/1000]: 100%|██████████| 17/17 [00:00<00:00, 634.62it/s, loss=2.04]\n"
     ]
    },
    {
     "name": "stdout",
     "output_type": "stream",
     "text": [
      "Epoch [523/1000]: Train loss: 3.3952, Valid loss: 3.4501\n"
     ]
    },
    {
     "name": "stderr",
     "output_type": "stream",
     "text": [
      "Epoch [524/1000]: 100%|██████████| 17/17 [00:00<00:00, 1240.51it/s, loss=3.36]\n"
     ]
    },
    {
     "name": "stdout",
     "output_type": "stream",
     "text": [
      "Epoch [524/1000]: Train loss: 3.3959, Valid loss: 3.4172\n"
     ]
    },
    {
     "name": "stderr",
     "output_type": "stream",
     "text": [
      "Epoch [525/1000]: 100%|██████████| 17/17 [00:00<00:00, 1328.05it/s, loss=3.5]\n"
     ]
    },
    {
     "name": "stdout",
     "output_type": "stream",
     "text": [
      "Epoch [525/1000]: Train loss: 3.3963, Valid loss: 3.3469\n"
     ]
    },
    {
     "name": "stderr",
     "output_type": "stream",
     "text": [
      "Epoch [526/1000]: 100%|██████████| 17/17 [00:00<00:00, 1380.99it/s, loss=2.63]\n"
     ]
    },
    {
     "name": "stdout",
     "output_type": "stream",
     "text": [
      "Epoch [526/1000]: Train loss: 3.3878, Valid loss: 3.3554\n"
     ]
    },
    {
     "name": "stderr",
     "output_type": "stream",
     "text": [
      "Epoch [527/1000]: 100%|██████████| 17/17 [00:00<00:00, 1363.71it/s, loss=3.09]\n"
     ]
    },
    {
     "name": "stdout",
     "output_type": "stream",
     "text": [
      "Epoch [527/1000]: Train loss: 3.3760, Valid loss: 3.2347\n"
     ]
    },
    {
     "name": "stderr",
     "output_type": "stream",
     "text": [
      "Epoch [528/1000]: 100%|██████████| 17/17 [00:00<00:00, 1321.70it/s, loss=2.98]\n"
     ]
    },
    {
     "name": "stdout",
     "output_type": "stream",
     "text": [
      "Epoch [528/1000]: Train loss: 3.3678, Valid loss: 3.8197\n"
     ]
    },
    {
     "name": "stderr",
     "output_type": "stream",
     "text": [
      "Epoch [529/1000]: 100%|██████████| 17/17 [00:00<00:00, 1363.27it/s, loss=3.68]\n"
     ]
    },
    {
     "name": "stdout",
     "output_type": "stream",
     "text": [
      "Epoch [529/1000]: Train loss: 3.3709, Valid loss: 3.3495\n"
     ]
    },
    {
     "name": "stderr",
     "output_type": "stream",
     "text": [
      "Epoch [530/1000]: 100%|██████████| 17/17 [00:00<00:00, 1354.47it/s, loss=3.3]\n"
     ]
    },
    {
     "name": "stdout",
     "output_type": "stream",
     "text": [
      "Epoch [530/1000]: Train loss: 3.3552, Valid loss: 3.5070\n"
     ]
    },
    {
     "name": "stderr",
     "output_type": "stream",
     "text": [
      "Epoch [531/1000]: 100%|██████████| 17/17 [00:00<00:00, 1358.03it/s, loss=3.37]\n"
     ]
    },
    {
     "name": "stdout",
     "output_type": "stream",
     "text": [
      "Epoch [531/1000]: Train loss: 3.3541, Valid loss: 3.5883\n"
     ]
    },
    {
     "name": "stderr",
     "output_type": "stream",
     "text": [
      "Epoch [532/1000]: 100%|██████████| 17/17 [00:00<00:00, 1307.79it/s, loss=3.7]\n"
     ]
    },
    {
     "name": "stdout",
     "output_type": "stream",
     "text": [
      "Epoch [532/1000]: Train loss: 3.3434, Valid loss: 3.4752\n"
     ]
    },
    {
     "name": "stderr",
     "output_type": "stream",
     "text": [
      "Epoch [533/1000]: 100%|██████████| 17/17 [00:00<00:00, 1331.67it/s, loss=3.77]\n"
     ]
    },
    {
     "name": "stdout",
     "output_type": "stream",
     "text": [
      "Epoch [533/1000]: Train loss: 3.3381, Valid loss: 3.2786\n"
     ]
    },
    {
     "name": "stderr",
     "output_type": "stream",
     "text": [
      "Epoch [534/1000]: 100%|██████████| 17/17 [00:00<00:00, 1312.02it/s, loss=3.95]\n"
     ]
    },
    {
     "name": "stdout",
     "output_type": "stream",
     "text": [
      "Epoch [534/1000]: Train loss: 3.3327, Valid loss: 3.3266\n"
     ]
    },
    {
     "name": "stderr",
     "output_type": "stream",
     "text": [
      "Epoch [535/1000]: 100%|██████████| 17/17 [00:00<00:00, 1361.76it/s, loss=3.56]\n"
     ]
    },
    {
     "name": "stdout",
     "output_type": "stream",
     "text": [
      "Epoch [535/1000]: Train loss: 3.3288, Valid loss: 3.5853\n"
     ]
    },
    {
     "name": "stderr",
     "output_type": "stream",
     "text": [
      "Epoch [536/1000]: 100%|██████████| 17/17 [00:00<00:00, 1376.40it/s, loss=3.89]\n"
     ]
    },
    {
     "name": "stdout",
     "output_type": "stream",
     "text": [
      "Epoch [536/1000]: Train loss: 3.3227, Valid loss: 3.7839\n"
     ]
    },
    {
     "name": "stderr",
     "output_type": "stream",
     "text": [
      "Epoch [537/1000]: 100%|██████████| 17/17 [00:00<00:00, 1349.95it/s, loss=2.98]\n"
     ]
    },
    {
     "name": "stdout",
     "output_type": "stream",
     "text": [
      "Epoch [537/1000]: Train loss: 3.3092, Valid loss: 3.3126\n"
     ]
    },
    {
     "name": "stderr",
     "output_type": "stream",
     "text": [
      "Epoch [538/1000]: 100%|██████████| 17/17 [00:00<00:00, 1299.78it/s, loss=3.77]\n"
     ]
    },
    {
     "name": "stdout",
     "output_type": "stream",
     "text": [
      "Epoch [538/1000]: Train loss: 3.3083, Valid loss: 3.2454\n"
     ]
    },
    {
     "name": "stderr",
     "output_type": "stream",
     "text": [
      "Epoch [539/1000]: 100%|██████████| 17/17 [00:00<00:00, 1331.85it/s, loss=2.73]\n"
     ]
    },
    {
     "name": "stdout",
     "output_type": "stream",
     "text": [
      "Epoch [539/1000]: Train loss: 3.2923, Valid loss: 3.1963\n",
      "Saving model with loss 3.196...\n"
     ]
    },
    {
     "name": "stderr",
     "output_type": "stream",
     "text": [
      "Epoch [540/1000]: 100%|██████████| 17/17 [00:00<00:00, 1342.81it/s, loss=3.44]\n"
     ]
    },
    {
     "name": "stdout",
     "output_type": "stream",
     "text": [
      "Epoch [540/1000]: Train loss: 3.2908, Valid loss: 3.2214\n"
     ]
    },
    {
     "name": "stderr",
     "output_type": "stream",
     "text": [
      "Epoch [541/1000]: 100%|██████████| 17/17 [00:00<00:00, 773.01it/s, loss=3.08]\n"
     ]
    },
    {
     "name": "stdout",
     "output_type": "stream",
     "text": [
      "Epoch [541/1000]: Train loss: 3.2828, Valid loss: 3.4232\n"
     ]
    },
    {
     "name": "stderr",
     "output_type": "stream",
     "text": [
      "Epoch [542/1000]: 100%|██████████| 17/17 [00:00<00:00, 1279.76it/s, loss=3.62]\n"
     ]
    },
    {
     "name": "stdout",
     "output_type": "stream",
     "text": [
      "Epoch [542/1000]: Train loss: 3.2788, Valid loss: 3.2177\n"
     ]
    },
    {
     "name": "stderr",
     "output_type": "stream",
     "text": [
      "Epoch [543/1000]: 100%|██████████| 17/17 [00:00<00:00, 1287.80it/s, loss=3.26]\n"
     ]
    },
    {
     "name": "stdout",
     "output_type": "stream",
     "text": [
      "Epoch [543/1000]: Train loss: 3.2763, Valid loss: 3.5460\n"
     ]
    },
    {
     "name": "stderr",
     "output_type": "stream",
     "text": [
      "Epoch [544/1000]: 100%|██████████| 17/17 [00:00<00:00, 1272.09it/s, loss=2.9]\n"
     ]
    },
    {
     "name": "stdout",
     "output_type": "stream",
     "text": [
      "Epoch [544/1000]: Train loss: 3.2633, Valid loss: 3.2520\n"
     ]
    },
    {
     "name": "stderr",
     "output_type": "stream",
     "text": [
      "Epoch [545/1000]: 100%|██████████| 17/17 [00:00<00:00, 1295.93it/s, loss=2.79]\n"
     ]
    },
    {
     "name": "stdout",
     "output_type": "stream",
     "text": [
      "Epoch [545/1000]: Train loss: 3.2542, Valid loss: 3.2608\n"
     ]
    },
    {
     "name": "stderr",
     "output_type": "stream",
     "text": [
      "Epoch [546/1000]: 100%|██████████| 17/17 [00:00<00:00, 1284.67it/s, loss=4.01]\n"
     ]
    },
    {
     "name": "stdout",
     "output_type": "stream",
     "text": [
      "Epoch [546/1000]: Train loss: 3.2658, Valid loss: 3.2734\n"
     ]
    },
    {
     "name": "stderr",
     "output_type": "stream",
     "text": [
      "Epoch [547/1000]: 100%|██████████| 17/17 [00:00<00:00, 1312.26it/s, loss=4.04]\n"
     ]
    },
    {
     "name": "stdout",
     "output_type": "stream",
     "text": [
      "Epoch [547/1000]: Train loss: 3.2523, Valid loss: 3.2755\n"
     ]
    },
    {
     "name": "stderr",
     "output_type": "stream",
     "text": [
      "Epoch [548/1000]: 100%|██████████| 17/17 [00:00<00:00, 1265.07it/s, loss=3.73]\n"
     ]
    },
    {
     "name": "stdout",
     "output_type": "stream",
     "text": [
      "Epoch [548/1000]: Train loss: 3.2425, Valid loss: 3.2826\n"
     ]
    },
    {
     "name": "stderr",
     "output_type": "stream",
     "text": [
      "Epoch [549/1000]: 100%|██████████| 17/17 [00:00<00:00, 1248.65it/s, loss=3.22]\n"
     ]
    },
    {
     "name": "stdout",
     "output_type": "stream",
     "text": [
      "Epoch [549/1000]: Train loss: 3.2377, Valid loss: 3.3352\n"
     ]
    },
    {
     "name": "stderr",
     "output_type": "stream",
     "text": [
      "Epoch [550/1000]: 100%|██████████| 17/17 [00:00<00:00, 1343.47it/s, loss=2.73]\n"
     ]
    },
    {
     "name": "stdout",
     "output_type": "stream",
     "text": [
      "Epoch [550/1000]: Train loss: 3.2349, Valid loss: 3.2807\n"
     ]
    },
    {
     "name": "stderr",
     "output_type": "stream",
     "text": [
      "Epoch [551/1000]: 100%|██████████| 17/17 [00:00<00:00, 1359.66it/s, loss=3.02]\n"
     ]
    },
    {
     "name": "stdout",
     "output_type": "stream",
     "text": [
      "Epoch [551/1000]: Train loss: 3.2158, Valid loss: 3.1896\n",
      "Saving model with loss 3.190...\n"
     ]
    },
    {
     "name": "stderr",
     "output_type": "stream",
     "text": [
      "Epoch [552/1000]: 100%|██████████| 17/17 [00:00<00:00, 1314.27it/s, loss=2.48]\n"
     ]
    },
    {
     "name": "stdout",
     "output_type": "stream",
     "text": [
      "Epoch [552/1000]: Train loss: 3.2119, Valid loss: 3.2109\n"
     ]
    },
    {
     "name": "stderr",
     "output_type": "stream",
     "text": [
      "Epoch [553/1000]: 100%|██████████| 17/17 [00:00<00:00, 1332.42it/s, loss=3.52]\n"
     ]
    },
    {
     "name": "stdout",
     "output_type": "stream",
     "text": [
      "Epoch [553/1000]: Train loss: 3.2081, Valid loss: 3.2044\n"
     ]
    },
    {
     "name": "stderr",
     "output_type": "stream",
     "text": [
      "Epoch [554/1000]: 100%|██████████| 17/17 [00:00<00:00, 644.99it/s, loss=2.75]\n"
     ]
    },
    {
     "name": "stdout",
     "output_type": "stream",
     "text": [
      "Epoch [554/1000]: Train loss: 3.1974, Valid loss: 3.2478\n"
     ]
    },
    {
     "name": "stderr",
     "output_type": "stream",
     "text": [
      "Epoch [555/1000]: 100%|██████████| 17/17 [00:00<00:00, 1249.09it/s, loss=3.51]\n"
     ]
    },
    {
     "name": "stdout",
     "output_type": "stream",
     "text": [
      "Epoch [555/1000]: Train loss: 3.2007, Valid loss: 3.2462\n"
     ]
    },
    {
     "name": "stderr",
     "output_type": "stream",
     "text": [
      "Epoch [556/1000]: 100%|██████████| 17/17 [00:00<00:00, 1339.53it/s, loss=3.57]\n"
     ]
    },
    {
     "name": "stdout",
     "output_type": "stream",
     "text": [
      "Epoch [556/1000]: Train loss: 3.1932, Valid loss: 3.3952\n"
     ]
    },
    {
     "name": "stderr",
     "output_type": "stream",
     "text": [
      "Epoch [557/1000]: 100%|██████████| 17/17 [00:00<00:00, 1350.72it/s, loss=2.5]\n"
     ]
    },
    {
     "name": "stdout",
     "output_type": "stream",
     "text": [
      "Epoch [557/1000]: Train loss: 3.1782, Valid loss: 3.2654\n"
     ]
    },
    {
     "name": "stderr",
     "output_type": "stream",
     "text": [
      "Epoch [558/1000]: 100%|██████████| 17/17 [00:00<00:00, 1331.77it/s, loss=3.05]\n"
     ]
    },
    {
     "name": "stdout",
     "output_type": "stream",
     "text": [
      "Epoch [558/1000]: Train loss: 3.1777, Valid loss: 3.3854\n"
     ]
    },
    {
     "name": "stderr",
     "output_type": "stream",
     "text": [
      "Epoch [559/1000]: 100%|██████████| 17/17 [00:00<00:00, 1313.06it/s, loss=3.72]\n"
     ]
    },
    {
     "name": "stdout",
     "output_type": "stream",
     "text": [
      "Epoch [559/1000]: Train loss: 3.1690, Valid loss: 3.1870\n",
      "Saving model with loss 3.187...\n"
     ]
    },
    {
     "name": "stderr",
     "output_type": "stream",
     "text": [
      "Epoch [560/1000]: 100%|██████████| 17/17 [00:00<00:00, 1335.12it/s, loss=3.68]\n"
     ]
    },
    {
     "name": "stdout",
     "output_type": "stream",
     "text": [
      "Epoch [560/1000]: Train loss: 3.1775, Valid loss: 3.3309\n"
     ]
    },
    {
     "name": "stderr",
     "output_type": "stream",
     "text": [
      "Epoch [561/1000]: 100%|██████████| 17/17 [00:00<00:00, 1344.40it/s, loss=1.8]\n"
     ]
    },
    {
     "name": "stdout",
     "output_type": "stream",
     "text": [
      "Epoch [561/1000]: Train loss: 3.1461, Valid loss: 3.3126\n"
     ]
    },
    {
     "name": "stderr",
     "output_type": "stream",
     "text": [
      "Epoch [562/1000]: 100%|██████████| 17/17 [00:00<00:00, 1365.36it/s, loss=3.01]\n"
     ]
    },
    {
     "name": "stdout",
     "output_type": "stream",
     "text": [
      "Epoch [562/1000]: Train loss: 3.1560, Valid loss: 3.0888\n",
      "Saving model with loss 3.089...\n"
     ]
    },
    {
     "name": "stderr",
     "output_type": "stream",
     "text": [
      "Epoch [563/1000]: 100%|██████████| 17/17 [00:00<00:00, 1311.83it/s, loss=2.62]\n"
     ]
    },
    {
     "name": "stdout",
     "output_type": "stream",
     "text": [
      "Epoch [563/1000]: Train loss: 3.1509, Valid loss: 3.4620\n"
     ]
    },
    {
     "name": "stderr",
     "output_type": "stream",
     "text": [
      "Epoch [564/1000]: 100%|██████████| 17/17 [00:00<00:00, 1297.22it/s, loss=3.21]\n"
     ]
    },
    {
     "name": "stdout",
     "output_type": "stream",
     "text": [
      "Epoch [564/1000]: Train loss: 3.1489, Valid loss: 3.0499\n",
      "Saving model with loss 3.050...\n"
     ]
    },
    {
     "name": "stderr",
     "output_type": "stream",
     "text": [
      "Epoch [565/1000]: 100%|██████████| 17/17 [00:00<00:00, 1237.77it/s, loss=3.54]\n"
     ]
    },
    {
     "name": "stdout",
     "output_type": "stream",
     "text": [
      "Epoch [565/1000]: Train loss: 3.1352, Valid loss: 3.3479\n"
     ]
    },
    {
     "name": "stderr",
     "output_type": "stream",
     "text": [
      "Epoch [566/1000]: 100%|██████████| 17/17 [00:00<00:00, 1282.92it/s, loss=3.81]\n"
     ]
    },
    {
     "name": "stdout",
     "output_type": "stream",
     "text": [
      "Epoch [566/1000]: Train loss: 3.1285, Valid loss: 3.7670\n"
     ]
    },
    {
     "name": "stderr",
     "output_type": "stream",
     "text": [
      "Epoch [567/1000]: 100%|██████████| 17/17 [00:00<00:00, 1293.65it/s, loss=3.38]\n"
     ]
    },
    {
     "name": "stdout",
     "output_type": "stream",
     "text": [
      "Epoch [567/1000]: Train loss: 3.1250, Valid loss: 3.2157\n"
     ]
    },
    {
     "name": "stderr",
     "output_type": "stream",
     "text": [
      "Epoch [568/1000]: 100%|██████████| 17/17 [00:00<00:00, 1312.75it/s, loss=3.13]\n"
     ]
    },
    {
     "name": "stdout",
     "output_type": "stream",
     "text": [
      "Epoch [568/1000]: Train loss: 3.1177, Valid loss: 3.3489\n"
     ]
    },
    {
     "name": "stderr",
     "output_type": "stream",
     "text": [
      "Epoch [569/1000]: 100%|██████████| 17/17 [00:00<00:00, 1307.02it/s, loss=3.41]\n"
     ]
    },
    {
     "name": "stdout",
     "output_type": "stream",
     "text": [
      "Epoch [569/1000]: Train loss: 3.1138, Valid loss: 3.3425\n"
     ]
    },
    {
     "name": "stderr",
     "output_type": "stream",
     "text": [
      "Epoch [570/1000]: 100%|██████████| 17/17 [00:00<00:00, 718.88it/s, loss=2.49]\n"
     ]
    },
    {
     "name": "stdout",
     "output_type": "stream",
     "text": [
      "Epoch [570/1000]: Train loss: 3.0976, Valid loss: 3.0975\n"
     ]
    },
    {
     "name": "stderr",
     "output_type": "stream",
     "text": [
      "Epoch [571/1000]: 100%|██████████| 17/17 [00:00<00:00, 1260.75it/s, loss=4.21]\n"
     ]
    },
    {
     "name": "stdout",
     "output_type": "stream",
     "text": [
      "Epoch [571/1000]: Train loss: 3.1047, Valid loss: 3.3986\n"
     ]
    },
    {
     "name": "stderr",
     "output_type": "stream",
     "text": [
      "Epoch [572/1000]: 100%|██████████| 17/17 [00:00<00:00, 1258.42it/s, loss=2.85]\n"
     ]
    },
    {
     "name": "stdout",
     "output_type": "stream",
     "text": [
      "Epoch [572/1000]: Train loss: 3.0875, Valid loss: 2.9973\n",
      "Saving model with loss 2.997...\n"
     ]
    },
    {
     "name": "stderr",
     "output_type": "stream",
     "text": [
      "Epoch [573/1000]: 100%|██████████| 17/17 [00:00<00:00, 1313.98it/s, loss=2.73]\n"
     ]
    },
    {
     "name": "stdout",
     "output_type": "stream",
     "text": [
      "Epoch [573/1000]: Train loss: 3.0801, Valid loss: 3.7508\n"
     ]
    },
    {
     "name": "stderr",
     "output_type": "stream",
     "text": [
      "Epoch [574/1000]: 100%|██████████| 17/17 [00:00<00:00, 1331.15it/s, loss=2.81]\n"
     ]
    },
    {
     "name": "stdout",
     "output_type": "stream",
     "text": [
      "Epoch [574/1000]: Train loss: 3.0744, Valid loss: 3.0977\n"
     ]
    },
    {
     "name": "stderr",
     "output_type": "stream",
     "text": [
      "Epoch [575/1000]: 100%|██████████| 17/17 [00:00<00:00, 1310.02it/s, loss=3.6]\n"
     ]
    },
    {
     "name": "stdout",
     "output_type": "stream",
     "text": [
      "Epoch [575/1000]: Train loss: 3.0749, Valid loss: 3.1953\n"
     ]
    },
    {
     "name": "stderr",
     "output_type": "stream",
     "text": [
      "Epoch [576/1000]: 100%|██████████| 17/17 [00:00<00:00, 1316.92it/s, loss=2.81]\n"
     ]
    },
    {
     "name": "stdout",
     "output_type": "stream",
     "text": [
      "Epoch [576/1000]: Train loss: 3.0694, Valid loss: 3.2636\n"
     ]
    },
    {
     "name": "stderr",
     "output_type": "stream",
     "text": [
      "Epoch [577/1000]: 100%|██████████| 17/17 [00:00<00:00, 1287.08it/s, loss=3.16]\n"
     ]
    },
    {
     "name": "stdout",
     "output_type": "stream",
     "text": [
      "Epoch [577/1000]: Train loss: 3.0568, Valid loss: 2.9268\n",
      "Saving model with loss 2.927...\n"
     ]
    },
    {
     "name": "stderr",
     "output_type": "stream",
     "text": [
      "Epoch [578/1000]: 100%|██████████| 17/17 [00:00<00:00, 1280.50it/s, loss=3.33]\n"
     ]
    },
    {
     "name": "stdout",
     "output_type": "stream",
     "text": [
      "Epoch [578/1000]: Train loss: 3.0539, Valid loss: 2.9885\n"
     ]
    },
    {
     "name": "stderr",
     "output_type": "stream",
     "text": [
      "Epoch [579/1000]: 100%|██████████| 17/17 [00:00<00:00, 1258.02it/s, loss=2.97]\n"
     ]
    },
    {
     "name": "stdout",
     "output_type": "stream",
     "text": [
      "Epoch [579/1000]: Train loss: 3.0515, Valid loss: 3.3280\n"
     ]
    },
    {
     "name": "stderr",
     "output_type": "stream",
     "text": [
      "Epoch [580/1000]: 100%|██████████| 17/17 [00:00<00:00, 1294.82it/s, loss=2.44]\n"
     ]
    },
    {
     "name": "stdout",
     "output_type": "stream",
     "text": [
      "Epoch [580/1000]: Train loss: 3.0349, Valid loss: 2.9536\n"
     ]
    },
    {
     "name": "stderr",
     "output_type": "stream",
     "text": [
      "Epoch [581/1000]: 100%|██████████| 17/17 [00:00<00:00, 1300.87it/s, loss=3.57]\n"
     ]
    },
    {
     "name": "stdout",
     "output_type": "stream",
     "text": [
      "Epoch [581/1000]: Train loss: 3.0433, Valid loss: 3.3267\n"
     ]
    },
    {
     "name": "stderr",
     "output_type": "stream",
     "text": [
      "Epoch [582/1000]: 100%|██████████| 17/17 [00:00<00:00, 1297.70it/s, loss=2.61]\n"
     ]
    },
    {
     "name": "stdout",
     "output_type": "stream",
     "text": [
      "Epoch [582/1000]: Train loss: 3.0332, Valid loss: 2.8931\n",
      "Saving model with loss 2.893...\n"
     ]
    },
    {
     "name": "stderr",
     "output_type": "stream",
     "text": [
      "Epoch [583/1000]: 100%|██████████| 17/17 [00:00<00:00, 1303.77it/s, loss=2.93]\n"
     ]
    },
    {
     "name": "stdout",
     "output_type": "stream",
     "text": [
      "Epoch [583/1000]: Train loss: 3.0226, Valid loss: 3.3857\n"
     ]
    },
    {
     "name": "stderr",
     "output_type": "stream",
     "text": [
      "Epoch [584/1000]: 100%|██████████| 17/17 [00:00<00:00, 898.09it/s, loss=3.22]\n"
     ]
    },
    {
     "name": "stdout",
     "output_type": "stream",
     "text": [
      "Epoch [584/1000]: Train loss: 3.0180, Valid loss: 3.5212\n"
     ]
    },
    {
     "name": "stderr",
     "output_type": "stream",
     "text": [
      "Epoch [585/1000]: 100%|██████████| 17/17 [00:00<00:00, 972.09it/s, loss=3.61]\n"
     ]
    },
    {
     "name": "stdout",
     "output_type": "stream",
     "text": [
      "Epoch [585/1000]: Train loss: 3.0137, Valid loss: 3.0310\n"
     ]
    },
    {
     "name": "stderr",
     "output_type": "stream",
     "text": [
      "Epoch [586/1000]: 100%|██████████| 17/17 [00:00<00:00, 1339.61it/s, loss=2.43]\n"
     ]
    },
    {
     "name": "stdout",
     "output_type": "stream",
     "text": [
      "Epoch [586/1000]: Train loss: 3.0144, Valid loss: 3.1298\n"
     ]
    },
    {
     "name": "stderr",
     "output_type": "stream",
     "text": [
      "Epoch [587/1000]: 100%|██████████| 17/17 [00:00<00:00, 1330.61it/s, loss=2.68]\n"
     ]
    },
    {
     "name": "stdout",
     "output_type": "stream",
     "text": [
      "Epoch [587/1000]: Train loss: 2.9951, Valid loss: 2.8395\n",
      "Saving model with loss 2.840...\n"
     ]
    },
    {
     "name": "stderr",
     "output_type": "stream",
     "text": [
      "Epoch [588/1000]: 100%|██████████| 17/17 [00:00<00:00, 1339.10it/s, loss=2.75]\n"
     ]
    },
    {
     "name": "stdout",
     "output_type": "stream",
     "text": [
      "Epoch [588/1000]: Train loss: 2.9924, Valid loss: 3.4226\n"
     ]
    },
    {
     "name": "stderr",
     "output_type": "stream",
     "text": [
      "Epoch [589/1000]: 100%|██████████| 17/17 [00:00<00:00, 1264.20it/s, loss=2.6]\n"
     ]
    },
    {
     "name": "stdout",
     "output_type": "stream",
     "text": [
      "Epoch [589/1000]: Train loss: 2.9839, Valid loss: 3.3091\n"
     ]
    },
    {
     "name": "stderr",
     "output_type": "stream",
     "text": [
      "Epoch [590/1000]: 100%|██████████| 17/17 [00:00<00:00, 1302.08it/s, loss=2.63]\n"
     ]
    },
    {
     "name": "stdout",
     "output_type": "stream",
     "text": [
      "Epoch [590/1000]: Train loss: 2.9812, Valid loss: 3.1169\n"
     ]
    },
    {
     "name": "stderr",
     "output_type": "stream",
     "text": [
      "Epoch [591/1000]: 100%|██████████| 17/17 [00:00<00:00, 1332.50it/s, loss=2.87]\n"
     ]
    },
    {
     "name": "stdout",
     "output_type": "stream",
     "text": [
      "Epoch [591/1000]: Train loss: 2.9799, Valid loss: 3.1259\n"
     ]
    },
    {
     "name": "stderr",
     "output_type": "stream",
     "text": [
      "Epoch [592/1000]: 100%|██████████| 17/17 [00:00<00:00, 1314.08it/s, loss=4.01]\n"
     ]
    },
    {
     "name": "stdout",
     "output_type": "stream",
     "text": [
      "Epoch [592/1000]: Train loss: 2.9756, Valid loss: 3.0868\n"
     ]
    },
    {
     "name": "stderr",
     "output_type": "stream",
     "text": [
      "Epoch [593/1000]: 100%|██████████| 17/17 [00:00<00:00, 1294.37it/s, loss=2.71]\n"
     ]
    },
    {
     "name": "stdout",
     "output_type": "stream",
     "text": [
      "Epoch [593/1000]: Train loss: 2.9648, Valid loss: 3.0594\n"
     ]
    },
    {
     "name": "stderr",
     "output_type": "stream",
     "text": [
      "Epoch [594/1000]: 100%|██████████| 17/17 [00:00<00:00, 1342.71it/s, loss=2.81]\n"
     ]
    },
    {
     "name": "stdout",
     "output_type": "stream",
     "text": [
      "Epoch [594/1000]: Train loss: 2.9661, Valid loss: 2.9050\n"
     ]
    },
    {
     "name": "stderr",
     "output_type": "stream",
     "text": [
      "Epoch [595/1000]: 100%|██████████| 17/17 [00:00<00:00, 1363.48it/s, loss=2.39]\n"
     ]
    },
    {
     "name": "stdout",
     "output_type": "stream",
     "text": [
      "Epoch [595/1000]: Train loss: 2.9465, Valid loss: 2.9812\n"
     ]
    },
    {
     "name": "stderr",
     "output_type": "stream",
     "text": [
      "Epoch [596/1000]: 100%|██████████| 17/17 [00:00<00:00, 1394.11it/s, loss=3.27]\n"
     ]
    },
    {
     "name": "stdout",
     "output_type": "stream",
     "text": [
      "Epoch [596/1000]: Train loss: 2.9488, Valid loss: 2.8875\n"
     ]
    },
    {
     "name": "stderr",
     "output_type": "stream",
     "text": [
      "Epoch [597/1000]: 100%|██████████| 17/17 [00:00<00:00, 1314.97it/s, loss=2.76]\n"
     ]
    },
    {
     "name": "stdout",
     "output_type": "stream",
     "text": [
      "Epoch [597/1000]: Train loss: 2.9430, Valid loss: 3.0617\n"
     ]
    },
    {
     "name": "stderr",
     "output_type": "stream",
     "text": [
      "Epoch [598/1000]: 100%|██████████| 17/17 [00:00<00:00, 1360.96it/s, loss=2.58]\n"
     ]
    },
    {
     "name": "stdout",
     "output_type": "stream",
     "text": [
      "Epoch [598/1000]: Train loss: 2.9357, Valid loss: 2.9006\n"
     ]
    },
    {
     "name": "stderr",
     "output_type": "stream",
     "text": [
      "Epoch [599/1000]: 100%|██████████| 17/17 [00:00<00:00, 1343.47it/s, loss=2.9]\n"
     ]
    },
    {
     "name": "stdout",
     "output_type": "stream",
     "text": [
      "Epoch [599/1000]: Train loss: 2.9317, Valid loss: 3.0202\n"
     ]
    },
    {
     "name": "stderr",
     "output_type": "stream",
     "text": [
      "Epoch [600/1000]: 100%|██████████| 17/17 [00:00<00:00, 1381.63it/s, loss=2.64]\n"
     ]
    },
    {
     "name": "stdout",
     "output_type": "stream",
     "text": [
      "Epoch [600/1000]: Train loss: 2.9272, Valid loss: 2.9245\n"
     ]
    },
    {
     "name": "stderr",
     "output_type": "stream",
     "text": [
      "Epoch [601/1000]: 100%|██████████| 17/17 [00:00<00:00, 1307.67it/s, loss=3.18]\n"
     ]
    },
    {
     "name": "stdout",
     "output_type": "stream",
     "text": [
      "Epoch [601/1000]: Train loss: 2.9276, Valid loss: 3.0853\n"
     ]
    },
    {
     "name": "stderr",
     "output_type": "stream",
     "text": [
      "Epoch [602/1000]: 100%|██████████| 17/17 [00:00<00:00, 1296.35it/s, loss=2.69]\n"
     ]
    },
    {
     "name": "stdout",
     "output_type": "stream",
     "text": [
      "Epoch [602/1000]: Train loss: 2.9133, Valid loss: 3.2529\n"
     ]
    },
    {
     "name": "stderr",
     "output_type": "stream",
     "text": [
      "Epoch [603/1000]: 100%|██████████| 17/17 [00:00<00:00, 1321.51it/s, loss=3.18]\n"
     ]
    },
    {
     "name": "stdout",
     "output_type": "stream",
     "text": [
      "Epoch [603/1000]: Train loss: 2.9131, Valid loss: 3.0343\n"
     ]
    },
    {
     "name": "stderr",
     "output_type": "stream",
     "text": [
      "Epoch [604/1000]: 100%|██████████| 17/17 [00:00<00:00, 1347.50it/s, loss=2.89]\n"
     ]
    },
    {
     "name": "stdout",
     "output_type": "stream",
     "text": [
      "Epoch [604/1000]: Train loss: 2.9015, Valid loss: 2.8377\n",
      "Saving model with loss 2.838...\n"
     ]
    },
    {
     "name": "stderr",
     "output_type": "stream",
     "text": [
      "Epoch [605/1000]: 100%|██████████| 17/17 [00:00<00:00, 1365.15it/s, loss=2.72]\n"
     ]
    },
    {
     "name": "stdout",
     "output_type": "stream",
     "text": [
      "Epoch [605/1000]: Train loss: 2.8946, Valid loss: 2.9518\n"
     ]
    },
    {
     "name": "stderr",
     "output_type": "stream",
     "text": [
      "Epoch [606/1000]: 100%|██████████| 17/17 [00:00<00:00, 1374.41it/s, loss=4.27]\n"
     ]
    },
    {
     "name": "stdout",
     "output_type": "stream",
     "text": [
      "Epoch [606/1000]: Train loss: 2.9031, Valid loss: 2.8676\n"
     ]
    },
    {
     "name": "stderr",
     "output_type": "stream",
     "text": [
      "Epoch [607/1000]: 100%|██████████| 17/17 [00:00<00:00, 1338.98it/s, loss=3.34]\n"
     ]
    },
    {
     "name": "stdout",
     "output_type": "stream",
     "text": [
      "Epoch [607/1000]: Train loss: 2.8868, Valid loss: 2.9853\n"
     ]
    },
    {
     "name": "stderr",
     "output_type": "stream",
     "text": [
      "Epoch [608/1000]: 100%|██████████| 17/17 [00:00<00:00, 1309.83it/s, loss=2.84]\n"
     ]
    },
    {
     "name": "stdout",
     "output_type": "stream",
     "text": [
      "Epoch [608/1000]: Train loss: 2.8802, Valid loss: 2.9043\n"
     ]
    },
    {
     "name": "stderr",
     "output_type": "stream",
     "text": [
      "Epoch [609/1000]: 100%|██████████| 17/17 [00:00<00:00, 770.46it/s, loss=3.35]\n"
     ]
    },
    {
     "name": "stdout",
     "output_type": "stream",
     "text": [
      "Epoch [609/1000]: Train loss: 2.8821, Valid loss: 2.9353\n"
     ]
    },
    {
     "name": "stderr",
     "output_type": "stream",
     "text": [
      "Epoch [610/1000]: 100%|██████████| 17/17 [00:00<00:00, 1071.66it/s, loss=3.46]\n"
     ]
    },
    {
     "name": "stdout",
     "output_type": "stream",
     "text": [
      "Epoch [610/1000]: Train loss: 2.8786, Valid loss: 3.0000\n"
     ]
    },
    {
     "name": "stderr",
     "output_type": "stream",
     "text": [
      "Epoch [611/1000]: 100%|██████████| 17/17 [00:00<00:00, 1307.91it/s, loss=2.89]\n"
     ]
    },
    {
     "name": "stdout",
     "output_type": "stream",
     "text": [
      "Epoch [611/1000]: Train loss: 2.8643, Valid loss: 3.0732\n"
     ]
    },
    {
     "name": "stderr",
     "output_type": "stream",
     "text": [
      "Epoch [612/1000]: 100%|██████████| 17/17 [00:00<00:00, 1330.53it/s, loss=3.07]\n"
     ]
    },
    {
     "name": "stdout",
     "output_type": "stream",
     "text": [
      "Epoch [612/1000]: Train loss: 2.8611, Valid loss: 2.8857\n"
     ]
    },
    {
     "name": "stderr",
     "output_type": "stream",
     "text": [
      "Epoch [613/1000]: 100%|██████████| 17/17 [00:00<00:00, 1328.23it/s, loss=2.56]\n"
     ]
    },
    {
     "name": "stdout",
     "output_type": "stream",
     "text": [
      "Epoch [613/1000]: Train loss: 2.8506, Valid loss: 3.1786\n"
     ]
    },
    {
     "name": "stderr",
     "output_type": "stream",
     "text": [
      "Epoch [614/1000]: 100%|██████████| 17/17 [00:00<00:00, 1358.36it/s, loss=3.34]\n"
     ]
    },
    {
     "name": "stdout",
     "output_type": "stream",
     "text": [
      "Epoch [614/1000]: Train loss: 2.8514, Valid loss: 2.9452\n"
     ]
    },
    {
     "name": "stderr",
     "output_type": "stream",
     "text": [
      "Epoch [615/1000]: 100%|██████████| 17/17 [00:00<00:00, 1348.14it/s, loss=3.23]\n"
     ]
    },
    {
     "name": "stdout",
     "output_type": "stream",
     "text": [
      "Epoch [615/1000]: Train loss: 2.8523, Valid loss: 2.8889\n"
     ]
    },
    {
     "name": "stderr",
     "output_type": "stream",
     "text": [
      "Epoch [616/1000]: 100%|██████████| 17/17 [00:00<00:00, 1332.00it/s, loss=2.35]\n"
     ]
    },
    {
     "name": "stdout",
     "output_type": "stream",
     "text": [
      "Epoch [616/1000]: Train loss: 2.8360, Valid loss: 2.7986\n",
      "Saving model with loss 2.799...\n"
     ]
    },
    {
     "name": "stderr",
     "output_type": "stream",
     "text": [
      "Epoch [617/1000]: 100%|██████████| 17/17 [00:00<00:00, 1330.83it/s, loss=2.27]\n"
     ]
    },
    {
     "name": "stdout",
     "output_type": "stream",
     "text": [
      "Epoch [617/1000]: Train loss: 2.8352, Valid loss: 3.0673\n"
     ]
    },
    {
     "name": "stderr",
     "output_type": "stream",
     "text": [
      "Epoch [618/1000]: 100%|██████████| 17/17 [00:00<00:00, 1302.79it/s, loss=2.04]\n"
     ]
    },
    {
     "name": "stdout",
     "output_type": "stream",
     "text": [
      "Epoch [618/1000]: Train loss: 2.8183, Valid loss: 2.9708\n"
     ]
    },
    {
     "name": "stderr",
     "output_type": "stream",
     "text": [
      "Epoch [619/1000]: 100%|██████████| 17/17 [00:00<00:00, 1296.82it/s, loss=3.28]\n"
     ]
    },
    {
     "name": "stdout",
     "output_type": "stream",
     "text": [
      "Epoch [619/1000]: Train loss: 2.8254, Valid loss: 3.0831\n"
     ]
    },
    {
     "name": "stderr",
     "output_type": "stream",
     "text": [
      "Epoch [620/1000]: 100%|██████████| 17/17 [00:00<00:00, 1301.87it/s, loss=2.89]\n"
     ]
    },
    {
     "name": "stdout",
     "output_type": "stream",
     "text": [
      "Epoch [620/1000]: Train loss: 2.8162, Valid loss: 3.3012\n"
     ]
    },
    {
     "name": "stderr",
     "output_type": "stream",
     "text": [
      "Epoch [621/1000]: 100%|██████████| 17/17 [00:00<00:00, 895.22it/s, loss=2.84]\n"
     ]
    },
    {
     "name": "stdout",
     "output_type": "stream",
     "text": [
      "Epoch [621/1000]: Train loss: 2.8114, Valid loss: 2.8679\n"
     ]
    },
    {
     "name": "stderr",
     "output_type": "stream",
     "text": [
      "Epoch [622/1000]: 100%|██████████| 17/17 [00:00<00:00, 994.08it/s, loss=3.01]\n"
     ]
    },
    {
     "name": "stdout",
     "output_type": "stream",
     "text": [
      "Epoch [622/1000]: Train loss: 2.8129, Valid loss: 2.8743\n"
     ]
    },
    {
     "name": "stderr",
     "output_type": "stream",
     "text": [
      "Epoch [623/1000]: 100%|██████████| 17/17 [00:00<00:00, 1289.55it/s, loss=2.54]\n"
     ]
    },
    {
     "name": "stdout",
     "output_type": "stream",
     "text": [
      "Epoch [623/1000]: Train loss: 2.7999, Valid loss: 2.8260\n"
     ]
    },
    {
     "name": "stderr",
     "output_type": "stream",
     "text": [
      "Epoch [624/1000]: 100%|██████████| 17/17 [00:00<00:00, 1304.77it/s, loss=3.04]\n"
     ]
    },
    {
     "name": "stdout",
     "output_type": "stream",
     "text": [
      "Epoch [624/1000]: Train loss: 2.8007, Valid loss: 3.0314\n"
     ]
    },
    {
     "name": "stderr",
     "output_type": "stream",
     "text": [
      "Epoch [625/1000]: 100%|██████████| 17/17 [00:00<00:00, 1294.96it/s, loss=4.19]\n"
     ]
    },
    {
     "name": "stdout",
     "output_type": "stream",
     "text": [
      "Epoch [625/1000]: Train loss: 2.8025, Valid loss: 3.1595\n"
     ]
    },
    {
     "name": "stderr",
     "output_type": "stream",
     "text": [
      "Epoch [626/1000]: 100%|██████████| 17/17 [00:00<00:00, 1318.87it/s, loss=2.61]\n"
     ]
    },
    {
     "name": "stdout",
     "output_type": "stream",
     "text": [
      "Epoch [626/1000]: Train loss: 2.7820, Valid loss: 2.9521\n"
     ]
    },
    {
     "name": "stderr",
     "output_type": "stream",
     "text": [
      "Epoch [627/1000]: 100%|██████████| 17/17 [00:00<00:00, 1339.96it/s, loss=2.87]\n"
     ]
    },
    {
     "name": "stdout",
     "output_type": "stream",
     "text": [
      "Epoch [627/1000]: Train loss: 2.7797, Valid loss: 2.7264\n",
      "Saving model with loss 2.726...\n"
     ]
    },
    {
     "name": "stderr",
     "output_type": "stream",
     "text": [
      "Epoch [628/1000]: 100%|██████████| 17/17 [00:00<00:00, 1306.80it/s, loss=3.16]\n"
     ]
    },
    {
     "name": "stdout",
     "output_type": "stream",
     "text": [
      "Epoch [628/1000]: Train loss: 2.7792, Valid loss: 2.7115\n",
      "Saving model with loss 2.711...\n"
     ]
    },
    {
     "name": "stderr",
     "output_type": "stream",
     "text": [
      "Epoch [629/1000]: 100%|██████████| 17/17 [00:00<00:00, 1287.60it/s, loss=2.6]\n"
     ]
    },
    {
     "name": "stdout",
     "output_type": "stream",
     "text": [
      "Epoch [629/1000]: Train loss: 2.7765, Valid loss: 3.1175\n"
     ]
    },
    {
     "name": "stderr",
     "output_type": "stream",
     "text": [
      "Epoch [630/1000]: 100%|██████████| 17/17 [00:00<00:00, 1301.08it/s, loss=2.46]\n"
     ]
    },
    {
     "name": "stdout",
     "output_type": "stream",
     "text": [
      "Epoch [630/1000]: Train loss: 2.7607, Valid loss: 2.8958\n"
     ]
    },
    {
     "name": "stderr",
     "output_type": "stream",
     "text": [
      "Epoch [631/1000]: 100%|██████████| 17/17 [00:00<00:00, 1304.46it/s, loss=2.3]\n"
     ]
    },
    {
     "name": "stdout",
     "output_type": "stream",
     "text": [
      "Epoch [631/1000]: Train loss: 2.7550, Valid loss: 2.9987\n"
     ]
    },
    {
     "name": "stderr",
     "output_type": "stream",
     "text": [
      "Epoch [632/1000]: 100%|██████████| 17/17 [00:00<00:00, 1314.17it/s, loss=2.81]\n"
     ]
    },
    {
     "name": "stdout",
     "output_type": "stream",
     "text": [
      "Epoch [632/1000]: Train loss: 2.7530, Valid loss: 3.0525\n"
     ]
    },
    {
     "name": "stderr",
     "output_type": "stream",
     "text": [
      "Epoch [633/1000]: 100%|██████████| 17/17 [00:00<00:00, 1308.29it/s, loss=2.98]\n"
     ]
    },
    {
     "name": "stdout",
     "output_type": "stream",
     "text": [
      "Epoch [633/1000]: Train loss: 2.7512, Valid loss: 2.9816\n"
     ]
    },
    {
     "name": "stderr",
     "output_type": "stream",
     "text": [
      "Epoch [634/1000]: 100%|██████████| 17/17 [00:00<00:00, 1373.96it/s, loss=1.78]\n"
     ]
    },
    {
     "name": "stdout",
     "output_type": "stream",
     "text": [
      "Epoch [634/1000]: Train loss: 2.7397, Valid loss: 2.9827\n"
     ]
    },
    {
     "name": "stderr",
     "output_type": "stream",
     "text": [
      "Epoch [635/1000]: 100%|██████████| 17/17 [00:00<00:00, 1368.98it/s, loss=1.87]\n"
     ]
    },
    {
     "name": "stdout",
     "output_type": "stream",
     "text": [
      "Epoch [635/1000]: Train loss: 2.7349, Valid loss: 3.1134\n"
     ]
    },
    {
     "name": "stderr",
     "output_type": "stream",
     "text": [
      "Epoch [636/1000]: 100%|██████████| 17/17 [00:00<00:00, 1352.85it/s, loss=2.12]\n"
     ]
    },
    {
     "name": "stdout",
     "output_type": "stream",
     "text": [
      "Epoch [636/1000]: Train loss: 2.7365, Valid loss: 2.8054\n"
     ]
    },
    {
     "name": "stderr",
     "output_type": "stream",
     "text": [
      "Epoch [637/1000]: 100%|██████████| 17/17 [00:00<00:00, 1315.61it/s, loss=2.95]\n"
     ]
    },
    {
     "name": "stdout",
     "output_type": "stream",
     "text": [
      "Epoch [637/1000]: Train loss: 2.7304, Valid loss: 2.7844\n"
     ]
    },
    {
     "name": "stderr",
     "output_type": "stream",
     "text": [
      "Epoch [638/1000]: 100%|██████████| 17/17 [00:00<00:00, 1290.51it/s, loss=2.41]\n"
     ]
    },
    {
     "name": "stdout",
     "output_type": "stream",
     "text": [
      "Epoch [638/1000]: Train loss: 2.7235, Valid loss: 3.0814\n"
     ]
    },
    {
     "name": "stderr",
     "output_type": "stream",
     "text": [
      "Epoch [639/1000]: 100%|██████████| 17/17 [00:00<00:00, 1115.35it/s, loss=3.64]\n"
     ]
    },
    {
     "name": "stdout",
     "output_type": "stream",
     "text": [
      "Epoch [639/1000]: Train loss: 2.7247, Valid loss: 2.7387\n"
     ]
    },
    {
     "name": "stderr",
     "output_type": "stream",
     "text": [
      "Epoch [640/1000]: 100%|██████████| 17/17 [00:00<00:00, 800.15it/s, loss=2.73]\n"
     ]
    },
    {
     "name": "stdout",
     "output_type": "stream",
     "text": [
      "Epoch [640/1000]: Train loss: 2.7187, Valid loss: 3.2206\n"
     ]
    },
    {
     "name": "stderr",
     "output_type": "stream",
     "text": [
      "Epoch [641/1000]: 100%|██████████| 17/17 [00:00<00:00, 1265.43it/s, loss=2.71]\n"
     ]
    },
    {
     "name": "stdout",
     "output_type": "stream",
     "text": [
      "Epoch [641/1000]: Train loss: 2.7093, Valid loss: 2.8175\n"
     ]
    },
    {
     "name": "stderr",
     "output_type": "stream",
     "text": [
      "Epoch [642/1000]: 100%|██████████| 17/17 [00:00<00:00, 1305.49it/s, loss=3.21]\n"
     ]
    },
    {
     "name": "stdout",
     "output_type": "stream",
     "text": [
      "Epoch [642/1000]: Train loss: 2.7100, Valid loss: 3.1236\n"
     ]
    },
    {
     "name": "stderr",
     "output_type": "stream",
     "text": [
      "Epoch [643/1000]: 100%|██████████| 17/17 [00:00<00:00, 1342.94it/s, loss=2.92]\n"
     ]
    },
    {
     "name": "stdout",
     "output_type": "stream",
     "text": [
      "Epoch [643/1000]: Train loss: 2.7006, Valid loss: 2.8212\n"
     ]
    },
    {
     "name": "stderr",
     "output_type": "stream",
     "text": [
      "Epoch [644/1000]: 100%|██████████| 17/17 [00:00<00:00, 1284.56it/s, loss=3.63]\n"
     ]
    },
    {
     "name": "stdout",
     "output_type": "stream",
     "text": [
      "Epoch [644/1000]: Train loss: 2.7046, Valid loss: 2.7812\n"
     ]
    },
    {
     "name": "stderr",
     "output_type": "stream",
     "text": [
      "Epoch [645/1000]: 100%|██████████| 17/17 [00:00<00:00, 1322.34it/s, loss=2.38]\n"
     ]
    },
    {
     "name": "stdout",
     "output_type": "stream",
     "text": [
      "Epoch [645/1000]: Train loss: 2.6858, Valid loss: 2.8037\n"
     ]
    },
    {
     "name": "stderr",
     "output_type": "stream",
     "text": [
      "Epoch [646/1000]: 100%|██████████| 17/17 [00:00<00:00, 1368.43it/s, loss=2.68]\n"
     ]
    },
    {
     "name": "stdout",
     "output_type": "stream",
     "text": [
      "Epoch [646/1000]: Train loss: 2.6853, Valid loss: 2.7969\n"
     ]
    },
    {
     "name": "stderr",
     "output_type": "stream",
     "text": [
      "Epoch [647/1000]: 100%|██████████| 17/17 [00:00<00:00, 1354.39it/s, loss=3.56]\n"
     ]
    },
    {
     "name": "stdout",
     "output_type": "stream",
     "text": [
      "Epoch [647/1000]: Train loss: 2.6876, Valid loss: 2.4832\n",
      "Saving model with loss 2.483...\n"
     ]
    },
    {
     "name": "stderr",
     "output_type": "stream",
     "text": [
      "Epoch [648/1000]: 100%|██████████| 17/17 [00:00<00:00, 456.10it/s, loss=2.81]\n"
     ]
    },
    {
     "name": "stdout",
     "output_type": "stream",
     "text": [
      "Epoch [648/1000]: Train loss: 2.6741, Valid loss: 2.9022\n"
     ]
    },
    {
     "name": "stderr",
     "output_type": "stream",
     "text": [
      "Epoch [649/1000]: 100%|██████████| 17/17 [00:00<00:00, 833.00it/s, loss=2.88]\n"
     ]
    },
    {
     "name": "stdout",
     "output_type": "stream",
     "text": [
      "Epoch [649/1000]: Train loss: 2.6698, Valid loss: 2.7078\n"
     ]
    },
    {
     "name": "stderr",
     "output_type": "stream",
     "text": [
      "Epoch [650/1000]: 100%|██████████| 17/17 [00:00<00:00, 1287.01it/s, loss=2.96]\n"
     ]
    },
    {
     "name": "stdout",
     "output_type": "stream",
     "text": [
      "Epoch [650/1000]: Train loss: 2.6683, Valid loss: 2.6991\n"
     ]
    },
    {
     "name": "stderr",
     "output_type": "stream",
     "text": [
      "Epoch [651/1000]: 100%|██████████| 17/17 [00:00<00:00, 1201.26it/s, loss=2.59]\n"
     ]
    },
    {
     "name": "stdout",
     "output_type": "stream",
     "text": [
      "Epoch [651/1000]: Train loss: 2.6590, Valid loss: 2.7230\n"
     ]
    },
    {
     "name": "stderr",
     "output_type": "stream",
     "text": [
      "Epoch [652/1000]: 100%|██████████| 17/17 [00:00<00:00, 1251.28it/s, loss=2.8]\n"
     ]
    },
    {
     "name": "stdout",
     "output_type": "stream",
     "text": [
      "Epoch [652/1000]: Train loss: 2.6589, Valid loss: 2.8798\n"
     ]
    },
    {
     "name": "stderr",
     "output_type": "stream",
     "text": [
      "Epoch [653/1000]: 100%|██████████| 17/17 [00:00<00:00, 690.43it/s, loss=2.96]\n"
     ]
    },
    {
     "name": "stdout",
     "output_type": "stream",
     "text": [
      "Epoch [653/1000]: Train loss: 2.6542, Valid loss: 2.7259\n"
     ]
    },
    {
     "name": "stderr",
     "output_type": "stream",
     "text": [
      "Epoch [654/1000]: 100%|██████████| 17/17 [00:00<00:00, 1042.76it/s, loss=2.59]\n"
     ]
    },
    {
     "name": "stdout",
     "output_type": "stream",
     "text": [
      "Epoch [654/1000]: Train loss: 2.6527, Valid loss: 2.8351\n"
     ]
    },
    {
     "name": "stderr",
     "output_type": "stream",
     "text": [
      "Epoch [655/1000]: 100%|██████████| 17/17 [00:00<00:00, 1160.02it/s, loss=2.33]\n"
     ]
    },
    {
     "name": "stdout",
     "output_type": "stream",
     "text": [
      "Epoch [655/1000]: Train loss: 2.6503, Valid loss: 2.9281\n"
     ]
    },
    {
     "name": "stderr",
     "output_type": "stream",
     "text": [
      "Epoch [656/1000]: 100%|██████████| 17/17 [00:00<00:00, 1224.68it/s, loss=2.36]\n"
     ]
    },
    {
     "name": "stdout",
     "output_type": "stream",
     "text": [
      "Epoch [656/1000]: Train loss: 2.6347, Valid loss: 2.9317\n"
     ]
    },
    {
     "name": "stderr",
     "output_type": "stream",
     "text": [
      "Epoch [657/1000]: 100%|██████████| 17/17 [00:00<00:00, 1211.59it/s, loss=2.97]\n"
     ]
    },
    {
     "name": "stdout",
     "output_type": "stream",
     "text": [
      "Epoch [657/1000]: Train loss: 2.6396, Valid loss: 2.5132\n"
     ]
    },
    {
     "name": "stderr",
     "output_type": "stream",
     "text": [
      "Epoch [658/1000]: 100%|██████████| 17/17 [00:00<00:00, 1210.31it/s, loss=3.19]\n"
     ]
    },
    {
     "name": "stdout",
     "output_type": "stream",
     "text": [
      "Epoch [658/1000]: Train loss: 2.6324, Valid loss: 2.6137\n"
     ]
    },
    {
     "name": "stderr",
     "output_type": "stream",
     "text": [
      "Epoch [659/1000]: 100%|██████████| 17/17 [00:00<00:00, 1191.64it/s, loss=2.25]\n"
     ]
    },
    {
     "name": "stdout",
     "output_type": "stream",
     "text": [
      "Epoch [659/1000]: Train loss: 2.6306, Valid loss: 3.2244\n"
     ]
    },
    {
     "name": "stderr",
     "output_type": "stream",
     "text": [
      "Epoch [660/1000]: 100%|██████████| 17/17 [00:00<00:00, 1198.19it/s, loss=2.61]\n"
     ]
    },
    {
     "name": "stdout",
     "output_type": "stream",
     "text": [
      "Epoch [660/1000]: Train loss: 2.6390, Valid loss: 2.7236\n"
     ]
    },
    {
     "name": "stderr",
     "output_type": "stream",
     "text": [
      "Epoch [661/1000]: 100%|██████████| 17/17 [00:00<00:00, 1266.80it/s, loss=2.1]\n"
     ]
    },
    {
     "name": "stdout",
     "output_type": "stream",
     "text": [
      "Epoch [661/1000]: Train loss: 2.6182, Valid loss: 2.8223\n"
     ]
    },
    {
     "name": "stderr",
     "output_type": "stream",
     "text": [
      "Epoch [662/1000]: 100%|██████████| 17/17 [00:00<00:00, 1208.24it/s, loss=2.91]\n"
     ]
    },
    {
     "name": "stdout",
     "output_type": "stream",
     "text": [
      "Epoch [662/1000]: Train loss: 2.6104, Valid loss: 2.7661\n"
     ]
    },
    {
     "name": "stderr",
     "output_type": "stream",
     "text": [
      "Epoch [663/1000]: 100%|██████████| 17/17 [00:00<00:00, 1250.74it/s, loss=2.28]\n"
     ]
    },
    {
     "name": "stdout",
     "output_type": "stream",
     "text": [
      "Epoch [663/1000]: Train loss: 2.6059, Valid loss: 2.6857\n"
     ]
    },
    {
     "name": "stderr",
     "output_type": "stream",
     "text": [
      "Epoch [664/1000]: 100%|██████████| 17/17 [00:00<00:00, 960.66it/s, loss=2.27]\n"
     ]
    },
    {
     "name": "stdout",
     "output_type": "stream",
     "text": [
      "Epoch [664/1000]: Train loss: 2.6029, Valid loss: 2.7088\n"
     ]
    },
    {
     "name": "stderr",
     "output_type": "stream",
     "text": [
      "Epoch [665/1000]: 100%|██████████| 17/17 [00:00<00:00, 946.17it/s, loss=2.19]\n"
     ]
    },
    {
     "name": "stdout",
     "output_type": "stream",
     "text": [
      "Epoch [665/1000]: Train loss: 2.5967, Valid loss: 2.6478\n"
     ]
    },
    {
     "name": "stderr",
     "output_type": "stream",
     "text": [
      "Epoch [666/1000]: 100%|██████████| 17/17 [00:00<00:00, 1132.19it/s, loss=2.56]\n"
     ]
    },
    {
     "name": "stdout",
     "output_type": "stream",
     "text": [
      "Epoch [666/1000]: Train loss: 2.5924, Valid loss: 2.7085\n"
     ]
    },
    {
     "name": "stderr",
     "output_type": "stream",
     "text": [
      "Epoch [667/1000]: 100%|██████████| 17/17 [00:00<00:00, 1203.31it/s, loss=2.9]\n"
     ]
    },
    {
     "name": "stdout",
     "output_type": "stream",
     "text": [
      "Epoch [667/1000]: Train loss: 2.5899, Valid loss: 2.8081\n"
     ]
    },
    {
     "name": "stderr",
     "output_type": "stream",
     "text": [
      "Epoch [668/1000]: 100%|██████████| 17/17 [00:00<00:00, 1227.33it/s, loss=2.28]\n"
     ]
    },
    {
     "name": "stdout",
     "output_type": "stream",
     "text": [
      "Epoch [668/1000]: Train loss: 2.5806, Valid loss: 2.8169\n"
     ]
    },
    {
     "name": "stderr",
     "output_type": "stream",
     "text": [
      "Epoch [669/1000]: 100%|██████████| 17/17 [00:00<00:00, 693.45it/s, loss=2.43]\n"
     ]
    },
    {
     "name": "stdout",
     "output_type": "stream",
     "text": [
      "Epoch [669/1000]: Train loss: 2.5761, Valid loss: 2.9785\n"
     ]
    },
    {
     "name": "stderr",
     "output_type": "stream",
     "text": [
      "Epoch [670/1000]: 100%|██████████| 17/17 [00:00<00:00, 1290.63it/s, loss=2.82]\n"
     ]
    },
    {
     "name": "stdout",
     "output_type": "stream",
     "text": [
      "Epoch [670/1000]: Train loss: 2.5747, Valid loss: 2.8270\n"
     ]
    },
    {
     "name": "stderr",
     "output_type": "stream",
     "text": [
      "Epoch [671/1000]: 100%|██████████| 17/17 [00:00<00:00, 1342.81it/s, loss=2.43]\n"
     ]
    },
    {
     "name": "stdout",
     "output_type": "stream",
     "text": [
      "Epoch [671/1000]: Train loss: 2.5719, Valid loss: 2.6344\n"
     ]
    },
    {
     "name": "stderr",
     "output_type": "stream",
     "text": [
      "Epoch [672/1000]: 100%|██████████| 17/17 [00:00<00:00, 1355.96it/s, loss=2.6]\n"
     ]
    },
    {
     "name": "stdout",
     "output_type": "stream",
     "text": [
      "Epoch [672/1000]: Train loss: 2.5678, Valid loss: 2.8597\n"
     ]
    },
    {
     "name": "stderr",
     "output_type": "stream",
     "text": [
      "Epoch [673/1000]: 100%|██████████| 17/17 [00:00<00:00, 1317.04it/s, loss=1.97]\n"
     ]
    },
    {
     "name": "stdout",
     "output_type": "stream",
     "text": [
      "Epoch [673/1000]: Train loss: 2.5584, Valid loss: 2.6427\n"
     ]
    },
    {
     "name": "stderr",
     "output_type": "stream",
     "text": [
      "Epoch [674/1000]: 100%|██████████| 17/17 [00:00<00:00, 1288.27it/s, loss=2.45]\n"
     ]
    },
    {
     "name": "stdout",
     "output_type": "stream",
     "text": [
      "Epoch [674/1000]: Train loss: 2.5730, Valid loss: 2.5263\n"
     ]
    },
    {
     "name": "stderr",
     "output_type": "stream",
     "text": [
      "Epoch [675/1000]: 100%|██████████| 17/17 [00:00<00:00, 1288.57it/s, loss=2.54]\n"
     ]
    },
    {
     "name": "stdout",
     "output_type": "stream",
     "text": [
      "Epoch [675/1000]: Train loss: 2.5603, Valid loss: 2.5033\n"
     ]
    },
    {
     "name": "stderr",
     "output_type": "stream",
     "text": [
      "Epoch [676/1000]: 100%|██████████| 17/17 [00:00<00:00, 1249.73it/s, loss=2.23]\n"
     ]
    },
    {
     "name": "stdout",
     "output_type": "stream",
     "text": [
      "Epoch [676/1000]: Train loss: 2.5490, Valid loss: 2.9471\n"
     ]
    },
    {
     "name": "stderr",
     "output_type": "stream",
     "text": [
      "Epoch [677/1000]: 100%|██████████| 17/17 [00:00<00:00, 1303.89it/s, loss=2.46]\n"
     ]
    },
    {
     "name": "stdout",
     "output_type": "stream",
     "text": [
      "Epoch [677/1000]: Train loss: 2.5458, Valid loss: 2.7302\n"
     ]
    },
    {
     "name": "stderr",
     "output_type": "stream",
     "text": [
      "Epoch [678/1000]: 100%|██████████| 17/17 [00:00<00:00, 1305.58it/s, loss=1.86]\n"
     ]
    },
    {
     "name": "stdout",
     "output_type": "stream",
     "text": [
      "Epoch [678/1000]: Train loss: 2.5346, Valid loss: 2.7447\n"
     ]
    },
    {
     "name": "stderr",
     "output_type": "stream",
     "text": [
      "Epoch [679/1000]: 100%|██████████| 17/17 [00:00<00:00, 529.54it/s, loss=2.7]\n"
     ]
    },
    {
     "name": "stdout",
     "output_type": "stream",
     "text": [
      "Epoch [679/1000]: Train loss: 2.5373, Valid loss: 2.8313\n"
     ]
    },
    {
     "name": "stderr",
     "output_type": "stream",
     "text": [
      "Epoch [680/1000]: 100%|██████████| 17/17 [00:00<00:00, 1296.04it/s, loss=1.73]\n"
     ]
    },
    {
     "name": "stdout",
     "output_type": "stream",
     "text": [
      "Epoch [680/1000]: Train loss: 2.5235, Valid loss: 2.5634\n"
     ]
    },
    {
     "name": "stderr",
     "output_type": "stream",
     "text": [
      "Epoch [681/1000]: 100%|██████████| 17/17 [00:00<00:00, 1336.79it/s, loss=2.67]\n"
     ]
    },
    {
     "name": "stdout",
     "output_type": "stream",
     "text": [
      "Epoch [681/1000]: Train loss: 2.5283, Valid loss: 2.6804\n"
     ]
    },
    {
     "name": "stderr",
     "output_type": "stream",
     "text": [
      "Epoch [682/1000]: 100%|██████████| 17/17 [00:00<00:00, 1341.09it/s, loss=2.68]\n"
     ]
    },
    {
     "name": "stdout",
     "output_type": "stream",
     "text": [
      "Epoch [682/1000]: Train loss: 2.5261, Valid loss: 2.6502\n"
     ]
    },
    {
     "name": "stderr",
     "output_type": "stream",
     "text": [
      "Epoch [683/1000]: 100%|██████████| 17/17 [00:00<00:00, 1301.27it/s, loss=2.2]\n"
     ]
    },
    {
     "name": "stdout",
     "output_type": "stream",
     "text": [
      "Epoch [683/1000]: Train loss: 2.5160, Valid loss: 2.8147\n"
     ]
    },
    {
     "name": "stderr",
     "output_type": "stream",
     "text": [
      "Epoch [684/1000]: 100%|██████████| 17/17 [00:00<00:00, 1147.94it/s, loss=2.35]\n"
     ]
    },
    {
     "name": "stdout",
     "output_type": "stream",
     "text": [
      "Epoch [684/1000]: Train loss: 2.5132, Valid loss: 2.5085\n"
     ]
    },
    {
     "name": "stderr",
     "output_type": "stream",
     "text": [
      "Epoch [685/1000]: 100%|██████████| 17/17 [00:00<00:00, 1233.83it/s, loss=2.33]\n"
     ]
    },
    {
     "name": "stdout",
     "output_type": "stream",
     "text": [
      "Epoch [685/1000]: Train loss: 2.5103, Valid loss: 2.6666\n"
     ]
    },
    {
     "name": "stderr",
     "output_type": "stream",
     "text": [
      "Epoch [686/1000]: 100%|██████████| 17/17 [00:00<00:00, 1236.44it/s, loss=2.28]\n"
     ]
    },
    {
     "name": "stdout",
     "output_type": "stream",
     "text": [
      "Epoch [686/1000]: Train loss: 2.5043, Valid loss: 2.7026\n"
     ]
    },
    {
     "name": "stderr",
     "output_type": "stream",
     "text": [
      "Epoch [687/1000]: 100%|██████████| 17/17 [00:00<00:00, 1268.38it/s, loss=3.37]\n"
     ]
    },
    {
     "name": "stdout",
     "output_type": "stream",
     "text": [
      "Epoch [687/1000]: Train loss: 2.5134, Valid loss: 2.8438\n"
     ]
    },
    {
     "name": "stderr",
     "output_type": "stream",
     "text": [
      "Epoch [688/1000]: 100%|██████████| 17/17 [00:00<00:00, 1222.85it/s, loss=2.26]\n"
     ]
    },
    {
     "name": "stdout",
     "output_type": "stream",
     "text": [
      "Epoch [688/1000]: Train loss: 2.4963, Valid loss: 2.7170\n"
     ]
    },
    {
     "name": "stderr",
     "output_type": "stream",
     "text": [
      "Epoch [689/1000]: 100%|██████████| 17/17 [00:00<00:00, 1218.38it/s, loss=2.13]\n"
     ]
    },
    {
     "name": "stdout",
     "output_type": "stream",
     "text": [
      "Epoch [689/1000]: Train loss: 2.4964, Valid loss: 2.6486\n"
     ]
    },
    {
     "name": "stderr",
     "output_type": "stream",
     "text": [
      "Epoch [690/1000]: 100%|██████████| 17/17 [00:00<00:00, 642.94it/s, loss=3]\n"
     ]
    },
    {
     "name": "stdout",
     "output_type": "stream",
     "text": [
      "Epoch [690/1000]: Train loss: 2.4906, Valid loss: 2.6434\n"
     ]
    },
    {
     "name": "stderr",
     "output_type": "stream",
     "text": [
      "Epoch [691/1000]: 100%|██████████| 17/17 [00:00<00:00, 1074.26it/s, loss=2.6]\n"
     ]
    },
    {
     "name": "stdout",
     "output_type": "stream",
     "text": [
      "Epoch [691/1000]: Train loss: 2.4945, Valid loss: 2.6451\n"
     ]
    },
    {
     "name": "stderr",
     "output_type": "stream",
     "text": [
      "Epoch [692/1000]: 100%|██████████| 17/17 [00:00<00:00, 1199.20it/s, loss=2.65]\n"
     ]
    },
    {
     "name": "stdout",
     "output_type": "stream",
     "text": [
      "Epoch [692/1000]: Train loss: 2.4846, Valid loss: 2.7481\n"
     ]
    },
    {
     "name": "stderr",
     "output_type": "stream",
     "text": [
      "Epoch [693/1000]: 100%|██████████| 17/17 [00:00<00:00, 1138.03it/s, loss=2.62]\n"
     ]
    },
    {
     "name": "stdout",
     "output_type": "stream",
     "text": [
      "Epoch [693/1000]: Train loss: 2.4772, Valid loss: 2.6503\n"
     ]
    },
    {
     "name": "stderr",
     "output_type": "stream",
     "text": [
      "Epoch [694/1000]: 100%|██████████| 17/17 [00:00<00:00, 1277.40it/s, loss=2.56]\n"
     ]
    },
    {
     "name": "stdout",
     "output_type": "stream",
     "text": [
      "Epoch [694/1000]: Train loss: 2.4756, Valid loss: 2.6052\n"
     ]
    },
    {
     "name": "stderr",
     "output_type": "stream",
     "text": [
      "Epoch [695/1000]: 100%|██████████| 17/17 [00:00<00:00, 1170.79it/s, loss=2.87]\n"
     ]
    },
    {
     "name": "stdout",
     "output_type": "stream",
     "text": [
      "Epoch [695/1000]: Train loss: 2.4750, Valid loss: 2.6611\n"
     ]
    },
    {
     "name": "stderr",
     "output_type": "stream",
     "text": [
      "Epoch [696/1000]: 100%|██████████| 17/17 [00:00<00:00, 1244.51it/s, loss=2.43]\n"
     ]
    },
    {
     "name": "stdout",
     "output_type": "stream",
     "text": [
      "Epoch [696/1000]: Train loss: 2.4665, Valid loss: 2.5377\n"
     ]
    },
    {
     "name": "stderr",
     "output_type": "stream",
     "text": [
      "Epoch [697/1000]: 100%|██████████| 17/17 [00:00<00:00, 1166.86it/s, loss=3.75]\n"
     ]
    },
    {
     "name": "stdout",
     "output_type": "stream",
     "text": [
      "Epoch [697/1000]: Train loss: 2.4721, Valid loss: 2.5065\n"
     ]
    },
    {
     "name": "stderr",
     "output_type": "stream",
     "text": [
      "Epoch [698/1000]: 100%|██████████| 17/17 [00:00<00:00, 1205.42it/s, loss=2.23]\n"
     ]
    },
    {
     "name": "stdout",
     "output_type": "stream",
     "text": [
      "Epoch [698/1000]: Train loss: 2.4586, Valid loss: 2.6258\n"
     ]
    },
    {
     "name": "stderr",
     "output_type": "stream",
     "text": [
      "Epoch [699/1000]: 100%|██████████| 17/17 [00:00<00:00, 1178.02it/s, loss=2.09]\n"
     ]
    },
    {
     "name": "stdout",
     "output_type": "stream",
     "text": [
      "Epoch [699/1000]: Train loss: 2.4672, Valid loss: 2.4414\n",
      "Saving model with loss 2.441...\n"
     ]
    },
    {
     "name": "stderr",
     "output_type": "stream",
     "text": [
      "Epoch [700/1000]: 100%|██████████| 17/17 [00:00<00:00, 1223.56it/s, loss=2.36]\n"
     ]
    },
    {
     "name": "stdout",
     "output_type": "stream",
     "text": [
      "Epoch [700/1000]: Train loss: 2.4500, Valid loss: 2.6005\n"
     ]
    },
    {
     "name": "stderr",
     "output_type": "stream",
     "text": [
      "Epoch [701/1000]: 100%|██████████| 17/17 [00:00<00:00, 570.33it/s, loss=2.77]\n"
     ]
    },
    {
     "name": "stdout",
     "output_type": "stream",
     "text": [
      "Epoch [701/1000]: Train loss: 2.4507, Valid loss: 2.9299\n"
     ]
    },
    {
     "name": "stderr",
     "output_type": "stream",
     "text": [
      "Epoch [702/1000]: 100%|██████████| 17/17 [00:00<00:00, 1157.26it/s, loss=2.71]\n"
     ]
    },
    {
     "name": "stdout",
     "output_type": "stream",
     "text": [
      "Epoch [702/1000]: Train loss: 2.4441, Valid loss: 2.4261\n",
      "Saving model with loss 2.426...\n"
     ]
    },
    {
     "name": "stderr",
     "output_type": "stream",
     "text": [
      "Epoch [703/1000]: 100%|██████████| 17/17 [00:00<00:00, 1238.70it/s, loss=3.09]\n"
     ]
    },
    {
     "name": "stdout",
     "output_type": "stream",
     "text": [
      "Epoch [703/1000]: Train loss: 2.4480, Valid loss: 2.4419\n"
     ]
    },
    {
     "name": "stderr",
     "output_type": "stream",
     "text": [
      "Epoch [704/1000]: 100%|██████████| 17/17 [00:00<00:00, 1178.66it/s, loss=2.8]\n"
     ]
    },
    {
     "name": "stdout",
     "output_type": "stream",
     "text": [
      "Epoch [704/1000]: Train loss: 2.4404, Valid loss: 2.8312\n"
     ]
    },
    {
     "name": "stderr",
     "output_type": "stream",
     "text": [
      "Epoch [705/1000]: 100%|██████████| 17/17 [00:00<00:00, 1256.84it/s, loss=2.22]\n"
     ]
    },
    {
     "name": "stdout",
     "output_type": "stream",
     "text": [
      "Epoch [705/1000]: Train loss: 2.4324, Valid loss: 2.8346\n"
     ]
    },
    {
     "name": "stderr",
     "output_type": "stream",
     "text": [
      "Epoch [706/1000]: 100%|██████████| 17/17 [00:00<00:00, 1165.16it/s, loss=2.08]\n"
     ]
    },
    {
     "name": "stdout",
     "output_type": "stream",
     "text": [
      "Epoch [706/1000]: Train loss: 2.4369, Valid loss: 2.3845\n",
      "Saving model with loss 2.385...\n"
     ]
    },
    {
     "name": "stderr",
     "output_type": "stream",
     "text": [
      "Epoch [707/1000]: 100%|██████████| 17/17 [00:00<00:00, 1238.10it/s, loss=2.22]\n"
     ]
    },
    {
     "name": "stdout",
     "output_type": "stream",
     "text": [
      "Epoch [707/1000]: Train loss: 2.4196, Valid loss: 2.5561\n"
     ]
    },
    {
     "name": "stderr",
     "output_type": "stream",
     "text": [
      "Epoch [708/1000]: 100%|██████████| 17/17 [00:00<00:00, 1238.83it/s, loss=2.84]\n"
     ]
    },
    {
     "name": "stdout",
     "output_type": "stream",
     "text": [
      "Epoch [708/1000]: Train loss: 2.4271, Valid loss: 2.7470\n"
     ]
    },
    {
     "name": "stderr",
     "output_type": "stream",
     "text": [
      "Epoch [709/1000]: 100%|██████████| 17/17 [00:00<00:00, 1320.89it/s, loss=2.36]\n"
     ]
    },
    {
     "name": "stdout",
     "output_type": "stream",
     "text": [
      "Epoch [709/1000]: Train loss: 2.4159, Valid loss: 2.7736\n"
     ]
    },
    {
     "name": "stderr",
     "output_type": "stream",
     "text": [
      "Epoch [710/1000]: 100%|██████████| 17/17 [00:00<00:00, 688.51it/s, loss=2.27]\n"
     ]
    },
    {
     "name": "stdout",
     "output_type": "stream",
     "text": [
      "Epoch [710/1000]: Train loss: 2.4148, Valid loss: 2.4825\n"
     ]
    },
    {
     "name": "stderr",
     "output_type": "stream",
     "text": [
      "Epoch [711/1000]: 100%|██████████| 17/17 [00:00<00:00, 1183.61it/s, loss=2.04]\n"
     ]
    },
    {
     "name": "stdout",
     "output_type": "stream",
     "text": [
      "Epoch [711/1000]: Train loss: 2.4163, Valid loss: 2.6352\n"
     ]
    },
    {
     "name": "stderr",
     "output_type": "stream",
     "text": [
      "Epoch [712/1000]: 100%|██████████| 17/17 [00:00<00:00, 1315.68it/s, loss=2.61]\n"
     ]
    },
    {
     "name": "stdout",
     "output_type": "stream",
     "text": [
      "Epoch [712/1000]: Train loss: 2.4107, Valid loss: 2.4738\n"
     ]
    },
    {
     "name": "stderr",
     "output_type": "stream",
     "text": [
      "Epoch [713/1000]: 100%|██████████| 17/17 [00:00<00:00, 1258.68it/s, loss=3.33]\n"
     ]
    },
    {
     "name": "stdout",
     "output_type": "stream",
     "text": [
      "Epoch [713/1000]: Train loss: 2.4108, Valid loss: 2.8627\n"
     ]
    },
    {
     "name": "stderr",
     "output_type": "stream",
     "text": [
      "Epoch [714/1000]: 100%|██████████| 17/17 [00:00<00:00, 1288.76it/s, loss=3.17]\n"
     ]
    },
    {
     "name": "stdout",
     "output_type": "stream",
     "text": [
      "Epoch [714/1000]: Train loss: 2.4069, Valid loss: 2.4850\n"
     ]
    },
    {
     "name": "stderr",
     "output_type": "stream",
     "text": [
      "Epoch [715/1000]: 100%|██████████| 17/17 [00:00<00:00, 1285.95it/s, loss=2.92]\n"
     ]
    },
    {
     "name": "stdout",
     "output_type": "stream",
     "text": [
      "Epoch [715/1000]: Train loss: 2.4010, Valid loss: 2.7204\n"
     ]
    },
    {
     "name": "stderr",
     "output_type": "stream",
     "text": [
      "Epoch [716/1000]: 100%|██████████| 17/17 [00:00<00:00, 864.87it/s, loss=2.18]\n"
     ]
    },
    {
     "name": "stdout",
     "output_type": "stream",
     "text": [
      "Epoch [716/1000]: Train loss: 2.3926, Valid loss: 2.5506\n"
     ]
    },
    {
     "name": "stderr",
     "output_type": "stream",
     "text": [
      "Epoch [717/1000]: 100%|██████████| 17/17 [00:00<00:00, 1216.36it/s, loss=2.26]\n"
     ]
    },
    {
     "name": "stdout",
     "output_type": "stream",
     "text": [
      "Epoch [717/1000]: Train loss: 2.3899, Valid loss: 2.5845\n"
     ]
    },
    {
     "name": "stderr",
     "output_type": "stream",
     "text": [
      "Epoch [718/1000]: 100%|██████████| 17/17 [00:00<00:00, 1277.42it/s, loss=2.1]\n"
     ]
    },
    {
     "name": "stdout",
     "output_type": "stream",
     "text": [
      "Epoch [718/1000]: Train loss: 2.3831, Valid loss: 2.7001\n"
     ]
    },
    {
     "name": "stderr",
     "output_type": "stream",
     "text": [
      "Epoch [719/1000]: 100%|██████████| 17/17 [00:00<00:00, 1294.94it/s, loss=2.21]\n"
     ]
    },
    {
     "name": "stdout",
     "output_type": "stream",
     "text": [
      "Epoch [719/1000]: Train loss: 2.3799, Valid loss: 2.5262\n"
     ]
    },
    {
     "name": "stderr",
     "output_type": "stream",
     "text": [
      "Epoch [720/1000]: 100%|██████████| 17/17 [00:00<00:00, 591.65it/s, loss=2.62]\n"
     ]
    },
    {
     "name": "stdout",
     "output_type": "stream",
     "text": [
      "Epoch [720/1000]: Train loss: 2.3802, Valid loss: 2.4028\n"
     ]
    },
    {
     "name": "stderr",
     "output_type": "stream",
     "text": [
      "Epoch [721/1000]: 100%|██████████| 17/17 [00:00<00:00, 1251.57it/s, loss=3.34]\n"
     ]
    },
    {
     "name": "stdout",
     "output_type": "stream",
     "text": [
      "Epoch [721/1000]: Train loss: 2.3855, Valid loss: 2.4429\n"
     ]
    },
    {
     "name": "stderr",
     "output_type": "stream",
     "text": [
      "Epoch [722/1000]: 100%|██████████| 17/17 [00:00<00:00, 1294.84it/s, loss=3.17]\n"
     ]
    },
    {
     "name": "stdout",
     "output_type": "stream",
     "text": [
      "Epoch [722/1000]: Train loss: 2.3830, Valid loss: 3.0292\n"
     ]
    },
    {
     "name": "stderr",
     "output_type": "stream",
     "text": [
      "Epoch [723/1000]: 100%|██████████| 17/17 [00:00<00:00, 1289.55it/s, loss=2.78]\n"
     ]
    },
    {
     "name": "stdout",
     "output_type": "stream",
     "text": [
      "Epoch [723/1000]: Train loss: 2.3723, Valid loss: 2.5651\n"
     ]
    },
    {
     "name": "stderr",
     "output_type": "stream",
     "text": [
      "Epoch [724/1000]: 100%|██████████| 17/17 [00:00<00:00, 1265.52it/s, loss=1.97]\n"
     ]
    },
    {
     "name": "stdout",
     "output_type": "stream",
     "text": [
      "Epoch [724/1000]: Train loss: 2.3632, Valid loss: 2.6621\n"
     ]
    },
    {
     "name": "stderr",
     "output_type": "stream",
     "text": [
      "Epoch [725/1000]: 100%|██████████| 17/17 [00:00<00:00, 1250.19it/s, loss=2.11]\n"
     ]
    },
    {
     "name": "stdout",
     "output_type": "stream",
     "text": [
      "Epoch [725/1000]: Train loss: 2.3583, Valid loss: 2.6940\n"
     ]
    },
    {
     "name": "stderr",
     "output_type": "stream",
     "text": [
      "Epoch [726/1000]: 100%|██████████| 17/17 [00:00<00:00, 1281.30it/s, loss=2.71]\n"
     ]
    },
    {
     "name": "stdout",
     "output_type": "stream",
     "text": [
      "Epoch [726/1000]: Train loss: 2.3672, Valid loss: 2.6519\n"
     ]
    },
    {
     "name": "stderr",
     "output_type": "stream",
     "text": [
      "Epoch [727/1000]: 100%|██████████| 17/17 [00:00<00:00, 1281.67it/s, loss=2.75]\n"
     ]
    },
    {
     "name": "stdout",
     "output_type": "stream",
     "text": [
      "Epoch [727/1000]: Train loss: 2.3601, Valid loss: 2.5740\n"
     ]
    },
    {
     "name": "stderr",
     "output_type": "stream",
     "text": [
      "Epoch [728/1000]: 100%|██████████| 17/17 [00:00<00:00, 1210.93it/s, loss=2.56]\n"
     ]
    },
    {
     "name": "stdout",
     "output_type": "stream",
     "text": [
      "Epoch [728/1000]: Train loss: 2.3575, Valid loss: 2.4601\n"
     ]
    },
    {
     "name": "stderr",
     "output_type": "stream",
     "text": [
      "Epoch [729/1000]: 100%|██████████| 17/17 [00:00<00:00, 1209.10it/s, loss=2.18]\n"
     ]
    },
    {
     "name": "stdout",
     "output_type": "stream",
     "text": [
      "Epoch [729/1000]: Train loss: 2.3520, Valid loss: 2.4341\n"
     ]
    },
    {
     "name": "stderr",
     "output_type": "stream",
     "text": [
      "Epoch [730/1000]: 100%|██████████| 17/17 [00:00<00:00, 550.12it/s, loss=2.23]\n"
     ]
    },
    {
     "name": "stdout",
     "output_type": "stream",
     "text": [
      "Epoch [730/1000]: Train loss: 2.3435, Valid loss: 2.4808\n"
     ]
    },
    {
     "name": "stderr",
     "output_type": "stream",
     "text": [
      "Epoch [731/1000]: 100%|██████████| 17/17 [00:00<00:00, 1132.17it/s, loss=2.25]\n"
     ]
    },
    {
     "name": "stdout",
     "output_type": "stream",
     "text": [
      "Epoch [731/1000]: Train loss: 2.3434, Valid loss: 2.6027\n"
     ]
    },
    {
     "name": "stderr",
     "output_type": "stream",
     "text": [
      "Epoch [732/1000]: 100%|██████████| 17/17 [00:00<00:00, 1220.32it/s, loss=2.46]\n"
     ]
    },
    {
     "name": "stdout",
     "output_type": "stream",
     "text": [
      "Epoch [732/1000]: Train loss: 2.3437, Valid loss: 2.6994\n"
     ]
    },
    {
     "name": "stderr",
     "output_type": "stream",
     "text": [
      "Epoch [733/1000]: 100%|██████████| 17/17 [00:00<00:00, 1156.07it/s, loss=2.5]\n"
     ]
    },
    {
     "name": "stdout",
     "output_type": "stream",
     "text": [
      "Epoch [733/1000]: Train loss: 2.3488, Valid loss: 2.8045\n"
     ]
    },
    {
     "name": "stderr",
     "output_type": "stream",
     "text": [
      "Epoch [734/1000]: 100%|██████████| 17/17 [00:00<00:00, 1168.60it/s, loss=1.85]\n"
     ]
    },
    {
     "name": "stdout",
     "output_type": "stream",
     "text": [
      "Epoch [734/1000]: Train loss: 2.3414, Valid loss: 2.6062\n"
     ]
    },
    {
     "name": "stderr",
     "output_type": "stream",
     "text": [
      "Epoch [735/1000]: 100%|██████████| 17/17 [00:00<00:00, 1177.79it/s, loss=2.45]\n"
     ]
    },
    {
     "name": "stdout",
     "output_type": "stream",
     "text": [
      "Epoch [735/1000]: Train loss: 2.3407, Valid loss: 2.4638\n"
     ]
    },
    {
     "name": "stderr",
     "output_type": "stream",
     "text": [
      "Epoch [736/1000]: 100%|██████████| 17/17 [00:00<00:00, 1145.54it/s, loss=2.49]\n"
     ]
    },
    {
     "name": "stdout",
     "output_type": "stream",
     "text": [
      "Epoch [736/1000]: Train loss: 2.3260, Valid loss: 2.5393\n"
     ]
    },
    {
     "name": "stderr",
     "output_type": "stream",
     "text": [
      "Epoch [737/1000]: 100%|██████████| 17/17 [00:00<00:00, 1165.27it/s, loss=2.64]\n"
     ]
    },
    {
     "name": "stdout",
     "output_type": "stream",
     "text": [
      "Epoch [737/1000]: Train loss: 2.3242, Valid loss: 2.4296\n"
     ]
    },
    {
     "name": "stderr",
     "output_type": "stream",
     "text": [
      "Epoch [738/1000]: 100%|██████████| 17/17 [00:00<00:00, 1145.80it/s, loss=2.88]\n"
     ]
    },
    {
     "name": "stdout",
     "output_type": "stream",
     "text": [
      "Epoch [738/1000]: Train loss: 2.3245, Valid loss: 2.5408\n"
     ]
    },
    {
     "name": "stderr",
     "output_type": "stream",
     "text": [
      "Epoch [739/1000]: 100%|██████████| 17/17 [00:00<00:00, 1302.98it/s, loss=2.31]\n"
     ]
    },
    {
     "name": "stdout",
     "output_type": "stream",
     "text": [
      "Epoch [739/1000]: Train loss: 2.3176, Valid loss: 2.3525\n",
      "Saving model with loss 2.352...\n"
     ]
    },
    {
     "name": "stderr",
     "output_type": "stream",
     "text": [
      "Epoch [740/1000]: 100%|██████████| 17/17 [00:00<00:00, 550.70it/s, loss=2.22]\n"
     ]
    },
    {
     "name": "stdout",
     "output_type": "stream",
     "text": [
      "Epoch [740/1000]: Train loss: 2.3198, Valid loss: 2.5473\n"
     ]
    },
    {
     "name": "stderr",
     "output_type": "stream",
     "text": [
      "Epoch [741/1000]: 100%|██████████| 17/17 [00:00<00:00, 1233.15it/s, loss=2.29]\n"
     ]
    },
    {
     "name": "stdout",
     "output_type": "stream",
     "text": [
      "Epoch [741/1000]: Train loss: 2.3165, Valid loss: 2.3614\n"
     ]
    },
    {
     "name": "stderr",
     "output_type": "stream",
     "text": [
      "Epoch [742/1000]: 100%|██████████| 17/17 [00:00<00:00, 1288.20it/s, loss=2.08]\n"
     ]
    },
    {
     "name": "stdout",
     "output_type": "stream",
     "text": [
      "Epoch [742/1000]: Train loss: 2.3141, Valid loss: 2.7654\n"
     ]
    },
    {
     "name": "stderr",
     "output_type": "stream",
     "text": [
      "Epoch [743/1000]: 100%|██████████| 17/17 [00:00<00:00, 1299.99it/s, loss=2.59]\n"
     ]
    },
    {
     "name": "stdout",
     "output_type": "stream",
     "text": [
      "Epoch [743/1000]: Train loss: 2.3060, Valid loss: 2.4944\n"
     ]
    },
    {
     "name": "stderr",
     "output_type": "stream",
     "text": [
      "Epoch [744/1000]: 100%|██████████| 17/17 [00:00<00:00, 1220.38it/s, loss=2.29]\n"
     ]
    },
    {
     "name": "stdout",
     "output_type": "stream",
     "text": [
      "Epoch [744/1000]: Train loss: 2.2992, Valid loss: 2.4704\n"
     ]
    },
    {
     "name": "stderr",
     "output_type": "stream",
     "text": [
      "Epoch [745/1000]: 100%|██████████| 17/17 [00:00<00:00, 1193.06it/s, loss=2.29]\n"
     ]
    },
    {
     "name": "stdout",
     "output_type": "stream",
     "text": [
      "Epoch [745/1000]: Train loss: 2.3074, Valid loss: 2.5891\n"
     ]
    },
    {
     "name": "stderr",
     "output_type": "stream",
     "text": [
      "Epoch [746/1000]: 100%|██████████| 17/17 [00:00<00:00, 1148.90it/s, loss=2.78]\n"
     ]
    },
    {
     "name": "stdout",
     "output_type": "stream",
     "text": [
      "Epoch [746/1000]: Train loss: 2.3032, Valid loss: 2.3855\n"
     ]
    },
    {
     "name": "stderr",
     "output_type": "stream",
     "text": [
      "Epoch [747/1000]: 100%|██████████| 17/17 [00:00<00:00, 1206.36it/s, loss=2.38]\n"
     ]
    },
    {
     "name": "stdout",
     "output_type": "stream",
     "text": [
      "Epoch [747/1000]: Train loss: 2.2940, Valid loss: 2.2549\n",
      "Saving model with loss 2.255...\n"
     ]
    },
    {
     "name": "stderr",
     "output_type": "stream",
     "text": [
      "Epoch [748/1000]: 100%|██████████| 17/17 [00:00<00:00, 1248.61it/s, loss=2.55]\n"
     ]
    },
    {
     "name": "stdout",
     "output_type": "stream",
     "text": [
      "Epoch [748/1000]: Train loss: 2.2900, Valid loss: 2.4081\n"
     ]
    },
    {
     "name": "stderr",
     "output_type": "stream",
     "text": [
      "Epoch [749/1000]: 100%|██████████| 17/17 [00:00<00:00, 1211.09it/s, loss=2.02]\n"
     ]
    },
    {
     "name": "stdout",
     "output_type": "stream",
     "text": [
      "Epoch [749/1000]: Train loss: 2.2829, Valid loss: 2.4644\n"
     ]
    },
    {
     "name": "stderr",
     "output_type": "stream",
     "text": [
      "Epoch [750/1000]: 100%|██████████| 17/17 [00:00<00:00, 902.96it/s, loss=1.9]\n"
     ]
    },
    {
     "name": "stdout",
     "output_type": "stream",
     "text": [
      "Epoch [750/1000]: Train loss: 2.2845, Valid loss: 2.6942\n"
     ]
    },
    {
     "name": "stderr",
     "output_type": "stream",
     "text": [
      "Epoch [751/1000]: 100%|██████████| 17/17 [00:00<00:00, 961.65it/s, loss=2.03]\n"
     ]
    },
    {
     "name": "stdout",
     "output_type": "stream",
     "text": [
      "Epoch [751/1000]: Train loss: 2.2858, Valid loss: 2.4409\n"
     ]
    },
    {
     "name": "stderr",
     "output_type": "stream",
     "text": [
      "Epoch [752/1000]: 100%|██████████| 17/17 [00:00<00:00, 1286.20it/s, loss=2.85]\n"
     ]
    },
    {
     "name": "stdout",
     "output_type": "stream",
     "text": [
      "Epoch [752/1000]: Train loss: 2.2892, Valid loss: 2.5373\n"
     ]
    },
    {
     "name": "stderr",
     "output_type": "stream",
     "text": [
      "Epoch [753/1000]: 100%|██████████| 17/17 [00:00<00:00, 1304.20it/s, loss=2.15]\n"
     ]
    },
    {
     "name": "stdout",
     "output_type": "stream",
     "text": [
      "Epoch [753/1000]: Train loss: 2.2748, Valid loss: 2.5845\n"
     ]
    },
    {
     "name": "stderr",
     "output_type": "stream",
     "text": [
      "Epoch [754/1000]: 100%|██████████| 17/17 [00:00<00:00, 1318.82it/s, loss=2.39]\n"
     ]
    },
    {
     "name": "stdout",
     "output_type": "stream",
     "text": [
      "Epoch [754/1000]: Train loss: 2.2758, Valid loss: 2.4345\n"
     ]
    },
    {
     "name": "stderr",
     "output_type": "stream",
     "text": [
      "Epoch [755/1000]: 100%|██████████| 17/17 [00:00<00:00, 1325.44it/s, loss=2]\n"
     ]
    },
    {
     "name": "stdout",
     "output_type": "stream",
     "text": [
      "Epoch [755/1000]: Train loss: 2.2691, Valid loss: 2.3777\n"
     ]
    },
    {
     "name": "stderr",
     "output_type": "stream",
     "text": [
      "Epoch [756/1000]: 100%|██████████| 17/17 [00:00<00:00, 1350.82it/s, loss=1.71]\n"
     ]
    },
    {
     "name": "stdout",
     "output_type": "stream",
     "text": [
      "Epoch [756/1000]: Train loss: 2.2644, Valid loss: 2.4681\n"
     ]
    },
    {
     "name": "stderr",
     "output_type": "stream",
     "text": [
      "Epoch [757/1000]: 100%|██████████| 17/17 [00:00<00:00, 1244.14it/s, loss=2.16]\n"
     ]
    },
    {
     "name": "stdout",
     "output_type": "stream",
     "text": [
      "Epoch [757/1000]: Train loss: 2.2615, Valid loss: 2.3382\n"
     ]
    },
    {
     "name": "stderr",
     "output_type": "stream",
     "text": [
      "Epoch [758/1000]: 100%|██████████| 17/17 [00:00<00:00, 1168.46it/s, loss=2.56]\n"
     ]
    },
    {
     "name": "stdout",
     "output_type": "stream",
     "text": [
      "Epoch [758/1000]: Train loss: 2.2624, Valid loss: 2.6559\n"
     ]
    },
    {
     "name": "stderr",
     "output_type": "stream",
     "text": [
      "Epoch [759/1000]: 100%|██████████| 17/17 [00:00<00:00, 1290.32it/s, loss=2.33]\n"
     ]
    },
    {
     "name": "stdout",
     "output_type": "stream",
     "text": [
      "Epoch [759/1000]: Train loss: 2.2569, Valid loss: 2.3867\n"
     ]
    },
    {
     "name": "stderr",
     "output_type": "stream",
     "text": [
      "Epoch [760/1000]: 100%|██████████| 17/17 [00:00<00:00, 715.18it/s, loss=1.54]\n"
     ]
    },
    {
     "name": "stdout",
     "output_type": "stream",
     "text": [
      "Epoch [760/1000]: Train loss: 2.2487, Valid loss: 2.6155\n"
     ]
    },
    {
     "name": "stderr",
     "output_type": "stream",
     "text": [
      "Epoch [761/1000]: 100%|██████████| 17/17 [00:00<00:00, 944.98it/s, loss=2.56]\n"
     ]
    },
    {
     "name": "stdout",
     "output_type": "stream",
     "text": [
      "Epoch [761/1000]: Train loss: 2.2579, Valid loss: 2.6149\n"
     ]
    },
    {
     "name": "stderr",
     "output_type": "stream",
     "text": [
      "Epoch [762/1000]: 100%|██████████| 17/17 [00:00<00:00, 1175.24it/s, loss=1.98]\n"
     ]
    },
    {
     "name": "stdout",
     "output_type": "stream",
     "text": [
      "Epoch [762/1000]: Train loss: 2.2462, Valid loss: 2.3075\n"
     ]
    },
    {
     "name": "stderr",
     "output_type": "stream",
     "text": [
      "Epoch [763/1000]: 100%|██████████| 17/17 [00:00<00:00, 1182.71it/s, loss=1.85]\n"
     ]
    },
    {
     "name": "stdout",
     "output_type": "stream",
     "text": [
      "Epoch [763/1000]: Train loss: 2.2460, Valid loss: 2.4131\n"
     ]
    },
    {
     "name": "stderr",
     "output_type": "stream",
     "text": [
      "Epoch [764/1000]: 100%|██████████| 17/17 [00:00<00:00, 1180.56it/s, loss=2.28]\n"
     ]
    },
    {
     "name": "stdout",
     "output_type": "stream",
     "text": [
      "Epoch [764/1000]: Train loss: 2.2495, Valid loss: 2.2826\n"
     ]
    },
    {
     "name": "stderr",
     "output_type": "stream",
     "text": [
      "Epoch [765/1000]: 100%|██████████| 17/17 [00:00<00:00, 1202.54it/s, loss=1.79]\n"
     ]
    },
    {
     "name": "stdout",
     "output_type": "stream",
     "text": [
      "Epoch [765/1000]: Train loss: 2.2388, Valid loss: 2.3553\n"
     ]
    },
    {
     "name": "stderr",
     "output_type": "stream",
     "text": [
      "Epoch [766/1000]: 100%|██████████| 17/17 [00:00<00:00, 1129.25it/s, loss=2.2]\n"
     ]
    },
    {
     "name": "stdout",
     "output_type": "stream",
     "text": [
      "Epoch [766/1000]: Train loss: 2.2369, Valid loss: 2.5814\n"
     ]
    },
    {
     "name": "stderr",
     "output_type": "stream",
     "text": [
      "Epoch [767/1000]: 100%|██████████| 17/17 [00:00<00:00, 1156.94it/s, loss=1.68]\n"
     ]
    },
    {
     "name": "stdout",
     "output_type": "stream",
     "text": [
      "Epoch [767/1000]: Train loss: 2.2374, Valid loss: 2.4155\n"
     ]
    },
    {
     "name": "stderr",
     "output_type": "stream",
     "text": [
      "Epoch [768/1000]: 100%|██████████| 17/17 [00:00<00:00, 1166.21it/s, loss=2.74]\n"
     ]
    },
    {
     "name": "stdout",
     "output_type": "stream",
     "text": [
      "Epoch [768/1000]: Train loss: 2.2370, Valid loss: 2.4717\n"
     ]
    },
    {
     "name": "stderr",
     "output_type": "stream",
     "text": [
      "Epoch [769/1000]: 100%|██████████| 17/17 [00:00<00:00, 1162.46it/s, loss=2.51]\n"
     ]
    },
    {
     "name": "stdout",
     "output_type": "stream",
     "text": [
      "Epoch [769/1000]: Train loss: 2.2378, Valid loss: 2.3478\n"
     ]
    },
    {
     "name": "stderr",
     "output_type": "stream",
     "text": [
      "Epoch [770/1000]: 100%|██████████| 17/17 [00:00<00:00, 617.92it/s, loss=2.16]\n"
     ]
    },
    {
     "name": "stdout",
     "output_type": "stream",
     "text": [
      "Epoch [770/1000]: Train loss: 2.2296, Valid loss: 2.3892\n"
     ]
    },
    {
     "name": "stderr",
     "output_type": "stream",
     "text": [
      "Epoch [771/1000]: 100%|██████████| 17/17 [00:00<00:00, 1111.11it/s, loss=2.02]\n"
     ]
    },
    {
     "name": "stdout",
     "output_type": "stream",
     "text": [
      "Epoch [771/1000]: Train loss: 2.2324, Valid loss: 2.2422\n",
      "Saving model with loss 2.242...\n"
     ]
    },
    {
     "name": "stderr",
     "output_type": "stream",
     "text": [
      "Epoch [772/1000]: 100%|██████████| 17/17 [00:00<00:00, 1177.20it/s, loss=2.78]\n"
     ]
    },
    {
     "name": "stdout",
     "output_type": "stream",
     "text": [
      "Epoch [772/1000]: Train loss: 2.2346, Valid loss: 2.3206\n"
     ]
    },
    {
     "name": "stderr",
     "output_type": "stream",
     "text": [
      "Epoch [773/1000]: 100%|██████████| 17/17 [00:00<00:00, 1223.82it/s, loss=2.11]\n"
     ]
    },
    {
     "name": "stdout",
     "output_type": "stream",
     "text": [
      "Epoch [773/1000]: Train loss: 2.2316, Valid loss: 2.2736\n"
     ]
    },
    {
     "name": "stderr",
     "output_type": "stream",
     "text": [
      "Epoch [774/1000]: 100%|██████████| 17/17 [00:00<00:00, 1311.73it/s, loss=1.63]\n"
     ]
    },
    {
     "name": "stdout",
     "output_type": "stream",
     "text": [
      "Epoch [774/1000]: Train loss: 2.2256, Valid loss: 2.4886\n"
     ]
    },
    {
     "name": "stderr",
     "output_type": "stream",
     "text": [
      "Epoch [775/1000]: 100%|██████████| 17/17 [00:00<00:00, 1325.95it/s, loss=2.19]\n"
     ]
    },
    {
     "name": "stdout",
     "output_type": "stream",
     "text": [
      "Epoch [775/1000]: Train loss: 2.2116, Valid loss: 2.4840\n"
     ]
    },
    {
     "name": "stderr",
     "output_type": "stream",
     "text": [
      "Epoch [776/1000]: 100%|██████████| 17/17 [00:00<00:00, 1308.12it/s, loss=1.74]\n"
     ]
    },
    {
     "name": "stdout",
     "output_type": "stream",
     "text": [
      "Epoch [776/1000]: Train loss: 2.2135, Valid loss: 2.5417\n"
     ]
    },
    {
     "name": "stderr",
     "output_type": "stream",
     "text": [
      "Epoch [777/1000]: 100%|██████████| 17/17 [00:00<00:00, 1300.61it/s, loss=2.33]\n"
     ]
    },
    {
     "name": "stdout",
     "output_type": "stream",
     "text": [
      "Epoch [777/1000]: Train loss: 2.2094, Valid loss: 2.3576\n"
     ]
    },
    {
     "name": "stderr",
     "output_type": "stream",
     "text": [
      "Epoch [778/1000]: 100%|██████████| 17/17 [00:00<00:00, 756.09it/s, loss=2.58]\n"
     ]
    },
    {
     "name": "stdout",
     "output_type": "stream",
     "text": [
      "Epoch [778/1000]: Train loss: 2.2096, Valid loss: 2.5654\n"
     ]
    },
    {
     "name": "stderr",
     "output_type": "stream",
     "text": [
      "Epoch [779/1000]: 100%|██████████| 17/17 [00:00<00:00, 988.08it/s, loss=2.09]\n"
     ]
    },
    {
     "name": "stdout",
     "output_type": "stream",
     "text": [
      "Epoch [779/1000]: Train loss: 2.2036, Valid loss: 2.5579\n"
     ]
    },
    {
     "name": "stderr",
     "output_type": "stream",
     "text": [
      "Epoch [780/1000]: 100%|██████████| 17/17 [00:00<00:00, 1284.95it/s, loss=1.87]\n"
     ]
    },
    {
     "name": "stdout",
     "output_type": "stream",
     "text": [
      "Epoch [780/1000]: Train loss: 2.2032, Valid loss: 2.6822\n"
     ]
    },
    {
     "name": "stderr",
     "output_type": "stream",
     "text": [
      "Epoch [781/1000]: 100%|██████████| 17/17 [00:00<00:00, 1298.10it/s, loss=2.07]\n"
     ]
    },
    {
     "name": "stdout",
     "output_type": "stream",
     "text": [
      "Epoch [781/1000]: Train loss: 2.1971, Valid loss: 2.4079\n"
     ]
    },
    {
     "name": "stderr",
     "output_type": "stream",
     "text": [
      "Epoch [782/1000]: 100%|██████████| 17/17 [00:00<00:00, 1305.27it/s, loss=2.25]\n"
     ]
    },
    {
     "name": "stdout",
     "output_type": "stream",
     "text": [
      "Epoch [782/1000]: Train loss: 2.2036, Valid loss: 2.3970\n"
     ]
    },
    {
     "name": "stderr",
     "output_type": "stream",
     "text": [
      "Epoch [783/1000]: 100%|██████████| 17/17 [00:00<00:00, 1275.34it/s, loss=1.86]\n"
     ]
    },
    {
     "name": "stdout",
     "output_type": "stream",
     "text": [
      "Epoch [783/1000]: Train loss: 2.1970, Valid loss: 2.3928\n"
     ]
    },
    {
     "name": "stderr",
     "output_type": "stream",
     "text": [
      "Epoch [784/1000]: 100%|██████████| 17/17 [00:00<00:00, 1242.32it/s, loss=1.95]\n"
     ]
    },
    {
     "name": "stdout",
     "output_type": "stream",
     "text": [
      "Epoch [784/1000]: Train loss: 2.1941, Valid loss: 2.4816\n"
     ]
    },
    {
     "name": "stderr",
     "output_type": "stream",
     "text": [
      "Epoch [785/1000]: 100%|██████████| 17/17 [00:00<00:00, 1229.36it/s, loss=2.97]\n"
     ]
    },
    {
     "name": "stdout",
     "output_type": "stream",
     "text": [
      "Epoch [785/1000]: Train loss: 2.1950, Valid loss: 2.2638\n"
     ]
    },
    {
     "name": "stderr",
     "output_type": "stream",
     "text": [
      "Epoch [786/1000]: 100%|██████████| 17/17 [00:00<00:00, 1292.17it/s, loss=2.08]\n"
     ]
    },
    {
     "name": "stdout",
     "output_type": "stream",
     "text": [
      "Epoch [786/1000]: Train loss: 2.1848, Valid loss: 2.1835\n",
      "Saving model with loss 2.183...\n"
     ]
    },
    {
     "name": "stderr",
     "output_type": "stream",
     "text": [
      "Epoch [787/1000]: 100%|██████████| 17/17 [00:00<00:00, 1278.11it/s, loss=2.47]\n"
     ]
    },
    {
     "name": "stdout",
     "output_type": "stream",
     "text": [
      "Epoch [787/1000]: Train loss: 2.1907, Valid loss: 2.1912\n"
     ]
    },
    {
     "name": "stderr",
     "output_type": "stream",
     "text": [
      "Epoch [788/1000]: 100%|██████████| 17/17 [00:00<00:00, 605.19it/s, loss=2.29]\n"
     ]
    },
    {
     "name": "stdout",
     "output_type": "stream",
     "text": [
      "Epoch [788/1000]: Train loss: 2.1816, Valid loss: 2.4159\n"
     ]
    },
    {
     "name": "stderr",
     "output_type": "stream",
     "text": [
      "Epoch [789/1000]: 100%|██████████| 17/17 [00:00<00:00, 1234.94it/s, loss=1.96]\n"
     ]
    },
    {
     "name": "stdout",
     "output_type": "stream",
     "text": [
      "Epoch [789/1000]: Train loss: 2.1769, Valid loss: 2.3554\n"
     ]
    },
    {
     "name": "stderr",
     "output_type": "stream",
     "text": [
      "Epoch [790/1000]: 100%|██████████| 17/17 [00:00<00:00, 1256.95it/s, loss=2.62]\n"
     ]
    },
    {
     "name": "stdout",
     "output_type": "stream",
     "text": [
      "Epoch [790/1000]: Train loss: 2.1818, Valid loss: 2.6315\n"
     ]
    },
    {
     "name": "stderr",
     "output_type": "stream",
     "text": [
      "Epoch [791/1000]: 100%|██████████| 17/17 [00:00<00:00, 1281.28it/s, loss=2.01]\n"
     ]
    },
    {
     "name": "stdout",
     "output_type": "stream",
     "text": [
      "Epoch [791/1000]: Train loss: 2.1792, Valid loss: 2.5659\n"
     ]
    },
    {
     "name": "stderr",
     "output_type": "stream",
     "text": [
      "Epoch [792/1000]: 100%|██████████| 17/17 [00:00<00:00, 1246.97it/s, loss=2.02]\n"
     ]
    },
    {
     "name": "stdout",
     "output_type": "stream",
     "text": [
      "Epoch [792/1000]: Train loss: 2.1808, Valid loss: 2.4134\n"
     ]
    },
    {
     "name": "stderr",
     "output_type": "stream",
     "text": [
      "Epoch [793/1000]: 100%|██████████| 17/17 [00:00<00:00, 1313.16it/s, loss=3.23]\n"
     ]
    },
    {
     "name": "stdout",
     "output_type": "stream",
     "text": [
      "Epoch [793/1000]: Train loss: 2.1822, Valid loss: 2.3940\n"
     ]
    },
    {
     "name": "stderr",
     "output_type": "stream",
     "text": [
      "Epoch [794/1000]: 100%|██████████| 17/17 [00:00<00:00, 1284.58it/s, loss=2.49]\n"
     ]
    },
    {
     "name": "stdout",
     "output_type": "stream",
     "text": [
      "Epoch [794/1000]: Train loss: 2.1887, Valid loss: 2.5900\n"
     ]
    },
    {
     "name": "stderr",
     "output_type": "stream",
     "text": [
      "Epoch [795/1000]: 100%|██████████| 17/17 [00:00<00:00, 1257.51it/s, loss=2.27]\n"
     ]
    },
    {
     "name": "stdout",
     "output_type": "stream",
     "text": [
      "Epoch [795/1000]: Train loss: 2.1740, Valid loss: 2.4721\n"
     ]
    },
    {
     "name": "stderr",
     "output_type": "stream",
     "text": [
      "Epoch [796/1000]: 100%|██████████| 17/17 [00:00<00:00, 1286.71it/s, loss=1.94]\n"
     ]
    },
    {
     "name": "stdout",
     "output_type": "stream",
     "text": [
      "Epoch [796/1000]: Train loss: 2.1695, Valid loss: 2.3852\n"
     ]
    },
    {
     "name": "stderr",
     "output_type": "stream",
     "text": [
      "Epoch [797/1000]: 100%|██████████| 17/17 [00:00<00:00, 725.29it/s, loss=2.19]\n"
     ]
    },
    {
     "name": "stdout",
     "output_type": "stream",
     "text": [
      "Epoch [797/1000]: Train loss: 2.1767, Valid loss: 2.4457\n"
     ]
    },
    {
     "name": "stderr",
     "output_type": "stream",
     "text": [
      "Epoch [798/1000]: 100%|██████████| 17/17 [00:00<00:00, 1126.66it/s, loss=1.77]\n"
     ]
    },
    {
     "name": "stdout",
     "output_type": "stream",
     "text": [
      "Epoch [798/1000]: Train loss: 2.1658, Valid loss: 2.5102\n"
     ]
    },
    {
     "name": "stderr",
     "output_type": "stream",
     "text": [
      "Epoch [799/1000]: 100%|██████████| 17/17 [00:00<00:00, 1319.26it/s, loss=2.48]\n"
     ]
    },
    {
     "name": "stdout",
     "output_type": "stream",
     "text": [
      "Epoch [799/1000]: Train loss: 2.1617, Valid loss: 2.3295\n"
     ]
    },
    {
     "name": "stderr",
     "output_type": "stream",
     "text": [
      "Epoch [800/1000]: 100%|██████████| 17/17 [00:00<00:00, 1260.20it/s, loss=2.6]\n"
     ]
    },
    {
     "name": "stdout",
     "output_type": "stream",
     "text": [
      "Epoch [800/1000]: Train loss: 2.1637, Valid loss: 2.3289\n"
     ]
    },
    {
     "name": "stderr",
     "output_type": "stream",
     "text": [
      "Epoch [801/1000]: 100%|██████████| 17/17 [00:00<00:00, 1237.62it/s, loss=1.82]\n"
     ]
    },
    {
     "name": "stdout",
     "output_type": "stream",
     "text": [
      "Epoch [801/1000]: Train loss: 2.1518, Valid loss: 2.3231\n"
     ]
    },
    {
     "name": "stderr",
     "output_type": "stream",
     "text": [
      "Epoch [802/1000]: 100%|██████████| 17/17 [00:00<00:00, 1270.25it/s, loss=2.87]\n"
     ]
    },
    {
     "name": "stdout",
     "output_type": "stream",
     "text": [
      "Epoch [802/1000]: Train loss: 2.1639, Valid loss: 2.3004\n"
     ]
    },
    {
     "name": "stderr",
     "output_type": "stream",
     "text": [
      "Epoch [803/1000]: 100%|██████████| 17/17 [00:00<00:00, 1214.21it/s, loss=2.03]\n"
     ]
    },
    {
     "name": "stdout",
     "output_type": "stream",
     "text": [
      "Epoch [803/1000]: Train loss: 2.1648, Valid loss: 2.4680\n"
     ]
    },
    {
     "name": "stderr",
     "output_type": "stream",
     "text": [
      "Epoch [804/1000]: 100%|██████████| 17/17 [00:00<00:00, 1165.73it/s, loss=2.12]\n"
     ]
    },
    {
     "name": "stdout",
     "output_type": "stream",
     "text": [
      "Epoch [804/1000]: Train loss: 2.1538, Valid loss: 2.4842\n"
     ]
    },
    {
     "name": "stderr",
     "output_type": "stream",
     "text": [
      "Epoch [805/1000]: 100%|██████████| 17/17 [00:00<00:00, 1120.56it/s, loss=1.56]\n"
     ]
    },
    {
     "name": "stdout",
     "output_type": "stream",
     "text": [
      "Epoch [805/1000]: Train loss: 2.1441, Valid loss: 2.2051\n"
     ]
    },
    {
     "name": "stderr",
     "output_type": "stream",
     "text": [
      "Epoch [806/1000]: 100%|██████████| 17/17 [00:00<00:00, 608.66it/s, loss=2.49]\n"
     ]
    },
    {
     "name": "stdout",
     "output_type": "stream",
     "text": [
      "Epoch [806/1000]: Train loss: 2.1449, Valid loss: 2.3040\n"
     ]
    },
    {
     "name": "stderr",
     "output_type": "stream",
     "text": [
      "Epoch [807/1000]: 100%|██████████| 17/17 [00:00<00:00, 1144.62it/s, loss=2.36]\n"
     ]
    },
    {
     "name": "stdout",
     "output_type": "stream",
     "text": [
      "Epoch [807/1000]: Train loss: 2.1474, Valid loss: 2.4642\n"
     ]
    },
    {
     "name": "stderr",
     "output_type": "stream",
     "text": [
      "Epoch [808/1000]: 100%|██████████| 17/17 [00:00<00:00, 1179.23it/s, loss=1.99]\n"
     ]
    },
    {
     "name": "stdout",
     "output_type": "stream",
     "text": [
      "Epoch [808/1000]: Train loss: 2.1371, Valid loss: 2.4443\n"
     ]
    },
    {
     "name": "stderr",
     "output_type": "stream",
     "text": [
      "Epoch [809/1000]: 100%|██████████| 17/17 [00:00<00:00, 1147.70it/s, loss=1.8]\n"
     ]
    },
    {
     "name": "stdout",
     "output_type": "stream",
     "text": [
      "Epoch [809/1000]: Train loss: 2.1326, Valid loss: 2.2606\n"
     ]
    },
    {
     "name": "stderr",
     "output_type": "stream",
     "text": [
      "Epoch [810/1000]: 100%|██████████| 17/17 [00:00<00:00, 1223.12it/s, loss=1.42]\n"
     ]
    },
    {
     "name": "stdout",
     "output_type": "stream",
     "text": [
      "Epoch [810/1000]: Train loss: 2.1309, Valid loss: 2.3692\n"
     ]
    },
    {
     "name": "stderr",
     "output_type": "stream",
     "text": [
      "Epoch [811/1000]: 100%|██████████| 17/17 [00:00<00:00, 1238.91it/s, loss=2.74]\n"
     ]
    },
    {
     "name": "stdout",
     "output_type": "stream",
     "text": [
      "Epoch [811/1000]: Train loss: 2.1354, Valid loss: 2.3013\n"
     ]
    },
    {
     "name": "stderr",
     "output_type": "stream",
     "text": [
      "Epoch [812/1000]: 100%|██████████| 17/17 [00:00<00:00, 1315.48it/s, loss=1.93]\n"
     ]
    },
    {
     "name": "stdout",
     "output_type": "stream",
     "text": [
      "Epoch [812/1000]: Train loss: 2.1269, Valid loss: 2.2874\n"
     ]
    },
    {
     "name": "stderr",
     "output_type": "stream",
     "text": [
      "Epoch [813/1000]: 100%|██████████| 17/17 [00:00<00:00, 1336.79it/s, loss=2.24]\n"
     ]
    },
    {
     "name": "stdout",
     "output_type": "stream",
     "text": [
      "Epoch [813/1000]: Train loss: 2.1262, Valid loss: 2.1669\n",
      "Saving model with loss 2.167...\n"
     ]
    },
    {
     "name": "stderr",
     "output_type": "stream",
     "text": [
      "Epoch [814/1000]: 100%|██████████| 17/17 [00:00<00:00, 1303.39it/s, loss=2.48]\n"
     ]
    },
    {
     "name": "stdout",
     "output_type": "stream",
     "text": [
      "Epoch [814/1000]: Train loss: 2.1352, Valid loss: 2.3810\n"
     ]
    },
    {
     "name": "stderr",
     "output_type": "stream",
     "text": [
      "Epoch [815/1000]: 100%|██████████| 17/17 [00:00<00:00, 917.97it/s, loss=1.96]\n"
     ]
    },
    {
     "name": "stdout",
     "output_type": "stream",
     "text": [
      "Epoch [815/1000]: Train loss: 2.1257, Valid loss: 2.4728\n"
     ]
    },
    {
     "name": "stderr",
     "output_type": "stream",
     "text": [
      "Epoch [816/1000]: 100%|██████████| 17/17 [00:00<00:00, 957.85it/s, loss=1.42]\n"
     ]
    },
    {
     "name": "stdout",
     "output_type": "stream",
     "text": [
      "Epoch [816/1000]: Train loss: 2.1142, Valid loss: 2.3037\n"
     ]
    },
    {
     "name": "stderr",
     "output_type": "stream",
     "text": [
      "Epoch [817/1000]: 100%|██████████| 17/17 [00:00<00:00, 1303.20it/s, loss=1.6]\n"
     ]
    },
    {
     "name": "stdout",
     "output_type": "stream",
     "text": [
      "Epoch [817/1000]: Train loss: 2.1149, Valid loss: 2.3944\n"
     ]
    },
    {
     "name": "stderr",
     "output_type": "stream",
     "text": [
      "Epoch [818/1000]: 100%|██████████| 17/17 [00:00<00:00, 1299.90it/s, loss=1.93]\n"
     ]
    },
    {
     "name": "stdout",
     "output_type": "stream",
     "text": [
      "Epoch [818/1000]: Train loss: 2.1148, Valid loss: 2.2661\n"
     ]
    },
    {
     "name": "stderr",
     "output_type": "stream",
     "text": [
      "Epoch [819/1000]: 100%|██████████| 17/17 [00:00<00:00, 1225.67it/s, loss=1.88]\n"
     ]
    },
    {
     "name": "stdout",
     "output_type": "stream",
     "text": [
      "Epoch [819/1000]: Train loss: 2.1114, Valid loss: 2.2949\n"
     ]
    },
    {
     "name": "stderr",
     "output_type": "stream",
     "text": [
      "Epoch [820/1000]: 100%|██████████| 17/17 [00:00<00:00, 1314.97it/s, loss=2.52]\n"
     ]
    },
    {
     "name": "stdout",
     "output_type": "stream",
     "text": [
      "Epoch [820/1000]: Train loss: 2.1163, Valid loss: 2.5795\n"
     ]
    },
    {
     "name": "stderr",
     "output_type": "stream",
     "text": [
      "Epoch [821/1000]: 100%|██████████| 17/17 [00:00<00:00, 1175.34it/s, loss=1.79]\n"
     ]
    },
    {
     "name": "stdout",
     "output_type": "stream",
     "text": [
      "Epoch [821/1000]: Train loss: 2.1124, Valid loss: 2.4024\n"
     ]
    },
    {
     "name": "stderr",
     "output_type": "stream",
     "text": [
      "Epoch [822/1000]: 100%|██████████| 17/17 [00:00<00:00, 1264.51it/s, loss=2.08]\n"
     ]
    },
    {
     "name": "stdout",
     "output_type": "stream",
     "text": [
      "Epoch [822/1000]: Train loss: 2.1110, Valid loss: 2.3229\n"
     ]
    },
    {
     "name": "stderr",
     "output_type": "stream",
     "text": [
      "Epoch [823/1000]: 100%|██████████| 17/17 [00:00<00:00, 1305.39it/s, loss=2.41]\n"
     ]
    },
    {
     "name": "stdout",
     "output_type": "stream",
     "text": [
      "Epoch [823/1000]: Train loss: 2.1062, Valid loss: 2.4017\n"
     ]
    },
    {
     "name": "stderr",
     "output_type": "stream",
     "text": [
      "Epoch [824/1000]: 100%|██████████| 17/17 [00:00<00:00, 1265.56it/s, loss=2.36]\n"
     ]
    },
    {
     "name": "stdout",
     "output_type": "stream",
     "text": [
      "Epoch [824/1000]: Train loss: 2.1068, Valid loss: 2.3704\n"
     ]
    },
    {
     "name": "stderr",
     "output_type": "stream",
     "text": [
      "Epoch [825/1000]: 100%|██████████| 17/17 [00:00<00:00, 587.28it/s, loss=2.18]\n"
     ]
    },
    {
     "name": "stdout",
     "output_type": "stream",
     "text": [
      "Epoch [825/1000]: Train loss: 2.1068, Valid loss: 2.3542\n"
     ]
    },
    {
     "name": "stderr",
     "output_type": "stream",
     "text": [
      "Epoch [826/1000]: 100%|██████████| 17/17 [00:00<00:00, 1294.84it/s, loss=2.21]\n"
     ]
    },
    {
     "name": "stdout",
     "output_type": "stream",
     "text": [
      "Epoch [826/1000]: Train loss: 2.1040, Valid loss: 2.3094\n"
     ]
    },
    {
     "name": "stderr",
     "output_type": "stream",
     "text": [
      "Epoch [827/1000]: 100%|██████████| 17/17 [00:00<00:00, 1281.00it/s, loss=2.97]\n"
     ]
    },
    {
     "name": "stdout",
     "output_type": "stream",
     "text": [
      "Epoch [827/1000]: Train loss: 2.1058, Valid loss: 2.3564\n"
     ]
    },
    {
     "name": "stderr",
     "output_type": "stream",
     "text": [
      "Epoch [828/1000]: 100%|██████████| 17/17 [00:00<00:00, 1298.19it/s, loss=2.45]\n"
     ]
    },
    {
     "name": "stdout",
     "output_type": "stream",
     "text": [
      "Epoch [828/1000]: Train loss: 2.1007, Valid loss: 2.2989\n"
     ]
    },
    {
     "name": "stderr",
     "output_type": "stream",
     "text": [
      "Epoch [829/1000]: 100%|██████████| 17/17 [00:00<00:00, 1279.83it/s, loss=1.5]\n"
     ]
    },
    {
     "name": "stdout",
     "output_type": "stream",
     "text": [
      "Epoch [829/1000]: Train loss: 2.0938, Valid loss: 2.3935\n"
     ]
    },
    {
     "name": "stderr",
     "output_type": "stream",
     "text": [
      "Epoch [830/1000]: 100%|██████████| 17/17 [00:00<00:00, 1293.65it/s, loss=1.8]\n"
     ]
    },
    {
     "name": "stdout",
     "output_type": "stream",
     "text": [
      "Epoch [830/1000]: Train loss: 2.0919, Valid loss: 2.1434\n",
      "Saving model with loss 2.143...\n"
     ]
    },
    {
     "name": "stderr",
     "output_type": "stream",
     "text": [
      "Epoch [831/1000]: 100%|██████████| 17/17 [00:00<00:00, 1294.26it/s, loss=1.65]\n"
     ]
    },
    {
     "name": "stdout",
     "output_type": "stream",
     "text": [
      "Epoch [831/1000]: Train loss: 2.0899, Valid loss: 2.2737\n"
     ]
    },
    {
     "name": "stderr",
     "output_type": "stream",
     "text": [
      "Epoch [832/1000]: 100%|██████████| 17/17 [00:00<00:00, 1300.87it/s, loss=2.57]\n"
     ]
    },
    {
     "name": "stdout",
     "output_type": "stream",
     "text": [
      "Epoch [832/1000]: Train loss: 2.0946, Valid loss: 2.3070\n"
     ]
    },
    {
     "name": "stderr",
     "output_type": "stream",
     "text": [
      "Epoch [833/1000]: 100%|██████████| 17/17 [00:00<00:00, 1302.08it/s, loss=2.31]\n"
     ]
    },
    {
     "name": "stdout",
     "output_type": "stream",
     "text": [
      "Epoch [833/1000]: Train loss: 2.0874, Valid loss: 2.2287\n"
     ]
    },
    {
     "name": "stderr",
     "output_type": "stream",
     "text": [
      "Epoch [834/1000]: 100%|██████████| 17/17 [00:00<00:00, 1274.04it/s, loss=2.37]\n"
     ]
    },
    {
     "name": "stdout",
     "output_type": "stream",
     "text": [
      "Epoch [834/1000]: Train loss: 2.0926, Valid loss: 2.2105\n"
     ]
    },
    {
     "name": "stderr",
     "output_type": "stream",
     "text": [
      "Epoch [835/1000]: 100%|██████████| 17/17 [00:00<00:00, 1272.93it/s, loss=2.2]\n"
     ]
    },
    {
     "name": "stdout",
     "output_type": "stream",
     "text": [
      "Epoch [835/1000]: Train loss: 2.0907, Valid loss: 2.3592\n"
     ]
    },
    {
     "name": "stderr",
     "output_type": "stream",
     "text": [
      "Epoch [836/1000]: 100%|██████████| 17/17 [00:00<00:00, 671.83it/s, loss=1.71]\n"
     ]
    },
    {
     "name": "stdout",
     "output_type": "stream",
     "text": [
      "Epoch [836/1000]: Train loss: 2.0774, Valid loss: 2.4090\n"
     ]
    },
    {
     "name": "stderr",
     "output_type": "stream",
     "text": [
      "Epoch [837/1000]: 100%|██████████| 17/17 [00:00<00:00, 1049.19it/s, loss=1.96]\n"
     ]
    },
    {
     "name": "stdout",
     "output_type": "stream",
     "text": [
      "Epoch [837/1000]: Train loss: 2.0773, Valid loss: 2.3435\n"
     ]
    },
    {
     "name": "stderr",
     "output_type": "stream",
     "text": [
      "Epoch [838/1000]: 100%|██████████| 17/17 [00:00<00:00, 1303.70it/s, loss=1.95]\n"
     ]
    },
    {
     "name": "stdout",
     "output_type": "stream",
     "text": [
      "Epoch [838/1000]: Train loss: 2.0779, Valid loss: 2.2489\n"
     ]
    },
    {
     "name": "stderr",
     "output_type": "stream",
     "text": [
      "Epoch [839/1000]: 100%|██████████| 17/17 [00:00<00:00, 1315.46it/s, loss=1.74]\n"
     ]
    },
    {
     "name": "stdout",
     "output_type": "stream",
     "text": [
      "Epoch [839/1000]: Train loss: 2.0738, Valid loss: 2.3369\n"
     ]
    },
    {
     "name": "stderr",
     "output_type": "stream",
     "text": [
      "Epoch [840/1000]: 100%|██████████| 17/17 [00:00<00:00, 1285.83it/s, loss=1.85]\n"
     ]
    },
    {
     "name": "stdout",
     "output_type": "stream",
     "text": [
      "Epoch [840/1000]: Train loss: 2.0701, Valid loss: 2.3146\n"
     ]
    },
    {
     "name": "stderr",
     "output_type": "stream",
     "text": [
      "Epoch [841/1000]: 100%|██████████| 17/17 [00:00<00:00, 1293.95it/s, loss=2.24]\n"
     ]
    },
    {
     "name": "stdout",
     "output_type": "stream",
     "text": [
      "Epoch [841/1000]: Train loss: 2.0893, Valid loss: 2.4448\n"
     ]
    },
    {
     "name": "stderr",
     "output_type": "stream",
     "text": [
      "Epoch [842/1000]: 100%|██████████| 17/17 [00:00<00:00, 1319.65it/s, loss=1.8]\n"
     ]
    },
    {
     "name": "stdout",
     "output_type": "stream",
     "text": [
      "Epoch [842/1000]: Train loss: 2.0757, Valid loss: 2.3899\n"
     ]
    },
    {
     "name": "stderr",
     "output_type": "stream",
     "text": [
      "Epoch [843/1000]: 100%|██████████| 17/17 [00:00<00:00, 1351.36it/s, loss=1.96]\n"
     ]
    },
    {
     "name": "stdout",
     "output_type": "stream",
     "text": [
      "Epoch [843/1000]: Train loss: 2.0740, Valid loss: 2.2764\n"
     ]
    },
    {
     "name": "stderr",
     "output_type": "stream",
     "text": [
      "Epoch [844/1000]: 100%|██████████| 17/17 [00:00<00:00, 1304.87it/s, loss=1.73]\n"
     ]
    },
    {
     "name": "stdout",
     "output_type": "stream",
     "text": [
      "Epoch [844/1000]: Train loss: 2.0651, Valid loss: 2.2802\n"
     ]
    },
    {
     "name": "stderr",
     "output_type": "stream",
     "text": [
      "Epoch [845/1000]: 100%|██████████| 17/17 [00:00<00:00, 604.15it/s, loss=1.72]\n"
     ]
    },
    {
     "name": "stdout",
     "output_type": "stream",
     "text": [
      "Epoch [845/1000]: Train loss: 2.0617, Valid loss: 2.4296\n"
     ]
    },
    {
     "name": "stderr",
     "output_type": "stream",
     "text": [
      "Epoch [846/1000]: 100%|██████████| 17/17 [00:00<00:00, 1250.01it/s, loss=1.94]\n"
     ]
    },
    {
     "name": "stdout",
     "output_type": "stream",
     "text": [
      "Epoch [846/1000]: Train loss: 2.0618, Valid loss: 2.4824\n"
     ]
    },
    {
     "name": "stderr",
     "output_type": "stream",
     "text": [
      "Epoch [847/1000]: 100%|██████████| 17/17 [00:00<00:00, 1296.63it/s, loss=1.9]\n"
     ]
    },
    {
     "name": "stdout",
     "output_type": "stream",
     "text": [
      "Epoch [847/1000]: Train loss: 2.0593, Valid loss: 2.4551\n"
     ]
    },
    {
     "name": "stderr",
     "output_type": "stream",
     "text": [
      "Epoch [848/1000]: 100%|██████████| 17/17 [00:00<00:00, 1327.09it/s, loss=1.53]\n"
     ]
    },
    {
     "name": "stdout",
     "output_type": "stream",
     "text": [
      "Epoch [848/1000]: Train loss: 2.0547, Valid loss: 2.5677\n"
     ]
    },
    {
     "name": "stderr",
     "output_type": "stream",
     "text": [
      "Epoch [849/1000]: 100%|██████████| 17/17 [00:00<00:00, 1263.66it/s, loss=2]\n"
     ]
    },
    {
     "name": "stdout",
     "output_type": "stream",
     "text": [
      "Epoch [849/1000]: Train loss: 2.0614, Valid loss: 2.2293\n"
     ]
    },
    {
     "name": "stderr",
     "output_type": "stream",
     "text": [
      "Epoch [850/1000]: 100%|██████████| 17/17 [00:00<00:00, 1339.10it/s, loss=1.55]\n"
     ]
    },
    {
     "name": "stdout",
     "output_type": "stream",
     "text": [
      "Epoch [850/1000]: Train loss: 2.0544, Valid loss: 2.3239\n"
     ]
    },
    {
     "name": "stderr",
     "output_type": "stream",
     "text": [
      "Epoch [851/1000]: 100%|██████████| 17/17 [00:00<00:00, 1316.29it/s, loss=2.16]\n"
     ]
    },
    {
     "name": "stdout",
     "output_type": "stream",
     "text": [
      "Epoch [851/1000]: Train loss: 2.0556, Valid loss: 2.2459\n"
     ]
    },
    {
     "name": "stderr",
     "output_type": "stream",
     "text": [
      "Epoch [852/1000]: 100%|██████████| 17/17 [00:00<00:00, 1297.29it/s, loss=2.21]\n"
     ]
    },
    {
     "name": "stdout",
     "output_type": "stream",
     "text": [
      "Epoch [852/1000]: Train loss: 2.0560, Valid loss: 2.3158\n"
     ]
    },
    {
     "name": "stderr",
     "output_type": "stream",
     "text": [
      "Epoch [853/1000]: 100%|██████████| 17/17 [00:00<00:00, 1299.80it/s, loss=1.67]\n"
     ]
    },
    {
     "name": "stdout",
     "output_type": "stream",
     "text": [
      "Epoch [853/1000]: Train loss: 2.0543, Valid loss: 2.3171\n"
     ]
    },
    {
     "name": "stderr",
     "output_type": "stream",
     "text": [
      "Epoch [854/1000]: 100%|██████████| 17/17 [00:00<00:00, 1346.23it/s, loss=1.98]\n"
     ]
    },
    {
     "name": "stdout",
     "output_type": "stream",
     "text": [
      "Epoch [854/1000]: Train loss: 2.0536, Valid loss: 2.4511\n"
     ]
    },
    {
     "name": "stderr",
     "output_type": "stream",
     "text": [
      "Epoch [855/1000]: 100%|██████████| 17/17 [00:00<00:00, 694.07it/s, loss=1.96]\n"
     ]
    },
    {
     "name": "stdout",
     "output_type": "stream",
     "text": [
      "Epoch [855/1000]: Train loss: 2.0494, Valid loss: 2.1761\n"
     ]
    },
    {
     "name": "stderr",
     "output_type": "stream",
     "text": [
      "Epoch [856/1000]: 100%|██████████| 17/17 [00:00<00:00, 1299.37it/s, loss=1.75]\n"
     ]
    },
    {
     "name": "stdout",
     "output_type": "stream",
     "text": [
      "Epoch [856/1000]: Train loss: 2.0461, Valid loss: 2.0982\n",
      "Saving model with loss 2.098...\n"
     ]
    },
    {
     "name": "stderr",
     "output_type": "stream",
     "text": [
      "Epoch [857/1000]: 100%|██████████| 17/17 [00:00<00:00, 1322.00it/s, loss=1.84]\n"
     ]
    },
    {
     "name": "stdout",
     "output_type": "stream",
     "text": [
      "Epoch [857/1000]: Train loss: 2.0434, Valid loss: 2.3217\n"
     ]
    },
    {
     "name": "stderr",
     "output_type": "stream",
     "text": [
      "Epoch [858/1000]: 100%|██████████| 17/17 [00:00<00:00, 1351.67it/s, loss=2.18]\n"
     ]
    },
    {
     "name": "stdout",
     "output_type": "stream",
     "text": [
      "Epoch [858/1000]: Train loss: 2.0490, Valid loss: 2.1867\n"
     ]
    },
    {
     "name": "stderr",
     "output_type": "stream",
     "text": [
      "Epoch [859/1000]: 100%|██████████| 17/17 [00:00<00:00, 1365.57it/s, loss=1.83]\n"
     ]
    },
    {
     "name": "stdout",
     "output_type": "stream",
     "text": [
      "Epoch [859/1000]: Train loss: 2.0525, Valid loss: 2.2500\n"
     ]
    },
    {
     "name": "stderr",
     "output_type": "stream",
     "text": [
      "Epoch [860/1000]: 100%|██████████| 17/17 [00:00<00:00, 1371.29it/s, loss=2.65]\n"
     ]
    },
    {
     "name": "stdout",
     "output_type": "stream",
     "text": [
      "Epoch [860/1000]: Train loss: 2.0451, Valid loss: 2.3504\n"
     ]
    },
    {
     "name": "stderr",
     "output_type": "stream",
     "text": [
      "Epoch [861/1000]: 100%|██████████| 17/17 [00:00<00:00, 1322.14it/s, loss=2.05]\n"
     ]
    },
    {
     "name": "stdout",
     "output_type": "stream",
     "text": [
      "Epoch [861/1000]: Train loss: 2.0420, Valid loss: 2.5955\n"
     ]
    },
    {
     "name": "stderr",
     "output_type": "stream",
     "text": [
      "Epoch [862/1000]: 100%|██████████| 17/17 [00:00<00:00, 1207.71it/s, loss=2.1]\n"
     ]
    },
    {
     "name": "stdout",
     "output_type": "stream",
     "text": [
      "Epoch [862/1000]: Train loss: 2.0425, Valid loss: 2.0969\n",
      "Saving model with loss 2.097...\n"
     ]
    },
    {
     "name": "stderr",
     "output_type": "stream",
     "text": [
      "Epoch [863/1000]: 100%|██████████| 17/17 [00:00<00:00, 1293.55it/s, loss=1.93]\n"
     ]
    },
    {
     "name": "stdout",
     "output_type": "stream",
     "text": [
      "Epoch [863/1000]: Train loss: 2.0390, Valid loss: 2.1670\n"
     ]
    },
    {
     "name": "stderr",
     "output_type": "stream",
     "text": [
      "Epoch [864/1000]: 100%|██████████| 17/17 [00:00<00:00, 1268.20it/s, loss=1.93]\n"
     ]
    },
    {
     "name": "stdout",
     "output_type": "stream",
     "text": [
      "Epoch [864/1000]: Train loss: 2.0324, Valid loss: 2.3969\n"
     ]
    },
    {
     "name": "stderr",
     "output_type": "stream",
     "text": [
      "Epoch [865/1000]: 100%|██████████| 17/17 [00:00<00:00, 753.41it/s, loss=2]\n"
     ]
    },
    {
     "name": "stdout",
     "output_type": "stream",
     "text": [
      "Epoch [865/1000]: Train loss: 2.0313, Valid loss: 2.2922\n"
     ]
    },
    {
     "name": "stderr",
     "output_type": "stream",
     "text": [
      "Epoch [866/1000]: 100%|██████████| 17/17 [00:00<00:00, 1282.64it/s, loss=2.29]\n"
     ]
    },
    {
     "name": "stdout",
     "output_type": "stream",
     "text": [
      "Epoch [866/1000]: Train loss: 2.0303, Valid loss: 2.3895\n"
     ]
    },
    {
     "name": "stderr",
     "output_type": "stream",
     "text": [
      "Epoch [867/1000]: 100%|██████████| 17/17 [00:00<00:00, 1348.34it/s, loss=2.16]\n"
     ]
    },
    {
     "name": "stdout",
     "output_type": "stream",
     "text": [
      "Epoch [867/1000]: Train loss: 2.0337, Valid loss: 2.7625\n"
     ]
    },
    {
     "name": "stderr",
     "output_type": "stream",
     "text": [
      "Epoch [868/1000]: 100%|██████████| 17/17 [00:00<00:00, 1319.99it/s, loss=2.16]\n"
     ]
    },
    {
     "name": "stdout",
     "output_type": "stream",
     "text": [
      "Epoch [868/1000]: Train loss: 2.0336, Valid loss: 2.3661\n"
     ]
    },
    {
     "name": "stderr",
     "output_type": "stream",
     "text": [
      "Epoch [869/1000]: 100%|██████████| 17/17 [00:00<00:00, 1317.40it/s, loss=2.5]\n"
     ]
    },
    {
     "name": "stdout",
     "output_type": "stream",
     "text": [
      "Epoch [869/1000]: Train loss: 2.0298, Valid loss: 2.5331\n"
     ]
    },
    {
     "name": "stderr",
     "output_type": "stream",
     "text": [
      "Epoch [870/1000]: 100%|██████████| 17/17 [00:00<00:00, 1307.28it/s, loss=1.88]\n"
     ]
    },
    {
     "name": "stdout",
     "output_type": "stream",
     "text": [
      "Epoch [870/1000]: Train loss: 2.0247, Valid loss: 2.2663\n"
     ]
    },
    {
     "name": "stderr",
     "output_type": "stream",
     "text": [
      "Epoch [871/1000]: 100%|██████████| 17/17 [00:00<00:00, 1301.08it/s, loss=2.35]\n"
     ]
    },
    {
     "name": "stdout",
     "output_type": "stream",
     "text": [
      "Epoch [871/1000]: Train loss: 2.0250, Valid loss: 2.1682\n"
     ]
    },
    {
     "name": "stderr",
     "output_type": "stream",
     "text": [
      "Epoch [872/1000]: 100%|██████████| 17/17 [00:00<00:00, 1328.13it/s, loss=1.6]\n"
     ]
    },
    {
     "name": "stdout",
     "output_type": "stream",
     "text": [
      "Epoch [872/1000]: Train loss: 2.0199, Valid loss: 2.1618\n"
     ]
    },
    {
     "name": "stderr",
     "output_type": "stream",
     "text": [
      "Epoch [873/1000]: 100%|██████████| 17/17 [00:00<00:00, 1270.28it/s, loss=2.01]\n"
     ]
    },
    {
     "name": "stdout",
     "output_type": "stream",
     "text": [
      "Epoch [873/1000]: Train loss: 2.0148, Valid loss: 2.3025\n"
     ]
    },
    {
     "name": "stderr",
     "output_type": "stream",
     "text": [
      "Epoch [874/1000]: 100%|██████████| 17/17 [00:00<00:00, 1310.91it/s, loss=1.91]\n"
     ]
    },
    {
     "name": "stdout",
     "output_type": "stream",
     "text": [
      "Epoch [874/1000]: Train loss: 2.0213, Valid loss: 2.1223\n"
     ]
    },
    {
     "name": "stderr",
     "output_type": "stream",
     "text": [
      "Epoch [875/1000]: 100%|██████████| 17/17 [00:00<00:00, 590.44it/s, loss=3.03]\n"
     ]
    },
    {
     "name": "stdout",
     "output_type": "stream",
     "text": [
      "Epoch [875/1000]: Train loss: 2.0247, Valid loss: 2.2137\n"
     ]
    },
    {
     "name": "stderr",
     "output_type": "stream",
     "text": [
      "Epoch [876/1000]: 100%|██████████| 17/17 [00:00<00:00, 1271.11it/s, loss=1.82]\n"
     ]
    },
    {
     "name": "stdout",
     "output_type": "stream",
     "text": [
      "Epoch [876/1000]: Train loss: 2.0121, Valid loss: 2.3262\n"
     ]
    },
    {
     "name": "stderr",
     "output_type": "stream",
     "text": [
      "Epoch [877/1000]: 100%|██████████| 17/17 [00:00<00:00, 1269.89it/s, loss=1.57]\n"
     ]
    },
    {
     "name": "stdout",
     "output_type": "stream",
     "text": [
      "Epoch [877/1000]: Train loss: 2.0129, Valid loss: 2.4990\n"
     ]
    },
    {
     "name": "stderr",
     "output_type": "stream",
     "text": [
      "Epoch [878/1000]: 100%|██████████| 17/17 [00:00<00:00, 1301.96it/s, loss=2.17]\n"
     ]
    },
    {
     "name": "stdout",
     "output_type": "stream",
     "text": [
      "Epoch [878/1000]: Train loss: 2.0114, Valid loss: 2.4311\n"
     ]
    },
    {
     "name": "stderr",
     "output_type": "stream",
     "text": [
      "Epoch [879/1000]: 100%|██████████| 17/17 [00:00<00:00, 1258.22it/s, loss=1.98]\n"
     ]
    },
    {
     "name": "stdout",
     "output_type": "stream",
     "text": [
      "Epoch [879/1000]: Train loss: 2.0101, Valid loss: 2.3729\n"
     ]
    },
    {
     "name": "stderr",
     "output_type": "stream",
     "text": [
      "Epoch [880/1000]: 100%|██████████| 17/17 [00:00<00:00, 1268.74it/s, loss=2.31]\n"
     ]
    },
    {
     "name": "stdout",
     "output_type": "stream",
     "text": [
      "Epoch [880/1000]: Train loss: 2.0101, Valid loss: 2.2657\n"
     ]
    },
    {
     "name": "stderr",
     "output_type": "stream",
     "text": [
      "Epoch [881/1000]: 100%|██████████| 17/17 [00:00<00:00, 1301.77it/s, loss=1.63]\n"
     ]
    },
    {
     "name": "stdout",
     "output_type": "stream",
     "text": [
      "Epoch [881/1000]: Train loss: 2.0031, Valid loss: 2.3927\n"
     ]
    },
    {
     "name": "stderr",
     "output_type": "stream",
     "text": [
      "Epoch [882/1000]: 100%|██████████| 17/17 [00:00<00:00, 1300.09it/s, loss=2.05]\n"
     ]
    },
    {
     "name": "stdout",
     "output_type": "stream",
     "text": [
      "Epoch [882/1000]: Train loss: 2.0042, Valid loss: 2.3853\n"
     ]
    },
    {
     "name": "stderr",
     "output_type": "stream",
     "text": [
      "Epoch [883/1000]: 100%|██████████| 17/17 [00:00<00:00, 1337.77it/s, loss=1.6]\n"
     ]
    },
    {
     "name": "stdout",
     "output_type": "stream",
     "text": [
      "Epoch [883/1000]: Train loss: 2.0005, Valid loss: 2.2546\n"
     ]
    },
    {
     "name": "stderr",
     "output_type": "stream",
     "text": [
      "Epoch [884/1000]: 100%|██████████| 17/17 [00:00<00:00, 1322.44it/s, loss=2.07]\n"
     ]
    },
    {
     "name": "stdout",
     "output_type": "stream",
     "text": [
      "Epoch [884/1000]: Train loss: 2.0036, Valid loss: 2.3560\n"
     ]
    },
    {
     "name": "stderr",
     "output_type": "stream",
     "text": [
      "Epoch [885/1000]: 100%|██████████| 17/17 [00:00<00:00, 1364.71it/s, loss=1.79]\n"
     ]
    },
    {
     "name": "stdout",
     "output_type": "stream",
     "text": [
      "Epoch [885/1000]: Train loss: 1.9987, Valid loss: 2.2255\n"
     ]
    },
    {
     "name": "stderr",
     "output_type": "stream",
     "text": [
      "Epoch [886/1000]: 100%|██████████| 17/17 [00:00<00:00, 588.93it/s, loss=2.34]\n"
     ]
    },
    {
     "name": "stdout",
     "output_type": "stream",
     "text": [
      "Epoch [886/1000]: Train loss: 2.0013, Valid loss: 2.2184\n"
     ]
    },
    {
     "name": "stderr",
     "output_type": "stream",
     "text": [
      "Epoch [887/1000]: 100%|██████████| 17/17 [00:00<00:00, 1249.81it/s, loss=2.03]\n"
     ]
    },
    {
     "name": "stdout",
     "output_type": "stream",
     "text": [
      "Epoch [887/1000]: Train loss: 1.9986, Valid loss: 2.1466\n"
     ]
    },
    {
     "name": "stderr",
     "output_type": "stream",
     "text": [
      "Epoch [888/1000]: 100%|██████████| 17/17 [00:00<00:00, 1297.11it/s, loss=1.84]\n"
     ]
    },
    {
     "name": "stdout",
     "output_type": "stream",
     "text": [
      "Epoch [888/1000]: Train loss: 2.0007, Valid loss: 2.3436\n"
     ]
    },
    {
     "name": "stderr",
     "output_type": "stream",
     "text": [
      "Epoch [889/1000]: 100%|██████████| 17/17 [00:00<00:00, 1294.75it/s, loss=2.6]\n"
     ]
    },
    {
     "name": "stdout",
     "output_type": "stream",
     "text": [
      "Epoch [889/1000]: Train loss: 2.0105, Valid loss: 2.2220\n"
     ]
    },
    {
     "name": "stderr",
     "output_type": "stream",
     "text": [
      "Epoch [890/1000]: 100%|██████████| 17/17 [00:00<00:00, 1306.97it/s, loss=2.03]\n"
     ]
    },
    {
     "name": "stdout",
     "output_type": "stream",
     "text": [
      "Epoch [890/1000]: Train loss: 2.0000, Valid loss: 2.2423\n"
     ]
    },
    {
     "name": "stderr",
     "output_type": "stream",
     "text": [
      "Epoch [891/1000]: 100%|██████████| 17/17 [00:00<00:00, 1303.77it/s, loss=1.69]\n"
     ]
    },
    {
     "name": "stdout",
     "output_type": "stream",
     "text": [
      "Epoch [891/1000]: Train loss: 1.9904, Valid loss: 2.2231\n"
     ]
    },
    {
     "name": "stderr",
     "output_type": "stream",
     "text": [
      "Epoch [892/1000]: 100%|██████████| 17/17 [00:00<00:00, 1284.07it/s, loss=2.01]\n"
     ]
    },
    {
     "name": "stdout",
     "output_type": "stream",
     "text": [
      "Epoch [892/1000]: Train loss: 1.9909, Valid loss: 2.1746\n"
     ]
    },
    {
     "name": "stderr",
     "output_type": "stream",
     "text": [
      "Epoch [893/1000]: 100%|██████████| 17/17 [00:00<00:00, 1302.98it/s, loss=1.85]\n"
     ]
    },
    {
     "name": "stdout",
     "output_type": "stream",
     "text": [
      "Epoch [893/1000]: Train loss: 1.9881, Valid loss: 2.0246\n",
      "Saving model with loss 2.025...\n"
     ]
    },
    {
     "name": "stderr",
     "output_type": "stream",
     "text": [
      "Epoch [894/1000]: 100%|██████████| 17/17 [00:00<00:00, 1302.39it/s, loss=1.95]\n"
     ]
    },
    {
     "name": "stdout",
     "output_type": "stream",
     "text": [
      "Epoch [894/1000]: Train loss: 1.9884, Valid loss: 2.4581\n"
     ]
    },
    {
     "name": "stderr",
     "output_type": "stream",
     "text": [
      "Epoch [895/1000]: 100%|██████████| 17/17 [00:00<00:00, 746.40it/s, loss=1.72]\n"
     ]
    },
    {
     "name": "stdout",
     "output_type": "stream",
     "text": [
      "Epoch [895/1000]: Train loss: 1.9884, Valid loss: 2.1373\n"
     ]
    },
    {
     "name": "stderr",
     "output_type": "stream",
     "text": [
      "Epoch [896/1000]: 100%|██████████| 17/17 [00:00<00:00, 1216.18it/s, loss=2.36]\n"
     ]
    },
    {
     "name": "stdout",
     "output_type": "stream",
     "text": [
      "Epoch [896/1000]: Train loss: 1.9933, Valid loss: 2.4034\n"
     ]
    },
    {
     "name": "stderr",
     "output_type": "stream",
     "text": [
      "Epoch [897/1000]: 100%|██████████| 17/17 [00:00<00:00, 1270.01it/s, loss=2.12]\n"
     ]
    },
    {
     "name": "stdout",
     "output_type": "stream",
     "text": [
      "Epoch [897/1000]: Train loss: 1.9852, Valid loss: 2.3578\n"
     ]
    },
    {
     "name": "stderr",
     "output_type": "stream",
     "text": [
      "Epoch [898/1000]: 100%|██████████| 17/17 [00:00<00:00, 1312.05it/s, loss=1.81]\n"
     ]
    },
    {
     "name": "stdout",
     "output_type": "stream",
     "text": [
      "Epoch [898/1000]: Train loss: 1.9824, Valid loss: 2.2101\n"
     ]
    },
    {
     "name": "stderr",
     "output_type": "stream",
     "text": [
      "Epoch [899/1000]: 100%|██████████| 17/17 [00:00<00:00, 1293.76it/s, loss=1.47]\n"
     ]
    },
    {
     "name": "stdout",
     "output_type": "stream",
     "text": [
      "Epoch [899/1000]: Train loss: 1.9802, Valid loss: 2.5648\n"
     ]
    },
    {
     "name": "stderr",
     "output_type": "stream",
     "text": [
      "Epoch [900/1000]: 100%|██████████| 17/17 [00:00<00:00, 1305.99it/s, loss=2.31]\n"
     ]
    },
    {
     "name": "stdout",
     "output_type": "stream",
     "text": [
      "Epoch [900/1000]: Train loss: 1.9884, Valid loss: 2.1065\n"
     ]
    },
    {
     "name": "stderr",
     "output_type": "stream",
     "text": [
      "Epoch [901/1000]: 100%|██████████| 17/17 [00:00<00:00, 1278.41it/s, loss=2.05]\n"
     ]
    },
    {
     "name": "stdout",
     "output_type": "stream",
     "text": [
      "Epoch [901/1000]: Train loss: 1.9834, Valid loss: 2.2649\n"
     ]
    },
    {
     "name": "stderr",
     "output_type": "stream",
     "text": [
      "Epoch [902/1000]: 100%|██████████| 17/17 [00:00<00:00, 1280.04it/s, loss=1.62]\n"
     ]
    },
    {
     "name": "stdout",
     "output_type": "stream",
     "text": [
      "Epoch [902/1000]: Train loss: 1.9812, Valid loss: 2.2304\n"
     ]
    },
    {
     "name": "stderr",
     "output_type": "stream",
     "text": [
      "Epoch [903/1000]: 100%|██████████| 17/17 [00:00<00:00, 719.70it/s, loss=1.9]\n"
     ]
    },
    {
     "name": "stdout",
     "output_type": "stream",
     "text": [
      "Epoch [903/1000]: Train loss: 1.9783, Valid loss: 2.2507\n"
     ]
    },
    {
     "name": "stderr",
     "output_type": "stream",
     "text": [
      "Epoch [904/1000]: 100%|██████████| 17/17 [00:00<00:00, 1206.61it/s, loss=1.89]\n"
     ]
    },
    {
     "name": "stdout",
     "output_type": "stream",
     "text": [
      "Epoch [904/1000]: Train loss: 1.9768, Valid loss: 2.2850\n"
     ]
    },
    {
     "name": "stderr",
     "output_type": "stream",
     "text": [
      "Epoch [905/1000]: 100%|██████████| 17/17 [00:00<00:00, 1293.06it/s, loss=1.48]\n"
     ]
    },
    {
     "name": "stdout",
     "output_type": "stream",
     "text": [
      "Epoch [905/1000]: Train loss: 1.9685, Valid loss: 2.2325\n"
     ]
    },
    {
     "name": "stderr",
     "output_type": "stream",
     "text": [
      "Epoch [906/1000]: 100%|██████████| 17/17 [00:00<00:00, 1312.46it/s, loss=1.98]\n"
     ]
    },
    {
     "name": "stdout",
     "output_type": "stream",
     "text": [
      "Epoch [906/1000]: Train loss: 1.9723, Valid loss: 2.2334\n"
     ]
    },
    {
     "name": "stderr",
     "output_type": "stream",
     "text": [
      "Epoch [907/1000]: 100%|██████████| 17/17 [00:00<00:00, 1294.44it/s, loss=2.38]\n"
     ]
    },
    {
     "name": "stdout",
     "output_type": "stream",
     "text": [
      "Epoch [907/1000]: Train loss: 1.9763, Valid loss: 2.3242\n"
     ]
    },
    {
     "name": "stderr",
     "output_type": "stream",
     "text": [
      "Epoch [908/1000]: 100%|██████████| 17/17 [00:00<00:00, 1302.08it/s, loss=1.66]\n"
     ]
    },
    {
     "name": "stdout",
     "output_type": "stream",
     "text": [
      "Epoch [908/1000]: Train loss: 1.9678, Valid loss: 2.1230\n"
     ]
    },
    {
     "name": "stderr",
     "output_type": "stream",
     "text": [
      "Epoch [909/1000]: 100%|██████████| 17/17 [00:00<00:00, 1261.49it/s, loss=1.98]\n"
     ]
    },
    {
     "name": "stdout",
     "output_type": "stream",
     "text": [
      "Epoch [909/1000]: Train loss: 1.9779, Valid loss: 2.1712\n"
     ]
    },
    {
     "name": "stderr",
     "output_type": "stream",
     "text": [
      "Epoch [910/1000]: 100%|██████████| 17/17 [00:00<00:00, 698.50it/s, loss=2.32]\n"
     ]
    },
    {
     "name": "stdout",
     "output_type": "stream",
     "text": [
      "Epoch [910/1000]: Train loss: 1.9706, Valid loss: 2.1960\n"
     ]
    },
    {
     "name": "stderr",
     "output_type": "stream",
     "text": [
      "Epoch [911/1000]: 100%|██████████| 17/17 [00:00<00:00, 1293.46it/s, loss=2.03]\n"
     ]
    },
    {
     "name": "stdout",
     "output_type": "stream",
     "text": [
      "Epoch [911/1000]: Train loss: 1.9685, Valid loss: 2.2588\n"
     ]
    },
    {
     "name": "stderr",
     "output_type": "stream",
     "text": [
      "Epoch [912/1000]: 100%|██████████| 17/17 [00:00<00:00, 1349.75it/s, loss=1.87]\n"
     ]
    },
    {
     "name": "stdout",
     "output_type": "stream",
     "text": [
      "Epoch [912/1000]: Train loss: 1.9651, Valid loss: 2.2541\n"
     ]
    },
    {
     "name": "stderr",
     "output_type": "stream",
     "text": [
      "Epoch [913/1000]: 100%|██████████| 17/17 [00:00<00:00, 1376.75it/s, loss=1.86]\n"
     ]
    },
    {
     "name": "stdout",
     "output_type": "stream",
     "text": [
      "Epoch [913/1000]: Train loss: 1.9610, Valid loss: 2.3687\n"
     ]
    },
    {
     "name": "stderr",
     "output_type": "stream",
     "text": [
      "Epoch [914/1000]: 100%|██████████| 17/17 [00:00<00:00, 1337.32it/s, loss=2.04]\n"
     ]
    },
    {
     "name": "stdout",
     "output_type": "stream",
     "text": [
      "Epoch [914/1000]: Train loss: 1.9644, Valid loss: 2.0515\n"
     ]
    },
    {
     "name": "stderr",
     "output_type": "stream",
     "text": [
      "Epoch [915/1000]: 100%|██████████| 17/17 [00:00<00:00, 1279.23it/s, loss=2.46]\n"
     ]
    },
    {
     "name": "stdout",
     "output_type": "stream",
     "text": [
      "Epoch [915/1000]: Train loss: 1.9629, Valid loss: 2.3615\n"
     ]
    },
    {
     "name": "stderr",
     "output_type": "stream",
     "text": [
      "Epoch [916/1000]: 100%|██████████| 17/17 [00:00<00:00, 1294.84it/s, loss=1.51]\n"
     ]
    },
    {
     "name": "stdout",
     "output_type": "stream",
     "text": [
      "Epoch [916/1000]: Train loss: 1.9544, Valid loss: 2.0449\n"
     ]
    },
    {
     "name": "stderr",
     "output_type": "stream",
     "text": [
      "Epoch [917/1000]: 100%|██████████| 17/17 [00:00<00:00, 908.61it/s, loss=1.29]\n"
     ]
    },
    {
     "name": "stdout",
     "output_type": "stream",
     "text": [
      "Epoch [917/1000]: Train loss: 1.9538, Valid loss: 2.0781\n"
     ]
    },
    {
     "name": "stderr",
     "output_type": "stream",
     "text": [
      "Epoch [918/1000]: 100%|██████████| 17/17 [00:00<00:00, 920.71it/s, loss=2.34]\n"
     ]
    },
    {
     "name": "stdout",
     "output_type": "stream",
     "text": [
      "Epoch [918/1000]: Train loss: 1.9593, Valid loss: 2.4037\n"
     ]
    },
    {
     "name": "stderr",
     "output_type": "stream",
     "text": [
      "Epoch [919/1000]: 100%|██████████| 17/17 [00:00<00:00, 1279.07it/s, loss=1.9]\n"
     ]
    },
    {
     "name": "stdout",
     "output_type": "stream",
     "text": [
      "Epoch [919/1000]: Train loss: 1.9531, Valid loss: 2.3230\n"
     ]
    },
    {
     "name": "stderr",
     "output_type": "stream",
     "text": [
      "Epoch [920/1000]: 100%|██████████| 17/17 [00:00<00:00, 1286.22it/s, loss=1.96]\n"
     ]
    },
    {
     "name": "stdout",
     "output_type": "stream",
     "text": [
      "Epoch [920/1000]: Train loss: 1.9531, Valid loss: 2.3732\n"
     ]
    },
    {
     "name": "stderr",
     "output_type": "stream",
     "text": [
      "Epoch [921/1000]: 100%|██████████| 17/17 [00:00<00:00, 1262.81it/s, loss=1.96]\n"
     ]
    },
    {
     "name": "stdout",
     "output_type": "stream",
     "text": [
      "Epoch [921/1000]: Train loss: 1.9512, Valid loss: 2.1792\n"
     ]
    },
    {
     "name": "stderr",
     "output_type": "stream",
     "text": [
      "Epoch [922/1000]: 100%|██████████| 17/17 [00:00<00:00, 1268.00it/s, loss=2.42]\n"
     ]
    },
    {
     "name": "stdout",
     "output_type": "stream",
     "text": [
      "Epoch [922/1000]: Train loss: 1.9538, Valid loss: 2.2200\n"
     ]
    },
    {
     "name": "stderr",
     "output_type": "stream",
     "text": [
      "Epoch [923/1000]: 100%|██████████| 17/17 [00:00<00:00, 1231.89it/s, loss=1.29]\n"
     ]
    },
    {
     "name": "stdout",
     "output_type": "stream",
     "text": [
      "Epoch [923/1000]: Train loss: 1.9461, Valid loss: 2.2825\n"
     ]
    },
    {
     "name": "stderr",
     "output_type": "stream",
     "text": [
      "Epoch [924/1000]: 100%|██████████| 17/17 [00:00<00:00, 1053.41it/s, loss=1.85]\n"
     ]
    },
    {
     "name": "stdout",
     "output_type": "stream",
     "text": [
      "Epoch [924/1000]: Train loss: 1.9509, Valid loss: 2.2302\n"
     ]
    },
    {
     "name": "stderr",
     "output_type": "stream",
     "text": [
      "Epoch [925/1000]: 100%|██████████| 17/17 [00:00<00:00, 893.89it/s, loss=2.38]\n"
     ]
    },
    {
     "name": "stdout",
     "output_type": "stream",
     "text": [
      "Epoch [925/1000]: Train loss: 1.9544, Valid loss: 2.4028\n"
     ]
    },
    {
     "name": "stderr",
     "output_type": "stream",
     "text": [
      "Epoch [926/1000]: 100%|██████████| 17/17 [00:00<00:00, 1327.26it/s, loss=1.4]\n"
     ]
    },
    {
     "name": "stdout",
     "output_type": "stream",
     "text": [
      "Epoch [926/1000]: Train loss: 1.9395, Valid loss: 2.2859\n"
     ]
    },
    {
     "name": "stderr",
     "output_type": "stream",
     "text": [
      "Epoch [927/1000]: 100%|██████████| 17/17 [00:00<00:00, 1330.31it/s, loss=1.6]\n"
     ]
    },
    {
     "name": "stdout",
     "output_type": "stream",
     "text": [
      "Epoch [927/1000]: Train loss: 1.9441, Valid loss: 2.2999\n"
     ]
    },
    {
     "name": "stderr",
     "output_type": "stream",
     "text": [
      "Epoch [928/1000]: 100%|██████████| 17/17 [00:00<00:00, 1284.70it/s, loss=1.88]\n"
     ]
    },
    {
     "name": "stdout",
     "output_type": "stream",
     "text": [
      "Epoch [928/1000]: Train loss: 1.9528, Valid loss: 2.1261\n"
     ]
    },
    {
     "name": "stderr",
     "output_type": "stream",
     "text": [
      "Epoch [929/1000]: 100%|██████████| 17/17 [00:00<00:00, 1302.20it/s, loss=2.09]\n"
     ]
    },
    {
     "name": "stdout",
     "output_type": "stream",
     "text": [
      "Epoch [929/1000]: Train loss: 1.9435, Valid loss: 2.1534\n"
     ]
    },
    {
     "name": "stderr",
     "output_type": "stream",
     "text": [
      "Epoch [930/1000]: 100%|██████████| 17/17 [00:00<00:00, 1286.90it/s, loss=1.76]\n"
     ]
    },
    {
     "name": "stdout",
     "output_type": "stream",
     "text": [
      "Epoch [930/1000]: Train loss: 1.9407, Valid loss: 2.2523\n"
     ]
    },
    {
     "name": "stderr",
     "output_type": "stream",
     "text": [
      "Epoch [931/1000]: 100%|██████████| 17/17 [00:00<00:00, 1231.42it/s, loss=1.64]\n"
     ]
    },
    {
     "name": "stdout",
     "output_type": "stream",
     "text": [
      "Epoch [931/1000]: Train loss: 1.9366, Valid loss: 2.0280\n"
     ]
    },
    {
     "name": "stderr",
     "output_type": "stream",
     "text": [
      "Epoch [932/1000]: 100%|██████████| 17/17 [00:00<00:00, 1280.31it/s, loss=1.71]\n"
     ]
    },
    {
     "name": "stdout",
     "output_type": "stream",
     "text": [
      "Epoch [932/1000]: Train loss: 1.9382, Valid loss: 2.1988\n"
     ]
    },
    {
     "name": "stderr",
     "output_type": "stream",
     "text": [
      "Epoch [933/1000]: 100%|██████████| 17/17 [00:00<00:00, 1287.29it/s, loss=2.11]\n"
     ]
    },
    {
     "name": "stdout",
     "output_type": "stream",
     "text": [
      "Epoch [933/1000]: Train loss: 1.9381, Valid loss: 2.3391\n"
     ]
    },
    {
     "name": "stderr",
     "output_type": "stream",
     "text": [
      "Epoch [934/1000]: 100%|██████████| 17/17 [00:00<00:00, 713.20it/s, loss=2.57]\n"
     ]
    },
    {
     "name": "stdout",
     "output_type": "stream",
     "text": [
      "Epoch [934/1000]: Train loss: 1.9393, Valid loss: 2.1561\n"
     ]
    },
    {
     "name": "stderr",
     "output_type": "stream",
     "text": [
      "Epoch [935/1000]: 100%|██████████| 17/17 [00:00<00:00, 1088.48it/s, loss=1.84]\n"
     ]
    },
    {
     "name": "stdout",
     "output_type": "stream",
     "text": [
      "Epoch [935/1000]: Train loss: 1.9348, Valid loss: 2.2650\n"
     ]
    },
    {
     "name": "stderr",
     "output_type": "stream",
     "text": [
      "Epoch [936/1000]: 100%|██████████| 17/17 [00:00<00:00, 1343.95it/s, loss=1.79]\n"
     ]
    },
    {
     "name": "stdout",
     "output_type": "stream",
     "text": [
      "Epoch [936/1000]: Train loss: 1.9483, Valid loss: 2.4627\n"
     ]
    },
    {
     "name": "stderr",
     "output_type": "stream",
     "text": [
      "Epoch [937/1000]: 100%|██████████| 17/17 [00:00<00:00, 1367.22it/s, loss=1.54]\n"
     ]
    },
    {
     "name": "stdout",
     "output_type": "stream",
     "text": [
      "Epoch [937/1000]: Train loss: 1.9518, Valid loss: 2.1410\n"
     ]
    },
    {
     "name": "stderr",
     "output_type": "stream",
     "text": [
      "Epoch [938/1000]: 100%|██████████| 17/17 [00:00<00:00, 1362.18it/s, loss=1.92]\n"
     ]
    },
    {
     "name": "stdout",
     "output_type": "stream",
     "text": [
      "Epoch [938/1000]: Train loss: 1.9354, Valid loss: 2.0548\n"
     ]
    },
    {
     "name": "stderr",
     "output_type": "stream",
     "text": [
      "Epoch [939/1000]: 100%|██████████| 17/17 [00:00<00:00, 1282.25it/s, loss=2.01]\n"
     ]
    },
    {
     "name": "stdout",
     "output_type": "stream",
     "text": [
      "Epoch [939/1000]: Train loss: 1.9325, Valid loss: 2.2982\n"
     ]
    },
    {
     "name": "stderr",
     "output_type": "stream",
     "text": [
      "Epoch [940/1000]: 100%|██████████| 17/17 [00:00<00:00, 1315.51it/s, loss=2.01]\n"
     ]
    },
    {
     "name": "stdout",
     "output_type": "stream",
     "text": [
      "Epoch [940/1000]: Train loss: 1.9347, Valid loss: 2.2135\n"
     ]
    },
    {
     "name": "stderr",
     "output_type": "stream",
     "text": [
      "Epoch [941/1000]: 100%|██████████| 17/17 [00:00<00:00, 1290.91it/s, loss=1.43]\n"
     ]
    },
    {
     "name": "stdout",
     "output_type": "stream",
     "text": [
      "Epoch [941/1000]: Train loss: 1.9209, Valid loss: 2.0714\n"
     ]
    },
    {
     "name": "stderr",
     "output_type": "stream",
     "text": [
      "Epoch [942/1000]: 100%|██████████| 17/17 [00:00<00:00, 1292.99it/s, loss=1.84]\n"
     ]
    },
    {
     "name": "stdout",
     "output_type": "stream",
     "text": [
      "Epoch [942/1000]: Train loss: 1.9280, Valid loss: 2.0614\n"
     ]
    },
    {
     "name": "stderr",
     "output_type": "stream",
     "text": [
      "Epoch [943/1000]: 100%|██████████| 17/17 [00:00<00:00, 1295.53it/s, loss=1.83]\n"
     ]
    },
    {
     "name": "stdout",
     "output_type": "stream",
     "text": [
      "Epoch [943/1000]: Train loss: 1.9399, Valid loss: 2.1482\n"
     ]
    },
    {
     "name": "stderr",
     "output_type": "stream",
     "text": [
      "Epoch [944/1000]: 100%|██████████| 17/17 [00:00<00:00, 1286.22it/s, loss=1.73]\n"
     ]
    },
    {
     "name": "stdout",
     "output_type": "stream",
     "text": [
      "Epoch [944/1000]: Train loss: 1.9219, Valid loss: 2.1614\n"
     ]
    },
    {
     "name": "stderr",
     "output_type": "stream",
     "text": [
      "Epoch [945/1000]: 100%|██████████| 17/17 [00:00<00:00, 686.28it/s, loss=1.89]\n"
     ]
    },
    {
     "name": "stdout",
     "output_type": "stream",
     "text": [
      "Epoch [945/1000]: Train loss: 1.9257, Valid loss: 2.1667\n"
     ]
    },
    {
     "name": "stderr",
     "output_type": "stream",
     "text": [
      "Epoch [946/1000]: 100%|██████████| 17/17 [00:00<00:00, 1232.60it/s, loss=1.75]\n"
     ]
    },
    {
     "name": "stdout",
     "output_type": "stream",
     "text": [
      "Epoch [946/1000]: Train loss: 1.9248, Valid loss: 2.1265\n"
     ]
    },
    {
     "name": "stderr",
     "output_type": "stream",
     "text": [
      "Epoch [947/1000]: 100%|██████████| 17/17 [00:00<00:00, 1313.06it/s, loss=1.7]\n"
     ]
    },
    {
     "name": "stdout",
     "output_type": "stream",
     "text": [
      "Epoch [947/1000]: Train loss: 1.9146, Valid loss: 2.0670\n"
     ]
    },
    {
     "name": "stderr",
     "output_type": "stream",
     "text": [
      "Epoch [948/1000]: 100%|██████████| 17/17 [00:00<00:00, 1316.89it/s, loss=1.55]\n"
     ]
    },
    {
     "name": "stdout",
     "output_type": "stream",
     "text": [
      "Epoch [948/1000]: Train loss: 1.9221, Valid loss: 2.3204\n"
     ]
    },
    {
     "name": "stderr",
     "output_type": "stream",
     "text": [
      "Epoch [949/1000]: 100%|██████████| 17/17 [00:00<00:00, 1298.62it/s, loss=1.98]\n"
     ]
    },
    {
     "name": "stdout",
     "output_type": "stream",
     "text": [
      "Epoch [949/1000]: Train loss: 1.9226, Valid loss: 2.2780\n"
     ]
    },
    {
     "name": "stderr",
     "output_type": "stream",
     "text": [
      "Epoch [950/1000]: 100%|██████████| 17/17 [00:00<00:00, 1278.11it/s, loss=1.9]\n"
     ]
    },
    {
     "name": "stdout",
     "output_type": "stream",
     "text": [
      "Epoch [950/1000]: Train loss: 1.9219, Valid loss: 2.1719\n"
     ]
    },
    {
     "name": "stderr",
     "output_type": "stream",
     "text": [
      "Epoch [951/1000]: 100%|██████████| 17/17 [00:00<00:00, 1310.62it/s, loss=2.09]\n"
     ]
    },
    {
     "name": "stdout",
     "output_type": "stream",
     "text": [
      "Epoch [951/1000]: Train loss: 1.9213, Valid loss: 2.1088\n"
     ]
    },
    {
     "name": "stderr",
     "output_type": "stream",
     "text": [
      "Epoch [952/1000]: 100%|██████████| 17/17 [00:00<00:00, 1233.41it/s, loss=1.8]\n"
     ]
    },
    {
     "name": "stdout",
     "output_type": "stream",
     "text": [
      "Epoch [952/1000]: Train loss: 1.9157, Valid loss: 2.2351\n"
     ]
    },
    {
     "name": "stderr",
     "output_type": "stream",
     "text": [
      "Epoch [953/1000]: 100%|██████████| 17/17 [00:00<00:00, 697.96it/s, loss=2.13]\n"
     ]
    },
    {
     "name": "stdout",
     "output_type": "stream",
     "text": [
      "Epoch [953/1000]: Train loss: 1.9175, Valid loss: 2.1386\n"
     ]
    },
    {
     "name": "stderr",
     "output_type": "stream",
     "text": [
      "Epoch [954/1000]: 100%|██████████| 17/17 [00:00<00:00, 1082.73it/s, loss=1.64]\n"
     ]
    },
    {
     "name": "stdout",
     "output_type": "stream",
     "text": [
      "Epoch [954/1000]: Train loss: 1.9163, Valid loss: 2.2232\n"
     ]
    },
    {
     "name": "stderr",
     "output_type": "stream",
     "text": [
      "Epoch [955/1000]: 100%|██████████| 17/17 [00:00<00:00, 1296.70it/s, loss=1.54]\n"
     ]
    },
    {
     "name": "stdout",
     "output_type": "stream",
     "text": [
      "Epoch [955/1000]: Train loss: 1.9081, Valid loss: 2.2446\n"
     ]
    },
    {
     "name": "stderr",
     "output_type": "stream",
     "text": [
      "Epoch [956/1000]: 100%|██████████| 17/17 [00:00<00:00, 1305.27it/s, loss=1.71]\n"
     ]
    },
    {
     "name": "stdout",
     "output_type": "stream",
     "text": [
      "Epoch [956/1000]: Train loss: 1.9109, Valid loss: 2.3757\n"
     ]
    },
    {
     "name": "stderr",
     "output_type": "stream",
     "text": [
      "Epoch [957/1000]: 100%|██████████| 17/17 [00:00<00:00, 1314.59it/s, loss=1.9]\n"
     ]
    },
    {
     "name": "stdout",
     "output_type": "stream",
     "text": [
      "Epoch [957/1000]: Train loss: 1.9197, Valid loss: 2.1736\n"
     ]
    },
    {
     "name": "stderr",
     "output_type": "stream",
     "text": [
      "Epoch [958/1000]: 100%|██████████| 17/17 [00:00<00:00, 1342.58it/s, loss=1.48]\n"
     ]
    },
    {
     "name": "stdout",
     "output_type": "stream",
     "text": [
      "Epoch [958/1000]: Train loss: 1.9099, Valid loss: 2.1058\n"
     ]
    },
    {
     "name": "stderr",
     "output_type": "stream",
     "text": [
      "Epoch [959/1000]: 100%|██████████| 17/17 [00:00<00:00, 1321.33it/s, loss=2.23]\n"
     ]
    },
    {
     "name": "stdout",
     "output_type": "stream",
     "text": [
      "Epoch [959/1000]: Train loss: 1.9180, Valid loss: 2.3219\n"
     ]
    },
    {
     "name": "stderr",
     "output_type": "stream",
     "text": [
      "Epoch [960/1000]: 100%|██████████| 17/17 [00:00<00:00, 1311.32it/s, loss=1.92]\n"
     ]
    },
    {
     "name": "stdout",
     "output_type": "stream",
     "text": [
      "Epoch [960/1000]: Train loss: 1.9054, Valid loss: 2.2790\n"
     ]
    },
    {
     "name": "stderr",
     "output_type": "stream",
     "text": [
      "Epoch [961/1000]: 100%|██████████| 17/17 [00:00<00:00, 704.75it/s, loss=1.57]\n"
     ]
    },
    {
     "name": "stdout",
     "output_type": "stream",
     "text": [
      "Epoch [961/1000]: Train loss: 1.9030, Valid loss: 2.1206\n"
     ]
    },
    {
     "name": "stderr",
     "output_type": "stream",
     "text": [
      "Epoch [962/1000]: 100%|██████████| 17/17 [00:00<00:00, 1255.62it/s, loss=1.93]\n"
     ]
    },
    {
     "name": "stdout",
     "output_type": "stream",
     "text": [
      "Epoch [962/1000]: Train loss: 1.9057, Valid loss: 2.1000\n"
     ]
    },
    {
     "name": "stderr",
     "output_type": "stream",
     "text": [
      "Epoch [963/1000]: 100%|██████████| 17/17 [00:00<00:00, 1281.30it/s, loss=1.73]\n"
     ]
    },
    {
     "name": "stdout",
     "output_type": "stream",
     "text": [
      "Epoch [963/1000]: Train loss: 1.9056, Valid loss: 2.0457\n"
     ]
    },
    {
     "name": "stderr",
     "output_type": "stream",
     "text": [
      "Epoch [964/1000]: 100%|██████████| 17/17 [00:00<00:00, 1284.39it/s, loss=2.1]\n"
     ]
    },
    {
     "name": "stdout",
     "output_type": "stream",
     "text": [
      "Epoch [964/1000]: Train loss: 1.9093, Valid loss: 2.3974\n"
     ]
    },
    {
     "name": "stderr",
     "output_type": "stream",
     "text": [
      "Epoch [965/1000]: 100%|██████████| 17/17 [00:00<00:00, 1294.54it/s, loss=2.04]\n"
     ]
    },
    {
     "name": "stdout",
     "output_type": "stream",
     "text": [
      "Epoch [965/1000]: Train loss: 1.8992, Valid loss: 2.2191\n"
     ]
    },
    {
     "name": "stderr",
     "output_type": "stream",
     "text": [
      "Epoch [966/1000]: 100%|██████████| 17/17 [00:00<00:00, 1312.05it/s, loss=2]\n"
     ]
    },
    {
     "name": "stdout",
     "output_type": "stream",
     "text": [
      "Epoch [966/1000]: Train loss: 1.9024, Valid loss: 2.2820\n"
     ]
    },
    {
     "name": "stderr",
     "output_type": "stream",
     "text": [
      "Epoch [967/1000]: 100%|██████████| 17/17 [00:00<00:00, 1304.49it/s, loss=1.97]"
     ]
    },
    {
     "name": "stdout",
     "output_type": "stream",
     "text": [
      "Epoch [967/1000]: Train loss: 1.9051, Valid loss: 2.0599\n"
     ]
    },
    {
     "name": "stderr",
     "output_type": "stream",
     "text": [
      "\n",
      "Epoch [968/1000]: 100%|██████████| 17/17 [00:00<00:00, 1315.51it/s, loss=1.97]\n"
     ]
    },
    {
     "name": "stdout",
     "output_type": "stream",
     "text": [
      "Epoch [968/1000]: Train loss: 1.9024, Valid loss: 2.1832\n"
     ]
    },
    {
     "name": "stderr",
     "output_type": "stream",
     "text": [
      "Epoch [969/1000]: 100%|██████████| 17/17 [00:00<00:00, 1322.63it/s, loss=1.85]\n"
     ]
    },
    {
     "name": "stdout",
     "output_type": "stream",
     "text": [
      "Epoch [969/1000]: Train loss: 1.9066, Valid loss: 2.0752\n"
     ]
    },
    {
     "name": "stderr",
     "output_type": "stream",
     "text": [
      "Epoch [970/1000]: 100%|██████████| 17/17 [00:00<00:00, 1338.78it/s, loss=1.9]\n"
     ]
    },
    {
     "name": "stdout",
     "output_type": "stream",
     "text": [
      "Epoch [970/1000]: Train loss: 1.9054, Valid loss: 2.0363\n"
     ]
    },
    {
     "name": "stderr",
     "output_type": "stream",
     "text": [
      "Epoch [971/1000]: 100%|██████████| 17/17 [00:00<00:00, 804.00it/s, loss=2.08]\n"
     ]
    },
    {
     "name": "stdout",
     "output_type": "stream",
     "text": [
      "Epoch [971/1000]: Train loss: 1.8958, Valid loss: 2.1269\n"
     ]
    },
    {
     "name": "stderr",
     "output_type": "stream",
     "text": [
      "Epoch [972/1000]: 100%|██████████| 17/17 [00:00<00:00, 1039.57it/s, loss=1.66]\n"
     ]
    },
    {
     "name": "stdout",
     "output_type": "stream",
     "text": [
      "Epoch [972/1000]: Train loss: 1.8980, Valid loss: 2.0767\n"
     ]
    },
    {
     "name": "stderr",
     "output_type": "stream",
     "text": [
      "Epoch [973/1000]: 100%|██████████| 17/17 [00:00<00:00, 1324.72it/s, loss=2.12]\n"
     ]
    },
    {
     "name": "stdout",
     "output_type": "stream",
     "text": [
      "Epoch [973/1000]: Train loss: 1.9075, Valid loss: 2.1902\n"
     ]
    },
    {
     "name": "stderr",
     "output_type": "stream",
     "text": [
      "Epoch [974/1000]: 100%|██████████| 17/17 [00:00<00:00, 1350.95it/s, loss=1.39]\n"
     ]
    },
    {
     "name": "stdout",
     "output_type": "stream",
     "text": [
      "Epoch [974/1000]: Train loss: 1.8885, Valid loss: 2.2547\n"
     ]
    },
    {
     "name": "stderr",
     "output_type": "stream",
     "text": [
      "Epoch [975/1000]: 100%|██████████| 17/17 [00:00<00:00, 1312.53it/s, loss=2.05]\n"
     ]
    },
    {
     "name": "stdout",
     "output_type": "stream",
     "text": [
      "Epoch [975/1000]: Train loss: 1.8947, Valid loss: 2.2424\n"
     ]
    },
    {
     "name": "stderr",
     "output_type": "stream",
     "text": [
      "Epoch [976/1000]: 100%|██████████| 17/17 [00:00<00:00, 1255.16it/s, loss=1.86]\n"
     ]
    },
    {
     "name": "stdout",
     "output_type": "stream",
     "text": [
      "Epoch [976/1000]: Train loss: 1.9063, Valid loss: 2.4265\n"
     ]
    },
    {
     "name": "stderr",
     "output_type": "stream",
     "text": [
      "Epoch [977/1000]: 100%|██████████| 17/17 [00:00<00:00, 1283.52it/s, loss=1.9]\n"
     ]
    },
    {
     "name": "stdout",
     "output_type": "stream",
     "text": [
      "Epoch [977/1000]: Train loss: 1.8884, Valid loss: 2.0424\n"
     ]
    },
    {
     "name": "stderr",
     "output_type": "stream",
     "text": [
      "Epoch [978/1000]: 100%|██████████| 17/17 [00:00<00:00, 1270.25it/s, loss=2.13]\n"
     ]
    },
    {
     "name": "stdout",
     "output_type": "stream",
     "text": [
      "Epoch [978/1000]: Train loss: 1.9174, Valid loss: 2.1937\n"
     ]
    },
    {
     "name": "stderr",
     "output_type": "stream",
     "text": [
      "Epoch [979/1000]: 100%|██████████| 17/17 [00:00<00:00, 614.65it/s, loss=2.19]\n"
     ]
    },
    {
     "name": "stdout",
     "output_type": "stream",
     "text": [
      "Epoch [979/1000]: Train loss: 1.8920, Valid loss: 2.1635\n"
     ]
    },
    {
     "name": "stderr",
     "output_type": "stream",
     "text": [
      "Epoch [980/1000]: 100%|██████████| 17/17 [00:00<00:00, 1147.55it/s, loss=1.98]\n"
     ]
    },
    {
     "name": "stdout",
     "output_type": "stream",
     "text": [
      "Epoch [980/1000]: Train loss: 1.8906, Valid loss: 2.1738\n"
     ]
    },
    {
     "name": "stderr",
     "output_type": "stream",
     "text": [
      "Epoch [981/1000]: 100%|██████████| 17/17 [00:00<00:00, 1112.29it/s, loss=1.97]\n"
     ]
    },
    {
     "name": "stdout",
     "output_type": "stream",
     "text": [
      "Epoch [981/1000]: Train loss: 1.8944, Valid loss: 2.2636\n"
     ]
    },
    {
     "name": "stderr",
     "output_type": "stream",
     "text": [
      "Epoch [982/1000]: 100%|██████████| 17/17 [00:00<00:00, 1231.08it/s, loss=2]\n"
     ]
    },
    {
     "name": "stdout",
     "output_type": "stream",
     "text": [
      "Epoch [982/1000]: Train loss: 1.8909, Valid loss: 2.2070\n"
     ]
    },
    {
     "name": "stderr",
     "output_type": "stream",
     "text": [
      "Epoch [983/1000]: 100%|██████████| 17/17 [00:00<00:00, 1263.75it/s, loss=1.82]\n"
     ]
    },
    {
     "name": "stdout",
     "output_type": "stream",
     "text": [
      "Epoch [983/1000]: Train loss: 1.8867, Valid loss: 2.4373\n"
     ]
    },
    {
     "name": "stderr",
     "output_type": "stream",
     "text": [
      "Epoch [984/1000]: 100%|██████████| 17/17 [00:00<00:00, 1229.03it/s, loss=3.01]\n"
     ]
    },
    {
     "name": "stdout",
     "output_type": "stream",
     "text": [
      "Epoch [984/1000]: Train loss: 1.8913, Valid loss: 2.2347\n"
     ]
    },
    {
     "name": "stderr",
     "output_type": "stream",
     "text": [
      "Epoch [985/1000]: 100%|██████████| 17/17 [00:00<00:00, 1196.76it/s, loss=2.13]\n"
     ]
    },
    {
     "name": "stdout",
     "output_type": "stream",
     "text": [
      "Epoch [985/1000]: Train loss: 1.8933, Valid loss: 2.1968\n"
     ]
    },
    {
     "name": "stderr",
     "output_type": "stream",
     "text": [
      "Epoch [986/1000]: 100%|██████████| 17/17 [00:00<00:00, 1143.71it/s, loss=1.51]\n"
     ]
    },
    {
     "name": "stdout",
     "output_type": "stream",
     "text": [
      "Epoch [986/1000]: Train loss: 1.8907, Valid loss: 2.3407\n"
     ]
    },
    {
     "name": "stderr",
     "output_type": "stream",
     "text": [
      "Epoch [987/1000]: 100%|██████████| 17/17 [00:00<00:00, 1207.73it/s, loss=1.96]\n"
     ]
    },
    {
     "name": "stdout",
     "output_type": "stream",
     "text": [
      "Epoch [987/1000]: Train loss: 1.8805, Valid loss: 2.0411\n"
     ]
    },
    {
     "name": "stderr",
     "output_type": "stream",
     "text": [
      "Epoch [988/1000]: 100%|██████████| 17/17 [00:00<00:00, 611.99it/s, loss=2.14]\n"
     ]
    },
    {
     "name": "stdout",
     "output_type": "stream",
     "text": [
      "Epoch [988/1000]: Train loss: 1.8813, Valid loss: 2.2339\n"
     ]
    },
    {
     "name": "stderr",
     "output_type": "stream",
     "text": [
      "Epoch [989/1000]: 100%|██████████| 17/17 [00:00<00:00, 1179.66it/s, loss=1.8]\n"
     ]
    },
    {
     "name": "stdout",
     "output_type": "stream",
     "text": [
      "Epoch [989/1000]: Train loss: 1.8843, Valid loss: 2.2693\n"
     ]
    },
    {
     "name": "stderr",
     "output_type": "stream",
     "text": [
      "Epoch [990/1000]: 100%|██████████| 17/17 [00:00<00:00, 1157.48it/s, loss=1.58]\n"
     ]
    },
    {
     "name": "stdout",
     "output_type": "stream",
     "text": [
      "Epoch [990/1000]: Train loss: 1.8763, Valid loss: 2.0339\n"
     ]
    },
    {
     "name": "stderr",
     "output_type": "stream",
     "text": [
      "Epoch [991/1000]: 100%|██████████| 17/17 [00:00<00:00, 1163.98it/s, loss=1.45]\n"
     ]
    },
    {
     "name": "stdout",
     "output_type": "stream",
     "text": [
      "Epoch [991/1000]: Train loss: 1.8749, Valid loss: 2.2599\n"
     ]
    },
    {
     "name": "stderr",
     "output_type": "stream",
     "text": [
      "Epoch [992/1000]: 100%|██████████| 17/17 [00:00<00:00, 1317.82it/s, loss=1.75]\n"
     ]
    },
    {
     "name": "stdout",
     "output_type": "stream",
     "text": [
      "Epoch [992/1000]: Train loss: 1.8742, Valid loss: 2.2117\n"
     ]
    },
    {
     "name": "stderr",
     "output_type": "stream",
     "text": [
      "Epoch [993/1000]: 100%|██████████| 17/17 [00:00<00:00, 1314.76it/s, loss=2.53]\n"
     ]
    },
    {
     "name": "stdout",
     "output_type": "stream",
     "text": [
      "Epoch [993/1000]: Train loss: 1.8861, Valid loss: 2.1793\n",
      "\n",
      "Model is not improving, so we halt the training session.\n"
     ]
    }
   ],
   "source": [
    "model = My_Model(input_dim=x_train.shape[1]).to(device)\n",
    "trainer(train_loader, valid_loader, model, config, device)"
   ]
  },
  {
   "cell_type": "markdown",
   "id": "b08ae3de",
   "metadata": {},
   "source": [
    "## 使用tensorboard输出模型训练过程和指标可视化"
   ]
  },
  {
   "cell_type": "code",
   "execution_count": 2,
   "id": "6c21bad2",
   "metadata": {},
   "outputs": [
    {
     "data": {
      "text/plain": [
       "Reusing TensorBoard on port 6006 (pid 11321), started 0:00:26 ago. (Use '!kill 11321' to kill it.)"
      ]
     },
     "metadata": {},
     "output_type": "display_data"
    },
    {
     "data": {
      "text/html": [
       "\n",
       "      <iframe id=\"tensorboard-frame-fb5976022835aa34\" width=\"100%\" height=\"800\" frameborder=\"0\">\n",
       "      </iframe>\n",
       "      <script>\n",
       "        (function() {\n",
       "          const frame = document.getElementById(\"tensorboard-frame-fb5976022835aa34\");\n",
       "          const url = new URL(\"http://localhost\");\n",
       "          const port = 6006;\n",
       "          if (port) {\n",
       "            url.port = port;\n",
       "          }\n",
       "          frame.src = url;\n",
       "        })();\n",
       "      </script>\n",
       "    "
      ],
      "text/plain": [
       "<IPython.core.display.HTML object>"
      ]
     },
     "metadata": {},
     "output_type": "display_data"
    }
   ],
   "source": [
    "\n",
    "%reload_ext tensorboard\n",
    "%tensorboard --logdir=./runs/ --port=6006"
   ]
  },
  {
   "cell_type": "markdown",
   "id": "5a4ab63e",
   "metadata": {},
   "source": [
    "## 测试部分"
   ]
  },
  {
   "cell_type": "code",
   "execution_count": 15,
   "id": "31ef6916",
   "metadata": {},
   "outputs": [
    {
     "name": "stderr",
     "output_type": "stream",
     "text": [
      "  0%|          | 0/9 [00:00<?, ?it/s]/opt/miniconda3/envs/LEEDL/lib/python3.12/site-packages/torch/utils/data/dataloader.py:683: UserWarning: 'pin_memory' argument is set as true but not supported on MPS now, then device pinned memory won't be used.\n",
      "  warnings.warn(warn_msg)\n",
      "100%|██████████| 9/9 [00:00<00:00, 2486.91it/s]\n"
     ]
    }
   ],
   "source": [
    "def save_pred(preds, file):\n",
    "    '''将模型保存到指定位置'''\n",
    "    with open(file, 'w') as fp:\n",
    "        writer = csv.writer(fp)\n",
    "        writer.writerow(['id', 'tested_positive'])\n",
    "        for i, p in enumerate(preds):\n",
    "            writer.writerow([i, p])\n",
    "\n",
    "model = My_Model(input_dim=x_train.shape[1]).to(device)\n",
    "model.load_state_dict(torch.load(config['save_path']))\n",
    "preds = predict(test_loader, model, device)\n",
    "save_pred(preds, 'pred.csv')\n"
   ]
  },
  {
   "cell_type": "code",
   "execution_count": null,
   "id": "09e0b0d3",
   "metadata": {},
   "outputs": [],
   "source": []
  }
 ],
 "metadata": {
  "kernelspec": {
   "display_name": "LEEDL",
   "language": "python",
   "name": "python3"
  },
  "language_info": {
   "codemirror_mode": {
    "name": "ipython",
    "version": 3
   },
   "file_extension": ".py",
   "mimetype": "text/x-python",
   "name": "python",
   "nbconvert_exporter": "python",
   "pygments_lexer": "ipython3",
   "version": "3.12.9"
  }
 },
 "nbformat": 4,
 "nbformat_minor": 5
}
